{
 "metadata": {
  "language_info": {
   "codemirror_mode": {
    "name": "ipython",
    "version": 3
   },
   "file_extension": ".py",
   "mimetype": "text/x-python",
   "name": "python",
   "nbconvert_exporter": "python",
   "pygments_lexer": "ipython3",
   "version": "3.8.8-final"
  },
  "orig_nbformat": 2,
  "kernelspec": {
   "name": "python3",
   "display_name": "Python 3.8.8 64-bit ('myenv1': conda)",
   "metadata": {
    "interpreter": {
     "hash": "074149c00bb676bad396f73c55accc739f4a5a9d95b7426a540cf7db0e2c22bc"
    }
   }
  }
 },
 "nbformat": 4,
 "nbformat_minor": 2,
 "cells": [
  {
   "cell_type": "code",
   "execution_count": 19,
   "metadata": {},
   "outputs": [
    {
     "output_type": "stream",
     "name": "stdout",
     "text": [
      "Use of lambda--> One argument\nResult:  4\n\nUse of function:\nResult:  4\n\n----------------------------\n\nUse of lambda--> Multiple arguments\nResult:  8\n\nUse of function:\nResult:  8\n"
     ]
    }
   ],
   "source": [
    "# Lambda function--> an anonymous function that can take one or more arguments with one expression.\n",
    "# Lambda function is passed as argument to other function(s)\n",
    "\n",
    "# lambda fun with one argument\n",
    "print('Use of lambda--> One argument')\n",
    "powerfun= lambda x: x*x\n",
    "print('Result: ',powerfun(2))\n",
    "print('\\r')\n",
    "\n",
    "# The same result is obtained with the use of a function (lambda function is simpler)\n",
    "print('Use of function:')\n",
    "def powfun(x):\n",
    "    return x*x\n",
    "print('Result: ',powfun(2))\n",
    "print('\\r')\n",
    "print('----------------------------')\n",
    "print('\\r')\n",
    "\n",
    "# lambda fun with multiple arguments\n",
    "print('Use of lambda--> Multiple arguments')\n",
    "import numpy as np\n",
    "powerfun2=lambda x,y: np.power(x,y)\n",
    "print('Result: ',powerfun2(2,3))\n",
    "print('\\r')\n",
    "\n",
    "# Use of function\n",
    "print('Use of function:')\n",
    "def powfun2(x,y):\n",
    "    return np.power(x,y)\n",
    "print('Result: ',powfun2(2,3))"
   ]
  },
  {
   "cell_type": "code",
   "execution_count": 26,
   "metadata": {},
   "outputs": [
    {
     "output_type": "stream",
     "name": "stdout",
     "text": [
      "Original list:\n [(2, 6), (1, 5), (8, 2), (5, 4), (3, 9)]\n\nSorted by first argument:\n [(1, 5), (2, 6), (3, 9), (5, 4), (8, 2)]\n\nSorted by second argument:\n [(8, 2), (5, 4), (1, 5), (2, 6), (3, 9)]\n"
     ]
    }
   ],
   "source": [
    "# Use of lambda for sorting list items\n",
    "lst=[(2,6),(1,5),(8,2),(5,4),(3,9)]\n",
    "# Sorted()--> Based on first index\n",
    "lst_sorted=sorted(lst,key=lambda x:x[0])\n",
    "# Sorted()--> Based on second index\n",
    "lst_sorted2=sorted(lst,key=lambda x:x[1])\n",
    "print('Original list:\\n',lst)\n",
    "print('\\r')\n",
    "print('Sorted by first argument:\\n',lst_sorted)\n",
    "print('\\r')\n",
    "print('Sorted by second argument:\\n',lst_sorted2)"
   ]
  },
  {
   "cell_type": "code",
   "execution_count": 38,
   "metadata": {},
   "outputs": [
    {
     "output_type": "stream",
     "name": "stdout",
     "text": [
      "Original dict:\n {2: 6, 1: 5, 8: 2, 5: 4, 3: 9}\n\nSorted by first argument:\n [(1, 5), (2, 6), (3, 9), (5, 4), (8, 2)]\n\nSorted by second argument:\n [(8, 2), (5, 4), (1, 5), (2, 6), (3, 9)]\n"
     ]
    }
   ],
   "source": [
    "# Use of lambda for sorting dict items\n",
    "dct={2:6,1:5,8:2,5:4,3:9}\n",
    "# Sorted()--> Based on first index\n",
    "dct_sorted=sorted(dct.items(),key=lambda x:x[0])\n",
    "# Sorted()--> Based on second index\n",
    "dct_sorted2=sorted(dct.items(),key=lambda x:x[1])\n",
    "print('Original dict:\\n',dict_s)\n",
    "print('\\r')\n",
    "print('Sorted by first argument:\\n',dct_sorted)\n",
    "print('\\r')\n",
    "print('Sorted by second argument:\\n',dct_sorted2)"
   ]
  },
  {
   "cell_type": "code",
   "execution_count": 55,
   "metadata": {},
   "outputs": [
    {
     "output_type": "stream",
     "name": "stdout",
     "text": [
      "Use of list comprehension:\nNew list --> [2, 4, 6, 8, 10]\n\nUse of map() to apply a lambda function to lst:\nNew list --> [2, 4, 6, 8, 10]\n"
     ]
    }
   ],
   "source": [
    "# Use of lambda function as first argument in map(lambda,function)\n",
    "# map() applies lambda function to all elements of an iterable (in this case, a list)\n",
    "# The same result is obtained by use of list comprehension\n",
    "lst=[1,3,5,7,9]\n",
    "print('Use of list comprehension:')\n",
    "print('New list -->',[x+1 for x in lst])\n",
    "print('\\r')\n",
    "new_lst=list(map(lambda x:x+1,lst))\n",
    "print('Use of map() to apply a lambda function to lst:')\n",
    "print('New list -->',new_lst)"
   ]
  },
  {
   "cell_type": "code",
   "execution_count": 60,
   "metadata": {},
   "outputs": [
    {
     "output_type": "stream",
     "name": "stdout",
     "text": [
      "Use of list comprehension:\nOdd list items --> [1, 3, 5, 7, 9]\n\nUse of filter() to apply a lambda function to lst:\nOdd list items --> [1, 3, 5, 7, 9]\n"
     ]
    }
   ],
   "source": [
    "# Use of lambda function and filter()\n",
    "# Print odd numbers\n",
    "lst=[1,2,3,4,5,6,7,8,9,10]\n",
    "print('Use of list comprehension:')\n",
    "print('Odd list items -->',[x for x in lst if x%2!=0])\n",
    "print('\\r')\n",
    "odd_lst=list(filter(lambda x:x%2!=0,lst))\n",
    "print('Use of filter() to apply a lambda function to lst:')\n",
    "print('Odd list items -->',odd_lst)"
   ]
  }
 ]
}