{
 "metadata": {
  "language_info": {
   "codemirror_mode": {
    "name": "ipython",
    "version": 3
   },
   "file_extension": ".py",
   "mimetype": "text/x-python",
   "name": "python",
   "nbconvert_exporter": "python",
   "pygments_lexer": "ipython3",
   "version": "3.9.2"
  },
  "orig_nbformat": 2,
  "kernelspec": {
   "name": "python3",
   "display_name": "Python 3.9.2 64-bit",
   "metadata": {
    "interpreter": {
     "hash": "407adad19d3514da6de0b3767d3a3b1f989b90f5fa3bd5e6e8c15ee36f34523b"
    }
   }
  }
 },
 "nbformat": 4,
 "nbformat_minor": 2,
 "cells": [
  {
   "cell_type": "code",
   "execution_count": 3,
   "metadata": {},
   "outputs": [
    {
     "output_type": "stream",
     "name": "stdout",
     "text": [
      "I enjoy programming in python\nI enjoy programming in python\nI am 30 years old\nI am 30 years old\n"
     ]
    }
   ],
   "source": [
    "# Simple printing of a string in python\n",
    "print('I enjoy programming in python')\n",
    "\n",
    "# Printing using string concatenation\n",
    "print('I enjoy programming ' + 'in python')\n",
    "\n",
    "# Printing using string concatenation & str(int)\n",
    "print('I am ' + str(30) + ' years old')\n",
    "# Printing using variables & string concatenation\n",
    "age=30\n",
    "print('I am ' + str(age) + ' years old')\n"
   ]
  },
  {
   "cell_type": "code",
   "execution_count": 19,
   "metadata": {},
   "outputs": [
    {
     "output_type": "stream",
     "name": "stdout",
     "text": [
      "My name is Paul and I am 30 years old\n"
     ]
    }
   ],
   "source": [
    "# Printing using F-String\n",
    "name='Paul'\n",
    "age=30\n",
    "print(f'My name is {name} and I am {age} years old')\n"
   ]
  },
  {
   "cell_type": "code",
   "execution_count": 1,
   "metadata": {},
   "outputs": [
    {
     "output_type": "stream",
     "name": "stdout",
     "text": [
      "My name is Paul and I am 30 years old\n"
     ]
    }
   ],
   "source": [
    "# Printing using comma-separated strings and variables\n",
    "name=\"Paul\"\n",
    "age=30\n",
    "print('My name is',name,'and I am',age,'years old')\n"
   ]
  },
  {
   "cell_type": "code",
   "execution_count": 29,
   "metadata": {},
   "outputs": [
    {
     "output_type": "stream",
     "name": "stdout",
     "text": [
      "one\ntwo\nthree\n-----------------------\none\ttwo\tthree\n"
     ]
    }
   ],
   "source": [
    "# Printing a string\n",
    "\n",
    "# Use of new line character \\n\n",
    "print('one\\ntwo\\nthree')\n",
    "\n",
    "print('-----------------------')\n",
    "\n",
    "# Use of tab character \\t\n",
    "print('one\\ttwo\\tthree')"
   ]
  },
  {
   "cell_type": "code",
   "execution_count": 16,
   "metadata": {},
   "outputs": [
    {
     "output_type": "stream",
     "name": "stdout",
     "text": [
      "Milkshake\nMilk shake\nMilk-shake\nMilk_shake\nMilk\tshake\nMilk\nshake\n"
     ]
    }
   ],
   "source": [
    "# Printing without the use of a space separator\n",
    "print('Milk', 'shake',sep='')\n",
    "\n",
    "# Printing using a space separator between the strings\n",
    "print('Milk', 'shake',sep=' ')\n",
    "\n",
    "# Printing using a '-' separator between the strings\n",
    "print('Milk', 'shake',sep='-')\n",
    "\n",
    "# Printing using a '_' separator between the strings\n",
    "print('Milk', 'shake',sep='_')\n",
    "\n",
    "# Printing using a tab separator\n",
    "print('Milk', 'shake',sep='\\t')\n",
    "\n",
    "# Printing using a new line separator\n",
    "print('Milk', 'shake',sep='\\n')"
   ]
  },
  {
   "cell_type": "code",
   "execution_count": 41,
   "metadata": {},
   "outputs": [
    {
     "output_type": "stream",
     "name": "stdout",
     "text": [
      "['apple', 'orange', 'banana']\n-----------------------------\napple orange banana\n"
     ]
    }
   ],
   "source": [
    "# Printing an iterable (list)\n",
    "lst=['apple','orange','banana']\n",
    "print(lst)\n",
    "\n",
    "print('-----------------------------')\n",
    "\n",
    "# Printing an iterable (list) with the use of star operator (*)\n",
    "print(*lst)"
   ]
  },
  {
   "cell_type": "code",
   "execution_count": 43,
   "metadata": {},
   "outputs": [
    {
     "output_type": "stream",
     "name": "stdout",
     "text": [
      "Milkshake\n----------\nMilk shake\n"
     ]
    }
   ],
   "source": [
    "# Use of end=' ' to print in the same line without space\n",
    "print('Milk',end='')\n",
    "print('shake')\n",
    "\n",
    "print('----------')\n",
    "\n",
    "# Use of end=' ' to print in the same line with space\n",
    "print('Milk',end=' ')\n",
    "print('shake')"
   ]
  },
  {
   "cell_type": "code",
   "execution_count": 46,
   "metadata": {},
   "outputs": [
    {
     "output_type": "stream",
     "name": "stdout",
     "text": [
      "apple,orange,banana-milk,bread,butter\n"
     ]
    }
   ],
   "source": [
    "# Printing --> combination of 'sep' & 'end'\n",
    "lst1=['apple','orange','banana']\n",
    "lst2=['milk','bread','butter']\n",
    "print(*lst1,sep=',',end='-')\n",
    "print(*lst2,sep=',')"
   ]
  }
 ]
}