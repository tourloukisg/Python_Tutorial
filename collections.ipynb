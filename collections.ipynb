{
 "metadata": {
  "language_info": {
   "codemirror_mode": {
    "name": "ipython",
    "version": 3
   },
   "file_extension": ".py",
   "mimetype": "text/x-python",
   "name": "python",
   "nbconvert_exporter": "python",
   "pygments_lexer": "ipython3",
   "version": "3.9.2-final"
  },
  "orig_nbformat": 2,
  "kernelspec": {
   "name": "python3",
   "display_name": "Python 3.9.2 64-bit",
   "metadata": {
    "interpreter": {
     "hash": "407adad19d3514da6de0b3767d3a3b1f989b90f5fa3bd5e6e8c15ee36f34523b"
    }
   }
  }
 },
 "nbformat": 4,
 "nbformat_minor": 2,
 "cells": [
  {
   "cell_type": "code",
   "execution_count": 49,
   "metadata": {},
   "outputs": [
    {
     "output_type": "stream",
     "name": "stdout",
     "text": [
      "San Francisco coordinates --> coordinates(ltd=37.77, lng=122.41)\nSan Francisco coordinates (returns the values) --> 37.77 122.41\n"
     ]
    }
   ],
   "source": [
    "# Use of namedtuple()\n",
    "# Named tuples are similar to tuples and  they have the advantage of making the code look more 'readable' \n",
    "# Namedtuple() enables the creation of a tuple that can be called by name\n",
    "from collections import namedtuple\n",
    "coordinates= namedtuple('coordinates','ltd,lng')\n",
    "San_Francisco_coord=coordinates(37.77, 122.41)\n",
    "print('San Francisco coordinates -->',San_Francisco_coord)\n",
    "print('San Francisco coordinates (returns the values) -->',San_Francisco_coord.ltd,San_Francisco_coord.lng)\n"
   ]
  },
  {
   "cell_type": "code",
   "execution_count": 55,
   "metadata": {},
   "outputs": [
    {
     "output_type": "stream",
     "name": "stdout",
     "text": [
      "San Francisco coordinates --> coordinates(ltd=37.77, lng=122.41)\nUnpacking --> 37.77 122.41\n"
     ]
    }
   ],
   "source": [
    "# Unpacking a named tuple\n",
    "from collections import namedtuple\n",
    "coordinates= namedtuple('coordinates','ltd,lng')\n",
    "San_Francisco_coord=coordinates(37.77, 122.41)\n",
    "print('San Francisco coordinates -->',San_Francisco_coord)\n",
    "latitude,longitude=San_Francisco_coord\n",
    "print('Unpacking -->',latitude,longitude)"
   ]
  },
  {
   "cell_type": "code",
   "execution_count": 51,
   "metadata": {},
   "outputs": [
    {
     "output_type": "stream",
     "name": "stdout",
     "text": [
      "can't set attribute\n"
     ]
    }
   ],
   "source": [
    "# Named tuples are immutable --> cannot set attribute (returns AttributeError)\n",
    "from collections import namedtuple\n",
    "coordinates= namedtuple('coordinates','ltd,lng')\n",
    "San_Francisco_coord=coordinates(37.77, 122.41)\n",
    "try:\n",
    "    San_Francisco_coord.ltd=38.10\n",
    "except Exception as error:\n",
    "    print(error)\n",
    "\n"
   ]
  },
  {
   "cell_type": "code",
   "execution_count": 41,
   "metadata": {},
   "outputs": [
    {
     "output_type": "stream",
     "name": "stdout",
     "text": [
      "Counter():\n Counter({20: 4, 30: 3, 40: 2, 10: 1})\nCounter() Items:\n dict_items([(10, 1), (20, 4), (30, 3), (40, 2)])\nCounter() Keys:\n dict_keys([10, 20, 30, 40])\nCounter() Values:\n dict_values([1, 4, 3, 2])\n"
     ]
    }
   ],
   "source": [
    "# Counter -> dictionary subclass that counts the frequency of items (from iterables such as lists,strings,etc)\n",
    "# Counter items are similar to 'keys' (dict) and their frquencies (counts) are similar to 'values' (dict)\n",
    "\n",
    "from collections import Counter\n",
    "\n",
    "lst=[10,20,30,40,20,30,40,20,30,20]\n",
    "cnt=Counter(lst)\n",
    "print('Counter():\\n',cnt)\n",
    "print('Counter() Items:\\n',cnt.items())\n",
    "print('Counter() Keys:\\n',cnt.keys())\n",
    "print('Counter() Values:\\n',cnt.values())"
   ]
  },
  {
   "cell_type": "code",
   "execution_count": 40,
   "metadata": {},
   "outputs": [
    {
     "output_type": "stream",
     "name": "stdout",
     "text": [
      "Counter():\n Counter({20: 4, 30: 3, 40: 2, 10: 1})\nCount of element '30':\n 3\nCount of element '50':\n 0\n"
     ]
    }
   ],
   "source": [
    "# Getting the count of a selected Counter() element\n",
    "# If an element is not in the list,Counter() returns zero\n",
    "from collections import Counter\n",
    "\n",
    "lst=[10,20,30,40,20,30,40,20,30,20]\n",
    "cnt=Counter(lst)\n",
    "cnt_thirty=cnt[30]\n",
    "cnt_fifty=cnt[50]\n",
    "print('Counter():\\n',cnt)\n",
    "print('Count of element \\'30\\':\\n',cnt_thirty)\n",
    "print('Count of element \\'50\\':\\n',cnt_fifty)"
   ]
  },
  {
   "cell_type": "code",
   "execution_count": 33,
   "metadata": {},
   "outputs": [
    {
     "output_type": "stream",
     "name": "stdout",
     "text": [
      "Counter():\n Counter({'a': 3, 'n': 2, 'c': 1, 'o': 1, 'd': 1})\n\nHighest occuring string character and its count:\n [('a', 3)]\nHighest occuring string character:\n a\nCount of the highest occuring string character:\n 3\nHighest occuring string characters(Top 2) and their counts:\n [('a', 3), ('n', 2)]\nList of all Counter() items:\n ['a', 'a', 'a', 'n', 'n', 'c', 'o', 'd']\n"
     ]
    }
   ],
   "source": [
    "# Use of most_common() --> Returns the most common items and their counts\n",
    "# Use of elements() --> Returns all Counter() items. The number of times each item appears is based on its count\n",
    "\n",
    "from collections import Counter\n",
    "\n",
    "string='anaconda'\n",
    "cnt=Counter(string)\n",
    "print('Counter():\\n',cnt)\n",
    "print('\\r')\n",
    "print('Highest occuring string character and its count:\\n',cnt.most_common(1))\n",
    "print('Highest occuring string character:\\n',cnt.most_common(1)[0][0])\n",
    "print('Count of the highest occuring string character:\\n',cnt.most_common(1)[0][1])\n",
    "print('Highest occuring string characters(Top 2) and their counts:\\n',cnt.most_common(2))\n",
    "print('List of all Counter() items:\\n',list(cnt.elements()))"
   ]
  },
  {
   "cell_type": "code",
   "execution_count": 89,
   "metadata": {},
   "outputs": [
    {
     "output_type": "stream",
     "name": "stdout",
     "text": [
      "Use of regular dict:\n {'one': 1, 'two': 2, 'three': 3}\nThis key is not present in the dictionary\n\nUse of defaultdict(int):\n defaultdict(<class 'int'>, {'one': 1, 'two': 2, 'three': 3})\nIf key not present in the dictionary, it returns --> 0\n\nUse of defaultdict(list):\n defaultdict(<class 'list'>, {'one': 1, 'two': 2, 'three': 3})\nIf key not present in the dictionary, it returns --> []\n\nUse of defaultdict(dict):\n defaultdict(<class 'dict'>, {'one': 1, 'two': 2, 'three': 3})\nIf key not present in the dictionary, it returns --> {}\n\nUse of defaultdict(tuple):\n defaultdict(<class 'tuple'>, {'one': 1, 'two': 2, 'three': 3})\nIf key not present in the dictionary, it returns --> ()\n"
     ]
    }
   ],
   "source": [
    "# Python regular dictionary returns a KeyError when a key is not present in the dictionary.\n",
    "# On the other hand, defaultdict() takes a default type as an argument such as int,list,dict,tuple & at the case\n",
    "# where a key is not present in the dictionary, it returns 0 or an empty list,dict tuple respectively\n",
    "\n",
    "from collections import defaultdict\n",
    "\n",
    "# Regular dictionary\n",
    "dct={}\n",
    "dct['one']=1\n",
    "dct['two']=2\n",
    "dct['three']=3\n",
    "print('Use of regular dict:\\n',dct)\n",
    "try:\n",
    "    print(dct['four'])\n",
    "except KeyError:\n",
    "    print('This key is not present in the dictionary')\n",
    "print('\\r')\n",
    "\n",
    "# defaultdict(int)\n",
    "def_dct1=defaultdict(int)\n",
    "def_dct1['one']=1\n",
    "def_dct1['two']=2\n",
    "def_dct1['three']=3\n",
    "print('Use of defaultdict(int):\\n',def_dct1)\n",
    "print('If key not present in the dictionary, it returns -->',def_dct1['four'])\n",
    "print('\\r')\n",
    "\n",
    "# defaultdict(list)\n",
    "def_dct2=defaultdict(list)\n",
    "def_dct2['one']=1\n",
    "def_dct2['two']=2\n",
    "def_dct2['three']=3\n",
    "print('Use of defaultdict(list):\\n',def_dct2)\n",
    "print('If key not present in the dictionary, it returns -->',def_dct2['four'])\n",
    "print('\\r')\n",
    "\n",
    "# defaultdict(dict)\n",
    "def_dct3=defaultdict(dict)\n",
    "def_dct3['one']=1\n",
    "def_dct3['two']=2\n",
    "def_dct3['three']=3\n",
    "print('Use of defaultdict(dict):\\n',def_dct3)\n",
    "print('If key not present in the dictionary, it returns -->',def_dct3['four'])\n",
    "print('\\r')\n",
    "\n",
    "# defaultdict(tuple)\n",
    "def_dct4=defaultdict(tuple)\n",
    "def_dct4['one']=1\n",
    "def_dct4['two']=2\n",
    "def_dct4['three']=3\n",
    "print('Use of defaultdict(tuple):\\n',def_dct4)\n",
    "print('If key not present in the dictionary, it returns -->',def_dct4['four'])"
   ]
  },
  {
   "cell_type": "code",
   "execution_count": 90,
   "metadata": {},
   "outputs": [
    {
     "output_type": "stream",
     "name": "stdout",
     "text": [
      "defaultdict(<class 'int'>, {'a': 3, 'n': 2, 'c': 1, 'o': 1, 'd': 1})\n"
     ]
    }
   ],
   "source": [
    "# Use of defaultdict (class 'int' ) to count the elements of a string\n",
    "\n",
    "from collections import defaultdict\n",
    "string='anaconda'\n",
    "dct=defaultdict(int)\n",
    "for x in string:\n",
    "    dct[x]+=1\n",
    "print(dct)\n"
   ]
  },
  {
   "cell_type": "code",
   "execution_count": 93,
   "metadata": {},
   "outputs": [
    {
     "output_type": "stream",
     "name": "stdout",
     "text": [
      "defaultdict(<class 'list'>, {'CA': ['San Francisco', 'Los Angeles'], 'TX': ['Austin', 'Houston'], 'WA': ['Seattle']})\n"
     ]
    }
   ],
   "source": [
    "# Use of defaultdict (class 'list' ) to create a list dictionary\n",
    "\n",
    "from collections import defaultdict\n",
    "lst = [('CA', 'San Francisco'), ('TX', 'Austin'), ('WA', 'Seattle'), ('CA', 'Los Angeles'), ('TX', 'Houston')]\n",
    "dct = defaultdict(list)\n",
    "for key, value in lst:\n",
    "    dct[key].append(value)\n",
    "print(dct)"
   ]
  },
  {
   "cell_type": "code",
   "execution_count": 69,
   "metadata": {},
   "outputs": [
    {
     "output_type": "stream",
     "name": "stdout",
     "text": [
      "Regular Dict:\n\n{'one': 1, 'two': 2, 'three': 3, 'four': 4}\n{'four': 4, 'one': 1, 'two': 2, 'three': 3}\ndct = dct1: True\n\n------------------------------------------------\n\nOrdered Dict:\n\nOrderedDict([('one', 1), ('two', 2), ('three', 3), ('four', 4)])\nOrderedDict([('four', 4), ('one', 1), ('two', 2), ('three', 3)])\nord_dct = ord_dct1: False\n"
     ]
    }
   ],
   "source": [
    "# OrderedDict is similar to a python dictionary but it also has the ability to remember the order the dict items\n",
    "# were added to the dictionary\n",
    "\n",
    "# Regular Dictionary -> The items order is not taken to account (dct = dct1)\n",
    "print('Regular Dict:\\n')\n",
    "\n",
    "dct={}\n",
    "dct['one']=1\n",
    "dct['two']=2\n",
    "dct['three']=3\n",
    "dct['four']=4\n",
    "\n",
    "dct1={}\n",
    "dct1['four']=4\n",
    "dct1['one']=1\n",
    "dct1['two']=2\n",
    "dct1['three']=3\n",
    "\n",
    "print(dct)\n",
    "print(dct1)\n",
    "print('dct = dct1:',dct==dct1)\n",
    "\n",
    "print('\\r')\n",
    "print('------------------------------------------------')\n",
    "print('\\r')\n",
    "\n",
    "# Ordered Dictionary -> The items order is taken to account (ord_dct != ord_dct1)\n",
    "from collections import OrderedDict\n",
    "print('Ordered Dict:\\n')\n",
    "ord_dct=OrderedDict()\n",
    "ord_dct['one']=1\n",
    "ord_dct['two']=2\n",
    "ord_dct['three']=3\n",
    "ord_dct['four']=4\n",
    "\n",
    "ord_dct1=OrderedDict()\n",
    "ord_dct1['four']=4\n",
    "ord_dct1['one']=1\n",
    "ord_dct1['two']=2\n",
    "ord_dct1['three']=3\n",
    "\n",
    "print(ord_dct)\n",
    "print(ord_dct1)\n",
    "print('ord_dct = ord_dct1:',ord_dct==ord_dct1)"
   ]
  },
  {
   "cell_type": "code",
   "execution_count": 58,
   "metadata": {},
   "outputs": [
    {
     "output_type": "stream",
     "name": "stdout",
     "text": [
      "Original dict --> OrderedDict([('age', 39), ('name', 'John'), ('surname', 'Smith')])\nUse of move_to_end(last=False) --> OrderedDict([('name', 'John'), ('age', 39), ('surname', 'Smith')])\nUse of move_to_end(last=True) --> OrderedDict([('age', 39), ('surname', 'Smith'), ('name', 'John')])\n"
     ]
    }
   ],
   "source": [
    "# Use of move_to_end()\n",
    "# if last=False, the selected dict item is positioned at the front of the dictionary\n",
    "# if last=True, the selected dict item is positioned at the end of the dictionary\n",
    "\n",
    "from collections import OrderedDict\n",
    "# move_to_end(last=False)\n",
    "dct_1=OrderedDict(age=39,name='John',surname='Smith')\n",
    "print('Original dict -->',dct_1)\n",
    "dct_1.move_to_end('name',last=False)\n",
    "print('Use of move_to_end(last=False) -->',dct_1)\n",
    "\n",
    "# move_to_end(last=True)\n",
    "dct_1=OrderedDict(age=39,name='John',surname='Smith')\n",
    "dct_1.move_to_end('name',last=True)\n",
    "print('Use of move_to_end(last=True) -->',dct_1)"
   ]
  },
  {
   "cell_type": "code",
   "execution_count": 74,
   "metadata": {},
   "outputs": [
    {
     "output_type": "stream",
     "name": "stdout",
     "text": [
      "Original dict --> OrderedDict([('age', 39), ('name', 'John'), ('surname', 'Smith')])\nUse of popitem(last=True) --> OrderedDict([('age', 39), ('name', 'John')])\nUse of popitem(last=False) --> OrderedDict([('name', 'John'), ('surname', 'Smith')])\n"
     ]
    }
   ],
   "source": [
    "# Use of popitem()\n",
    "# if last=True, the last dict item is removed from the ordered dictionary\n",
    "# if last=False, the first dict item is removed from the ordered dictionary\n",
    "\n",
    "from collections import OrderedDict\n",
    "# popitem(last=True)\n",
    "dct_1=OrderedDict(age=39,name='John',surname='Smith')\n",
    "print('Original dict -->',dct_1)\n",
    "dct_1.popitem(last=True)\n",
    "print('Use of popitem(last=True) -->',dct_1)\n",
    "\n",
    "# popitem(last=False)\n",
    "dct_1=OrderedDict(age=39,name='John',surname='Smith')\n",
    "dct_1.popitem(last=False)\n",
    "print('Use of popitem(last=False) -->',dct_1)"
   ]
  },
  {
   "cell_type": "code",
   "execution_count": 131,
   "metadata": {},
   "outputs": [
    {
     "output_type": "stream",
     "name": "stdout",
     "text": [
      "Double-ended Queue --> deque(['c', 'd', 'e'])\nDouble-ended Queue elements --> c d e \nCount of deque elements --> 3\nAppend 'f' at the end of the queue --> deque(['c', 'd', 'e', 'f'])\nAppend 'b' at the start of the queue --> deque(['b', 'c', 'd', 'e', 'f'])\nUse of pop() to remove the last queue element --> deque(['b', 'c', 'd', 'e'])\nUse of popleft() to remove the first queue element --> deque(['c', 'd', 'e'])\nUse of extend() to add multiple items at the end of the queue --> deque(['c', 'd', 'e', 'f', 'g', 'h'])\nUse of extendleft() to add multiple items at the start of the queue --> deque(['a', 'b', 'c', 'd', 'e', 'f', 'g', 'h'])\n1-step right rotation --> deque(['h', 'a', 'b', 'c', 'd', 'e', 'f', 'g'])\n1-step left rotation --> deque(['a', 'b', 'c', 'd', 'e', 'f', 'g', 'h'])\nClear the Double-ended Queue -->  deque([])\n"
     ]
    }
   ],
   "source": [
    "# Double-ended queue (deque) is a queue that can be modified either at its start (left side) or at its end.\n",
    "# Examples of queue modification are presented below\n",
    "from collections import deque\n",
    "\n",
    "deq=deque('cde')\n",
    "print('Double-ended Queue -->',deq)\n",
    "\n",
    "# Iteration over the queue items\n",
    "cnt=0\n",
    "x=[]\n",
    "for i in deq:\n",
    "    x.append(i)\n",
    "    cnt+=1\n",
    "print('Double-ended Queue elements -->',*x,end=' ')\n",
    "print('\\nCount of deque elements -->',cnt)\n",
    "\n",
    "# Use of append()\n",
    "deq.append('f')\n",
    "print('Append \\'f\\' at the end of the queue -->',deq)\n",
    "\n",
    "# Use of appendleft()\n",
    "deq.appendleft('b')\n",
    "print('Append \\'b\\' at the start of the queue -->',deq)\n",
    "\n",
    "# Use of pop() to remove the last queue element\n",
    "deq.pop()\n",
    "print('Use of pop() to remove the last queue element -->',deq)\n",
    "\n",
    "# Use of popleft() to remove the first queue element\n",
    "deq.popleft()\n",
    "print('Use of popleft() to remove the first queue element -->',deq)\n",
    "\n",
    "# Use of extend() to add multiple items at the end of the queue\n",
    "deq.extend('fgh')\n",
    "print('Use of extend() to add multiple items at the end of the queue -->',deq)\n",
    "\n",
    "# Use of extendleft() to add multiple items at the start of the queue\n",
    "deq.extendleft('ba')\n",
    "print('Use of extendleft() to add multiple items at the start of the queue -->',deq)\n",
    "\n",
    "# Use of rotate() \n",
    "# positive value --> right rotation\n",
    "# negative value --> left rotation\n",
    "deq.rotate(1)\n",
    "print('1-step right rotation -->',deq)\n",
    "deq.rotate(-1)\n",
    "print('1-step left rotation -->',deq)\n",
    "\n",
    "# Use of clear() --> clear deque\n",
    "deq.clear()\n",
    "print('Clear the Double-ended Queue --> ',deq)"
   ]
  }
 ]
}