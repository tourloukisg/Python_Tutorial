{
 "metadata": {
  "language_info": {
   "codemirror_mode": {
    "name": "ipython",
    "version": 3
   },
   "file_extension": ".py",
   "mimetype": "text/x-python",
   "name": "python",
   "nbconvert_exporter": "python",
   "pygments_lexer": "ipython3",
   "version": "3.9.2"
  },
  "orig_nbformat": 2,
  "kernelspec": {
   "name": "python3",
   "display_name": "Python 3.9.2 64-bit",
   "metadata": {
    "interpreter": {
     "hash": "407adad19d3514da6de0b3767d3a3b1f989b90f5fa3bd5e6e8c15ee36f34523b"
    }
   }
  }
 },
 "nbformat": 4,
 "nbformat_minor": 2,
 "cells": [
  {
   "cell_type": "code",
   "execution_count": 40,
   "metadata": {},
   "outputs": [
    {
     "output_type": "stream",
     "name": "stdout",
     "text": [
      "Set example:\nSet: Empty set --> set()\nSet: Use of set() --> {40, 10, 50, 20, 30}\nSet: Use of {} --> {50, 20, 40, 10, 30}\n\nSet returns unique elements only --> {50, 20, 40, 10, 30}\n\nTypeError --> 'set' object is not subscriptable\n\nTypeError --> 'set' object does not support item assignment\n"
     ]
    }
   ],
   "source": [
    "# Similar to lists, tuples and dictionaries, sets are used to store multiple values in variables\n",
    "# Sets are unordered,unsubscriptable, and cannot have two or more elements of the same value (no duplicates)\n",
    "\n",
    "# Set elements do not have a defined order\n",
    "print('Set example:')\n",
    "# Create an empty set\n",
    "s= set()\n",
    "print('Set: Empty set -->',s)\n",
    "# Create a set with set()\n",
    "s= set([10,20,30,40,50])\n",
    "print('Set: Use of set() -->',s)\n",
    "# Create a set with {}\n",
    "s={10,20,30,40,50}\n",
    "print('Set: Use of {} -->',s)\n",
    "print('\\r')\n",
    "\n",
    "# Sets allow no duplicates\n",
    "s1={10,20,30,40,50,10,20}\n",
    "print('Set returns unique elements only -->',s1)\n",
    "print('\\r')\n",
    "\n",
    "# A 'set' object is not subscriptable\n",
    "s= set([10,20,30,40,50])\n",
    "try:\n",
    "    print(s[0])\n",
    "except Exception as error:\n",
    "    print('TypeError -->',error)\n",
    "print('\\r')\n",
    "\n",
    "# A 'set' object does not support item assignment\n",
    "s= set([10,20,30,40,50])\n",
    "try:\n",
    "    s[0]=1\n",
    "except Exception as error:\n",
    "    print('TypeError -->',error)"
   ]
  },
  {
   "cell_type": "code",
   "execution_count": 13,
   "metadata": {},
   "outputs": [
    {
     "output_type": "stream",
     "name": "stdout",
     "text": [
      "Original Set --> {'b', 'd', 'c', 'a'}\nSet: Use of add() --> {'b', 'd', 'e', 'c', 'a'}\nSet: Use of remove() --> {'b', 'd', 'c', 'a'}\nSet: Use of discard() --> {'b', 'c', 'a'}\nSet: Use of pop() --> {'c', 'a'}\nSet: Use of clear() --> set()\n"
     ]
    }
   ],
   "source": [
    "# Set --> Adding/Removing new items\n",
    "\n",
    "x={'a','b','c','d'}\n",
    "print('Original Set -->',x)\n",
    "\n",
    "# Adding a new item\n",
    "x.add('e')\n",
    "print('Set: Use of add() -->',x)\n",
    "\n",
    "# Removing an item\n",
    "# a) Use of remove()\n",
    "x.remove('e')\n",
    "print('Set: Use of remove() -->',x)\n",
    "# b) Use of discard()\n",
    "x.discard('d')\n",
    "print('Set: Use of discard() -->',x)\n",
    "# b) Use of pop() --> removes a random set item\n",
    "x.pop()\n",
    "print('Set: Use of pop() -->',x)\n",
    "\n",
    "# Use of clear() --> removes all set elements\n",
    "x.clear()\n",
    "print('Set: Use of clear() -->',x)"
   ]
  },
  {
   "cell_type": "code",
   "execution_count": 23,
   "metadata": {},
   "outputs": [
    {
     "output_type": "stream",
     "name": "stdout",
     "text": [
      "Set element 'boat' length --> 4\nSet element 'airplane' length --> 8\nSet element 'car' length --> 3\nSet element 'bicycle' length --> 7\n"
     ]
    }
   ],
   "source": [
    "# Iteration over set elements\n",
    "x={'car','bicycle','airplane','boat'}\n",
    "\n",
    "for i in x:\n",
    "    print('Set element \\'{}\\' length --> {}'.format(i,len(i)))\n"
   ]
  },
  {
   "cell_type": "code",
   "execution_count": 24,
   "metadata": {},
   "outputs": [
    {
     "output_type": "stream",
     "name": "stdout",
     "text": [
      "Is 'car' a set element?\nAnswer: Yes\n---------------------------\nIs 'bike' a set element?\nAnswer: No\n"
     ]
    }
   ],
   "source": [
    "# Search if element is in set\n",
    "x={'car','bicycle','airplane','boat'}\n",
    "\n",
    "print(\"Is 'car' a set element?\")\n",
    "if 'car' in x:\n",
    "    print('Answer: Yes')\n",
    "else:\n",
    "    print('Answer: No')\n",
    "print(\"---------------------------\")\n",
    "print(\"Is 'bike' a set element?\")\n",
    "if 'bike' in x:\n",
    "    print('Answer: Yes')\n",
    "else:\n",
    "    print('Answer: No')"
   ]
  },
  {
   "cell_type": "code",
   "execution_count": 33,
   "metadata": {},
   "outputs": [
    {
     "output_type": "stream",
     "name": "stdout",
     "text": [
      "CASE A: set y = set x\nOriginal set x:  {'one', 'three', 'five', 'four', 'two'}\n\nSet y:  {'one', 'three', 'five', 'four', 'two'}\n\nAdding a new element to set y modifies set x as well\n\nSet y:  {'one', 'three', 'five', 'four', 'six', 'two'}\n\nSet x:  {'one', 'three', 'five', 'four', 'six', 'two'}\n---------------------------------------------------------\n\nCASE B: set y = set x.copy()\nOriginal set x:  {'one', 'three', 'five', 'four', 'two'}\n\nSet y:  {'one', 'three', 'five', 'four', 'two'}\n\nAdding a new element to set y does not modify set x\n\nSet y:  {'one', 'three', 'five', 'four', 'six', 'two'}\n\nSet x:  {'one', 'three', 'five', 'four', 'two'}\n"
     ]
    }
   ],
   "source": [
    "# Copying a set \n",
    "\n",
    "# set y = set x --> changes are applied to both sets\n",
    "\n",
    "x={'one','two','three','four','five'}\n",
    "print('CASE A: set y = set x')\n",
    "print('Original set x: ',x)\n",
    "print('\\r')\n",
    "y=x\n",
    "print('Set y: ',y)\n",
    "y.add('six')\n",
    "print('\\r')\n",
    "print('Adding a new element to set y modifies set x as well')\n",
    "print('\\r')\n",
    "print('Set y: ',y)\n",
    "print('\\r')\n",
    "print('Set x: ',x)\n",
    "print('---------------------------------------------------------')\n",
    "print('\\r')\n",
    "\n",
    "# set y = set x.copy*() --> changes are not applied to the original set\n",
    "\n",
    "x={'one','two','three','four','five'}\n",
    "print('CASE B: set y = set x.copy()')\n",
    "print('Original set x: ',x)\n",
    "print('\\r')\n",
    "y=x.copy()\n",
    "print('Set y: ',y)\n",
    "y.add('six') \n",
    "print('\\r')\n",
    "print('Adding a new element to set y does not modify set x')\n",
    "print('\\r')\n",
    "print('Set y: ',y)\n",
    "print('\\r')\n",
    "print('Set x: ',x)"
   ]
  },
  {
   "cell_type": "code",
   "execution_count": 31,
   "metadata": {},
   "outputs": [
    {
     "output_type": "stream",
     "name": "stdout",
     "text": [
      "Set x --> {'one', 'two', 'three'}\nSet y --> {'five', 'six', 'four'}\nSet: Use of union() --> {'six', 'four', 'five', 'one', 'two', 'three'}\n"
     ]
    }
   ],
   "source": [
    "# Set --> Use of union()\n",
    "# Returns all elements of set x and y\n",
    "x={'one','two','three'}\n",
    "print('Set x -->',x)\n",
    "y={'four','five','six'}\n",
    "print('Set y -->',y)\n",
    "set_union=x.union(y)\n",
    "print('Set: Use of union() -->',set_union)"
   ]
  },
  {
   "cell_type": "code",
   "execution_count": 33,
   "metadata": {},
   "outputs": [
    {
     "output_type": "stream",
     "name": "stdout",
     "text": [
      "Set x --> {'four', 'five', 'one', 'two', 'three'}\nSet y --> {'five', 'six', 'four'}\nSet: Use of intersection() --> {'five', 'four'}\n"
     ]
    }
   ],
   "source": [
    "# Set --> Use of intersection()\n",
    "# Returns the elements that are both in set x and y\n",
    "x={'one','two','three','four','five'}\n",
    "print('Set x -->',x)\n",
    "y={'four','five','six'}\n",
    "print('Set y -->',y)\n",
    "set_inter=x.intersection(y)\n",
    "print('Set: Use of intersection() -->',set_inter)"
   ]
  },
  {
   "cell_type": "code",
   "execution_count": 13,
   "metadata": {},
   "outputs": [
    {
     "output_type": "stream",
     "name": "stdout",
     "text": [
      "Set x --> {'one', 'three', 'five', 'four', 'two'}\nSet y --> {'one', 'three', 'five', 'four', 'six', 'seven', 'two'}\nSet x: Use of update() --> {'five', 'four', 'seven', 'two', 'one', 'three', 'six'}\n"
     ]
    }
   ],
   "source": [
    "# Set --> Use of update()\n",
    "# Updates a set x by adding all elements of another set y that are not present in set x\n",
    "\n",
    "x={'one','two','three','four','five'}\n",
    "print('Set x -->',x)\n",
    "y={'one','two','three','four','five','six','seven'}\n",
    "print('Set y -->',y)\n",
    "x.update(y)\n",
    "print('Set x: Use of update() -->',x)"
   ]
  },
  {
   "cell_type": "code",
   "execution_count": 9,
   "metadata": {},
   "outputs": [
    {
     "output_type": "stream",
     "name": "stdout",
     "text": [
      "Set x --> {'one', 'three', 'five', 'four', 'six', 'two'}\nSet y --> {'four', 'one', 'three', 'two'}\nSet x: Use of intersection_update() --> {'four', 'one', 'three', 'two'}\n"
     ]
    }
   ],
   "source": [
    "# Set --> Use of intersection_update()\n",
    "# Updates set x as it keeps only the elements that are both in set x and y\n",
    "x={'one','two','three','four','five','six'}\n",
    "print('Set x -->',x)\n",
    "y={'one','two','three','four'}\n",
    "print('Set y -->',y)\n",
    "x.intersection_update(y)\n",
    "print('Set x: Use of intersection_update() -->',x)"
   ]
  },
  {
   "cell_type": "code",
   "execution_count": 10,
   "metadata": {},
   "outputs": [
    {
     "output_type": "stream",
     "name": "stdout",
     "text": [
      "Set x --> {'one', 'three', 'five', 'four', 'two'}\nSet y --> {'five', 'four', 'six'}\nSet: Use of difference() --> {'one', 'three', 'two'}\n"
     ]
    }
   ],
   "source": [
    "# Set --> Use of difference()\n",
    "# Returns all elements of set x that are not in set y\n",
    "x={'one','two','three','four','five'}\n",
    "print('Set x -->',x)\n",
    "y={'four','five','six'}\n",
    "print('Set y -->',y)\n",
    "set_diff=x.difference(y)\n",
    "print('Set: Use of difference() -->',set_diff)"
   ]
  },
  {
   "cell_type": "code",
   "execution_count": 11,
   "metadata": {},
   "outputs": [
    {
     "output_type": "stream",
     "name": "stdout",
     "text": [
      "Set x --> {'one', 'three', 'five', 'four', 'two'}\nSet y --> {'five', 'four', 'six'}\nSet x: Use of difference_update() --> {'one', 'three', 'two'}\n"
     ]
    }
   ],
   "source": [
    "# Set --> Use of difference_update()\n",
    "# Updates set x as it keeps all elements of set x that are not in set y\n",
    "x={'one','two','three','four','five'}\n",
    "print('Set x -->',x)\n",
    "y={'four','five','six'}\n",
    "print('Set y -->',y)\n",
    "x.difference_update(y)\n",
    "print('Set x: Use of difference_update() -->',x)"
   ]
  },
  {
   "cell_type": "code",
   "execution_count": 35,
   "metadata": {},
   "outputs": [
    {
     "output_type": "stream",
     "name": "stdout",
     "text": [
      "Set x --> {'four', 'five', 'one', 'two', 'three'}\nSet y --> {'five', 'six', 'four'}\nSet: Use of summetric_difference() --> {'six', 'one', 'two', 'three'}\n"
     ]
    }
   ],
   "source": [
    "# Set --> Use of symmetric_difference()\n",
    "# Returns all elements that are in set x and not in set y and all elements that are in set y and not in set x\n",
    "x={'one','two','three','four','five'}\n",
    "print('Set x -->',x)\n",
    "y={'four','five','six'}\n",
    "print('Set y -->',y)\n",
    "set_sym_diff=x.symmetric_difference(y)\n",
    "print('Set: Use of summetric_difference() -->',set_sym_diff)"
   ]
  },
  {
   "cell_type": "code",
   "execution_count": 15,
   "metadata": {},
   "outputs": [
    {
     "output_type": "stream",
     "name": "stdout",
     "text": [
      "Set x --> {'one', 'three', 'five', 'four', 'two'}\nSet y --> {'five', 'four', 'six'}\nSet x: Use of summetric_difference_update() --> {'one', 'three', 'six', 'two'}\n"
     ]
    }
   ],
   "source": [
    "# Set --> Use of symmetric_difference_update()\n",
    "# Updates set x by keeping all elements that are in set x and not in set y and the opposite\n",
    "x={'one','two','three','four','five'}\n",
    "print('Set x -->',x)\n",
    "y={'four','five','six'}\n",
    "print('Set y -->',y)\n",
    "x.symmetric_difference_update(y)\n",
    "print('Set x: Use of summetric_difference_update() -->',x)"
   ]
  },
  {
   "cell_type": "code",
   "execution_count": 20,
   "metadata": {},
   "outputs": [
    {
     "output_type": "stream",
     "name": "stdout",
     "text": [
      "Set x --> {'one', 'three', 'five', 'four', 'two'}\nSet y --> {'five', 'four', 'three'}\nIs set y a subset of set x? --> True\nIs set y a superset of set x? --> False\n"
     ]
    }
   ],
   "source": [
    "# Set --> Use of issubset() and issuperset()\n",
    "# Checks whether a set y is a subset/superset of another set x (Returns True/False)\n",
    "x={'one','two','three','four','five'}\n",
    "print('Set x -->',x)\n",
    "y={'three','four','five'}\n",
    "print('Set y -->',y)\n",
    "print('Is set y a subset of set x? -->',y.issubset(x))\n",
    "print('Is set y a superset of set x? -->',y.issuperset(x))"
   ]
  },
  {
   "cell_type": "code",
   "execution_count": 24,
   "metadata": {},
   "outputs": [
    {
     "output_type": "stream",
     "name": "stdout",
     "text": [
      "Set x --> {'one', 'three', 'five', 'four', 'two'}\nSet y --> {'five', 'four', 'three'}\nSet z --> {'six', 'seven', 'eight'}\nSets y and x do not have common elements --> False\nSets z and x do not have common elements --> True\n"
     ]
    }
   ],
   "source": [
    "# Set --> Use of isdisjoint()\n",
    "# Checks whether two sets have common elements(Returns True/False)\n",
    "x={'one','two','three','four','five'}\n",
    "print('Set x -->',x)\n",
    "y={'three','four','five'}\n",
    "print('Set y -->',y)\n",
    "z={'six','seven','eight'}\n",
    "print('Set z -->',z)\n",
    "print('Sets y and x do not have common elements -->',y.isdisjoint(x))\n",
    "print('Sets z and x do not have common elements -->',z.isdisjoint(x))"
   ]
  }
 ]
}