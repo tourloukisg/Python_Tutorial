{
 "metadata": {
  "language_info": {
   "codemirror_mode": {
    "name": "ipython",
    "version": 3
   },
   "file_extension": ".py",
   "mimetype": "text/x-python",
   "name": "python",
   "nbconvert_exporter": "python",
   "pygments_lexer": "ipython3",
   "version": "3.9.2"
  },
  "orig_nbformat": 2,
  "kernelspec": {
   "name": "python3",
   "display_name": "Python 3.9.2 64-bit",
   "metadata": {
    "interpreter": {
     "hash": "407adad19d3514da6de0b3767d3a3b1f989b90f5fa3bd5e6e8c15ee36f34523b"
    }
   }
  }
 },
 "nbformat": 4,
 "nbformat_minor": 2,
 "cells": [
  {
   "cell_type": "code",
   "execution_count": 20,
   "metadata": {},
   "outputs": [
    {
     "output_type": "stream",
     "name": "stdout",
     "text": [
      "1st Case: Use of decorator(function):\n\nJohn Smith\n30\njsmith@mymail.com\n\n2nd Case: Use of @decorator:\n\nJohn Smith\n30\njsmith@mymail.com\n"
     ]
    }
   ],
   "source": [
    "# A decorator is a callable object(function/method) that takes another callable as argument and returns it \n",
    "# without altering its functionality\n",
    "\n",
    "# 1st example: Use of 'decorator(function)'\n",
    "print('1st Case: Use of decorator(function):\\n')\n",
    "def myfunction(x):\n",
    "    \n",
    "    def name_email():\n",
    "        print('John Smith')\n",
    "        x()\n",
    "        print('jsmith@mymail.com')\n",
    "    return name_email\n",
    "# age is the function that is to be decorated\n",
    "def age():\n",
    "    print('30')\n",
    "# get_age is the returned callable that consists of the decorator 'myfunction()' that takes as argument the\n",
    "# 'age()' function\n",
    "get_age=myfunction(age)\n",
    "get_age()\n",
    "\n",
    "print('\\r')\n",
    "\n",
    "# 2nd example: Use of '@myfunction' as a decorator\n",
    "print('2nd Case: Use of @decorator:\\n')\n",
    "def myfunction(x):\n",
    "    \n",
    "    def name_email():\n",
    "        print('John Smith')\n",
    "        x()\n",
    "        print('jsmith@mymail.com')\n",
    "    return name_email\n",
    "@myfunction\n",
    "def get_age():\n",
    "    print('30')\n",
    "\n",
    "get_age()"
   ]
  },
  {
   "cell_type": "code",
   "execution_count": 5,
   "metadata": {},
   "outputs": [
    {
     "output_type": "stream",
     "name": "stdout",
     "text": [
      "Result:\n6\n"
     ]
    }
   ],
   "source": [
    "# Use of decorator for functions that take as argument a parameter\n",
    "def myfunction(x):\n",
    "    \n",
    "    def multiplication(a):\n",
    "        print('Result:')\n",
    "        res=x(a)\n",
    "        return res\n",
    "    return multiplication\n",
    "@myfunction\n",
    "def multi(a):\n",
    "    return a*2\n",
    "\n",
    "res=multi(3)\n",
    "print(res)\n"
   ]
  },
  {
   "cell_type": "code",
   "execution_count": 43,
   "metadata": {},
   "outputs": [
    {
     "output_type": "stream",
     "name": "stdout",
     "text": [
      "Result using positional arguments:\n2\n\nResult using keyword arguments:\n2\n"
     ]
    }
   ],
   "source": [
    "# Decorators --> Use of positional arguments\n",
    "def myfunction(x):\n",
    "    \n",
    "    def substract(*args):\n",
    "        print('Result using positional arguments:')\n",
    "        res=x(*args)\n",
    "        return res\n",
    "    return substract\n",
    "@myfunction\n",
    "def sub(a,b):\n",
    "    return a-b\n",
    "\n",
    "res=sub(5,3)\n",
    "print(res)\n",
    "\n",
    "print('\\r')\n",
    "\n",
    "# Decorators --> Use of keyword arguments\n",
    "def myfunction(x):\n",
    "    \n",
    "    def substract(**kwargs):\n",
    "        print('Result using keyword arguments:')\n",
    "        res=x(**kwargs)\n",
    "        return res\n",
    "    return substract\n",
    "@myfunction\n",
    "def sub(a,b):\n",
    "    return a-b\n",
    "\n",
    "res=sub(a=5,b=3)\n",
    "print(res)\n",
    "\n"
   ]
  },
  {
   "cell_type": "code",
   "execution_count": 47,
   "metadata": {},
   "outputs": [
    {
     "output_type": "stream",
     "name": "stdout",
     "text": [
      "1st Example: Function name --> without use of functools.wrap decorator\nsubstraction\n\n2nd Example: Function name --> use of functools.wrap\nsub\n"
     ]
    }
   ],
   "source": [
    "# Decorators --> Use of functools.wraps\n",
    "# When a function is used as an argument by a decorator then identity characteristics of this function such as\n",
    "# its name can be affected.\n",
    "# For example, by printing the name of the decorated function the returned name is 'substraction' and not 'sub'\n",
    "# This is because 'sub' lies inside the inner decorator function, which in this case is 'substraction'.\n",
    "# In order to avoid this function identity problem in python, there is use of functools.wrap(function) that\n",
    "# acts a decorator when creating a wrapper function\n",
    "\n",
    "# 1st Example: Function name --> without use of functools.wrap decorator\n",
    "def myfun(x):\n",
    "    \n",
    "    def substraction(**kwargs):\n",
    "        print('1st Example: Function name --> without use of functools.wrap decorator')\n",
    "        result=x(**kwargs)\n",
    "        return result\n",
    "    return substraction\n",
    "@myfun\n",
    "def sub(a,b):\n",
    "    return a-b\n",
    "\n",
    "result=sub(a=5,b=3)\n",
    "print(sub.__name__)\n",
    "\n",
    "print('\\r')\n",
    "\n",
    "# 2nd Example: Function name --> use of functools.wrap\n",
    "import functools\n",
    "def myfun(x):\n",
    "    @functools.wraps(x)\n",
    "    def substraction(**kwargs):\n",
    "        print('2nd Example: Function name --> use of functools.wrap')\n",
    "        result=x(**kwargs)\n",
    "        return result\n",
    "    return substraction\n",
    "@myfun\n",
    "def sub(a,b):\n",
    "    return a-b\n",
    "\n",
    "res=sub(a=5,b=3)\n",
    "print(sub.__name__)"
   ]
  },
  {
   "cell_type": "code",
   "execution_count": 73,
   "metadata": {},
   "outputs": [
    {
     "output_type": "stream",
     "name": "stdout",
     "text": [
      "Executing the function --> use of positional argument:\n\n1000\n1000\n\nExecuting the function --> use of keyword argument:\n\n1000\n1000\n"
     ]
    }
   ],
   "source": [
    "# A Decorator takes a function as an argument 'def decorator(function)' but it can also take a parameter\n",
    "# as an argument 'def decorator(a)'\n",
    "\n",
    "import functools\n",
    "def decorator(a):\n",
    "    def testfun(x):\n",
    "        @functools.wraps(x)\n",
    "        def printfun(*args,**kwargs):\n",
    "            for _ in range(a):\n",
    "                res=x(*args,**kwargs)\n",
    "            return res\n",
    "        return printfun\n",
    "    return testfun\n",
    "\n",
    "\n",
    "@decorator(a=2)\n",
    "def number(num):\n",
    "    print(num)\n",
    "\n",
    "# Executing the function --> use of positional argument\n",
    "print('Executing the function --> use of positional argument:\\n')\n",
    "number(1000)\n",
    "print('\\r')\n",
    "# Executing the function --> use of keyword argument\n",
    "print('Executing the function --> use of keyword argument:\\n')\n",
    "number(num=1000)\n"
   ]
  },
  {
   "cell_type": "code",
   "execution_count": 98,
   "metadata": {},
   "outputs": [
    {
     "output_type": "stream",
     "name": "stdout",
     "text": [
      "Selected numbers are 6 & 3:\n6 - 3 --> 3\n6 + 3 --> 9\n"
     ]
    }
   ],
   "source": [
    "# Use of multiple decorators\n",
    "\n",
    "def decorator1(function):\n",
    "    @functools.wraps(function)\n",
    "    def fun(a,b):\n",
    "        function(a,b)\n",
    "        add=a+b\n",
    "        print(f'{a} + {b} -->',add)\n",
    "    return fun\n",
    "\n",
    "def decorator2(function):\n",
    "    @functools.wraps(function)\n",
    "    def fun(a,b):\n",
    "        function(a,b)\n",
    "        sub=a-b\n",
    "        print(f'{a} - {b} -->',sub)\n",
    "    return fun\n",
    "\n",
    "@decorator1\n",
    "@decorator2\n",
    "def selectnumbers(a,b):\n",
    "    print(f'Selected numbers are {a} & {b}:')\n",
    "\n",
    "selectnumbers(6,3)\n"
   ]
  },
  {
   "cell_type": "code",
   "execution_count": 133,
   "metadata": {},
   "outputs": [
    {
     "output_type": "stream",
     "name": "stdout",
     "text": [
      "Length of the selected word is 10\nLength of the selected word is 5\n"
     ]
    }
   ],
   "source": [
    "# Decorators --> Class example\n",
    "\n",
    "class decorator:\n",
    "    def __init__(self,func):\n",
    "        self.func=func\n",
    "        \n",
    "    def __call__(self,*args,**kwargs):\n",
    "        print('Length of the selected word is',len(self.func(*args,**kwargs)))\n",
    "        \n",
    "\n",
    "@decorator\n",
    "def selectword(word):\n",
    "    return word\n",
    "\n",
    "# Executing the function --> use of positional argument\n",
    "selectword('California')\n",
    "# Executing the function --> use of keyword argument\n",
    "selectword(word='Texas')\n",
    "\n"
   ]
  }
 ]
}