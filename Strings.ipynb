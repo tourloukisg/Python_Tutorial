{
 "metadata": {
  "language_info": {
   "codemirror_mode": {
    "name": "ipython",
    "version": 3
   },
   "file_extension": ".py",
   "mimetype": "text/x-python",
   "name": "python",
   "nbconvert_exporter": "python",
   "pygments_lexer": "ipython3",
   "version": "3.8.8-final"
  },
  "orig_nbformat": 2,
  "kernelspec": {
   "name": "python3",
   "display_name": "Python 3.8.8 64-bit ('myenv1': conda)",
   "metadata": {
    "interpreter": {
     "hash": "074149c00bb676bad396f73c55accc739f4a5a9d95b7426a540cf7db0e2c22bc"
    }
   }
  }
 },
 "nbformat": 4,
 "nbformat_minor": 2,
 "cells": [
  {
   "cell_type": "code",
   "execution_count": 10,
   "metadata": {},
   "outputs": [
    {
     "output_type": "stream",
     "name": "stdout",
     "text": [
      "S1: String with ' ' -->  table\nS2: String with \" \" -->  table\nS3: String with \" \" & ' ' -->  He said 'Hello, how are you?'\nS4: String with use of ' ' and \\ -->  He said 'Hello, how are you?'\nS5: String with use of triple quotes  -->  He said,\n'Hello, \nhow are you?\n"
     ]
    }
   ],
   "source": [
    "# String Example - Single/Double/Triple Quotes\n",
    "\n",
    "# Use of ' '\n",
    "s1='table'\n",
    "print(\"S1: String with ' ' --> \",s1)\n",
    "\n",
    "# Use of \" \"\n",
    "s2=\"table\"\n",
    "print(\"S2: String with \\\" \\\" --> \",s2)\n",
    "\n",
    "# Use of ' ' and \" \" in the same string\n",
    "s3= \"He said 'Hello, how are you?'\"\n",
    "print(\"S3: String with \\\" \\\" & ' ' --> \",s3)\n",
    "\n",
    "# Use of ' ' and \\ \n",
    "s4= 'He said \\'Hello, how are you?\\''\n",
    "print(\"S4: String with use of ' ' and \\ --> \",s4)\n",
    "\n",
    "# Use of \"\"\" \"\"\"\n",
    "s5= \"\"\"He said,\n",
    "'Hello, \n",
    "how are you?\"\"\"\n",
    "print(\"S5: String with use of triple quotes  --> \",s5)"
   ]
  },
  {
   "cell_type": "code",
   "execution_count": 26,
   "metadata": {},
   "outputs": [
    {
     "output_type": "stream",
     "name": "stdout",
     "text": [
      "Original String: Good Morning\nFirst item: G\nLast item: g\nIn between items: ood Mornin\nString items starting at index 0 with step 1: Good Morning\nString items starting at index -1 with step -1: gninroM dooG\nLength of string is: 12\n"
     ]
    }
   ],
   "source": [
    "# Accessing string items based on index\n",
    "s=\"Good Morning\"\n",
    "print(\"Original String:\",s)\n",
    "print(\"First item:\",s[0])\n",
    "print(\"Last item:\",s[-1])\n",
    "print(\"In between items:\",s[1:-1])\n",
    "print('String items starting at index 0 with step 1:',s[::1])\n",
    "print('String items starting at index -1 with step -1:',s[::-1])\n",
    "# String Length\n",
    "print('Length of string is:',len(s))\n",
    "\n"
   ]
  },
  {
   "cell_type": "code",
   "execution_count": 27,
   "metadata": {},
   "outputs": [
    {
     "output_type": "stream",
     "name": "stdout",
     "text": [
      "'str' object does not support item assignment\n"
     ]
    }
   ],
   "source": [
    "# String --> 'str' object does not support item assignment\n",
    "s='Good Morning'\n",
    "try:\n",
    "    s[0]='g'\n",
    "except Exception as error:\n",
    "    print(error)\n"
   ]
  },
  {
   "cell_type": "code",
   "execution_count": 30,
   "metadata": {},
   "outputs": [
    {
     "output_type": "stream",
     "name": "stdout",
     "text": [
      "Word formation: Airplane\nSentence formation: Good Morning\n"
     ]
    }
   ],
   "source": [
    "# String Concatenation\n",
    "# Word formation\n",
    "s1='Air'\n",
    "s2='plane'\n",
    "s=s1+s2\n",
    "print('Word formation:',s)\n",
    "\n",
    "# Sentence formation\n",
    "\n",
    "s1='Good'\n",
    "s2='Morning'\n",
    "s=s1 + \" \" +s2\n",
    "print('Sentence formation:',s)"
   ]
  },
  {
   "cell_type": "code",
   "execution_count": 200,
   "metadata": {},
   "outputs": [
    {
     "output_type": "stream",
     "name": "stdout",
     "text": [
      "Use of %s:\n My name is John\n\nUse of %d:\n I am 18 years old\n\nUse of %.2f:\n The Close price of this stock yesterday was 365.24\n\nUse of {} and .format():\n The Close price of this stock yesterday was 365.24\n\nUse of f\"..{}..\":\n The Close price of this stock yesterday was 365.24\n"
     ]
    }
   ],
   "source": [
    "#  Insert a variable into a string\n",
    "# x-->string (%s)\n",
    "x='John'\n",
    "string='My name is %s' %x\n",
    "print('Use of %s:\\n',string)\n",
    "print('\\r')\n",
    "\n",
    "# x-->int (%d)\n",
    "x=18\n",
    "string='I am %d years old' %x\n",
    "print('Use of %d:\\n',string)\n",
    "print('\\r')\n",
    "\n",
    "# x-->float (%.2f --> round 2 decimal places)\n",
    "x=365.23657\n",
    "string='The Close price of this stock yesterday was %.2f' %x\n",
    "print('Use of %.2f:\\n',string)\n",
    "print('\\r')\n",
    "\n",
    "# {} and .format()\n",
    "x1='stock'\n",
    "x2=365.23657\n",
    "string='The Close price of this {} yesterday was {:.2f}'.format(x1,x2)\n",
    "print('Use of {} and .format():\\n',string)\n",
    "print('\\r')\n",
    "\n",
    "# f\"..{}.. \"\n",
    "x1='stock'\n",
    "x2=365.23657\n",
    "string=f\"The Close price of this {x1} yesterday was {x2:.2f}\"\n",
    "print('Use of f\"..{}..\":\\n',string)\n"
   ]
  },
  {
   "cell_type": "code",
   "execution_count": 94,
   "metadata": {},
   "outputs": [
    {
     "output_type": "stream",
     "name": "stdout",
     "text": [
      "String Upper Case Convertion: GOOD MORNING\nString Lower Case Convertion: good morning\n"
     ]
    }
   ],
   "source": [
    "# String--> upper(),lower()\n",
    "s='Good Morning'\n",
    "s_upper=s.upper()\n",
    "s_lower=s.lower()\n",
    "print('String Upper Case Convertion:',s_upper)\n",
    "print('String Lower Case Convertion:',s_lower)"
   ]
  },
  {
   "cell_type": "code",
   "execution_count": 152,
   "metadata": {},
   "outputs": [
    {
     "output_type": "stream",
     "name": "stdout",
     "text": [
      "Original String --> Good Morning\nUpdated String  --> Good Evening\n"
     ]
    }
   ],
   "source": [
    "# String--> replace()\n",
    "s='Good Morning'\n",
    "print('Original String -->',s)\n",
    "s_upd=s.replace('Morning','Evening')\n",
    "print('Updated String  -->',s_upd)"
   ]
  },
  {
   "cell_type": "code",
   "execution_count": 146,
   "metadata": {},
   "outputs": [
    {
     "output_type": "stream",
     "name": "stdout",
     "text": [
      "Set s:\n {'c', 'm', 'e', 'i', 'l', 'g', 'n', ' ', 'a', 'h', 'r'}\n\nString character count (in Desc. Order):\n [('n', 3), ('e', 2), ('i', 2), ('a', 2), ('c', 1), ('m', 1), ('l', 1), ('g', 1), (' ', 1), ('h', 1), ('r', 1)]\n"
     ]
    }
   ],
   "source": [
    "# String--> count()\n",
    "s='machine learning'\n",
    "print('Set s:\\n',set(s))\n",
    "dct={}\n",
    "for x in set(s):\n",
    "    dct[x]=s.count(x)\n",
    "print('\\r')   \n",
    "print('String character count (in Desc. Order):\\n',sorted(dct.items(),key=lambda i:i[1],reverse=True))"
   ]
  },
  {
   "cell_type": "code",
   "execution_count": 99,
   "metadata": {},
   "outputs": [
    {
     "output_type": "stream",
     "name": "stdout",
     "text": [
      "Correct\nCorrect\nCorrect\nFalse\n"
     ]
    }
   ],
   "source": [
    "# String--> startswith()\n",
    "s='Good Morning'\n",
    "x=['G','Go','Good','Morning']\n",
    "\n",
    "for w in x:\n",
    "    if s.startswith(w):\n",
    "        print('Correct') \n",
    "    else:\n",
    "        print('False')"
   ]
  },
  {
   "cell_type": "code",
   "execution_count": 104,
   "metadata": {},
   "outputs": [
    {
     "output_type": "stream",
     "name": "stdout",
     "text": [
      "False\nFalse\nCorrect\n"
     ]
    }
   ],
   "source": [
    "# String--> endswith()\n",
    "s='Good Morning'\n",
    "x=['G','Goood','Morning']\n",
    "\n",
    "for w in x:\n",
    "    if s.endswith(w):\n",
    "        print('Correct') \n",
    "    else:\n",
    "        print('False')"
   ]
  },
  {
   "cell_type": "code",
   "execution_count": 113,
   "metadata": {},
   "outputs": [
    {
     "output_type": "stream",
     "name": "stdout",
     "text": [
      "Starting Index: 0\nStarting Index: 2\nStarting Index: 5\nThis character is not present in the string: -1\n"
     ]
    }
   ],
   "source": [
    "# String--> find()\n",
    "# Returns the starting index or -1 if character not present in the string\n",
    "s='Good Morning'\n",
    "x=['Go','od','Mo','b']\n",
    "\n",
    "for w in x:\n",
    "    if w in s:\n",
    "        print('Starting Index:',s.find(w)) \n",
    "    else:\n",
    "        print('This character is not present in the string:',s.find(w))"
   ]
  },
  {
   "cell_type": "code",
   "execution_count": 38,
   "metadata": {},
   "outputs": [
    {
     "output_type": "stream",
     "name": "stdout",
     "text": [
      "(0, 'G')\n(1, 'o')\n(2, 'o')\n(3, 'd')\n(4, ' ')\n(5, 'M')\n(6, 'o')\n(7, 'r')\n(8, 'n')\n(9, 'i')\n(10, 'n')\n(11, 'g')\n"
     ]
    }
   ],
   "source": [
    "# String --> 'for' loop\n",
    "# enumerate() --> Returns the index and the 'char' of each string item\n",
    "s='Good Morning'\n",
    "for x in enumerate(s):\n",
    "    print(x)\n"
   ]
  },
  {
   "cell_type": "code",
   "execution_count": 55,
   "metadata": {},
   "outputs": [
    {
     "output_type": "stream",
     "name": "stdout",
     "text": [
      "G\no\no\nd\n \nM\no\nr\nn\ni\nn\ng\n"
     ]
    }
   ],
   "source": [
    "# String --> 'for' loop\n",
    "s='Good Morning'\n",
    "for x in s:\n",
    "    print(x)\n"
   ]
  },
  {
   "cell_type": "code",
   "execution_count": 56,
   "metadata": {},
   "outputs": [
    {
     "output_type": "stream",
     "name": "stdout",
     "text": [
      "G o o d   M o r n i n g "
     ]
    }
   ],
   "source": [
    "# String --> 'for' loop\n",
    "# end=' ' --> Returns each string item (horizontally--space separated)\n",
    "\n",
    "s='Good Morning'\n",
    "for x in s:\n",
    "    print(x,end=' ')"
   ]
  },
  {
   "cell_type": "code",
   "execution_count": 57,
   "metadata": {},
   "outputs": [
    {
     "output_type": "stream",
     "name": "stdout",
     "text": [
      "Good Morning\n"
     ]
    }
   ],
   "source": [
    "# String --> 'for' loop\n",
    "# end='' --> Returns the original string (horizontally)\n",
    "s='Good Morning'\n",
    "for x in s:\n",
    "    print(x,end='')\n",
    "print('\\r')\n"
   ]
  },
  {
   "cell_type": "code",
   "execution_count": 67,
   "metadata": {},
   "outputs": [
    {
     "output_type": "stream",
     "name": "stdout",
     "text": [
      "Character 'd' is present in the string and its (starting) index is 3:\n\nCharacter 'a' is not present in the string\n\nCharacter 'Morning' is present in the string and its (starting) index is 5:\n\nCharacter 'car' is not present in the string\n\n"
     ]
    }
   ],
   "source": [
    "# String --> 'if' statement\n",
    "s='Good Morning'\n",
    "x=['d','a','Morning','car']\n",
    "for w in x:\n",
    "    if w in s:\n",
    "        print('Character \\'{}\\' is present in the string and its (starting) index is {}:\\n'.format(w,s.index(w),end=' '))\n",
    "    else:\n",
    "        print('Character \\'{}\\' is not present in the string\\n'.format(w)) \n"
   ]
  },
  {
   "cell_type": "code",
   "execution_count": 88,
   "metadata": {},
   "outputs": [
    {
     "output_type": "stream",
     "name": "stdout",
     "text": [
      "String without the use of strip():\n\nTom buys        his favorite magazine            every month\n\n-------------------------------------\n\nString with use of strip():\n\nTom buys his favorite magazine every month\n"
     ]
    }
   ],
   "source": [
    "# String --> strip()\n",
    "# Removes the white spaces at the beginning/end of a string\n",
    "print('String without the use of strip():\\n')\n",
    "s=\"       his favorite magazine           \"\n",
    "print('Tom buys '+s+' every month')\n",
    "print('\\r')\n",
    "print('-------------------------------------\\n')\n",
    "\n",
    "# Use of strip()\n",
    "s1=s.strip()\n",
    "print('String with use of strip():\\n')\n",
    "print('Tom buys '+s1+' every month')\n",
    "\n"
   ]
  },
  {
   "cell_type": "code",
   "execution_count": 172,
   "metadata": {},
   "outputs": [
    {
     "output_type": "stream",
     "name": "stdout",
     "text": [
      "List --> ['LSTM', 'is', 'a', 'machine', 'learning', 'model']\n\nType --> <class 'list'>\n\nCase words in list:\nList to String Conversion --> LSTM is a machine learning model\n\nType --> <class 'str'>\n\n\nCase letters in list:\nList to String Conversion --> machine\n\nType --> <class 'str'>\n\n"
     ]
    }
   ],
   "source": [
    "# String --> join()\n",
    "# List to String Conversion\n",
    "lst=['LSTM','is','a','machine','learning','model']\n",
    "print('List -->',lst)\n",
    "print('\\r')\n",
    "print('Type -->',type(lst))\n",
    "print('\\r')\n",
    "\n",
    "# Create a sentence based on the list items (words) --> \" \".join()\n",
    "print('Case words in list:')\n",
    "string=\" \".join(lst)\n",
    "print(\"List to String Conversion -->\",string)\n",
    "print('\\r')\n",
    "print('Type -->',type(string))\n",
    "print('\\r')\n",
    "print('\\r')\n",
    "\n",
    "# Create a word based on the list items (letters) --> \"\".join()\n",
    "lst=['m','a','c','h','i','n','e']\n",
    "print('Case letters in list:')\n",
    "string=\"\".join(lst)\n",
    "print(\"List to String Conversion -->\",string)\n",
    "print('\\r')\n",
    "print('Type -->',type(string))\n",
    "print('\\r')"
   ]
  },
  {
   "cell_type": "code",
   "execution_count": 167,
   "metadata": {},
   "outputs": [
    {
     "output_type": "stream",
     "name": "stdout",
     "text": [
      "Original String --> Nice to meet you\n\nType --> <class 'str'>\n\nDelimiter (' ')- List Conversion --> ['Nice', 'to', 'meet', 'you']\n\nType --> <class 'list'>\n\nDelimiter ('_')- List Conversion --> ['Nice', 'to', 'meet', 'you']\n\nType --> <class 'list'>\n\nDelimiter (';')- List Conversion --> ['Nice', 'to', 'meet', 'you']\n\nType --> <class 'list'>\n"
     ]
    }
   ],
   "source": [
    "# String --> split()\n",
    "# String to List Conversion\n",
    "s='Nice to meet you'\n",
    "print('Original String -->',s)\n",
    "print('\\r')\n",
    "print('Type -->',type(s))\n",
    "print('\\r')\n",
    "\n",
    "# Delimiter --> space (' ')\n",
    "s1=s.split(' ')\n",
    "print(\"Delimiter (' ')- List Conversion -->\",s1)\n",
    "print('\\r')\n",
    "print('Type -->',type(s1))\n",
    "print('\\r')\n",
    "\n",
    "# Delimiter --> underscore('_')\n",
    "s='Nice_to_meet_you'\n",
    "s2=s.split('_')\n",
    "print(\"Delimiter ('_')- List Conversion -->\",s2)\n",
    "print('\\r')\n",
    "print('Type -->',type(s2))\n",
    "print('\\r')\n",
    "\n",
    "# Delimiter --> semicolon(';')\n",
    "s='Nice;to;meet;you'\n",
    "s3=s.split(';')\n",
    "print(\"Delimiter (';')- List Conversion -->\",s3)\n",
    "print('\\r')\n",
    "print('Type -->',type(s3))\n"
   ]
  }
 ]
}