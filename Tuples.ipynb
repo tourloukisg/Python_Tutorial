{
 "metadata": {
  "language_info": {
   "codemirror_mode": {
    "name": "ipython",
    "version": 3
   },
   "file_extension": ".py",
   "mimetype": "text/x-python",
   "name": "python",
   "nbconvert_exporter": "python",
   "pygments_lexer": "ipython3",
   "version": "3.9.2-final"
  },
  "orig_nbformat": 2,
  "kernelspec": {
   "name": "python3",
   "display_name": "Python 3.9.2 64-bit",
   "metadata": {
    "interpreter": {
     "hash": "407adad19d3514da6de0b3767d3a3b1f989b90f5fa3bd5e6e8c15ee36f34523b"
    }
   }
  }
 },
 "nbformat": 4,
 "nbformat_minor": 2,
 "cells": [
  {
   "cell_type": "code",
   "execution_count": 5,
   "metadata": {},
   "outputs": [
    {
     "output_type": "stream",
     "name": "stdout",
     "text": [
      "Case multiple items:\n\nTuple created with parenthesis:\n ('car', 'phone', 1)\nTuple created without parenthesis:\n ('car', 'phone', 1)\n\n---------------------------------------\n\nCase one item:\n\nData type without use of comma:\n <class 'str'>\nData type with use of comma:\n <class 'tuple'>\n"
     ]
    }
   ],
   "source": [
    "# A tuple can be used to store more than one items (separated by comma)\n",
    "# A tuple can be created with the use of parenthesis or without\n",
    "#multiple items\n",
    "print('Case multiple items:')\n",
    "print('\\r')\n",
    "tup1=('car','phone',1)\n",
    "print('Tuple created with parenthesis:\\n',tup1)\n",
    "tup2='car','phone',1\n",
    "print('Tuple created without parenthesis:\\n',tup2)\n",
    "print('\\r')\n",
    "print('---------------------------------------')\n",
    "print('\\r')\n",
    "# To create a tuple with only one item, then a comma should be placed after the item\n",
    "print('Case one item:')\n",
    "print('\\r')\n",
    "tup3=('car')\n",
    "print('Data type without use of comma:\\n',type(tup3))\n",
    "tup4=('car',)\n",
    "print('Data type with use of comma:\\n',type(tup4))\n"
   ]
  },
  {
   "cell_type": "code",
   "execution_count": 84,
   "metadata": {},
   "outputs": [
    {
     "output_type": "stream",
     "name": "stdout",
     "text": [
      "Tuple: ('car', 'phone', 1, 'dog', 'radio', 'summer', 5, 'laptop')\n\nFirst tuple element: car\nLast tuple element: laptop\nIn between tuple elements: ('phone', 1, 'dog', 'radio', 'summer', 5)\nFirst three tuple elements: ('car', 'phone', 1)\nLast three tuple elements: ('summer', 5, 'laptop')\nTuple elements starting at index 0 with step 2: ('car', 1, 'radio', 5)\nTuple elements starting at index -1 with step -2: ('laptop', 'summer', 'dog', 'phone')\nLength of tuple is: 8\n"
     ]
    }
   ],
   "source": [
    "# Accesing tuple elements and len(tuple)\n",
    "tup1=('car','phone',1,'dog','radio','summer',5,'laptop')\n",
    "print('Tuple:',tup1)\n",
    "print('\\r')\n",
    "print('First tuple element:',tup1[0])\n",
    "print('Last tuple element:',tup1[-1])\n",
    "print('In between tuple elements:',tup1[1:-1])\n",
    "print('First three tuple elements:',tup1[:3])\n",
    "print('Last three tuple elements:',tup1[-3:])\n",
    "print('Tuple elements starting at index 0 with step 2:',tup1[::2])\n",
    "print('Tuple elements starting at index -1 with step -2:',tup1[::-2])\n",
    "print('Length of tuple is:',len(tup1))"
   ]
  },
  {
   "cell_type": "code",
   "execution_count": 62,
   "metadata": {},
   "outputs": [
    {
     "output_type": "stream",
     "name": "stdout",
     "text": [
      "Count of tuple element 1: 2\n\nCount of tuple element 2: 4\n\nCount of tuple element 3: 1\n\nCount of tuple element 4: 3\n\n"
     ]
    }
   ],
   "source": [
    "# Count of tuple elements\n",
    "tup=(1,2,3,4,2,2,1,4,4,2)\n",
    "for x in set(tup):\n",
    "    print('Count of tuple element {}: {}\\n'.format(x,tup.count(x)))"
   ]
  },
  {
   "cell_type": "code",
   "execution_count": 17,
   "metadata": {},
   "outputs": [
    {
     "output_type": "error",
     "ename": "TypeError",
     "evalue": "'tuple' object does not support item assignment",
     "traceback": [
      "\u001b[1;31m---------------------------------------------------------------------------\u001b[0m",
      "\u001b[1;31mTypeError\u001b[0m                                 Traceback (most recent call last)",
      "\u001b[1;32m<ipython-input-17-1f27636f3512>\u001b[0m in \u001b[0;36m<module>\u001b[1;34m\u001b[0m\n\u001b[0;32m      2\u001b[0m \u001b[1;31m# Returns a TypeError -->'tuple' object does not support item assignment\u001b[0m\u001b[1;33m\u001b[0m\u001b[1;33m\u001b[0m\u001b[1;33m\u001b[0m\u001b[0m\n\u001b[0;32m      3\u001b[0m \u001b[0mtup1\u001b[0m\u001b[1;33m=\u001b[0m\u001b[1;33m(\u001b[0m\u001b[1;34m'car'\u001b[0m\u001b[1;33m,\u001b[0m\u001b[1;34m'phone'\u001b[0m\u001b[1;33m,\u001b[0m\u001b[1;36m1\u001b[0m\u001b[1;33m)\u001b[0m\u001b[1;33m\u001b[0m\u001b[1;33m\u001b[0m\u001b[0m\n\u001b[1;32m----> 4\u001b[1;33m \u001b[0mtup1\u001b[0m\u001b[1;33m[\u001b[0m\u001b[1;33m-\u001b[0m\u001b[1;36m1\u001b[0m\u001b[1;33m]\u001b[0m\u001b[1;33m=\u001b[0m\u001b[1;34m'dog'\u001b[0m\u001b[1;33m\u001b[0m\u001b[1;33m\u001b[0m\u001b[0m\n\u001b[0m\u001b[0;32m      5\u001b[0m \u001b[0mprint\u001b[0m\u001b[1;33m(\u001b[0m\u001b[1;34m'New tuple:\\n'\u001b[0m\u001b[1;33m,\u001b[0m\u001b[0mtup1\u001b[0m\u001b[1;33m)\u001b[0m\u001b[1;33m\u001b[0m\u001b[1;33m\u001b[0m\u001b[0m\n",
      "\u001b[1;31mTypeError\u001b[0m: 'tuple' object does not support item assignment"
     ]
    }
   ],
   "source": [
    "# Difference between a list and a tuple is that a tuple is immutable (it does not upport item assignment)\n",
    "# Returns a TypeError -->'tuple' object does not support item assignment\n",
    "tup1=('car','phone',1)\n",
    "tup1[-1]='dog'\n",
    "print('New tuple:\\n',tup1)"
   ]
  },
  {
   "cell_type": "code",
   "execution_count": 79,
   "metadata": {},
   "outputs": [
    {
     "output_type": "stream",
     "name": "stdout",
     "text": [
      "Type of vehicle:\n car\nCar Make:\n BMW\nCar Year Model:\n 2020\n"
     ]
    }
   ],
   "source": [
    "# Unpacking a tuple\n",
    "tup1=('car','BMW',2020)\n",
    "vehicle,make,year_model=tup1\n",
    "print('Type of vehicle:\\n',vehicle)\n",
    "print('Car Make:\\n',make)\n",
    "print('Car Year Model:\\n',year_model)"
   ]
  },
  {
   "cell_type": "code",
   "execution_count": 72,
   "metadata": {},
   "outputs": [
    {
     "output_type": "stream",
     "name": "stdout",
     "text": [
      "Tuple created from list:\n ('car', 'phone', 'apple')\n\nList created from tuple:\n ['car', 'phone', 'apple']\n"
     ]
    }
   ],
   "source": [
    "# A tuple can be created from a list and vice versa\n",
    "lst1=['car','phone','apple']\n",
    "tup1=tuple(lst1)\n",
    "print('Tuple created from list:\\n',tup1)\n",
    "lst=list(tup1)\n",
    "print('\\r')\n",
    "print('List created from tuple:\\n',lst)\n",
    "\n",
    "\n"
   ]
  },
  {
   "cell_type": "code",
   "execution_count": 73,
   "metadata": {},
   "outputs": [
    {
     "output_type": "stream",
     "name": "stdout",
     "text": [
      "Dict created from tuples:\n {1: 'one', 2: 'two', 3: 'three'}\n"
     ]
    }
   ],
   "source": [
    "# A dict can be created from tuples\n",
    "tup1=(1,2,3)\n",
    "tup2=('one','two','three')\n",
    "d=dict(zip(tup1,tup2))\n",
    "print('Dict created from tuples:\\n',d)"
   ]
  },
  {
   "cell_type": "code",
   "execution_count": 51,
   "metadata": {},
   "outputs": [
    {
     "output_type": "stream",
     "name": "stdout",
     "text": [
      "Tuple--> 'for' loop:\n\n1 2 3 4 5 6 \n\nTuple--> 'if' statement:\n\nItem 4 is in tup and its index is 3:\n\nItem 8 is not in tup\n"
     ]
    }
   ],
   "source": [
    "# Tuple 'for' loop and 'if' statement example\n",
    "tup=(1,2,3,4,5,6)\n",
    "# for loop\n",
    "print(\"Tuple--> 'for' loop:\\n\")\n",
    "for item in tup:\n",
    "    print(item,end=' ')\n",
    "# if statement\n",
    "print('\\r')\n",
    "print(\"\\nTuple--> 'if' statement:\\n\")\n",
    "val=[4,8]\n",
    "for x in val:\n",
    "    if x in tup:\n",
    "        print('Item {} is in tup and its index is {}:\\n'.format(x,tup.index(x),end=' '))\n",
    "    else:\n",
    "        print('Item {} is not in tup'.format(x))\n",
    "        \n"
   ]
  }
 ]
}