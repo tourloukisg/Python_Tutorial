{
 "metadata": {
  "language_info": {
   "codemirror_mode": {
    "name": "ipython",
    "version": 3
   },
   "file_extension": ".py",
   "mimetype": "text/x-python",
   "name": "python",
   "nbconvert_exporter": "python",
   "pygments_lexer": "ipython3",
   "version": "3.9.2-final"
  },
  "orig_nbformat": 2,
  "kernelspec": {
   "name": "python3",
   "display_name": "Python 3.9.2 64-bit",
   "metadata": {
    "interpreter": {
     "hash": "407adad19d3514da6de0b3767d3a3b1f989b90f5fa3bd5e6e8c15ee36f34523b"
    }
   }
  }
 },
 "nbformat": 4,
 "nbformat_minor": 2,
 "cells": [
  {
   "cell_type": "code",
   "execution_count": 8,
   "metadata": {},
   "outputs": [
    {
     "output_type": "stream",
     "name": "stdout",
     "text": [
      "List a --> [2, 4]\nList b --> [3, 6]\nReturns a product object --> <class 'itertools.product'>\nReturns a list --> <class 'list'>\nProduct of the two lists --> [(2, 3), (2, 6), (4, 3), (4, 6)]\n"
     ]
    }
   ],
   "source": [
    "# Itertools\n",
    "# product --> Returns the Cartesian product of iterables such as lists\n",
    "\n",
    "from itertools import product\n",
    "\n",
    "lst_a=[2,4]\n",
    "lst_b=[3,6]\n",
    "print('List a -->',lst_a)\n",
    "print('List b -->',lst_b)\n",
    "ab=product(lst_a,lst_b)\n",
    "print('Returns a product object -->',type(ab))\n",
    "lst_ab=list(ab)\n",
    "print('Returns a list -->',type(lst_ab))\n",
    "print('Product of the two lists -->',lst_ab)"
   ]
  },
  {
   "cell_type": "code",
   "execution_count": 2,
   "metadata": {},
   "outputs": [
    {
     "output_type": "stream",
     "name": "stdout",
     "text": [
      "List a --> ['a']\nList b --> ['b', 'c']\n\nProduct (repeat=1) --> [('a', 'b'), ('a', 'c')]\nProduct (repeat=2) --> [('a', 'b', 'a', 'b'), ('a', 'b', 'a', 'c'), ('a', 'c', 'a', 'b'), ('a', 'c', 'a', 'c')]\n\nList a --> [0, 1]\nProduct (repeat=3) --> [(0, 0, 0), (0, 0, 1), (0, 1, 0), (0, 1, 1), (1, 0, 0), (1, 0, 1), (1, 1, 0), (1, 1, 1)]\n"
     ]
    }
   ],
   "source": [
    "# Itertools\n",
    "# product(repeat=x) --> Returns the product of an iterable with itself x times\n",
    "\n",
    "from itertools import product\n",
    "\n",
    "lst_a=['a']\n",
    "lst_b=['b','c']\n",
    "print('List a -->',lst_a)\n",
    "print('List b -->',lst_b)\n",
    "print('\\r')\n",
    "# repeat=1\n",
    "ab=product(lst_a,lst_b,repeat=1)\n",
    "lst_ab=list(ab)\n",
    "print('Product (repeat=1) -->',lst_ab)\n",
    "\n",
    "# repeat=2\n",
    "ab=product(lst_a,lst_b,repeat=2)\n",
    "lst_ab=list(ab)\n",
    "print('Product (repeat=2) -->',lst_ab)\n",
    "\n",
    "#repeat=3\n",
    "print('\\r')\n",
    "a=[0,1]\n",
    "print('List a -->',a)\n",
    "p=product(a,repeat=3)\n",
    "lst_p=list(p)\n",
    "print('Product (repeat=3) -->',lst_p)"
   ]
  },
  {
   "cell_type": "code",
   "execution_count": 100,
   "metadata": {
    "tags": []
   },
   "outputs": [
    {
     "output_type": "stream",
     "name": "stdout",
     "text": [
      "1 2 3 4 5 6 7 8 9 10 "
     ]
    }
   ],
   "source": [
    "# Itertools Infinite Iterators\n",
    "# count(n) --> Returns consecutive values (start= number n, end = infinite if stop condition is not specified)\n",
    "\n",
    "from itertools import count\n",
    "\n",
    "for x in count(1):\n",
    "    print(x,end=' ')\n",
    "    if x==10:\n",
    "        break\n"
   ]
  },
  {
   "cell_type": "code",
   "execution_count": 105,
   "metadata": {
    "tags": []
   },
   "outputs": [
    {
     "output_type": "stream",
     "name": "stdout",
     "text": [
      "0 1 2 3 4 0 1 2 3 4 0 1 "
     ]
    }
   ],
   "source": [
    "# Itertools Infinite Iterators\n",
    "# cycle(iterable) --> Cycling through an iterable (i.e.list). Infinite loops if stop condition is not specified)\n",
    "\n",
    "from itertools import cycle\n",
    "c=[0,1,2,3,4]\n",
    "lst=[]\n",
    "for x in cycle(c):\n",
    "    print(x,end=' ')\n",
    "    lst.append(x)\n",
    "    if len(lst)==12:\n",
    "        break"
   ]
  },
  {
   "cell_type": "code",
   "execution_count": 117,
   "metadata": {},
   "outputs": [
    {
     "output_type": "stream",
     "name": "stdout",
     "text": [
      "[0, 1, 2, 3, 4]\n[0, 1, 2, 3, 4]\n[0, 1, 2, 3, 4]\n"
     ]
    }
   ],
   "source": [
    "# Itertools Infinite Iterators\n",
    "# repeat (object/iterable,times) -->  Repeats the elements of an iterable/object/value\n",
    "# repeat() runs indefinitely unless a times argument value is selected\n",
    "\n",
    "from itertools import repeat\n",
    "c=[0,1,2,3,4]\n",
    "\n",
    "for x in repeat(c,times=3):\n",
    "    print(x)\n",
    "    "
   ]
  },
  {
   "cell_type": "code",
   "execution_count": 8,
   "metadata": {},
   "outputs": [
    {
     "output_type": "stream",
     "name": "stdout",
     "text": [
      "List --> [0, 1, 2]\n\nList elements permutations (length r= None) --> [(0, 1, 2), (0, 2, 1), (1, 0, 2), (1, 2, 0), (2, 0, 1), (2, 1, 0)]\nList elements permutations (length r= 2) --> [(0, 1), (0, 2), (1, 0), (1, 2), (2, 0), (2, 1)]\n"
     ]
    }
   ],
   "source": [
    "# Itertools\n",
    "# permutations(iterable,r) --> Returns all possible combinations (length=r) of the elements in an iterable\n",
    "\n",
    "from itertools import permutations\n",
    "\n",
    "lst=[0,1,2]\n",
    "print('List -->',lst)\n",
    "print('\\r')\n",
    "# length r=None\n",
    "res=list(permutations(lst))\n",
    "print('List elements permutations (length r= None) -->',res)\n",
    "\n",
    "# length r=2\n",
    "res2=list(permutations(lst,r=2))\n",
    "print('List elements permutations (length r= 2) -->',res2)"
   ]
  },
  {
   "cell_type": "code",
   "execution_count": 27,
   "metadata": {},
   "outputs": [
    {
     "output_type": "stream",
     "name": "stdout",
     "text": [
      "List --> [0, 1, 2, 3]\n\nList elements combinations (length r= 4) --> [(0, 1, 2, 3)]\nList elements combinations (length r= 3) --> [(0, 1, 2), (0, 1, 3), (0, 2, 3), (1, 2, 3)]\nList elements combinations (length r= 2) --> [(0, 1), (0, 2), (0, 3), (1, 2), (1, 3), (2, 3)]\n\nString --> car\n\nString elements combinations (length r= 2) --> (('c', 'a'), ('c', 'r'), ('a', 'r'))\n"
     ]
    }
   ],
   "source": [
    "# Itertools\n",
    "# combinations(iterable,r) --> Returns iterable elements subsequences of length r (sorted order based on index)\n",
    "# where the iterable elements are not repeated in the subsequences\n",
    "from itertools import combinations\n",
    "\n",
    "lst=[0,1,2,3]\n",
    "print('List -->',lst)\n",
    "print('\\r')\n",
    "# length r=4\n",
    "res=list(combinations(lst,4))\n",
    "print('List elements combinations (length r= 4) -->',res)\n",
    "\n",
    "# length r=3\n",
    "res1=list(combinations(lst,3))\n",
    "print('List elements combinations (length r= 3) -->',res1)\n",
    "\n",
    "# length r=2\n",
    "res2=list(combinations(lst,2))\n",
    "print('List elements combinations (length r= 2) -->',res2)\n",
    "print('\\r')\n",
    "\n",
    "# string - length r=2\n",
    "string='car'\n",
    "print('String -->',string)\n",
    "print('\\r')\n",
    "# length r=4\n",
    "res_s=tuple(combinations(string,2))\n",
    "print('String elements combinations (length r= 2) -->',res_s)"
   ]
  },
  {
   "cell_type": "code",
   "execution_count": 39,
   "metadata": {},
   "outputs": [
    {
     "output_type": "stream",
     "name": "stdout",
     "text": [
      "List --> [0, 1, 2]\n\nList elements combinations (length r= 2) --> [(0, 1), (0, 2), (1, 2)]\nList elements combinations with replacement (length r= 2) --> [(0, 0), (0, 1), (0, 2), (1, 1), (1, 2), (2, 2)]\n"
     ]
    }
   ],
   "source": [
    "# Itertools\n",
    "# combinations_with_replacement(iterable,r) --> Returns iterable elements subsequences of length r (sorted \n",
    "# order based on index) where thr iterable elements are repeated in the subsequences\n",
    "\n",
    "from itertools import combinations,combinations_with_replacement\n",
    "\n",
    "lst=[0,1,2]\n",
    "print('List -->',lst)\n",
    "print('\\r')\n",
    "\n",
    "# combinations \n",
    "res=list(combinations(lst,2))\n",
    "print('List elements combinations (length r= 2) -->',res)\n",
    "\n",
    "# combinations with replacement\n",
    "res1=list(combinations_with_replacement(lst,2))\n",
    "print('List elements combinations with replacement (length r= 2) -->',res1)"
   ]
  },
  {
   "cell_type": "code",
   "execution_count": 42,
   "metadata": {},
   "outputs": [
    {
     "output_type": "stream",
     "name": "stdout",
     "text": [
      "List --> [0, 1, 2, 3]\n\nAccumulated Sums --> [0, 1, 3, 6]\n"
     ]
    }
   ],
   "source": [
    "# Itertools\n",
    "# accumulate(iterable) --> Returns accumulated sums (running totals) \n",
    "\n",
    "from itertools import accumulate\n",
    "\n",
    "lst=[0,1,2,3]\n",
    "print('List -->',lst)\n",
    "print('\\r')\n",
    "\n",
    "# accumulate \n",
    "res=list(accumulate(lst))\n",
    "print('Accumulated Sums -->',res)"
   ]
  },
  {
   "cell_type": "code",
   "execution_count": 54,
   "metadata": {},
   "outputs": [
    {
     "output_type": "stream",
     "name": "stdout",
     "text": [
      "List --> [6, 4, 2, 1]\n\nOperator.add --> [6, 10, 12, 13]\nOperator.sub --> [6, 2, 0, -1]\nOperator.mul --> [6, 24, 48, 48]\nOperator.truediv --> [6, 1.5, 0.75, 0.75]\nOperator.floordiv --> [6, 1, 0, 0]\n"
     ]
    }
   ],
   "source": [
    "# Itertools\n",
    "# accumulate(iterable,func=operator.x) -->where x =(add,sub,mul,truediv,floordiv etc.),default value = add\n",
    "\n",
    "from itertools import accumulate\n",
    "import operator\n",
    "lst=[6,4,2,1]\n",
    "print('List -->',lst)\n",
    "print('\\r')\n",
    "\n",
    "# operator.add --> default\n",
    "res=list(accumulate(lst,func=operator.add))\n",
    "print('Operator.add -->',res)\n",
    "\n",
    "# operator.sub \n",
    "res1=list(accumulate(lst,func=operator.sub))\n",
    "print('Operator.sub -->',res1)\n",
    "\n",
    "# operator.mul \n",
    "res2=list(accumulate(lst,func=operator.mul))\n",
    "print('Operator.mul -->',res2)\n",
    "\n",
    "# operator.truediv \n",
    "res3=list(accumulate(lst,func=operator.truediv))\n",
    "print('Operator.truediv -->',res3)\n",
    "\n",
    "# operator.floordiv \n",
    "res4=list(accumulate(lst,func=operator.floordiv))\n",
    "print('Operator.floordiv -->',res4)\n"
   ]
  },
  {
   "cell_type": "code",
   "execution_count": 56,
   "metadata": {},
   "outputs": [
    {
     "output_type": "stream",
     "name": "stdout",
     "text": [
      "List --> [2, 5, 1, 8, 4]\n\nfunc=min --> [2, 2, 1, 1, 1]\nfunc=max --> [2, 5, 5, 8, 8]\n"
     ]
    }
   ],
   "source": [
    "# Itertools\n",
    "# accumulate(iterable,func=x) -->where x =(min,max)\n",
    "\n",
    "from itertools import accumulate\n",
    "import operator\n",
    "lst=[2,5,1,8,4]\n",
    "print('List -->',lst)\n",
    "print('\\r')\n",
    "\n",
    "# func=min\n",
    "res=list(accumulate(lst,func=min))\n",
    "print('func=min -->',res)\n",
    "\n",
    "# func=max \n",
    "res1=list(accumulate(lst,func=max))\n",
    "print('func=max -->',res1)"
   ]
  },
  {
   "cell_type": "code",
   "execution_count": 86,
   "metadata": {},
   "outputs": [
    {
     "output_type": "stream",
     "name": "stdout",
     "text": [
      "List --> [1, 2, 3, 4, 5, 6, 7, 8, 9, 10]\n\nList elements greater than 5:\n\nFalse [1, 2, 3, 4, 5]\nTrue [6, 7, 8, 9, 10]\n\n---------------------------------------------------------------------------\nCar Make & Year:\n\n[{'make': 'Chevrolet', 'year': 2017}, {'make': 'Honda', 'year': 2017}, {'make': 'GMC', 'year': 2018}, {'make': 'Honda', 'year': 2019}, {'make': 'BMW', 'year': 2020}, {'make': 'Nissan', 'year': 2020}]\n\nGroup cars by year:\n\n2017 [{'make': 'Chevrolet', 'year': 2017}, {'make': 'Honda', 'year': 2017}]\n2018 [{'make': 'GMC', 'year': 2018}]\n2019 [{'make': 'Honda', 'year': 2019}]\n2020 [{'make': 'BMW', 'year': 2020}, {'make': 'Nissan', 'year': 2020}]\n"
     ]
    }
   ],
   "source": [
    "# Itertools\n",
    "# groupby(iterable,key) --> Takes a) an iterable (list,dict) and b) a key that is a function that determines   # the keys for each iterable element. Groupby returns consecutive keys & groups from the selected iterable.\n",
    "\n",
    "from itertools import groupby\n",
    "\n",
    "lst=[1,2,3,4,5,6,7,8,9,10]\n",
    "print('List -->',lst)\n",
    "print('\\r')\n",
    "   \n",
    "# groupby --> 1st Example\n",
    "print('List elements greater than 5:\\n')\n",
    "res=groupby(lst,key=lambda x:x>5)\n",
    "for k,v in res:\n",
    "    print(k,list(v))\n",
    "\n",
    "# groupby -->2nd Example\n",
    "print('\\r')\n",
    "cars=[{'make':'Chevrolet','year':2017},{'make':'Honda','year':2017},{'make':'GMC','year':2018}\n",
    ",{'make':'Honda','year':2019},{'make':'BMW','year':2020},{'make':'Nissan','year':2020}]\n",
    "print('---------------------------------------------------------------------------')\n",
    "print('Car Make & Year:\\n')\n",
    "print(cars)\n",
    "print('\\r')\n",
    "print('Group cars by year:\\n')\n",
    "res1=groupby(cars,key=lambda x:x['year'])\n",
    "for k,v in res1:\n",
    "    print(k,list(v))\n"
   ]
  }
 ]
}