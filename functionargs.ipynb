{
 "metadata": {
  "language_info": {
   "codemirror_mode": {
    "name": "ipython",
    "version": 3
   },
   "file_extension": ".py",
   "mimetype": "text/x-python",
   "name": "python",
   "nbconvert_exporter": "python",
   "pygments_lexer": "ipython3",
   "version": "3.8.8-final"
  },
  "orig_nbformat": 2,
  "kernelspec": {
   "name": "python3",
   "display_name": "Python 3.8.8 64-bit ('myenv1': conda)",
   "metadata": {
    "interpreter": {
     "hash": "074149c00bb676bad396f73c55accc739f4a5a9d95b7426a540cf7db0e2c22bc"
    }
   }
  }
 },
 "nbformat": 4,
 "nbformat_minor": 2,
 "cells": [
  {
   "cell_type": "code",
   "execution_count": 8,
   "metadata": {},
   "outputs": [
    {
     "output_type": "stream",
     "name": "stdout",
     "text": [
      "Function accepts positional arguments --> multi(3,5) = 15\nFunction accepts kwargs arguments --> multi(a=3,b=5) = 15\n"
     ]
    }
   ],
   "source": [
    "# Function parameters/arguments\n",
    "\n",
    "# Function parameters --> a,b\n",
    "def multi(a,b):\n",
    "    return a*b\n",
    "# Function positional arguments --> 3,5\n",
    "print('Function is called using positional arguments --> multi(3,5) =',multi(3,5))\n",
    "# Function keyword arguments (kwargs)--> a=3,b=5\n",
    "print('Function is called using kwargs arguments --> multi(a=3,b=5) =',multi(a=3,b=5))"
   ]
  },
  {
   "cell_type": "code",
   "execution_count": 2,
   "metadata": {},
   "outputs": [
    {
     "output_type": "stream",
     "name": "stdout",
     "text": [
      "Function is called using positional arguments --> sub(10,4) = 6\nFunction is called using kwargs arguments --> sub(b=4,a=10) = 6\nFunction is called using both positional & kwargs arguments --> sub(10,b=4) = 6\n"
     ]
    }
   ],
   "source": [
    "# Function parameters/arguments\n",
    "\n",
    "# Function parameters --> a,b\n",
    "def sub(a,b):\n",
    "    return a - b\n",
    "# When using positional arguments, the order is important --> sub(10,4)\n",
    "print('Function is called using positional arguments --> sub(10,4) =',sub(10,4))\n",
    "# When using keyword arguments, the order is not important-->sub(a=10,b=4) =sub(b=4,a=10)\n",
    "print('Function is called using kwargs arguments --> sub(b=4,a=10) =',sub(b=4,a=10))\n",
    "# A function cann be called using both positional and keyword arguments-->sub(10,b=4) \n",
    "print('Function is called using both positional & kwargs arguments --> sub(10,b=4) =',sub(10,b=4))"
   ]
  },
  {
   "cell_type": "code",
   "execution_count": 7,
   "metadata": {},
   "outputs": [
    {
     "output_type": "stream",
     "name": "stdout",
     "text": [
      "Function is called with 'a' & 'b' as param 'c' with default value is not required --> sum_fun(2,3) = 10\nA new value for param 'c' can be placed when calling the function --> sum_fun(2,3,4) = 9\n"
     ]
    }
   ],
   "source": [
    "# Function parameters/arguments\n",
    "\n",
    "# Function parameters --> a,b,c\n",
    "# A function parameter can have a default argument, that is not required as input when calling the function\n",
    "def sum_fun(a,b,c=5):\n",
    "    return a + b +c\n",
    "print(\"Function is called with 'a' & 'b' as param 'c' with default value is not required --> sum_fun(2,3) =\",sum_fun(2,3))\n",
    "# The default value of a function parameter can be changed and used when calling the function\n",
    "print(\"A new value for param 'c' can be placed when calling the function --> sum_fun(2,3,4) =\",sum_fun(2,3,4))"
   ]
  },
  {
   "cell_type": "code",
   "execution_count": 22,
   "metadata": {},
   "outputs": [
    {
     "output_type": "stream",
     "name": "stdout",
     "text": [
      "Function is called with two arguments --> sum_fun(1,2) = 3\nFunction is called with three arguments --> sum_fun(1,2,3) = 6\nFunction is called with four arguments --> sum_fun(1,2,3,4) = 10\n"
     ]
    }
   ],
   "source": [
    "# Use of *args to pass non-keyword arguments.\n",
    "# The user has the choice to pass one, two or more arguments\n",
    "def sum_fun(*args):\n",
    "    sum=0\n",
    "    for x in args:\n",
    "        sum+=x\n",
    "    return sum\n",
    "print(\"Function is called with two arguments --> sum_fun(1,2) =\",sum_fun(1,2))\n",
    "print(\"Function is called with three arguments --> sum_fun(1,2,3) =\",sum_fun(1,2,3))\n",
    "print(\"Function is called with four arguments --> sum_fun(1,2,3,4) =\",sum_fun(1,2,3,4))"
   ]
  },
  {
   "cell_type": "code",
   "execution_count": 43,
   "metadata": {},
   "outputs": [
    {
     "output_type": "stream",
     "name": "stdout",
     "text": [
      "Keys and Values:\n\na 1\nb 2\nc 3\nd 4\n\n-----------------------------------------------------------------\n\nSum of arguments passed to the function:\n\nFunction is called with two arguments --> sum_fun(a=1,b=2) = 3\nFunction is called with three arguments --> sum_fun(a=1,b=2,c=3) = 6\nFunction is called with four arguments --> sum_fun(a=1,b=2,c=3,d=4) = 10\n"
     ]
    }
   ],
   "source": [
    "# Use of **kwargs to pass keyword arguments.\n",
    "# The user has the choice to pass one, two or more keyword arguments\n",
    "\n",
    "# It is important to understand that **kwargs is a dictionary of keyword arguments\n",
    "# Therefore, to print keys and values, a simple way is to iterate over the kwargs.items()\n",
    "def prnt_fun(**kwargs):\n",
    "    print('Keys and Values:\\n')\n",
    "    for k,v in kwargs.items():\n",
    "        print(k,v)\n",
    "prnt_fun(a=1,b=2,c=3,d=4)      \n",
    "print('\\r')\n",
    "print('-----------------------------------------------------------------')\n",
    "print('\\r')\n",
    "\n",
    "# Use of kwargs.values() to sum the values passed to the function \n",
    "print('Sum of arguments passed to the function:\\n')\n",
    "def sum_fun(**kwargs):\n",
    "    sum=0\n",
    "    for x in kwargs.values():\n",
    "        sum+=x\n",
    "    return sum\n",
    "print(\"Function is called with two arguments --> sum_fun(a=1,b=2) =\",sum_fun(a=1,b=2))\n",
    "print(\"Function is called with three arguments --> sum_fun(a=1,b=2,c=3) =\",sum_fun(a=1,b=2,c=3))\n",
    "print(\"Function is called with four arguments --> sum_fun(a=1,b=2,c=3,d=4) =\",sum_fun(a=1,b=2,c=3,d=4))"
   ]
  },
  {
   "cell_type": "code",
   "execution_count": 51,
   "metadata": {},
   "outputs": [
    {
     "output_type": "stream",
     "name": "stdout",
     "text": [
      "Sum of arguments passed to the function:\n"
     ]
    },
    {
     "output_type": "execute_result",
     "data": {
      "text/plain": [
       "10"
      ]
     },
     "metadata": {},
     "execution_count": 51
    }
   ],
   "source": [
    "# When passing all the different types of arguments to a function, the order should be:\n",
    "# a) positional arguments, b) arguments(*args), c) keyword arguments(**kwargs)\n",
    "\n",
    "print('Sum of arguments passed to the function:')\n",
    "def sum_fun(a,b,*args,**kwargs):\n",
    "    sum=a+b\n",
    "    for x in args:\n",
    "        sum+=x\n",
    "    for i in kwargs.values():\n",
    "        sum+=i\n",
    "    return sum\n",
    "sum_fun(1,2,3,c=4)"
   ]
  },
  {
   "cell_type": "code",
   "execution_count": 69,
   "metadata": {},
   "outputs": [
    {
     "output_type": "stream",
     "name": "stdout",
     "text": [
      "Case (*) --> Sum of arguments passed to the function:\n7\n\nCase (*args) --> Sum of arguments passed to the function:\n7\n"
     ]
    }
   ],
   "source": [
    "# Arguments passed to the function after '*' or '*args', must be only keyword arguments(**kwargs)\n",
    "# Therefore, when calling the function, both the parameter and its value have to be passed to the function\n",
    "\n",
    "# Case (*)\n",
    "print('Case (*) --> Sum of arguments passed to the function:')\n",
    "def sum_fun(a,b,*,c):\n",
    "    sum=a+b+c\n",
    "    return sum\n",
    "# Calling the function\n",
    "print(sum_fun(1,2,c=4))\n",
    "print('\\r')\n",
    "\n",
    "# Case (*args)\n",
    "print('Case (*args) --> Sum of arguments passed to the function:')\n",
    "def sum_fun(*args,a):\n",
    "    sum=a\n",
    "    for x in args:\n",
    "        sum+=x\n",
    "    return sum\n",
    "# Calling the function\n",
    "print(sum_fun(1,2,a=4))"
   ]
  },
  {
   "cell_type": "code",
   "execution_count": 80,
   "metadata": {},
   "outputs": [
    {
     "output_type": "stream",
     "name": "stdout",
     "text": [
      "Unpacking Operator '*':\n\nUnpacking (list) --> 6\nUnpacking (tuple) --> 6\nUnpacking (set) --> 6\n\nUnpacking Operator '**':\n\nUnpacking (list) --> 6\n"
     ]
    }
   ],
   "source": [
    "# Unpacking Operators \n",
    "# Unpacking allows all elements of an iterable to be passed as parameters to a function.\n",
    "# * -> Iterables (list,tuple,set)\n",
    "# ** --> Dictionary\n",
    "\n",
    "# Unpacking Operator '*'\n",
    "print(\"Unpacking Operator '*':\")\n",
    "print('\\r')\n",
    "def sum_fun(a,b,c):\n",
    "    sum=a+b+c\n",
    "    return sum\n",
    "lst=[1,2,3]\n",
    "tup=(1,2,3)\n",
    "st=set(tup)\n",
    "print('Unpacking (list) -->',sum_fun(*lst))\n",
    "print('Unpacking (tuple) -->',sum_fun(*tup))\n",
    "print('Unpacking (set) -->',sum_fun(*st))\n",
    "print('\\r')\n",
    "\n",
    "# Unpacking Operator '**'\n",
    "print(\"Unpacking Operator '**':\")\n",
    "print('\\r')\n",
    "dct={'a':1,'b':2,'c':3}\n",
    "print('Unpacking (list) -->',sum_fun(**dct))"
   ]
  },
  {
   "cell_type": "code",
   "execution_count": 98,
   "metadata": {},
   "outputs": [
    {
     "output_type": "stream",
     "name": "stdout",
     "text": [
      "Without the use of 'global', value modification inside the function does not take effect:\nVal is equal to 100\n\nWithout the use of 'global', value modification inside the function takes effect:\nVal is equal to 20\n"
     ]
    }
   ],
   "source": [
    "# Global and local variables\n",
    "# To modify the value of a local variable inside a function, the global keyword is required for the change to\n",
    "# take effect\n",
    "\n",
    "# Without the use of 'global'\n",
    "print(\"Without the use of 'global', value modification inside the function does not take effect:\")\n",
    "def test_fun():\n",
    "    val=20\n",
    "    \n",
    "val=100\n",
    "test_fun()\n",
    "print('Val is equal to',val)\n",
    "print('\\r')\n",
    "\n",
    "# With the use of 'global'\n",
    "print(\"Without the use of 'global', value modification inside the function takes effect:\")\n",
    "def test_fun():\n",
    "    global val\n",
    "    val=20\n",
    "    \n",
    "val=100\n",
    "test_fun()\n",
    "print('Val is equal to',val)"
   ]
  },
  {
   "cell_type": "code",
   "execution_count": 127,
   "metadata": {},
   "outputs": [
    {
     "output_type": "stream",
     "name": "stdout",
     "text": [
      "Original dict: {'car': ['Chevrolet'], 'year': [2018]}\nOriginal lst: [0, 2, 3, 4, 5, 6]\n\nModified dict: {'car': ['BMW', 'Ford'], 'year': [2018, 2020]}\nModified list: [1, 2, 3, 4, 5, 6, 7, 8, 9, 10]\n"
     ]
    }
   ],
   "source": [
    "# Example of Iterables(mutable) such as dictionaries and lists, where the global variable can be affected\n",
    "# from modifications that take place inside a function\n",
    "\n",
    "dct={'car':['Chevrolet'],'year':[2018]}\n",
    "lst=[0,2,3,4,5,6]\n",
    "print('Original dict:',dct)\n",
    "print('Original lst:',lst)\n",
    "print('\\r')\n",
    "def test_fun(dct,lst):\n",
    "    # Appending new elements to the dict\n",
    "    dct['car'].append('Ford') \n",
    "    dct['year'].append(2020)\n",
    "    # Changing the value of the first key\n",
    "    dct['car'][0]='BMW'\n",
    "    # Appending new element to the list\n",
    "    lst.append(7)\n",
    "    # Changing the value of the first list element\n",
    "    lst[0]=1\n",
    "    # Adding new elements to the list\n",
    "    lst+=[8,9,10]\n",
    "\n",
    "\n",
    "test_fun(dct,lst)\n",
    "print('Modified dict:',dct)\n",
    "print('Modified list:',lst)"
   ]
  }
 ]
}