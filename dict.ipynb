{
 "metadata": {
  "language_info": {
   "codemirror_mode": {
    "name": "ipython",
    "version": 3
   },
   "file_extension": ".py",
   "mimetype": "text/x-python",
   "name": "python",
   "nbconvert_exporter": "python",
   "pygments_lexer": "ipython3",
   "version": "3.9.2-final"
  },
  "orig_nbformat": 2,
  "kernelspec": {
   "name": "python3",
   "display_name": "Python 3.9.2 64-bit",
   "metadata": {
    "interpreter": {
     "hash": "407adad19d3514da6de0b3767d3a3b1f989b90f5fa3bd5e6e8c15ee36f34523b"
    }
   }
  }
 },
 "nbformat": 4,
 "nbformat_minor": 2,
 "cells": [
  {
   "cell_type": "code",
   "execution_count": 3,
   "metadata": {},
   "outputs": [
    {
     "output_type": "stream",
     "name": "stdout",
     "text": [
      "Use of {}:\n {'name': 'John', 'surname': 'Smith', 'age': 39}\n\nUse of dict:\n {'name': 'John', 'surname': 'Smith', 'age': 39}\n"
     ]
    }
   ],
   "source": [
    "# Creating a Dictionary\n",
    "\n",
    "# Use of {}\n",
    "dct_1={'name':'John','surname':'Smith','age':39}\n",
    "print('Use of {}:\\n',dct_1)\n",
    "print('\\r')\n",
    "\n",
    "# Use of dict\n",
    "dct_2=dict(name='John',surname='Smith',age=39)\n",
    "print('Use of dict:\\n',dct_2)"
   ]
  },
  {
   "cell_type": "code",
   "execution_count": 8,
   "metadata": {},
   "outputs": [
    {
     "output_type": "stream",
     "name": "stdout",
     "text": [
      "Name: John\nSurname: Smith\nAge: 39\n"
     ]
    }
   ],
   "source": [
    "# Dictionary: Printing the value of a key\n",
    "\n",
    "dct_1={'name':'John','surname':'Smith','age':39}\n",
    "print('Name:',dct_1['name'])\n",
    "print('Surname:',dct_1['surname'])\n",
    "print('Age:',dct_1['age'])"
   ]
  },
  {
   "cell_type": "code",
   "execution_count": 40,
   "metadata": {},
   "outputs": [
    {
     "output_type": "stream",
     "name": "stdout",
     "text": [
      "Printing the keys:\n\nname\nsurname\nage\n\nPrinting the values:\n\nJohn\nSmith\n39\n\nPrinting both keys and values:\n\nKey: name --> Value: John\nKey: surname --> Value: Smith\nKey: age --> Value: 39\n"
     ]
    }
   ],
   "source": [
    "# Dictionary: Printing keys and values \n",
    "\n",
    "dct_1={'name':'John','surname':'Smith','age':39}\n",
    "# Printing the keys\n",
    "print('Printing the keys:\\n')\n",
    "for k in dct_1.keys():\n",
    "    print(k)\n",
    "print('\\r')\n",
    "# Printing the values\n",
    "print('Printing the values:\\n')\n",
    "for v in dct_1.values():\n",
    "    print(v)\n",
    "print('\\r')\n",
    "# Printing both keys and values\n",
    "print('Printing both keys and values:\\n')\n",
    "for k,v in dct_1.items():\n",
    "    print('Key: {} --> Value: {}'.format(k,v))"
   ]
  },
  {
   "cell_type": "code",
   "execution_count": 34,
   "metadata": {},
   "outputs": [
    {
     "output_type": "stream",
     "name": "stdout",
     "text": [
      "John\nKeyError:  'salary'\n39\nKeyError:  'height'\n"
     ]
    }
   ],
   "source": [
    "# Dictionary: Use of try-except to find the value of a key\n",
    "\n",
    "dct_1={'name':'John','surname':'Smith','age':39}\n",
    "keys=['name','salary','age','height']\n",
    "\n",
    "for key in keys:\n",
    "    try:\n",
    "        print(dct_1[key])\n",
    "    except Exception as error:\n",
    "        print('KeyError: ',error)\n",
    "\n",
    "\n",
    "    \n"
   ]
  },
  {
   "cell_type": "code",
   "execution_count": 29,
   "metadata": {},
   "outputs": [
    {
     "output_type": "stream",
     "name": "stdout",
     "text": [
      "Value corresponding to key 'name': John\nValue corresponding to key 'salary': No such key in the dictionary\nValue corresponding to key 'age': 39\nValue corresponding to key 'height': No such key in the dictionary\n"
     ]
    }
   ],
   "source": [
    "# Dictionary: Printing the value of a key if key is in dict\n",
    "\n",
    "dct_1={'name':'John','surname':'Smith','age':39}\n",
    "keys=['name','salary','age','height']\n",
    "\n",
    "def return_dict_val(key):\n",
    "        for k, v in dct_1.items():\n",
    "            if key == k:\n",
    "                return v\n",
    "        return \"No such key in the dictionary\"\n",
    "for key in keys:\n",
    "    print(\"Value corresponding to key '{}': {}\".format(key,return_dict_val(key)))      "
   ]
  },
  {
   "cell_type": "code",
   "execution_count": 49,
   "metadata": {},
   "outputs": [
    {
     "output_type": "stream",
     "name": "stdout",
     "text": [
      "Key corresponding to value John: name\nKey corresponding to value J: No such value in the dictionary\nKey corresponding to value Smith: surname\nKey corresponding to value Smth: No such value in the dictionary\nKey corresponding to value 39: age\nKey corresponding to value 40: No such value in the dictionary\n"
     ]
    }
   ],
   "source": [
    "# Dictionary: Printing the key based on its value\n",
    "\n",
    "dct_1={'name':'John','surname':'Smith','age':39}\n",
    "values=['John','J','Smith','Smth',39,40]\n",
    "\n",
    "def return_dict_key(value):\n",
    "        for k, v in dct.items():\n",
    "            if value == v:\n",
    "                return k\n",
    "        return \"No such value in the dictionary\"\n",
    "for val in values:\n",
    "    print('Key corresponding to value {}: {}'.format(val,return_dict_key(val)))       "
   ]
  },
  {
   "cell_type": "code",
   "execution_count": 3,
   "metadata": {},
   "outputs": [
    {
     "output_type": "stream",
     "name": "stdout",
     "text": [
      "{'name': 'John', 'surname': 'Smith', 'age': 39, 'salary': 80000}\n"
     ]
    }
   ],
   "source": [
    "# Dictionary: Adding a new pair\n",
    "\n",
    "dct_1={'name':'John','surname':'Smith','age':39}\n",
    "dct_1['salary']=80000\n",
    "print(dct_1)\n"
   ]
  },
  {
   "cell_type": "code",
   "execution_count": 6,
   "metadata": {},
   "outputs": [
    {
     "output_type": "stream",
     "name": "stdout",
     "text": [
      "{'name': [['John', 'George', 'Mary']], 'surname': [['Smith', 'Doe', 'Jones']], 'age': [[39, 37, 30]]}\n"
     ]
    }
   ],
   "source": [
    "# Dictionary: Appending values \n",
    "\n",
    "# Initializing the values of each dict key as empty lists\n",
    "dct_1={'name':[],'surname':[],'age':[]}\n",
    "\n",
    "dct_1['name'].append(['John','George','Mary'])\n",
    "dct_1['surname'].append(['Smith','Doe','Jones'])\n",
    "dct_1['age'].append([39,37,30])\n",
    "print(dct_1)"
   ]
  },
  {
   "cell_type": "code",
   "execution_count": 18,
   "metadata": {},
   "outputs": [
    {
     "output_type": "stream",
     "name": "stdout",
     "text": [
      "Use of del --> {'name': 'John', 'surname': 'Smith'}\nUse of pop --> {'name': 'John', 'surname': 'Smith'}\nUse of popitem --> {'name': 'John', 'surname': 'Smith'}\n"
     ]
    }
   ],
   "source": [
    "# Dictionary: Delete dict item\n",
    "\n",
    "# Use of del\n",
    "dct_1={'name':'John','surname':'Smith','age':39}\n",
    "del dct_1['age']\n",
    "print('Use of del -->',dct_1)\n",
    "\n",
    "# Use of pop\n",
    "dct_1={'name':'John','surname':'Smith','age':39}\n",
    "dct_1.pop('age')\n",
    "print('Use of pop -->',dct_1)\n",
    "\n",
    "# Use of popitem to remove the last dict item\n",
    "dct_1={'name':'John','surname':'Smith','age':39}\n",
    "dct_1.popitem()\n",
    "print('Use of popitem -->',dct_1)\n"
   ]
  },
  {
   "cell_type": "code",
   "execution_count": 55,
   "metadata": {},
   "outputs": [
    {
     "output_type": "stream",
     "name": "stdout",
     "text": [
      "Updated dct_1:\n {'name': 'George', 'surname': 'Jones', 'age': 39, 'salary': 100000}\n"
     ]
    }
   ],
   "source": [
    "# Dictionary: update dict\n",
    "\n",
    "# Use of update()\n",
    "dct_1={'name':'John','surname':'Smith','age':39}\n",
    "dct_2={'name':'George','surname':'Jones','salary':100000}\n",
    "dct_1.update(dct_2)\n",
    "print('Updated dct_1:\\n',dct_1)"
   ]
  },
  {
   "cell_type": "code",
   "execution_count": 53,
   "metadata": {},
   "outputs": [
    {
     "output_type": "stream",
     "name": "stdout",
     "text": [
      "Case dict_copy=original dict:\n\nOriginal dict: {'name': 'John', 'surname': 'Smith', 'age': 39}\nNew dict: {'name': 'John', 'surname': 'Smith', 'age': 39, 'salary': 100000}\nChanges apply to the original dict: {'name': 'John', 'surname': 'Smith', 'age': 39, 'salary': 100000}\n\n-----------------------------------------------------\n\nCase dict_copy=original dict.copy():\n\nOriginal dict: {'name': 'John', 'surname': 'Smith', 'age': 39}\nNew dict: {'name': 'John', 'surname': 'Smith', 'age': 39, 'salary': 100000}\nUse of copy() --> Changes do not apply to the original dict: {'name': 'John', 'surname': 'Smith', 'age': 39}\n\n-----------------------------------------------------\n\nCase dict_copy=dict(original dict):\n\nOriginal dict: {'name': 'John', 'surname': 'Smith', 'age': 39}\nNew dict: {'name': 'John', 'surname': 'Smith', 'age': 39, 'salary': 100000}\nUse of dict() --> Changes do not apply to the original dict: {'name': 'John', 'surname': 'Smith', 'age': 39}\n"
     ]
    }
   ],
   "source": [
    "# Dictionary: Use of copy() & dict()\n",
    "\n",
    "\n",
    "# dct_new=dct_1\n",
    "# Without the use of copy() or dict() any modifications to the new dict apply to the original dict as well\n",
    "print('Case dict_copy=original dict:')\n",
    "print('\\r')\n",
    "dct_1={'name':'John','surname':'Smith','age':39}\n",
    "print('Original dict:',dct_1)\n",
    "dct_new=dct_1\n",
    "dct_new['salary']=100000\n",
    "print('New dict:',dct_new)\n",
    "print('Changes apply to the original dict:',dct_1)\n",
    "print('\\r')\n",
    "print('-----------------------------------------------------')\n",
    "print('\\r')\n",
    "\n",
    "# dct_new=dct_1.copy() --> modifications to the new dict do not apply to the original dict \n",
    "print('Case dict_copy=original dict.copy():')\n",
    "print('\\r')\n",
    "dct_1={'name':'John','surname':'Smith','age':39}\n",
    "print('Original dict:',dct_1)\n",
    "dct_new=dct_1.copy()\n",
    "dct_new['salary']=100000\n",
    "print('New dict:',dct_new)\n",
    "print('Use of copy() --> Changes do not apply to the original dict:',dct_1)\n",
    "print('\\r')\n",
    "print('-----------------------------------------------------')\n",
    "print('\\r')\n",
    "\n",
    "# dct_new=dict(dct_1) --> modifications to the new dict do not apply to the original dict \n",
    "print('Case dict_copy=dict(original dict):')\n",
    "print('\\r')\n",
    "dct_1={'name':'John','surname':'Smith','age':39}\n",
    "print('Original dict:',dct_1)\n",
    "dct_new=dict(dct_1)\n",
    "dct_new['salary']=100000\n",
    "print('New dict:',dct_new)\n",
    "print('Use of dict() --> Changes do not apply to the original dict:',dct_1)\n"
   ]
  }
 ]
}