{
 "cells": [
  {
   "cell_type": "markdown",
   "metadata": {},
   "source": [
    "from collections import Counter\n",
    "\n",
    "n=int(input())\n",
    "\n",
    "c=Counter(map(int,input().strip().split()))\n",
    "print(c)\n",
    "ans=0\n",
    "\n",
    "for x in c:\n",
    "    ans+=c[x]//2\n",
    "    \n",
    "print(ans)\n",
    "    "
   ]
  },
  {
   "cell_type": "code",
   "execution_count": 2,
   "metadata": {},
   "outputs": [
    {
     "name": "stdout",
     "output_type": "stream",
     "text": [
      "6\n",
      "1 1 2 2 3 4\n",
      "2\n"
     ]
    }
   ],
   "source": [
    "n=int(input())\n",
    "\n",
    "c=list(map(int,input().strip().split()))\n",
    "\n",
    "cc={}\n",
    "ans=0\n",
    "\n",
    "for i in c:\n",
    "    cc[i]=cc.get(i,0)+1\n",
    "    \n",
    "for x in cc:\n",
    "    ans+=cc[x]//2\n",
    "    \n",
    "print(ans)"
   ]
  },
  {
   "cell_type": "code",
   "execution_count": 3,
   "metadata": {},
   "outputs": [
    {
     "name": "stdout",
     "output_type": "stream",
     "text": [
      "12\n",
      "DDUUUUDDDDUU\n",
      "2\n"
     ]
    }
   ],
   "source": [
    "n=int(input())\n",
    "s=input()\n",
    "level=0\n",
    "valleys=0\n",
    "\n",
    "for x in s:\n",
    "    if x=='U':\n",
    "        level+=1\n",
    "        if level==0:\n",
    "            valleys+=1\n",
    "    else:\n",
    "        level-=1\n",
    "        \n",
    "print(valleys)\n",
    "            "
   ]
  },
  {
   "cell_type": "code",
   "execution_count": 4,
   "metadata": {},
   "outputs": [
    {
     "name": "stdout",
     "output_type": "stream",
     "text": [
      "6\n",
      "0 1 0 0 1 0\n",
      "[0, 1, 1, 2, 6, 3]\n",
      "3\n"
     ]
    }
   ],
   "source": [
    "n=int(input())\n",
    "c=list(map(int,input().strip().split()))\n",
    "d=[n]*n\n",
    "\n",
    "d[0]=0\n",
    "\n",
    "if c[1]==1:\n",
    "    d[1]=1\n",
    "    \n",
    "for i in range(2,n):\n",
    "    if c[i]==0:\n",
    "        d[i]=min(d[i-1],d[i-2])+1\n",
    "\n",
    "print(d)\n",
    "print(d[n-1])"
   ]
  },
  {
   "cell_type": "code",
   "execution_count": 5,
   "metadata": {},
   "outputs": [
    {
     "name": "stdout",
     "output_type": "stream",
     "text": [
      "6\n",
      "0 1 0 0 1 0\n",
      "3\n"
     ]
    }
   ],
   "source": [
    "n=int(input())\n",
    "c=list(map(int,input().strip().split()))\n",
    "\n",
    "current=0\n",
    "steps=0\n",
    "\n",
    "while current <n-1:\n",
    "    if current+2<n and c[current+2]==0:\n",
    "        current+=2\n",
    "        steps+=1\n",
    "    else:\n",
    "        current+=1\n",
    "        steps+=1\n",
    "print(steps)"
   ]
  },
  {
   "cell_type": "code",
   "execution_count": 6,
   "metadata": {},
   "outputs": [
    {
     "name": "stdout",
     "output_type": "stream",
     "text": [
      "13\n",
      "abba\n",
      "7\n"
     ]
    }
   ],
   "source": [
    "n=int(input())\n",
    "s=input()\n",
    "L=len(s)\n",
    "\n",
    "print(s.count('a')*(n//L)+ s[:n%L].count('a'))"
   ]
  },
  {
   "cell_type": "code",
   "execution_count": 8,
   "metadata": {},
   "outputs": [
    {
     "name": "stdout",
     "output_type": "stream",
     "text": [
      "1 1 1 0 0 0\n",
      "0 1 0 0 0 0\n",
      "1 1 1 0 0 0\n",
      "0 2 4 4 0 0\n",
      "0 0 0 0 1 0\n",
      "0 0 1 2 4 0\n",
      "[7, 4, 2, 0, 8, 12, 8, 4, 5, 6, 6, 1, 7, 13, 15, 11]\n",
      "15\n"
     ]
    }
   ],
   "source": [
    "def read_input():\n",
    "    arr=[]\n",
    "    \n",
    "    for i in range(6):\n",
    "            arr.append([int(x) for x in input().strip().split()])\n",
    "            \n",
    "    return arr\n",
    "\n",
    "def sum_hourglass(i,j,arr):\n",
    "    cur_sum=0\n",
    "    cur_sum+=sum(arr[i][j:j+3])\n",
    "    cur_sum+=arr[i+1][j+1]\n",
    "    cur_sum+=sum(arr[i+2][j:j+3])\n",
    "    return cur_sum\n",
    "\n",
    "arr=read_input()\n",
    "\n",
    "result=[sum_hourglass(i,j,arr) for i in range(4) for j in range(4)]\n",
    "print(result)\n",
    "print(max(result))"
   ]
  },
  {
   "cell_type": "code",
   "execution_count": 9,
   "metadata": {},
   "outputs": [
    {
     "name": "stdout",
     "output_type": "stream",
     "text": [
      "1 2 3 4 \n",
      "5 6 \n",
      "7 8 9 \n"
     ]
    }
   ],
   "source": [
    "a = [[1, 2, 3, 4], [5, 6], [7, 8, 9]]\n",
    "for row in a:\n",
    "    for elem in row:\n",
    "        print(elem,end=' ')\n",
    "    print()"
   ]
  },
  {
   "cell_type": "code",
   "execution_count": 10,
   "metadata": {},
   "outputs": [
    {
     "name": "stdout",
     "output_type": "stream",
     "text": [
      "5 3\n",
      "1 2 3 4 5\n",
      "4 5 1 2 3\n"
     ]
    }
   ],
   "source": [
    "def array_left_rotation(arr,k):\n",
    "    arr=list(arr)\n",
    "    return arr[k:]+arr[:k]\n",
    "\n",
    "n,k=map(int,input().strip().split())\n",
    "arr=map(int,input().strip().split())\n",
    "\n",
    "answer=array_left_rotation(arr,k)\n",
    "print(*answer,sep=' ')\n",
    "    "
   ]
  },
  {
   "cell_type": "code",
   "execution_count": 19,
   "metadata": {
    "scrolled": true
   },
   "outputs": [
    {
     "name": "stdout",
     "output_type": "stream",
     "text": [
      "2\n",
      "5\n",
      "3 5 6 76 2 4\n",
      "N does not match with the length of the array\n"
     ]
    }
   ],
   "source": [
    "for _ in range(int(input())):\n",
    "    n=int(input())\n",
    "    q=list(map(int,input().strip().split()))\n",
    "    if n==len(q):\n",
    "        bribes=0\n",
    "        valid=True\n",
    "        for i in reversed(range(len(q))):\n",
    "            v=i+1\n",
    "\n",
    "            if q[-1]==v:\n",
    "                q.pop(-1)\n",
    "\n",
    "            elif len(q)>1 and q[-2]==v:\n",
    "                q.pop(-2)\n",
    "                bribes+=1\n",
    "            elif len(q)>2 and q[-3]==v:\n",
    "                q.pop(-3)\n",
    "                bribes+=2\n",
    "            else:\n",
    "                valid=False\n",
    "                break\n",
    "\n",
    "        if valid==True:\n",
    "                print(\"The number of bribes are {0}\".format(bribes))\n",
    "        else:\n",
    "                print('This move is against the rules')\n",
    "\n",
    "    else:\n",
    "        print('N does not match with the length of the array')\n",
    "        break\n",
    "    \n",
    "    "
   ]
  },
  {
   "cell_type": "code",
   "execution_count": 56,
   "metadata": {},
   "outputs": [
    {
     "name": "stdout",
     "output_type": "stream",
     "text": [
      "1 2 3 4\n",
      "The array summation is equal to 10\n",
      "Sum of the array is  10\n"
     ]
    }
   ],
   "source": [
    "# SUM OF ARRAY\n",
    "\n",
    "def sum_arr(arr):\n",
    "    return sum(arr)\n",
    "\n",
    "arr=list(map(int,input().strip().split()))\n",
    "\n",
    "answer=sum_arr(arr)\n",
    "\n",
    "print(\"The array summation is equal to {0}\".format(answer))\n",
    "print ('Sum of the array is ',answer) "
   ]
  },
  {
   "cell_type": "code",
   "execution_count": 70,
   "metadata": {},
   "outputs": [
    {
     "name": "stdout",
     "output_type": "stream",
     "text": [
      "8264 63458 3635 3635 2799 625\n",
      "Maximum number in the array is 63458\n"
     ]
    }
   ],
   "source": [
    "#Find the largest element in an array\n",
    "\n",
    "def find_max(array,n):\n",
    "    \n",
    "    max=array[0]\n",
    "    for i in range(1,n):\n",
    "        if array[i]>max:\n",
    "            max=array[i]\n",
    "    return max\n",
    "        \n",
    "array=[int(x) for x in input().strip().split()]\n",
    "n=len(array)\n",
    "answer=find_max(array,n)\n",
    "print(\"Maximum number in the array is {0}\".format(answer))"
   ]
  },
  {
   "cell_type": "code",
   "execution_count": 78,
   "metadata": {},
   "outputs": [
    {
     "name": "stdout",
     "output_type": "stream",
     "text": [
      "1 2 3 4 5 6 7 8\n",
      "3\n",
      "4 5 6 7 8 1 2 3 "
     ]
    }
   ],
   "source": [
    "#Left Array Rotation\n",
    "\n",
    "def array_left_rotation(arr,d,n):\n",
    "     for i in range(d):\n",
    "            array_rotate(arr,n)\n",
    "            \n",
    "def array_rotate(arr,n):\n",
    "    temp=arr[0]\n",
    "    for i in range(n-1):\n",
    "        arr[i]=arr[i+1]\n",
    "    arr[n-1]=temp\n",
    "    \n",
    "def print_arr(arr):\n",
    "    for i in range(len(arr)):\n",
    "        print(\"%d\"% arr[i],end=' ')\n",
    "        \n",
    "arr=[int(x) for x in input().strip().split()]\n",
    "d=int(input())\n",
    "n=len(arr)\n",
    "array_left_rotation(arr,d,n)\n",
    "print_arr(arr)"
   ]
  },
  {
   "cell_type": "code",
   "execution_count": 80,
   "metadata": {},
   "outputs": [
    {
     "name": "stdout",
     "output_type": "stream",
     "text": [
      "3\n",
      "1 2 3 4 5 6 7 8 9 10\n",
      "4 5 6 7 8 9 10 1 2 3 "
     ]
    }
   ],
   "source": [
    "#Reverse Algorithm for array rotation\n",
    "\n",
    "def array_reverse(arr,start,end):\n",
    "    while start<end:\n",
    "        temp=arr[start]\n",
    "        arr[start]=arr[end]\n",
    "        arr[end]=temp\n",
    "        start+=1\n",
    "        end-=1\n",
    "\n",
    "def array_rotate(arr,d):\n",
    "    n=len(arr)\n",
    "    array_reverse(arr,0,d-1)\n",
    "    array_reverse(arr,d,n-1)\n",
    "    array_reverse(arr,0,n-1)\n",
    "    \n",
    "def print_arr(arr):\n",
    "    for i in range(len(arr)):\n",
    "        print(\"%d\"%arr[i],end=' ')\n",
    "\n",
    "d=int(input())\n",
    "arr=[int(x) for x in input().strip().split()]\n",
    "array_rotate(arr,d)\n",
    "print_arr(arr)\n",
    "    "
   ]
  },
  {
   "cell_type": "code",
   "execution_count": 81,
   "metadata": {},
   "outputs": [
    {
     "name": "stdout",
     "output_type": "stream",
     "text": [
      "3\n",
      "1 2 3 4 5 6 7 8 9 10 11 12 13\n",
      "4 5 6 7 8 9 10 11 12 13 1 2 3 "
     ]
    }
   ],
   "source": [
    "# Array rotation 2\n",
    "def array_rotate(arr,d,n):\n",
    "    for i in range(d):\n",
    "        temp=arr[0]\n",
    "        for i in range(n-1):\n",
    "            arr[i]=arr[i+1]\n",
    "        arr[n-1]=temp\n",
    "        \n",
    "def print_arr(arr):\n",
    "    for i in range(len(arr)):\n",
    "        print(\"%d\"%arr[i],end=' ')\n",
    "\n",
    "d=int(input())\n",
    "arr=[int(x) for x in input().strip().split()]\n",
    "n=len(arr)\n",
    "\n",
    "array_rotate(arr,d,n)\n",
    "print_arr(arr)"
   ]
  },
  {
   "cell_type": "code",
   "execution_count": 85,
   "metadata": {},
   "outputs": [
    {
     "name": "stdout",
     "output_type": "stream",
     "text": [
      "11\n",
      "100 10 5 25 35 14\n",
      "The remainder of array multiplication divided by 11 is 9\n"
     ]
    }
   ],
   "source": [
    "#find the remainder of array multiplication divided by N\n",
    "\n",
    "def arr_mult(arr,N):\n",
    "    mul=1\n",
    "    for i in range(n):\n",
    "        mul=(mul*(arr[i]%N))%N\n",
    "        \n",
    "    return mul\n",
    "\n",
    "N=int(input())\n",
    "arr=[int(x) for x in input().strip().split()]\n",
    "n=len(arr)\n",
    "\n",
    "\n",
    "print(\"The remainder of array multiplication divided by {0} is {1}\".format(N,arr_mult(arr,N)))"
   ]
  },
  {
   "cell_type": "code",
   "execution_count": 93,
   "metadata": {},
   "outputs": [
    {
     "name": "stdout",
     "output_type": "stream",
     "text": [
      "7\n",
      "5 -1 -1 1 2 3\n",
      "5 6 0 1 2 3\n"
     ]
    }
   ],
   "source": [
    "# array reconstruction\n",
    "\n",
    "def construct(arr,m):\n",
    "    ind=0\n",
    "    n=len(arr)\n",
    "    for i in range(n):\n",
    "        if arr[i]!=-1:\n",
    "            ind=i\n",
    "            break\n",
    "            \n",
    "    for i in range(ind-1,-1,-1):\n",
    "        if arr[i]==-1:\n",
    "            arr[i]=(arr[i + 1]-1 + m)% m\n",
    "\n",
    "    for i in range(ind+1,n):\n",
    "        if arr[i]==-1:\n",
    "            arr[i]=(arr[i-1]+1)%m\n",
    "     \n",
    "    print(*arr)\n",
    "m=int(input())\n",
    "arr=[int(x) for x in input().strip().split()]\n",
    "\n",
    "construct(arr,m)\n"
   ]
  },
  {
   "cell_type": "code",
   "execution_count": 97,
   "metadata": {},
   "outputs": [
    {
     "name": "stdout",
     "output_type": "stream",
     "text": [
      "5 3 1 2\n",
      "No it is not\n"
     ]
    }
   ],
   "source": [
    "#check whether a function is monotonic\n",
    "def ismonotonic(A):\n",
    "    return (all(A[i]<A[i+1] for i in range(len(A)-1)) or \n",
    "            all(A[i]>A[i+1] for i in range(len(A)-1)))\n",
    "\n",
    "A=[int(x) for x in input().strip().split()]\n",
    "\n",
    "if ismonotonic(A):\n",
    "    print(\" Yes it is\")\n",
    "else:\n",
    "    print(\"No it is not\")\n",
    "\n"
   ]
  },
  {
   "cell_type": "code",
   "execution_count": null,
   "metadata": {},
   "outputs": [],
   "source": [
    "#Interchange first and last element in a list"
   ]
  },
  {
   "cell_type": "code",
   "execution_count": 101,
   "metadata": {},
   "outputs": [
    {
     "name": "stdout",
     "output_type": "stream",
     "text": [
      "5 3\n",
      "1 2 100\n",
      "{1: 100, 3: -100}\n",
      "2 5 100\n",
      "{1: 100, 3: -100, 2: 100, 6: -100}\n",
      "3 4 100\n",
      "{1: 100, 3: 0, 2: 100, 6: -100, 5: -100}\n",
      "200\n"
     ]
    }
   ],
   "source": [
    "N,M = [int(_) for _ in input().split(' ')]\n",
    "\n",
    "Is = {}\n",
    "for m in range(M) :\n",
    "    a,b,k = [int(_) for _ in input().strip().split(' ')]\n",
    "    if k == 0 :\n",
    "        continue\n",
    "    Is[a] = Is.get(a,0) + k\n",
    "    Is[b+1] = Is.get(b+1,0) - k\n",
    "    print(Is)\n",
    "m,v = 0,0\n",
    "for i in sorted(Is) :\n",
    "    v += Is[i]\n",
    "    \n",
    "    if v > m :\n",
    "        m = v\n",
    "\n",
    "print(m)"
   ]
  },
  {
   "cell_type": "code",
   "execution_count": 42,
   "metadata": {},
   "outputs": [
    {
     "name": "stdout",
     "output_type": "stream",
     "text": [
      "3\n"
     ]
    }
   ],
   "source": [
    "def minSwaps(arr): \n",
    "    n = len(arr) \n",
    "      \n",
    "    # Create two arrays and use  \n",
    "    # as pairs where first array  \n",
    "    # is element and second array \n",
    "    # is position of first element \n",
    "    arrpos = [*enumerate(arr)] \n",
    "      \n",
    "    # Sort the array by array element  \n",
    "    # values to get right position of  \n",
    "    # every element as the elements  \n",
    "    # of second array. \n",
    "    arrpos.sort(key = lambda it:it[1]) \n",
    "      \n",
    "    # To keep track of visited elements.  \n",
    "    # Initialize all elements as not  \n",
    "    # visited or false. \n",
    "    vis = {k:False for k in range(n)} \n",
    "      \n",
    "    # Initialize result \n",
    "    ans = 0\n",
    "    for i in range(n): \n",
    "          \n",
    "        # alreadt swapped or  \n",
    "        # alreadt present at  \n",
    "        # correct position \n",
    "        if vis[i] or arrpos[i][0] == i: \n",
    "            continue\n",
    "              \n",
    "        # find number of nodes  \n",
    "        # in this cycle and \n",
    "        # add it to ans \n",
    "        cycle_size = 0\n",
    "        j = i \n",
    "        while not vis[j]: \n",
    "              \n",
    "            # mark node as visited \n",
    "            vis[j] = True\n",
    "              \n",
    "            # move to next node \n",
    "            j = arrpos[j][0] \n",
    "            cycle_size += 1\n",
    "              \n",
    "        # update answer by adding \n",
    "        # current cycle \n",
    "        if cycle_size > 0: \n",
    "            ans += (cycle_size - 1) \n",
    "    # return answer \n",
    "    return ans \n",
    "  \n",
    "# Driver Code      \n",
    "arr = [10, 7, 9, 6, 8] \n",
    "print(minSwaps(arr)) "
   ]
  },
  {
   "cell_type": "code",
   "execution_count": 111,
   "metadata": {},
   "outputs": [
    {
     "name": "stdout",
     "output_type": "stream",
     "text": [
      "[5, 2, 3, 4, 1]\n"
     ]
    }
   ],
   "source": [
    "# change the first and last item of a list\n",
    "'''\n",
    "def swap(newlist):\n",
    "    temp=newlist[0]\n",
    "    newlist[0]=newlist[-1]\n",
    "    newlist[-1]=temp\n",
    "    \n",
    "    return newlist\n",
    "\n",
    "newlist=[1,2,3,4,5,6,7]\n",
    "n=len(newlist)\n",
    "\n",
    "answer=swap(newlist)\n",
    "print(*answer)\n",
    "    \n",
    "#second solution\n",
    "def swap(newlist):\n",
    "    newlist[0],newlist[-1]=newlist[-1],newlist[0]\n",
    "    return newlist\n",
    "\n",
    "newlist=[1,2,3,4,5]\n",
    "answer=swap(newlist)\n",
    "print(*answer)\n",
    "\n",
    "# third solution\n",
    "def swap(newlist):\n",
    "    get=newlist[0],newlist[-1]\n",
    "    newlist[-1],newlist[0]=get\n",
    "    return newlist\n",
    "newlist=[1,2,3,4,5]\n",
    "answer=swap(newlist)\n",
    "print(answer)   \n",
    "\n",
    "#4th solution\n",
    "def swap(newlist):\n",
    "    a,*b,c=newlist\n",
    "    newlist=[c,*b,a]\n",
    "    return newlist\n",
    "\n",
    "newlist=[1,2,3,4,5]\n",
    "answer=swap(newlist)\n",
    "print(answer)'''\n",
    "\n",
    "#5th solution\n",
    "def swap(newlist):\n",
    "    a=newlist.pop(0)\n",
    "    b=newlist.pop(-1)\n",
    "    newlist.insert(0,b)\n",
    "    newlist.append(a)\n",
    "    return newlist\n",
    "\n",
    "newlist=[1,2,3,4,5]\n",
    "answer=swap(newlist)\n",
    "print(answer)"
   ]
  },
  {
   "cell_type": "code",
   "execution_count": 118,
   "metadata": {},
   "outputs": [
    {
     "name": "stdout",
     "output_type": "stream",
     "text": [
      "[34, 23, 76, 6, 35, 34, 64]\n"
     ]
    }
   ],
   "source": [
    "#swap elements of a list\n",
    "#first solution\n",
    "\"\"\"\n",
    "def swap_list(newlist,pos1,pos2):\n",
    "    a=newlist.pop(pos1)\n",
    "    b=newlist.pop(pos2-1)\n",
    "    \n",
    "    newlist.insert(pos1,b)\n",
    "    newlist.insert(pos2,a)\n",
    "    \n",
    "    return newlist\n",
    "\n",
    "newlist=[10,23,13,64,35,86]\n",
    "pos1=3\n",
    "pos2=4\n",
    "\n",
    "answer=swap_list(newlist,pos1-1,pos2-1)\n",
    "print(*answer)\"\"\"\n",
    "\n",
    "#second solution\n",
    "\"\"\"\n",
    "def swap_list(alist,pos1,pos2):\n",
    "    newlist[pos1],newlist[pos2]=newlist[pos2],newlist[pos1]\n",
    "    return newlist\n",
    "\n",
    "newlist=[13,21,32,24,58,56]\n",
    "pos1=3\n",
    "pos2=4\n",
    "\n",
    "answer=swap_list(newlist,pos1-1,pos2-1)\n",
    "print(answer)\"\"\"\n",
    "\n",
    "#third solution\n",
    "\n",
    "def swap_list(newlist,pos1,pos2):\n",
    "    get=newlist[pos2],newlist[pos1]\n",
    "    newlist[pos1],newlist[pos2]=get\n",
    "    return newlist\n",
    "pos1=3\n",
    "pos2=4\n",
    "newlist=[34,23,6,76,35,34,64]\n",
    "answer=swap_list(newlist,pos1-1,pos2-1)\n",
    "print(answer)"
   ]
  },
  {
   "cell_type": "code",
   "execution_count": 151,
   "metadata": {},
   "outputs": [
    {
     "name": "stdout",
     "output_type": "stream",
     "text": [
      "['George', 'is', 'a', 'fucking', 'asshole', '!', '!', '!']\n",
      "George is a fucking asshole ! ! !\n"
     ]
    }
   ],
   "source": [
    "#remove occurence of the nth word\n",
    "\"\"\"\n",
    "def remove_occur(arr,word,N):\n",
    "    count=0\n",
    "    arr=arr.split()\n",
    "    for i in range(len(arr)-1):\n",
    "        if arr[i]==word:\n",
    "            count+=1\n",
    "            if count==N:\n",
    "                del(arr[i])\n",
    "                \n",
    "    return arr\n",
    "\n",
    "arr=\"George is a George fucking  asshole ! ! !\"\n",
    "word='George'\n",
    "N=2\n",
    " \n",
    "answer=remove_occur(arr,word,N)\n",
    "print(answer)\n",
    "print(*answer)\"\"\"\n",
    "\n",
    "#second solution\n",
    "\n",
    "def remove_occur(arr,word,N):\n",
    "    arr=arr.split()\n",
    "    newarr=[]\n",
    "    count=0\n",
    "    \n",
    "    for i in arr:\n",
    "        if i==word:\n",
    "            count+=1\n",
    "            if count!=N:\n",
    "                newarr.append(i)\n",
    "        else:\n",
    "            newarr.append(i)\n",
    "    arr=newarr\n",
    "    return arr\n",
    "            \n",
    "arr=\"George is a George fucking asshole ! ! !\"\n",
    "\n",
    "N=2\n",
    "word='George'\n",
    "answer=remove_occur(arr,word,N)\n",
    "print(answer)\n",
    "print(*answer)\n",
    "\n",
    "    \n",
    "    \n",
    "    \n",
    "    \n",
    "    \n",
    "\n",
    "    \n",
    "    \n",
    "    \n",
    "    \n",
    "    "
   ]
  },
  {
   "cell_type": "code",
   "execution_count": 196,
   "metadata": {},
   "outputs": [
    {
     "name": "stdout",
     "output_type": "stream",
     "text": [
      "1\n",
      "2\n",
      "3\n",
      "4\n",
      "5\n",
      "6\n",
      "7\n",
      "0.000000000\n",
      "0.001009226\n"
     ]
    }
   ],
   "source": [
    "#find the length of list\n",
    "\n",
    "list=[1,2,3,4,5,6,7]\n",
    "#first solution\n",
    "\"\"\"\n",
    "a=len(list)\n",
    "print(a)\"\"\"\n",
    "count=0\n",
    "#second solution\n",
    "\"\"\"\n",
    "for i in list:\n",
    "    count+=1\n",
    "    print(count)\"\"\"\n",
    "\n",
    "#third solution - execution time comparison for two different methods\n",
    "\n",
    "from operator import length_hint\n",
    "import time\n",
    "\n",
    "starttimeone=time.time()\n",
    "for i in list:\n",
    "    count+=1\n",
    "    print(count)\n",
    "endtimeone=(time.time()-starttimeone)\n",
    "print(\"%.9f\" % endtimeone)\n",
    "starttimetwo=time.time()\n",
    "length_list=length_hint(list)\n",
    "endtimetwo=(time.time()-starttimeone)\n",
    "print(\"%.9f\" % endtimetwo)\n"
   ]
  },
  {
   "cell_type": "code",
   "execution_count": 197,
   "metadata": {},
   "outputs": [
    {
     "name": "stdout",
     "output_type": "stream",
     "text": [
      "Element Exists\n"
     ]
    }
   ],
   "source": [
    "#check if element exists in a list by use of set \n",
    "test_list_set = [ 1, 6, 3, 5, 3, 4 ] \n",
    "test_list_set = set(test_list_set) \n",
    "if 4 in test_list_set : \n",
    "    print (\"Element Exists\") "
   ]
  },
  {
   "cell_type": "code",
   "execution_count": 226,
   "metadata": {},
   "outputs": [
    {
     "name": "stdout",
     "output_type": "stream",
     "text": [
      "[1, 2, 4, 6, 8, 9, 10]\n"
     ]
    }
   ],
   "source": [
    "#clear a list\n",
    "list=[1,2,3,4,5,6]\n",
    "\n",
    "#1 solution\n",
    "'''\n",
    "list.clear()\n",
    "print(list)\n",
    "'''\n",
    "#2 solution\n",
    "'''\n",
    "list=[]\n",
    "print(list)'''\n",
    "\n",
    "#3 solution\n",
    "'''\n",
    "list*=0\n",
    "print(list)'''\n",
    "\n",
    "# 4 solution\n",
    "'''\n",
    "del list[:]\n",
    "print(list)'''\n",
    "\n",
    "list1=[1,2,3,4,5,6,7,8,9,10]\n",
    "\n",
    "del list1[2:8:2]\n",
    "print(list1)"
   ]
  },
  {
   "cell_type": "code",
   "execution_count": 285,
   "metadata": {},
   "outputs": [
    {
     "name": "stdout",
     "output_type": "stream",
     "text": [
      "10 9 8 7 6 5 4 3 2 1 "
     ]
    }
   ],
   "source": [
    "#reverse a list\n",
    "\n",
    "list1=[1,2,3,4,5,6,7,8,9,10]\n",
    "#first solution\n",
    "'''\n",
    "rev=list1[::-1]\n",
    "list2=list1[2:5:1]#positive step\n",
    "list3=list1[9:2:-2] #negative step\n",
    "print(rev)\n",
    "print(list2)\n",
    "print(list3)'''\n",
    "\n",
    "#second solution\n",
    "'''\n",
    "list1.reverse()\n",
    "print(list1)'''\n",
    "#third solution\n",
    "for x in reversed(list1):\n",
    "    print(x,end=' ')\n",
    "    \n"
   ]
  },
  {
   "cell_type": "code",
   "execution_count": 311,
   "metadata": {},
   "outputs": [
    {
     "name": "stdout",
     "output_type": "stream",
     "text": [
      "[1, 2, 3, 4, 5, 6]\n",
      "[1, 2, 3, 4, 5, 6]\n",
      "[1, 2, 3, 4, 5, 6]\n",
      "[1, 2, 3, 4, 5, 6]\n"
     ]
    }
   ],
   "source": [
    "#cloning-copying a list\n",
    "\"\"\"\n",
    "timebegin=time.time()\n",
    "def clonelist(list1):\n",
    "    list2=list1[:]\n",
    "    return list2\n",
    "timeend=(time.time()-timebegin)\n",
    "list1=[1,2,3,4,5,6]\n",
    "print(list1)\n",
    "print(clonelist(list1))\n",
    "print(\"%.5f\" % timeend)\"\"\"\n",
    "\n",
    "# or'\n",
    "\n",
    "list1=[1,2,3,4,5,6]\n",
    "list2=[]\n",
    "list2.extend(list1)\n",
    "list3=list1.copy()\n",
    "list4=[]\n",
    "for i in list1:\n",
    "    list4.append(i)\n",
    "list5=[x for x in list1]\n",
    "print(list2)\n",
    "print(list3)\n",
    "print(list4)\n",
    "print(list5)"
   ]
  },
  {
   "cell_type": "code",
   "execution_count": 322,
   "metadata": {},
   "outputs": [
    {
     "name": "stdout",
     "output_type": "stream",
     "text": [
      "4\n",
      "Counter({7: 4, 5: 2, 4: 2, 10: 1, 8: 1, 3: 1})\n"
     ]
    }
   ],
   "source": [
    "#count occurences of an element in a list\n",
    "\n",
    "list1=[10,8,5,7,3,5,7,4,7,4,7]\n",
    "#first solution\n",
    "'''\n",
    "count=0\n",
    "for i in list1:\n",
    "    if i==7:\n",
    "        count+=1\n",
    "print(count)'''\n",
    "\n",
    "#second solution\n",
    "'''\n",
    "print(list1.count(7))'''\n",
    "\n",
    "#third solution\n",
    "from collections import Counter\n",
    "x=Counter(list1)\n",
    "print(x[7])\n",
    "print(x)"
   ]
  },
  {
   "cell_type": "code",
   "execution_count": 337,
   "metadata": {},
   "outputs": [
    {
     "name": "stdout",
     "output_type": "stream",
     "text": [
      "Sum of all elements in given list:  15\n"
     ]
    }
   ],
   "source": [
    "#sum of list elements\n",
    "list1 = [1, 5, 2, 4, 3] \n",
    "#first solution\n",
    "'''  \n",
    "# using sum() function \n",
    "total = sum(list1) \n",
    "  \n",
    "# printing total value \n",
    "print(\"Sum of all elements in given list: \", total) '''\n",
    "#second solution\n",
    "'''\n",
    "sum=0\n",
    "for i in list1:\n",
    "    sum+=i\n",
    "print(\"Sum of all elements in given list: \"+str(sum))'''\n",
    "\n",
    "#third solution\n",
    "'''\n",
    "total=0\n",
    "for i in range(len(list1)):\n",
    "    total+= list1[i]\n",
    "print(total)'''\n",
    "\n",
    "#4th solution\n",
    "\"\"\"\n",
    "total=0\n",
    "i=0\n",
    "while i<(len(list1)):\n",
    "    total+=list1[i]\n",
    "    i+=1\n",
    "\n",
    "print(total)\"\"\"\n",
    "\n",
    "#5th solution\n",
    "def sumOfList(list, size): \n",
    "   if (size == 0): \n",
    "     return 0\n",
    "   else: \n",
    "     return list[size - 1] + sumOfList(list, size - 1) \n",
    "   \n",
    "# Driver code      \n",
    "total = sumOfList(list1, len(list1)) \n",
    "  \n",
    "print(\"Sum of all elements in given list: \", total) \n",
    "    \n"
   ]
  },
  {
   "cell_type": "code",
   "execution_count": 354,
   "metadata": {},
   "outputs": [
    {
     "data": {
      "text/plain": [
       "10"
      ]
     },
     "execution_count": 354,
     "metadata": {},
     "output_type": "execute_result"
    }
   ],
   "source": [
    "list2=[1,2,3,4]\n",
    "sumOfList(list2,4)"
   ]
  },
  {
   "cell_type": "code",
   "execution_count": 366,
   "metadata": {},
   "outputs": [
    {
     "name": "stdout",
     "output_type": "stream",
     "text": [
      "120\n"
     ]
    }
   ],
   "source": [
    "#multiply all elements of a list\n",
    "'''\n",
    "#first solution\n",
    "def multiply(list1):\n",
    "    mul=1\n",
    "    for i in list1:\n",
    "        mul=mul * i\n",
    "    return mul\n",
    "list1=[1,2,3,4]\n",
    "\n",
    "print(multiply(list1))'''\n",
    "#second solution\n",
    "'''\n",
    "import numpy as np\n",
    "def multiply(list1):\n",
    "    mul=np.prod(list1)\n",
    "    return mul\n",
    "\n",
    "list1=[1,2,3,4]\n",
    "print(multiply(list1))'''\n",
    "\n",
    "#third solution\n",
    "\n",
    "from functools import reduce\n",
    "list1=[1,2,3,4,5]\n",
    "\n",
    "result=reduce((lambda x,y:x*y),list1)\n",
    "\n",
    "print(result)\n",
    "\n"
   ]
  },
  {
   "cell_type": "code",
   "execution_count": 376,
   "metadata": {},
   "outputs": [
    {
     "name": "stdout",
     "output_type": "stream",
     "text": [
      "Enter number of elements in the list:7\n",
      "Enter the list elements:7\n",
      "Enter the list elements:734\n",
      "Enter the list elements:79\n",
      "Enter the list elements:3\n",
      "Enter the list elements:0\n",
      "Enter the list elements:8\n",
      "Enter the list elements:3\n",
      "[7, 734, 79, 3, 0, 8, 3]\n",
      "0\n"
     ]
    }
   ],
   "source": [
    "#find the smallest number in a list\n",
    "#first solution\n",
    "'''\n",
    "def find_smallest(list1):\n",
    "    for i in list1:\n",
    "        result=min(list1)\n",
    "    return result\n",
    "list1=[23,53,8,45,83,5,22,43]\n",
    "\n",
    "print(find_smallest(list1))'''\n",
    "\n",
    "#second solution\n",
    "'''\n",
    "import numpy as np\n",
    "def find_smallest(list1):\n",
    "    result=np.min(list1)\n",
    "    return result\n",
    "list1=[23,53,8,45,83,5,22,43]\n",
    "\n",
    "print(find_smallest(list1))'''\n",
    "\n",
    "#third solution\n",
    "'''\n",
    "list1=[23,53,8,45,83,5,22,43]\n",
    "list1.sort()\n",
    "print(*list1[:1])'''\n",
    "\n",
    "#fourth solution\n",
    "list1=[]\n",
    "\n",
    "x=int(input('Enter number of elements in the list:'))\n",
    "for i in range(0,x):\n",
    "    num=int(input('Enter the list elements:'))\n",
    "    list1.append(num)\n",
    "print(list1)   \n",
    "print(min(list1))\n"
   ]
  },
  {
   "cell_type": "code",
   "execution_count": 382,
   "metadata": {},
   "outputs": [
    {
     "name": "stdout",
     "output_type": "stream",
     "text": [
      "83\n"
     ]
    }
   ],
   "source": [
    "#find the largest number on a list\n",
    "'''\n",
    "def find_largest(list1):\n",
    "    list1.sort()\n",
    "    return list1\n",
    "list1=[23,53,8,45,83,5,22,43]\n",
    "print(max(find_largest(list1)))\n",
    "print(list1[-1])\n",
    "print(max(list1))'''\n",
    "\n",
    "def find_largest(list1):\n",
    "    max=list1[0]\n",
    "    for i in list1:\n",
    "        if i>max:\n",
    "            max=i\n",
    "            \n",
    "    return max\n",
    "list1=[23,53,8,45,83,5,22,43]\n",
    "print(find_largest(list1))\n",
    "        "
   ]
  },
  {
   "cell_type": "code",
   "execution_count": 404,
   "metadata": {},
   "outputs": [
    {
     "name": "stdout",
     "output_type": "stream",
     "text": [
      "Second highest number is :  76\n"
     ]
    }
   ],
   "source": [
    "#find the second largest element in a list\n",
    "\n",
    "#first ways\n",
    "'''\n",
    "def find_second_largest(arr1):\n",
    "    newlist=[]\n",
    "    for i in arr1:\n",
    "        if i!=max(arr1):\n",
    "            newlist.append(i)\n",
    "    return newlist\n",
    "arr1=[23,53,8,45,83,5,22,43]\n",
    "print(arr1)\n",
    "print(find_second_largest(arr1))\n",
    "print(max(find_second_largest(arr1)))\n",
    "\n",
    "arr1.sort() \n",
    "  \n",
    "# printing the second last element \n",
    "print(\"Second largest element is:\", arr1[-2]) '''\n",
    "\n",
    "#second way\n",
    "'''\n",
    "list1 = [10, 20, 4, 45, 99] \n",
    "  \n",
    "# new_list is a set of list1 \n",
    "new_list = set(list1) \n",
    "  \n",
    "# removing the largest element from temp list \n",
    "new_list.remove(max(new_list)) \n",
    "  \n",
    "# elements in original list are not changed \n",
    "# print(list1) \n",
    "  \n",
    "print(max(new_list))'''\n",
    "\n",
    "#third way\n",
    "list1 = [10, 20, 4, 45, 92,65,76,92,34] \n",
    "  \n",
    "mx=max(list1[0],list1[1])  \n",
    "secondmax=min(list1[0],list1[1])  \n",
    "n =len(list1) \n",
    "for i in range(2,n):  \n",
    "    if list1[i]>mx:  \n",
    "        secondmax=mx \n",
    "        mx=list1[i]  \n",
    "    elif list1[i]>secondmax and list1[i]<mx:  \n",
    "        secondmax=list1[i] \n",
    "    else: \n",
    "        if secondmax == mx: \n",
    "            secondmax = list1[i] \n",
    "  \n",
    "print(\"Second highest number is : \",str(secondmax)) "
   ]
  },
  {
   "cell_type": "code",
   "execution_count": 412,
   "metadata": {},
   "outputs": [
    {
     "name": "stdout",
     "output_type": "stream",
     "text": [
      "[78, 74, 67]\n"
     ]
    }
   ],
   "source": [
    "#find the largest numbers of a given list\n",
    "def find_nlargestnum(list1,N):\n",
    "    final_list=[]\n",
    "    for i in range(N):\n",
    "        max1=0\n",
    "        for j in range(len(list1)):\n",
    "            if list1[j]>max1:\n",
    "                max1=list1[j]\n",
    "        list1.remove(max1)\n",
    "        final_list.append(max1)\n",
    "    print(final_list)\n",
    "    \n",
    "N=3\n",
    "list1=[18,43,55,6,44,33,78,74,32,67,41]\n",
    "find_nlargestnum(list1,N)\n",
    "        "
   ]
  },
  {
   "cell_type": "code",
   "execution_count": 421,
   "metadata": {
    "scrolled": true
   },
   "outputs": [
    {
     "name": "stdout",
     "output_type": "stream",
     "text": [
      "[2, 4, 6, 8, 10]\n"
     ]
    }
   ],
   "source": [
    "# find the even numbers of a list\n",
    "#first solution\n",
    "'''\n",
    "def find_even(list1):\n",
    "    even_list=[]\n",
    "    for i in list1:\n",
    "        if i%2==0:\n",
    "            even_list.append(i)\n",
    "    return even_list\n",
    "list1=[1,2,3,4,5,6,7,8,9,10]\n",
    "print(find_even(list1))'''\n",
    "\n",
    "#second solution\n",
    "def find_even(list1):\n",
    "    even_list=[]\n",
    "    i=0\n",
    "    while i<len(list1):\n",
    "        if list1[i]%2==0:\n",
    "            even_list.append(list1[i])\n",
    "        i+=1\n",
    "    return even_list\n",
    "list1=[1,2,3,4,5,6,7,8,9,10]\n",
    "print(find_even(list1))\n",
    "#third solution\n",
    "'''\n",
    "list1=[1,2,3,4,5,6,7,8,9,10]\n",
    "\n",
    "even_nos = list(filter(lambda x: (x % 2 == 0), list1)) \n",
    "  \n",
    "print(\"Even numbers in the list: \", even_nos)  \n",
    "'''\n"
   ]
  },
  {
   "cell_type": "code",
   "execution_count": 440,
   "metadata": {},
   "outputs": [
    {
     "name": "stdout",
     "output_type": "stream",
     "text": [
      "[1, 3, 5, 7, 9]\n"
     ]
    }
   ],
   "source": [
    "#find odd numbers in a list\n",
    "#first solution\n",
    "'''\n",
    "def find_odd(list1):\n",
    "    get_odd=[]\n",
    "    get_odd =[x for x in list1 if x%2!=0]\n",
    "    return get_odd\n",
    "\n",
    "list1=[1,2,3,4,5,6,7,8,9,10]\n",
    "\n",
    "print(find_odd(list1))'''\n",
    "\n",
    "#second solution\n",
    "def find_odd(list1):\n",
    "    get_odd=[]\n",
    "    i=0\n",
    "    while i<len(list1):\n",
    "        if list1[i]%2!=0:\n",
    "            get_odd.append(list1[i])\n",
    "        i+=1\n",
    "    return get_odd\n",
    "\n",
    "list1=[1,2,3,4,5,6,7,8,9,10]\n",
    "\n",
    "print(find_odd(list1))"
   ]
  },
  {
   "cell_type": "code",
   "execution_count": 444,
   "metadata": {},
   "outputs": [
    {
     "name": "stdout",
     "output_type": "stream",
     "text": [
      "4 6 8 10 12 14 16 "
     ]
    }
   ],
   "source": [
    "# find even number from a given range of numbers\n",
    "\n",
    "def find_even():\n",
    "    for i in range(start,end+1):\n",
    "        if(i%2==0):\n",
    "            print(i,end=' ')\n",
    "\n",
    "start=4\n",
    "end=16\n",
    "find_even()"
   ]
  },
  {
   "cell_type": "code",
   "execution_count": 456,
   "metadata": {},
   "outputs": [
    {
     "name": "stdout",
     "output_type": "stream",
     "text": [
      "Enter the start of range: 3\n",
      "Enter the end of range: 13\n",
      "3 5 7 9 11 13 "
     ]
    }
   ],
   "source": [
    "# find even number from a given range of numbers\n",
    "'''\n",
    "def find_odd():\n",
    "    for i in range(start,end+1):\n",
    "        if(i%2==1):# or(i%2!=0)\n",
    "            print(i,end=' ')\n",
    "\n",
    "start=4\n",
    "end=16\n",
    "find_odd()'''\n",
    "#second solution\n",
    "start = int(input(\"Enter the start of range: \")) \n",
    "end = int(input(\"Enter the end of range: \")) \n",
    "  \n",
    "#create a list that contains only odd numbers in given range \n",
    "even_list = range(start, end + 1)[start%1::2] \n",
    "  \n",
    "for num in even_list: \n",
    "    print(num, end = \" \")"
   ]
  },
  {
   "cell_type": "code",
   "execution_count": 477,
   "metadata": {},
   "outputs": [
    {
     "name": "stdout",
     "output_type": "stream",
     "text": [
      "the number of even numbers is: 4\n",
      "the number of odd numbers is: 5\n"
     ]
    }
   ],
   "source": [
    "#count the odd and the even numbers of a list\n",
    "#first solution\n",
    "'''\n",
    "def cnt_even_odd(list1):\n",
    "    count_even=0\n",
    "    count_odd=0\n",
    "    for i in range(len(list1)):\n",
    "        if list1[i]%2==0:\n",
    "            count_even+=1\n",
    "        else:\n",
    "            count_odd+=1\n",
    "    return count_even, count_odd\n",
    "\n",
    "list1=[1,2,3,4,5,6,7,8,9]\n",
    "cnt_even_odd(list1)\n",
    "\n",
    "print(\"the number of even numbers is: {0}\\nthe number of odd numbers is: {1}\".format(cnt_even_odd(list1)[0],\n",
    "                                                                                                       cnt_even_odd(list1)[1]))\n",
    "                                                                                                       '''\n",
    "#second solution-while\n",
    "\n",
    "def cnt_even_odd(list1):\n",
    "    count_even=0\n",
    "    count_odd=0\n",
    "    i=0\n",
    "    while i<len(list1):\n",
    "    \n",
    "        if list1[i]%2==0:\n",
    "            count_even+=1\n",
    "        else:\n",
    "            count_odd+=1\n",
    "        i+=1\n",
    "    return count_even, count_odd\n",
    "\n",
    "list1=[1,2,3,4,5,6,7,8,9]\n",
    "cnt_even_odd(list1)\n",
    "\n",
    "print(\"the number of even numbers is: {0}\\nthe number of odd numbers is: {1}\".format(cnt_even_odd(list1)[0],\n",
    "                                                                                                       cnt_even_odd(list1)[1]))"
   ]
  },
  {
   "cell_type": "code",
   "execution_count": 483,
   "metadata": {},
   "outputs": [
    {
     "name": "stdout",
     "output_type": "stream",
     "text": [
      "These list numbers are positive [5, 4, 6, 3, 76]\n",
      "These list numbers are negative [-2, -4, -8, -13, -87]\n"
     ]
    }
   ],
   "source": [
    "#print positive/negative numbers\n",
    "def print_positive(list1):\n",
    "    pos=[]\n",
    "    neg=[]\n",
    "    for i in list1:\n",
    "        if i>=0:\n",
    "            pos.append(i)\n",
    "        else:\n",
    "            neg.append(i)\n",
    "    \n",
    "    print(\"These list numbers are positive\",pos)\n",
    "    \n",
    "    print(\"These list numbers are negative\",neg)\n",
    "list1=[5,-2,4,-4,-8,6,-13,3,-87,76]\n",
    "print_positive(list1)"
   ]
  },
  {
   "cell_type": "code",
   "execution_count": 500,
   "metadata": {},
   "outputs": [
    {
     "name": "stdout",
     "output_type": "stream",
     "text": [
      "[1, 3, 5, 7]\n"
     ]
    }
   ],
   "source": [
    "# remove even numbers from a list\n",
    "def remove_even(list1):\n",
    "    i=0\n",
    "    while i<len(list1):\n",
    "        if list1[i]%2==1:\n",
    "            list1[i]\n",
    "        else:\n",
    "            del list1[i]\n",
    "        i+=1\n",
    "    print(list1)\n",
    "\n",
    "list1=[1,2,3,4,5,6,7]\n",
    "remove_even(list1)"
   ]
  },
  {
   "cell_type": "code",
   "execution_count": 516,
   "metadata": {},
   "outputs": [
    {
     "name": "stdout",
     "output_type": "stream",
     "text": [
      "[5, 17, 50]\n"
     ]
    }
   ],
   "source": [
    "# remove specific numbers from a list\n",
    "'''\n",
    "def remove_numbers(list1):\n",
    "    rem=[4,5,9]\n",
    "    list1=[i for i in list1 if i not in rem]\n",
    "    return list1\n",
    "\n",
    "list1=[1,2,3,4,5,6,7,8,9,10]\n",
    "print(remove_numbers(list1))'''\n",
    "\n",
    "def remove_numbers(list1):\n",
    "    unwanted_index=[0,3,4]\n",
    "    for ele in sorted(unwanted_index, reverse = True):  #descending order sorting so as as not to affect the index if del\n",
    "        #took place with ascending order(e.g if index 0 was deleted firstly, then next index would have been 3-1=2 and not 3)\n",
    "        del list1[ele] \n",
    "        \n",
    "    return list1\n",
    "list1 = [11, 5, 17, 18, 23, 50]  \n",
    "\n",
    "print (remove_numbers(list1)) "
   ]
  },
  {
   "cell_type": "code",
   "execution_count": 522,
   "metadata": {},
   "outputs": [
    {
     "name": "stdout",
     "output_type": "stream",
     "text": [
      "15\n",
      "24\n",
      "12.0\n",
      "12\n"
     ]
    }
   ],
   "source": [
    "#lambda examples\n",
    "\n",
    "x = lambda a : a + 10\n",
    "y=lambda a,b:a*b\n",
    "z1=lambda a,b,c:a*b/c\n",
    "z2=lambda a,b,c: int(a*b/c)\n",
    "print(x(5))\n",
    "print(y(3,8))\n",
    "print(z1(3,8,2))\n",
    "print(z2(3,8,2))"
   ]
  },
  {
   "cell_type": "code",
   "execution_count": 524,
   "metadata": {},
   "outputs": [
    {
     "name": "stdout",
     "output_type": "stream",
     "text": [
      "10\n",
      "15\n"
     ]
    }
   ],
   "source": [
    "#The power of lambda is better shown when you use them as an anonymous function inside another function.\n",
    "#Say you have a function definition that takes one argument, and that argument will be multiplied with an unknown number:\n",
    "\n",
    "def myfunction(n):\n",
    "    return lambda a: a*n\n",
    "mydoubler=myfunction(2)\n",
    "mytrippler=myfunction(3)\n",
    "print(mydoubler(5))\n",
    "print(mytrippler(5))"
   ]
  },
  {
   "cell_type": "code",
   "execution_count": 526,
   "metadata": {},
   "outputs": [
    {
     "name": "stdout",
     "output_type": "stream",
     "text": [
      "[5, 7, 97, 77, 23, 73, 61]\n"
     ]
    }
   ],
   "source": [
    "#use of lambda to filter a given list by odd numbers only\n",
    "del list\n",
    "li = [5, 7, 22, 97, 54, 62, 77, 23, 73, 61] \n",
    "final_list = list(filter(lambda x: (x%2 != 0) , li)) \n",
    "print(final_list) "
   ]
  },
  {
   "cell_type": "code",
   "execution_count": 528,
   "metadata": {},
   "outputs": [
    {
     "name": "stdout",
     "output_type": "stream",
     "text": [
      "[1, 4, 9, 16, 25, 36, 49, 64, 81, 100]\n"
     ]
    }
   ],
   "source": [
    "# Python code to illustrate  \n",
    "# map() with lambda()  \n",
    "# to get double of a list. \n",
    "li = [1,2,3,4,5,6,7,8,9,10] \n",
    "final_list=list(map(lambda x:(x*x),li))\n",
    "print(final_list) "
   ]
  },
  {
   "cell_type": "code",
   "execution_count": 534,
   "metadata": {},
   "outputs": [
    {
     "name": "stdout",
     "output_type": "stream",
     "text": [
      "63\n"
     ]
    }
   ],
   "source": [
    "# Python code to illustrate  \n",
    "# reduce() with lambda() \n",
    "# to get sum of a list \n",
    "from functools import reduce\n",
    "li = [5, 8, 10, 20, 50, 100] \n",
    "sum=reduce((lambda x,y:x+y-(2*x)),li)\n",
    "print (sum) "
   ]
  },
  {
   "cell_type": "code",
   "execution_count": 541,
   "metadata": {},
   "outputs": [
    {
     "name": "stdout",
     "output_type": "stream",
     "text": [
      "<function <lambda> at 0x000002B90DB5C400>\n",
      "GeeksforGeeks\n"
     ]
    }
   ],
   "source": [
    "#lambda tutorial\n",
    "string='GeeksforGeeks'\n",
    "x='GeeksforGeeks'\n",
    "print(lambda string:string)#it just returns the memory location of lambda object without printing the string\n",
    "(lambda x:print(x))(x)"
   ]
  },
  {
   "cell_type": "code",
   "execution_count": 545,
   "metadata": {},
   "outputs": [
    {
     "name": "stdout",
     "output_type": "stream",
     "text": [
      "16\n",
      "64\n"
     ]
    }
   ],
   "source": [
    "# lambda for power function\n",
    "\n",
    "def power(n):\n",
    "    return lambda a: a**n\n",
    "base=power(2)\n",
    "print(base(4))\n",
    "base=power(3)\n",
    "print(base(4))"
   ]
  },
  {
   "cell_type": "code",
   "execution_count": 547,
   "metadata": {},
   "outputs": [
    {
     "name": "stdout",
     "output_type": "stream",
     "text": [
      "[1, 3, 5, 7, 9]\n",
      "[False, True, False, True, False, True, False, True, False, True]\n"
     ]
    }
   ],
   "source": [
    "# lambda filter and map\n",
    "\n",
    "list1=[1,2,3,4,5,6,7,8,9,10]\n",
    "\n",
    "odd=filter(lambda x:x%2!=0,list1)\n",
    "print(list(odd))\n",
    "even=map(lambda x:x%2==0,list1)\n",
    "print(list(even))"
   ]
  },
  {
   "cell_type": "code",
   "execution_count": 549,
   "metadata": {},
   "outputs": [
    {
     "name": "stdout",
     "output_type": "stream",
     "text": [
      "4\n",
      "3\n"
     ]
    }
   ],
   "source": [
    "get_tens=lambda p: int(p/10)%10\n",
    "print(get_tens(749))\n",
    "print(get_tens(836.21))"
   ]
  },
  {
   "cell_type": "code",
   "execution_count": 562,
   "metadata": {},
   "outputs": [
    {
     "name": "stdout",
     "output_type": "stream",
     "text": [
      "[('airplane', 22), ('car', 40), ('boat', 75), ('bike', 200)]\n"
     ]
    }
   ],
   "source": [
    "# sorting list of tuples with lambda\n",
    "list1=[('car',40),('bike',200),('airplane',22),('boat',75)]\n",
    "list1.sort(key=lambda x: x[1])\n",
    "print(list1)"
   ]
  },
  {
   "cell_type": "code",
   "execution_count": 569,
   "metadata": {},
   "outputs": [
    {
     "name": "stdout",
     "output_type": "stream",
     "text": [
      "[{'make': 'opel', 'model': 'ascona', 'year': 1981}, {'make': 'ford', 'model': 'focus', 'year': 2013}, {'make': 'chevy', 'model': 'tahoe', 'year': 2018}]\n",
      "[{'make': 'opel', 'model': 'ascona', 'year': 1981},\n",
      " {'make': 'ford', 'model': 'focus', 'year': 2013},\n",
      " {'make': 'chevy', 'model': 'tahoe', 'year': 2018}]\n"
     ]
    }
   ],
   "source": [
    "# sorting list of dictionary with lambda\n",
    "import pprint as pp\n",
    "list1=[{'make':'ford','model':'focus','year':2013},{'make':'chevy','model':'tahoe','year':2018},{'make':'opel','model':'ascona'\n",
    "                                                                                                ,'year':1981}]\n",
    "list1.sort(key=lambda x:x['year'])\n",
    "print(list1)\n",
    "pp.pprint(list1)"
   ]
  },
  {
   "cell_type": "code",
   "execution_count": 639,
   "metadata": {},
   "outputs": [
    {
     "name": "stdout",
     "output_type": "stream",
     "text": [
      "[('', '', '8'), ('0', '00', '000'), ('birbal', '', '45'), ('', '')]\n"
     ]
    }
   ],
   "source": [
    "#remove empty tuples from a list\n",
    "#first solution\n",
    "'''\n",
    "def remove_tuples(tuples):\n",
    "    tuples=[i for i in tuples if i]\n",
    "            \n",
    "    return tuples\n",
    "tuples = [('','','8'), (), ('0', '00', '000'), \n",
    "                 ('birbal', '', '45'), (''), (),  ('',''),()]\n",
    "print(remove_tuples(tuples))'''\n",
    "\n",
    "#second solution=works for python 2 returns generator value in python 3\n",
    "'''\n",
    "def remove_tuples(tuples):\n",
    "    tuples=filter(None,tuples)\n",
    "    return tuples\n",
    "tuples = [('','','8'), (), ('0', '00', '000'), \n",
    "                 ('birbal', '', '45'), (''), (),  ('',''),()]\n",
    "print(remove_tuples(tuples))'''\n",
    "\n",
    "#third solution\n",
    "def remove_tuples(newtuples):\n",
    "    newtuples=[]\n",
    "    for x in tuples:\n",
    "        if x:\n",
    "            newtuples.append(x)\n",
    "    return newtuples\n",
    "          \n",
    "            \n",
    "            \n",
    "    \n",
    "tuples = [('','','8'), (), ('0', '00', '000'), \n",
    "                 ('birbal', '', '45'), (''), (),  ('',''),()]\n",
    "print(remove_tuples(tuples))"
   ]
  },
  {
   "cell_type": "code",
   "execution_count": 642,
   "metadata": {},
   "outputs": [
    {
     "name": "stdout",
     "output_type": "stream",
     "text": [
      "[1, 3, 4, 7]\n"
     ]
    }
   ],
   "source": [
    "#find the duplicates values from a list\n",
    "def get_duplicates(list1):\n",
    "    duplicates=[]\n",
    "    for i in range(len(list1)):\n",
    "        k=i+1\n",
    "        for j in range(k,len(list1)):\n",
    "            if list1[i]==list1[j] and list1[i] not in duplicates:\n",
    "                duplicates.append(list1[i])\n",
    "    return duplicates\n",
    "\n",
    "list1=[1,3,4,5,3,6,7,3,7,4,7,9,10,2,1]\n",
    "\n",
    "print(get_duplicates(list1))\n",
    "                         \n",
    "        "
   ]
  },
  {
   "cell_type": "code",
   "execution_count": 662,
   "metadata": {},
   "outputs": [
    {
     "name": "stdout",
     "output_type": "stream",
     "text": [
      "[10, 30, 60, 100, 150]\n"
     ]
    }
   ],
   "source": [
    "# get the cumulative sum of the numbers in a list\n",
    "#first solution\n",
    "def get_cumulative(list1):\n",
    "    cum_list=[]\n",
    "    sum=0\n",
    "    for i in range(0,len(list1)):\n",
    "        sum+=list1[i]\n",
    "        cum_list.append(sum)\n",
    "    return cum_list\n",
    "\n",
    "list1=[10, 20, 30, 40, 50]\n",
    "\n",
    "print(get_cumulative(list1))\n",
    "\n",
    "\n",
    "\n",
    "        "
   ]
  },
  {
   "cell_type": "code",
   "execution_count": 691,
   "metadata": {},
   "outputs": [
    {
     "name": "stdout",
     "output_type": "stream",
     "text": [
      "[[1, 2, 3, 4], [5, 6, 7, 8], [9]]\n"
     ]
    }
   ],
   "source": [
    "#break a list into chunks of size N\n",
    "#first solution\n",
    "'''\n",
    "my_list = ['geeks', 'for', 'geeks', 'like', \n",
    "           'geeky','nerdy', 'geek', 'love', \n",
    "               'questions','words', 'life'] \n",
    "  \n",
    "def divide_chunks(list1,N):\n",
    "    for x in range(0,len(list1),N):\n",
    "        yield list1[x:x+N]\n",
    "        \n",
    "N=6\n",
    "print(list(divide_chunks(my_list,N)))'''\n",
    "\n",
    "#second solution\n",
    "\n",
    "my_list = [1, 2, 3, 4, 5, \n",
    "              6, 7, 8, 9] \n",
    "  \n",
    "# How many elements each \n",
    "# list should have \n",
    "n = 4 \n",
    "  \n",
    "# using list comprehension \n",
    "final = [my_list[i * n:(i + 1) * n] for i in range((len(my_list)+n-1)//n)]\n",
    "\n",
    "print (final) \n"
   ]
  },
  {
   "cell_type": "code",
   "execution_count": 704,
   "metadata": {},
   "outputs": [
    {
     "name": "stdout",
     "output_type": "stream",
     "text": [
      "[(0, 'a'),\n",
      " (1, 'b'),\n",
      " (1, 'c'),\n",
      " (0, 'd'),\n",
      " (1, 'e'),\n",
      " (2, 'f'),\n",
      " (2, 'g'),\n",
      " (0, 'h'),\n",
      " (1, 'i')]\n"
     ]
    }
   ],
   "source": [
    "#sort a list based on another list\n",
    "import pprint as pp\n",
    "def list_sorting(list1,list2):\n",
    "    \n",
    "    lists=list(zip(list2,list1))\n",
    "    lists.sort(key=lambda x:x[1])\n",
    "    return lists\n",
    "\n",
    "x = [\"a\", \"b\", \"c\", \"d\", \"e\", \"f\", \"g\", \"h\", \"i\"] \n",
    "y = [ 0,   1,   1,    0,   1,   2,   2,   0,   1] \n",
    "  \n",
    "\n",
    "pp.pprint(list_sorting(x,y))    "
   ]
  },
  {
   "cell_type": "code",
   "execution_count": 715,
   "metadata": {},
   "outputs": [
    {
     "name": "stdout",
     "output_type": "stream",
     "text": [
      "['a', 'd', 'h', 'b', 'c', 'e', 'i', 'f', 'g']\n",
      "['g', 'k', 'r', 'e', 'e', 'g', 's', 'f', 'o']\n"
     ]
    }
   ],
   "source": [
    "#second solution of the list sorting\n",
    "def sort_list(list1, list2): \n",
    "  \n",
    "    zipped_pairs = zip(list2, list1) \n",
    "  \n",
    "    z = [x for y, x in sorted(zipped_pairs)] \n",
    "      \n",
    "    return z \n",
    "      \n",
    "  \n",
    "# driver code \n",
    "x = [\"a\", \"b\", \"c\", \"d\", \"e\", \"f\", \"g\", \"h\", \"i\"] \n",
    "y = [ 0,   1,   1,    0,   1,   2,   2,   0,   1] \n",
    "  \n",
    "print(sort_list(x, y)) \n",
    "  \n",
    "x = [\"g\", \"e\", \"e\", \"k\", \"s\", \"f\", \"o\", \"r\", \"g\", \"e\", \"e\", \"k\", \"s\"] \n",
    "y = [ 0,   1,   1,    0,   1,   2,   2,   0,   1] \n",
    "  \n",
    "print(sort_list(x, y)) "
   ]
  },
  {
   "cell_type": "code",
   "execution_count": 724,
   "metadata": {},
   "outputs": [
    {
     "name": "stdout",
     "output_type": "stream",
     "text": [
      "False:\n",
      "This is not a palindrome string\n"
     ]
    }
   ],
   "source": [
    "# string is palindrome\n",
    "\n",
    "def reverse(s):\n",
    "    return s[::-1]\n",
    "\n",
    "def isPalindrome(s):\n",
    "    rev=reverse(s)\n",
    "    \n",
    "    if s==rev:\n",
    "        return True\n",
    "    else:\n",
    "        return False\n",
    "\n",
    "s='hanna'\n",
    "ans=isPalindrome(s)\n",
    "if ans:\n",
    "    print('{0}:\\nThe string is palindrome'.format(isPalindrome(s)))\n",
    "else:\n",
    "    print(\"{0}:\\nThis is not a palindrome string\".format(isPalindrome(s)))"
   ]
  },
  {
   "cell_type": "code",
   "execution_count": 731,
   "metadata": {},
   "outputs": [
    {
     "name": "stdout",
     "output_type": "stream",
     "text": [
      "True:\n",
      "The string is palindrome\n"
     ]
    }
   ],
   "source": [
    "#second solution string is palindrome\n",
    "\n",
    "def isPalindrome(s):\n",
    "    for i in range(len(s)//2): \n",
    "        if s[i]!=s[len(s)-i-1]:\n",
    "            return False\n",
    "        else:\n",
    "            return True\n",
    "\n",
    "s='anna'\n",
    "ans=isPalindrome(s)\n",
    "if ans:\n",
    "    print('{0}:\\nThe string is palindrome'.format(isPalindrome(s)))\n",
    "else:\n",
    "    print(\"{0}:\\nThis is not a palindrome string\".format(isPalindrome(s)))"
   ]
  },
  {
   "cell_type": "code",
   "execution_count": 737,
   "metadata": {},
   "outputs": [
    {
     "name": "stdout",
     "output_type": "stream",
     "text": [
      "atsana\n",
      "a t s a n a\n"
     ]
    }
   ],
   "source": [
    "x='anasta'\n",
    "y=''.join(reversed(x))\n",
    "y1=' '.join(reversed(x))\n",
    "print(y)\n",
    "print(y1)"
   ]
  },
  {
   "cell_type": "code",
   "execution_count": 752,
   "metadata": {},
   "outputs": [
    {
     "name": "stdout",
     "output_type": "stream",
     "text": [
      "c\n",
      "ac\n",
      "rac\n",
      "trac\n",
      "No\n"
     ]
    }
   ],
   "source": [
    "#third solution string is palindrome\n",
    "x = \"cart\"\n",
    "w = \"\" \n",
    "for i in x: \n",
    "    w = i+w\n",
    "    print(w)\n",
    "if (x==w): \n",
    "    print(\"YES\") \n",
    "else:\n",
    "    print('No')"
   ]
  },
  {
   "cell_type": "code",
   "execution_count": 759,
   "metadata": {},
   "outputs": [
    {
     "name": "stdout",
     "output_type": "stream",
     "text": [
      "I love you Zeus !\n",
      "! Zeus you love I\n"
     ]
    }
   ],
   "source": [
    "#reverse words in a given string \n",
    "\n",
    "def reverse_words(sentence):\n",
    "    words=sentence.split(' ')\n",
    "    new_sentence=\" \".join(reversed(words))\n",
    "    return new_sentence\n",
    "\n",
    "sentence=input()\n",
    "\n",
    "print(reverse_words(sentence))\n",
    "    "
   ]
  },
  {
   "cell_type": "code",
   "execution_count": 801,
   "metadata": {},
   "outputs": [
    {
     "name": "stdout",
     "output_type": "stream",
     "text": [
      "('GksForGeeks', 'GeekForGeek', 'GeesForGeeks')\n"
     ]
    }
   ],
   "source": [
    "#remove ith character from a string\n",
    "#1st solution\n",
    "'''\n",
    "def remove_character(word):\n",
    "    new_word=''.join([word[i] for i in range(len(word)) if i!=3])\n",
    "    \n",
    "    return new_word\n",
    "\n",
    "word='GeeksForGeeks'\n",
    "\n",
    "print(remove_character(word))'''\n",
    "\n",
    "#second solution\n",
    "'''\n",
    "def remove_character(word):\n",
    "    newword=\"\"\n",
    "    for i in range(len(word)):\n",
    "        \n",
    "        if i>=3:\n",
    "            newword=newword+word[i]\n",
    "\n",
    "    return newword\n",
    "\n",
    "word='GeeksForGeeks'\n",
    "print(remove_character(word))'''\n",
    "\n",
    "#third solution\n",
    "def remove_character(word):\n",
    "    newword=word.replace('e','',2)\n",
    "    newword1=word.replace('s','')\n",
    "    #or\n",
    "    newword2=word[:3]+word[4:]\n",
    "    return newword,newword1,newword2\n",
    "word='GeeksForGeeks'\n",
    "print(remove_character(word))\n",
    "        "
   ]
  },
  {
   "cell_type": "code",
   "execution_count": 819,
   "metadata": {},
   "outputs": [
    {
     "name": "stdout",
     "output_type": "stream",
     "text": [
      "My name is Zeus\n"
     ]
    },
    {
     "data": {
      "text/plain": [
       "True"
      ]
     },
     "execution_count": 819,
     "metadata": {},
     "output_type": "execute_result"
    }
   ],
   "source": [
    "#check if a phrase is part of a string\n",
    "\n",
    "def check_phrase(sentence,phrase):\n",
    "    \n",
    "    print(sentence)\n",
    "    if sentence.find(phrase)==-1:\n",
    "            return False\n",
    "    return True\n",
    "    \n",
    "sentence='My name is Zeus'\n",
    "phrase='Ze'\n",
    "check_phrase(sentence,phrase)"
   ]
  },
  {
   "cell_type": "code",
   "execution_count": 823,
   "metadata": {},
   "outputs": [
    {
     "data": {
      "text/plain": [
       "False"
      ]
     },
     "execution_count": 823,
     "metadata": {},
     "output_type": "execute_result"
    }
   ],
   "source": [
    "#second solution\n",
    "def check(s2, s1):  \n",
    "    if (s2.count(s1)>0):      \n",
    "        return True  \n",
    "    else:  \n",
    "        return False  \n",
    "              \n",
    "s2 = \"A geek in need is a geek indeed\"\n",
    "s1 =\"gek\"\n",
    "check(s2, s1)  "
   ]
  },
  {
   "cell_type": "code",
   "execution_count": 833,
   "metadata": {},
   "outputs": [
    {
     "name": "stdout",
     "output_type": "stream",
     "text": [
      "4\n"
     ]
    }
   ],
   "source": [
    "#length of string\n",
    "#1\n",
    "'''\n",
    "str='geeks'\n",
    "print(len(str))'''\n",
    "\n",
    "#2\n",
    "'''\n",
    "str='geeks'\n",
    "counter=0\n",
    "for i in str:\n",
    "    counter+=1\n",
    "print(counter)'''\n",
    "#3\n",
    "'''\n",
    "str='geeks'\n",
    "counter=0\n",
    "while str[counter:]:\n",
    "    counter+=1\n",
    "print(counter)'''\n",
    "\n",
    "def findlen(str):\n",
    "    if not len(str):\n",
    "        return 0\n",
    "    else:\n",
    "        simple_string='python'\n",
    "        return ((simple_string).join(str)).count(simple_string)+1\n",
    "str=\"geek\"   \n",
    "print(findlen(str))\n",
    "    "
   ]
  },
  {
   "cell_type": "code",
   "execution_count": 845,
   "metadata": {},
   "outputs": [
    {
     "name": "stdout",
     "output_type": "stream",
     "text": [
      "am Zeus live in "
     ]
    }
   ],
   "source": [
    "# print even length words\n",
    "\n",
    "def even_word(word):\n",
    "    word=word.split(' ')\n",
    "    for w in word:\n",
    "        if len(w)%2==0:\n",
    "            print(w,end=' ')\n",
    "       \n",
    "\n",
    "word='I am god Zeus and i live in Olympus'\n",
    "even_word(word)"
   ]
  },
  {
   "cell_type": "code",
   "execution_count": 852,
   "metadata": {},
   "outputs": [
    {
     "name": "stdout",
     "output_type": "stream",
     "text": [
      "The string is rejected\n"
     ]
    }
   ],
   "source": [
    "# print a word if it contains all vowels\n",
    "\n",
    "def all_vowels(string):\n",
    "    string=string.lower()\n",
    "    \n",
    "    vowels=set(\"aeiou\")\n",
    "    s=set({})\n",
    "    \n",
    "    for x in string:\n",
    "        if x in vowels:\n",
    "            s.add(x)\n",
    "        else:\n",
    "            pass\n",
    "        \n",
    "    if len(s)==len(vowels):\n",
    "        print(\"The string is accepted\")\n",
    "    else:\n",
    "        print(\"The string is rejected\")\n",
    "\n",
    "if __name__ == \"__main__\":\n",
    "    string='paeois'\n",
    "    all_vowels(string)"
   ]
  },
  {
   "cell_type": "code",
   "execution_count": 858,
   "metadata": {},
   "outputs": [
    {
     "name": "stdout",
     "output_type": "stream",
     "text": [
      "mynameisgeorgius\n",
      "The string is accepted\n"
     ]
    }
   ],
   "source": [
    "#second solution\n",
    "\n",
    "def string_vowels(string):\n",
    "    string=string.replace(' ','')\n",
    "    string=string.lower()\n",
    "    print(string)\n",
    "    vowel=[string.count('a'),string.count('e'),string.count('i'),string.count('o'),string.count('u')]\n",
    "    \n",
    "    if vowel.count(0)>0:\n",
    "        print(\"The string is not accepted\")\n",
    "    else:\n",
    "        print(\"The string is accepted\")\n",
    "\n",
    "if __name__ == \"__main__\":\n",
    "    string='My name is Georgius'\n",
    "    string_vowels(string)\n",
    "    "
   ]
  },
  {
   "cell_type": "code",
   "execution_count": 874,
   "metadata": {},
   "outputs": [
    {
     "name": "stdout",
     "output_type": "stream",
     "text": [
      "(5, ['i', 'a', 'm', 'e', 'o'])\n"
     ]
    }
   ],
   "source": [
    "#count the number of matching characters between 2 strings\n",
    "\n",
    "def count_char(string1,string2):\n",
    "    string1=string1.lower()\n",
    "    string2=string2.lower()\n",
    "    \n",
    "    string1=string1.replace(' ','')\n",
    "    string2=string2.replace(' ','')\n",
    "    match=[]\n",
    "    count=0\n",
    "    for x in string1:\n",
    "        if x in string2 and x not in match:\n",
    "            count+=1\n",
    "            match.append(x)\n",
    "    return count,match\n",
    "\n",
    "if __name__ == \"__main__\":\n",
    "    string1= 'i am Georg'\n",
    "    string2= 'I am not Zeus'\n",
    "    print(count_char(string1,string2))\n",
    "        "
   ]
  },
  {
   "cell_type": "code",
   "execution_count": 876,
   "metadata": {},
   "outputs": [
    {
     "name": "stdout",
     "output_type": "stream",
     "text": [
      "No. of matching characters are :  3\n"
     ]
    }
   ],
   "source": [
    "#count the number of matching characters between 2 strings---second solution\n",
    "# Python code to count number of matching characters in a pair of strings \n",
    "  \n",
    "# count function \n",
    "def count(str1, str2):  \n",
    "    c, j = 0, 0\n",
    "      . \n",
    "    for i in str1:     \n",
    "          \n",
    "        # this will check if character extracted from \n",
    "        # str1 is present in str2 or not(str2.find(i) \n",
    "        # return -1 if not found otherwise return the  \n",
    "        # starting occurrence index of that character \n",
    "        # in str2) and j == str1.find(i) is used to  \n",
    "        # avoid the counting of the duplicate characters \n",
    "        # present in str1 found in str2 \n",
    "        if str2.find(i)>= 0 and j == str1.find(i):  \n",
    "            c += 1\n",
    "        j += 1\n",
    "    print ('No. of matching characters are : ', c) \n",
    "  \n",
    "# Main function \n",
    "def main():  \n",
    "    str1 ='panas' # first string \n",
    "    str2 ='panatha' # second string \n",
    "    count(str1, str2) # calling count function  \n",
    "  \n",
    "# Driver Code \n",
    "if __name__==\"__main__\": \n",
    "    main() \n"
   ]
  },
  {
   "cell_type": "code",
   "execution_count": 878,
   "metadata": {},
   "outputs": [
    {
     "name": "stdout",
     "output_type": "stream",
     "text": [
      "{'l', '@', 'e', 'a', 'k', '1', 'c', 'd', 'b', '2'}\n",
      "No. of matching characters are :  5\n"
     ]
    }
   ],
   "source": [
    "#count the number of matching characters between 2 strings---third solution\n",
    "\n",
    "# count function count the common unique characters present in both strings . \n",
    "def count(str1 ,str2) : \n",
    "    # set of characters of string1 \n",
    "    set_string1 = set(str1) \n",
    "    print(set_string1)\n",
    "  \n",
    "    # set of characters of string2 \n",
    "    set_string2 = set(str2) \n",
    "  \n",
    "    matched_characters = set_string1 & set_string2 \n",
    "  \n",
    "    # printing the length of matched_characters set \n",
    "    # gives the no. of matched characters \n",
    "    print(\"No. of matching characters are : \" , len(matched_characters))  \n",
    "  \n",
    "  \n",
    "# Driver code \n",
    "if __name__ == \"__main__\" : \n",
    "  \n",
    "    str1 = 'aabcddekll12@'  # first string \n",
    "    str2 = 'bb2211@55k'     # second string \n",
    "  \n",
    "    # call count function  \n",
    "    count( str1 , str2 ) "
   ]
  },
  {
   "cell_type": "code",
   "execution_count": 879,
   "metadata": {},
   "outputs": [
    {
     "name": "stdout",
     "output_type": "stream",
     "text": [
      "No. of matching characters are  5\n"
     ]
    }
   ],
   "source": [
    "#count the number of matching characters between 2 strings---fourth solution\n",
    "\n",
    "# Count the Number of matching characters in  \n",
    "# a pair of string \n",
    "import re \n",
    "ip1 = \"geeks\"\n",
    "ip2 = \"geeksonly\"\n",
    "  \n",
    "c = 0\n",
    "for i in ip1: \n",
    "    if re.search(i,ip2): \n",
    "        c=c+1\n",
    "print(\"No. of matching characters are \", c) "
   ]
  },
  {
   "cell_type": "code",
   "execution_count": 2,
   "metadata": {},
   "outputs": [
    {
     "name": "stdout",
     "output_type": "stream",
     "text": [
      "Anastasaki\n",
      "No. of vowels in word is:  5\n"
     ]
    }
   ],
   "source": [
    "#python program to count vowels from a string\n",
    "\n",
    "def count_vowels(word):\n",
    "    count=0\n",
    "    vowels=set(\"aeiouAEIU\")\n",
    "    \n",
    "    for i in word:\n",
    "        if i in vowels:\n",
    "            count+=1\n",
    "            \n",
    "    print('No. of vowels in word is: ',count) \n",
    "    \n",
    "    \n",
    "    \n",
    "    \n",
    "word=input()\n",
    "\n",
    "count_vowels(word)\n",
    "\n",
    "\n",
    "    \n",
    "    \n",
    "    \n",
    "    \n",
    "    \n",
    "    \n",
    "    \n",
    "    "
   ]
  },
  {
   "cell_type": "code",
   "execution_count": 6,
   "metadata": {},
   "outputs": [
    {
     "name": "stdout",
     "output_type": "stream",
     "text": [
      "Without order = ksGrfoeg\n",
      "With order = Gekforgs\n"
     ]
    }
   ],
   "source": [
    "#remove all duplicated from a string a) unordered, b) ordered\n",
    "from collections import OrderedDict\n",
    "def removeduplicatedunordered(str):\n",
    "    return ''.join(set(str))\n",
    "\n",
    "def removeDupWithOrder(str): \n",
    "    return \"\".join(OrderedDict.fromkeys(str)) \n",
    "if __name__ == \"__main__\":\n",
    "    str='Geekforgeeks'\n",
    "    print(\"Without order =\",removeduplicatedunordered(str))\n",
    "    print(\"With order =\",removeDupWithOrder(str))"
   ]
  },
  {
   "cell_type": "code",
   "execution_count": 9,
   "metadata": {},
   "outputs": [
    {
     "name": "stdout",
     "output_type": "stream",
     "text": [
      "without order:  ksGrfoeg\n",
      "with order:  Geksforg\n"
     ]
    }
   ],
   "source": [
    "#second solution\n",
    "\n",
    "def removeduplicates(str):\n",
    "    s=set(str)\n",
    "    s=''.join(s)\n",
    "    print(\"without order: \",s)\n",
    "    t=\"\"\n",
    "    for i in str:\n",
    "        if i in t:\n",
    "            pass\n",
    "        else:\n",
    "            t+=i\n",
    "    print(\"with order: \", t)\n",
    "    \n",
    "str='Geeksforgeeks'\n",
    "\n",
    "removeduplicates(str)\n",
    "    \n",
    "    "
   ]
  },
  {
   "cell_type": "code",
   "execution_count": 11,
   "metadata": {},
   "outputs": [
    {
     "name": "stdout",
     "output_type": "stream",
     "text": [
      "{'a': 1, 'b': 2, 'c': 3, 'd': 4, 'e': 5}\n",
      "OrderedDict([('a', 1), ('b', 2), ('c', 3), ('d', 4), ('e', 5)])\n"
     ]
    }
   ],
   "source": [
    "#third solution\n",
    "\n",
    "from collections import OrderedDict \n",
    "  \n",
    "ordinary_dictionary = {} \n",
    "ordinary_dictionary['a'] = 1\n",
    "ordinary_dictionary['b'] = 2\n",
    "ordinary_dictionary['c'] = 3\n",
    "ordinary_dictionary['d'] = 4\n",
    "ordinary_dictionary['e'] = 5\n",
    "  \n",
    "# Output = {'a': 1, 'c': 3, 'b': 2, 'e': 5, 'd': 4} \n",
    "print (ordinary_dictionary )    \n",
    "  \n",
    "ordered_dictionary = OrderedDict() \n",
    "ordered_dictionary['a'] = 1\n",
    "ordered_dictionary['b'] = 2\n",
    "ordered_dictionary['c'] = 3\n",
    "ordered_dictionary['d'] = 4\n",
    "ordered_dictionary['e'] = 5\n",
    "\n",
    "print(ordered_dictionary)\n"
   ]
  },
  {
   "cell_type": "code",
   "execution_count": 15,
   "metadata": {},
   "outputs": [
    {
     "name": "stdout",
     "output_type": "stream",
     "text": [
      "OrderedDict([('name', None), ('age', None), ('gender', None)])\n",
      "OrderedDict([('name', 10), ('age', 10), ('gender', 10)])\n"
     ]
    }
   ],
   "source": [
    "#fourth solution\n",
    "\n",
    "from collections import OrderedDict \n",
    "seq = ('name', 'age', 'gender') \n",
    "dict = OrderedDict.fromkeys(seq) \n",
    "  \n",
    "# Output = {'age': None, 'name': None, 'gender': None} \n",
    "print (dict) \n",
    "dict = OrderedDict.fromkeys(seq, 10) \n",
    "  \n",
    "# Output = {'age': 10, 'name': 10, 'gender': 10} \n",
    "print (dict) "
   ]
  },
  {
   "cell_type": "code",
   "execution_count": 22,
   "metadata": {},
   "outputs": [
    {
     "name": "stdout",
     "output_type": "stream",
     "text": [
      "ka nast\n",
      "String is accepted\n"
     ]
    }
   ],
   "source": [
    "#program to check if a string contains any special character\n",
    "import re\n",
    "def run(string):\n",
    "    regex=re.compile('[@_!#$%^&*()<>?/\\|}{~:]')\n",
    "    \n",
    "    if regex.search(string)==None:\n",
    "        print(\"String is accepted\")\n",
    "    else:\n",
    "        print(\"String is rejected as it contains special characters\")\n",
    "        \n",
    "if __name__ == '__main__' : \n",
    "    string=input()\n",
    "    run(string)"
   ]
  },
  {
   "cell_type": "code",
   "execution_count": 29,
   "metadata": {},
   "outputs": [
    {
     "name": "stdout",
     "output_type": "stream",
     "text": [
      "XE\n",
      "IX\n",
      "lP\n",
      "Dh\n",
      "AM\n",
      "fA\n",
      "Ab\n",
      ";n\n",
      "wH\n",
      "G9\n",
      "OY\n",
      " y\n",
      "!d\n",
      "?E\n",
      "PA\n",
      "g9\n",
      "BX\n",
      "si\n",
      "oY\n",
      "bZ\n",
      "ou\n",
      "Mg\n",
      "In\n",
      " i\n",
      "oL\n",
      "P1\n",
      "e4\n",
      "B?\n",
      "b?\n",
      "s?\n",
      "nd\n",
      "Pz\n",
      "RN\n",
      "FE\n",
      "wn\n",
      "t!\n",
      "vg\n",
      "HG\n",
      "xv\n",
      "yo\n",
      "E2\n",
      "wB\n",
      "jH\n",
      "JS\n",
      ".t\n",
      "so\n",
      "VA\n",
      "Ny\n",
      "Ft\n",
      "uN\n",
      "pI\n",
      "nk\n",
      ",o\n",
      "iQ\n",
      "eE\n",
      ". \n",
      ",R\n",
      "YB\n",
      " r\n",
      "cw\n",
      "jn\n",
      "d:\n",
      "TB\n",
      "b4\n",
      "VG\n",
      "6V\n",
      "J6\n",
      "im\n",
      "2G\n",
      "0y\n",
      "Nv\n",
      "rJ\n",
      "Bi\n",
      "I \n",
      "RF\n",
      "Jv\n",
      "0,\n",
      "xr\n",
      "yU\n",
      "KK\n",
      "Ob\n",
      "V7\n",
      " w\n",
      "Rn\n",
      "MZ\n",
      "wf\n",
      "8?\n",
      "1y\n",
      "jX\n",
      ".U\n",
      "eQ\n",
      "R \n",
      "5,\n",
      "t3\n",
      "ia\n",
      "S2\n",
      ",W\n",
      "ZH\n",
      "vQ\n",
      "xr\n",
      "Z:\n",
      "cB\n",
      "FH\n",
      " u\n",
      "VV\n",
      "yZ\n",
      "l4\n",
      "YL\n",
      "j4\n",
      "T8\n",
      "TP\n",
      "jf\n",
      "!J\n",
      "vh\n",
      "AJ\n",
      " q\n",
      "w \n",
      "YY\n",
      ";Y\n",
      "B6\n",
      ":m\n",
      "gq\n",
      "?F\n",
      "aC\n",
      "a0\n",
      "aQ\n",
      "a:\n",
      "aN\n",
      "aO\n",
      "a!\n",
      "aA\n",
      "aK\n",
      "aG\n",
      "aR\n",
      "aS\n",
      "ap\n",
      "am\n",
      "ah\n",
      "aI\n",
      "aF\n",
      "aH\n",
      "a7\n",
      "aB\n",
      "am\n",
      "am\n",
      "am\n",
      "aQ\n",
      "ae\n",
      "au\n",
      "ap\n",
      "ae\n",
      "au\n",
      "aK\n",
      "a?\n",
      "ac\n",
      "Target matched after 155 iterations\n"
     ]
    }
   ],
   "source": [
    "#python program to generate and match the string from all other string of the same length\n",
    "\n",
    "import string\n",
    "import random\n",
    "import time\n",
    "\n",
    "# Initially all possible characters are entered, including uppercase,lowecase and all special symbols\n",
    "\n",
    "possibleCharacters=string.ascii_lowercase+string.digits+string.ascii_uppercase+' ., !?;:'\n",
    "\n",
    "#string to be generated\n",
    "t='ac'\n",
    "\n",
    "attemptThis=''.join(random.choice(possibleCharacters) for i in range(len(t)))\n",
    "\n",
    "attemptNext=''\n",
    "completed=False\n",
    "iteration=0\n",
    "\n",
    "while completed==False:\n",
    "    print(attemptThis)\n",
    "    \n",
    "    attemptNext=''\n",
    "    completed=True\n",
    "    \n",
    "    for i in range(len(t)): \n",
    "        if attemptThis[i] != t[i]: \n",
    "            completed = False\n",
    "            attemptNext += random.choice(possibleCharacters) \n",
    "        else: \n",
    "            attemptNext += t[i]\n",
    "            \n",
    "    iteration += 1\n",
    "    attemptThis = attemptNext \n",
    "    time.sleep(0.1)    \n",
    "\n",
    "    \n",
    "    # Driver Code \n",
    "print(\"Target matched after {0} iterations\".format(iteration)) "
   ]
  },
  {
   "cell_type": "code",
   "execution_count": 35,
   "metadata": {},
   "outputs": [
    {
     "name": "stdout",
     "output_type": "stream",
     "text": [
      "George fucking ashhole\n"
     ]
    }
   ],
   "source": [
    "def string_k(str,k):\n",
    "    \n",
    "    text=str.split(' ')\n",
    "    string=[]\n",
    "    \n",
    "    for i in text:\n",
    "        if len(i)>k:\n",
    "            string.append(i)\n",
    "    return string\n",
    "\n",
    "k=4\n",
    "str='George is a fucking ashhole'\n",
    "\n",
    "answer=string_k(str,k)\n",
    "print(*answer)\n",
    "\n",
    " \n",
    "        \n",
    "    \n",
    "    "
   ]
  },
  {
   "cell_type": "code",
   "execution_count": 36,
   "metadata": {},
   "outputs": [
    {
     "data": {
      "text/plain": [
       "'Geoge'"
      ]
     },
     "execution_count": 36,
     "metadata": {},
     "output_type": "execute_result"
    }
   ],
   "source": [
    "#remove ith character from a string\n",
    "\n",
    "def remove_char(string,i):\n",
    "    a=string[:i]\n",
    "    \n",
    "    b=string[i+1:]\n",
    "    \n",
    "    return a+b\n",
    "\n",
    "string='George'\n",
    "i=3\n",
    "remove_char(string,i)\n",
    "    \n",
    "    \n",
    "    \n",
    "    "
   ]
  },
  {
   "cell_type": "code",
   "execution_count": 43,
   "metadata": {},
   "outputs": [
    {
     "name": "stdout",
     "output_type": "stream",
     "text": [
      "dlmanara\n"
     ]
    }
   ],
   "source": [
    "#second solution\n",
    "\n",
    "def remove_char(string,i):\n",
    "    \n",
    "    for j in range(len(string)):\n",
    "        if j==i:\n",
    "            string=string.replace(string[i],'',2)\n",
    "    return string\n",
    "\n",
    "if __name__ == \"__main__\":\n",
    "    string='dalamanara'\n",
    "    i=1\n",
    "    print(remove_char(string,i))\n",
    "        "
   ]
  },
  {
   "cell_type": "code",
   "execution_count": 48,
   "metadata": {},
   "outputs": [
    {
     "name": "stdout",
     "output_type": "stream",
     "text": [
      "['My', 'name', 'is', 'Georgios']\n",
      "My-name-is-Georgios\n"
     ]
    }
   ],
   "source": [
    "#split a string and join it using different delimiter\n",
    "\n",
    "def split_string(string):\n",
    "    string=string.split(' ')\n",
    "    return string\n",
    "    \n",
    "def join_string(string):\n",
    "    string='-'.join(split_string(string))\n",
    "    return string\n",
    "\n",
    "if __name__==\"__main__\":\n",
    "    string='My name is Georgios'\n",
    "    \n",
    "    print(split_string(string))\n",
    "    print(join_string(string))\n",
    "\n"
   ]
  },
  {
   "cell_type": "code",
   "execution_count": 50,
   "metadata": {},
   "outputs": [
    {
     "name": "stdout",
     "output_type": "stream",
     "text": [
      "No\n"
     ]
    }
   ],
   "source": [
    "# check whether a string contains only binary characters\n",
    "\n",
    "def binary_string(string):\n",
    "    \n",
    "    p=set(string)\n",
    "    \n",
    "    s={'0','1'}\n",
    "    \n",
    "    if p==s or p=={'0'} or p=={'1'}:\n",
    "        print(\"yes\")\n",
    "    else:\n",
    "        print(\"No\")\n",
    "        \n",
    "string='0100010ggjg101'\n",
    "binary_string(string)\n",
    "\n"
   ]
  },
  {
   "cell_type": "code",
   "execution_count": 54,
   "metadata": {},
   "outputs": [
    {
     "name": "stdout",
     "output_type": "stream",
     "text": [
      "it is a binary string\n"
     ]
    }
   ],
   "source": [
    "#second solution\n",
    "\n",
    "def binary_string(string):\n",
    "    \n",
    "    t='01'\n",
    "    count=0\n",
    "    for char in string:\n",
    "        if char not in t:\n",
    "            count+=1\n",
    "            break\n",
    "        else:\n",
    "            pass\n",
    "\n",
    "    if count:\n",
    "        print(\"it is not binary string\")\n",
    "    else:\n",
    "        print(\"it is a binary string\")\n",
    "        \n",
    "string='01010101'\n",
    "\n",
    "binary_string(string)\n",
    "        "
   ]
  },
  {
   "cell_type": "code",
   "execution_count": 66,
   "metadata": {},
   "outputs": [
    {
     "name": "stdout",
     "output_type": "stream",
     "text": [
      "['peach', 'beach']\n"
     ]
    }
   ],
   "source": [
    "from difflib import get_close_matches \n",
    "  \n",
    "def closeMatches(patterns, word): \n",
    "     print(get_close_matches(word, patterns,cutoff=0.6)) \n",
    "  \n",
    "# Driver program \n",
    "if __name__ == \"__main__\": \n",
    "    word = 'reach'\n",
    "    patterns = ['ape', 'apple', 'peach', 'beach'] \n",
    "    closeMatches(patterns, word) \n"
   ]
  },
  {
   "cell_type": "code",
   "execution_count": 71,
   "metadata": {},
   "outputs": [
    {
     "data": {
      "text/plain": [
       "['george', 'not', 'john']"
      ]
     },
     "execution_count": 71,
     "metadata": {},
     "output_type": "execute_result"
    }
   ],
   "source": [
    "#find the least frequent(uncommon) word between two strings\n",
    "\n",
    "def uncommon_word(A,B):\n",
    "    A=A.split()\n",
    "    B=B.split()\n",
    "    \n",
    "    count={}\n",
    "    \n",
    "    for word in A:\n",
    "        count[word]=count.get(word,0)+1\n",
    "        \n",
    "    for word in B:\n",
    "        count[word]=count.get(word,0)+1\n",
    "        \n",
    "    \n",
    "    return [word for word in count if count[word] == 1] \n",
    "        \n",
    "A=' my name is george'\n",
    "B=' my name is not john'\n",
    "\n",
    "uncommon_word(A,B)"
   ]
  },
  {
   "cell_type": "code",
   "execution_count": 93,
   "metadata": {},
   "outputs": [
    {
     "data": {
      "text/plain": [
       "'george,peter,john,'"
      ]
     },
     "execution_count": 93,
     "metadata": {},
     "output_type": "execute_result"
    }
   ],
   "source": [
    "#second solution\n",
    "\n",
    "def uncommon_words(A,B):\n",
    "    listA=A.split()\n",
    "    listB=B.split()\n",
    "    newlist=\"\"\n",
    "    for word in listA:\n",
    "        if word not in listB:\n",
    "            newlist=newlist+word+','\n",
    "    for word in listB:\n",
    "        if word not in listA:\n",
    "            newlist=newlist+word+','\n",
    "    return newlist\n",
    "    \n",
    "\n",
    "A=\"my name is george not peter\"\n",
    "B='my name is not john'\n",
    "\n",
    "uncommon_words(A,B)\n",
    "            "
   ]
  },
  {
   "cell_type": "code",
   "execution_count": 96,
   "metadata": {},
   "outputs": [
    {
     "name": "stdout",
     "output_type": "stream",
     "text": [
      "['apple', 'fruits']\n"
     ]
    }
   ],
   "source": [
    "#third solution\n",
    "\n",
    "def uncommon(a,b):\n",
    "    a=a.split()  \n",
    "    b=b.split() \n",
    "    k=set(a).symmetric_difference(set(b)) \n",
    "    return k \n",
    "  \n",
    "#Driver code \n",
    "if __name__==\"__main__\": \n",
    "    a=\"apple banana mango\" \n",
    "    b=\"banana fruits mango\"\n",
    "    print(list(uncommon(a,b)))"
   ]
  },
  {
   "cell_type": "code",
   "execution_count": 117,
   "metadata": {},
   "outputs": [
    {
     "data": {
      "text/plain": [
       "'14.625.498,002'"
      ]
     },
     "execution_count": 117,
     "metadata": {},
     "output_type": "execute_result"
    }
   ],
   "source": [
    "#replacing commas with dots\n",
    "\n",
    "def replace_fun(str1):\n",
    "    maketrans=str1.maketrans\n",
    "    final=str1.translate(maketrans('.,', ',.'))\n",
    "    return final\n",
    "\n",
    "string='14,625,498.002'\n",
    "replace_fun(string)"
   ]
  },
  {
   "cell_type": "code",
   "execution_count": 128,
   "metadata": {},
   "outputs": [
    {
     "name": "stdout",
     "output_type": "stream",
     "text": [
      "14.625.498, 002\n"
     ]
    }
   ],
   "source": [
    "def replace_fub(str2):\n",
    "    str2 = str2.replace(', ', 'third') \n",
    "    str2 = str2.replace('.', ', ') \n",
    "     \n",
    "    str2 = str2.replace('third', '.') \n",
    "    return str2 \n",
    "      \n",
    "strin = \"14, 625, 498.002\"\n",
    "print(replace_fub(strin))"
   ]
  },
  {
   "cell_type": "code",
   "execution_count": 143,
   "metadata": {},
   "outputs": [
    {
     "name": "stdout",
     "output_type": "stream",
     "text": [
      "ABC\n",
      "ACB\n",
      "BAC\n",
      "BCA\n",
      "CAB\n",
      "CBA\n"
     ]
    }
   ],
   "source": [
    "#permutations\n",
    "\n",
    "from itertools import permutations\n",
    "\n",
    "def permut(str1):\n",
    "    liststr1=permutations(str1)\n",
    "    \n",
    "    for perm in liststr1:\n",
    "        print(''.join(perm))\n",
    "        #or #print(*perm,sep='')\n",
    "string='ABC'\n",
    "permut(string)"
   ]
  },
  {
   "cell_type": "code",
   "execution_count": 155,
   "metadata": {},
   "outputs": [
    {
     "name": "stdout",
     "output_type": "stream",
     "text": [
      "GEE\n",
      "EGE\n",
      "EEG\n"
     ]
    }
   ],
   "source": [
    "#second solution\n",
    "\n",
    "from itertools import permutations \n",
    "\n",
    "#import string \n",
    "\n",
    "s = \"GEE\"\n",
    "#not used though here # a = string.ascii_letters \n",
    "p = permutations(s) \n",
    "\n",
    "# Create a dictionary \n",
    "\n",
    "d = [] \n",
    "\n",
    "for i in list(p): \n",
    "\n",
    " # Print only if not in dictionary \n",
    "\n",
    "    if (i not in d): \n",
    "\n",
    "        d.append(i) \n",
    "\n",
    "        print(''.join(i)) \n",
    "        #or #print(*i,sep='')"
   ]
  },
  {
   "cell_type": "code",
   "execution_count": 156,
   "metadata": {},
   "outputs": [
    {
     "name": "stdout",
     "output_type": "stream",
     "text": [
      "Urls:  ['https://auth.geeksforgeeks.org/user/Chinmoy%20Lenka/articles', 'http://www.geeksforgeeks.org/']\n"
     ]
    }
   ],
   "source": [
    "import re \n",
    "  \n",
    "def Find(string): \n",
    "  \n",
    "    # findall() has been used  \n",
    "    # with valid conditions for urls in string \n",
    "    \n",
    "    url = re.findall(regex,string)       \n",
    "    return [x[0] for x in url] \n",
    "      \n",
    "# Driver Code \n",
    "string = 'My Profile: https://auth.geeksforgeeks.org/user/Chinmoy%20Lenka/articles in the portal of http://www.geeksforgeeks.org/'\n",
    "print(\"Urls: \", Find(string)) "
   ]
  },
  {
   "cell_type": "code",
   "execution_count": 157,
   "metadata": {},
   "outputs": [
    {
     "name": "stdout",
     "output_type": "stream",
     "text": [
      "120\n"
     ]
    }
   ],
   "source": [
    "# Python program to illustrate use of exec to \n",
    "# execute a given code as string. \n",
    "  \n",
    "# function illustrating how exec() functions. \n",
    "def exec_code(): \n",
    "    LOC = \"\"\" \n",
    "def factorial(num): \n",
    "    fact=1 \n",
    "    for i in range(1,num+1): \n",
    "        fact = fact*i \n",
    "    return fact \n",
    "print(factorial(5)) \n",
    "\"\"\"\n",
    "    exec(LOC) \n",
    "      \n",
    "# Driver Code \n",
    "exec_code() "
   ]
  },
  {
   "cell_type": "code",
   "execution_count": 159,
   "metadata": {},
   "outputs": [
    {
     "name": "stdout",
     "output_type": "stream",
     "text": [
      "Left rotation:  eksforGe\n",
      "Right rotation:  orGeeksf\n"
     ]
    }
   ],
   "source": [
    "# Function to rotate string left and right by d length \n",
    "\n",
    "def rotate(word,d):\n",
    "    leftfirst=word[0:d]\n",
    "    leftsec=word[d:]\n",
    "    \n",
    "    rightfirst=word[len(word)-d:]\n",
    "    rightsec=word[0:len(word)-d]\n",
    "    print(\"Left rotation: \",leftsec+leftfirst)\n",
    "    print(\"Right rotation: \",rightfirst+rightsec)\n",
    "    \n",
    "if __name__ == \"__main__\":\n",
    "    word=\"Geeksfor\"\n",
    "    d=2\n",
    "    rotate(word,d)"
   ]
  },
  {
   "cell_type": "code",
   "execution_count": 275,
   "metadata": {},
   "outputs": [
    {
     "name": "stdout",
     "output_type": "stream",
     "text": [
      "2\n",
      "False\n"
     ]
    }
   ],
   "source": [
    "def checkEmpty(inputs, pattern): \n",
    "        \n",
    "    if len(inputs)== 0 and len(pattern)== 0:\n",
    "        return True\n",
    "  \n",
    "    # If only pattern is empty \n",
    "    if len(pattern)== 0:\n",
    "        return True\n",
    "    while len(inputs)!=0:\n",
    "        index=inputs.find(pattern)\n",
    "        if index==-1:\n",
    "            return False\n",
    "        \n",
    "        inputs = inputs[0:index] + inputs[index + len(pattern):]\n",
    "        print(index)\n",
    "    return True\n",
    "  \n",
    "   \n",
    "          \n",
    "  \n",
    "# Driver program \n",
    "if __name__ == \"__main__\":\n",
    "    \n",
    "    inputs ='GEGEEKSKS'\n",
    "    pattern ='GEEKS'\n",
    "    print(checkEmpty(inputs, pattern))"
   ]
  },
  {
   "cell_type": "code",
   "execution_count": 305,
   "metadata": {},
   "outputs": [
    {
     "name": "stdout",
     "output_type": "stream",
     "text": [
      "dict_values([1, 3, 2, 1, 1, 2, 1, 1, 1])\n"
     ]
    },
    {
     "ename": "NameError",
     "evalue": "name 'get' is not defined",
     "output_type": "error",
     "traceback": [
      "\u001b[1;31m---------------------------------------------------------------------------\u001b[0m",
      "\u001b[1;31mNameError\u001b[0m                                 Traceback (most recent call last)",
      "\u001b[1;32m<ipython-input-305-ed4907fe67a0>\u001b[0m in \u001b[0;36m<module>\u001b[1;34m\u001b[0m\n\u001b[0;32m     21\u001b[0m \u001b[1;32mif\u001b[0m \u001b[0m__name__\u001b[0m \u001b[1;33m==\u001b[0m \u001b[1;34m\"__main__\"\u001b[0m\u001b[1;33m:\u001b[0m\u001b[1;33m\u001b[0m\u001b[1;33m\u001b[0m\u001b[0m\n\u001b[0;32m     22\u001b[0m     \u001b[0minput\u001b[0m \u001b[1;33m=\u001b[0m \u001b[1;34m'panathinaikos'\u001b[0m\u001b[1;33m\u001b[0m\u001b[1;33m\u001b[0m\u001b[0m\n\u001b[1;32m---> 23\u001b[1;33m     \u001b[0mfind_dup_char\u001b[0m\u001b[1;33m(\u001b[0m\u001b[0minput\u001b[0m\u001b[1;33m)\u001b[0m\u001b[1;33m\u001b[0m\u001b[1;33m\u001b[0m\u001b[0m\n\u001b[0m",
      "\u001b[1;32m<ipython-input-305-ed4907fe67a0>\u001b[0m in \u001b[0;36mfind_dup_char\u001b[1;34m(input)\u001b[0m\n\u001b[0;32m     15\u001b[0m         \u001b[0mj\u001b[0m \u001b[1;33m=\u001b[0m \u001b[0mj\u001b[0m \u001b[1;33m+\u001b[0m \u001b[1;36m1\u001b[0m\u001b[1;33m\u001b[0m\u001b[1;33m\u001b[0m\u001b[0m\n\u001b[0;32m     16\u001b[0m         \u001b[1;32mif\u001b[0m\u001b[1;33m(\u001b[0m \u001b[0mi\u001b[0m \u001b[1;33m>\u001b[0m \u001b[1;36m1\u001b[0m \u001b[1;33m)\u001b[0m\u001b[1;33m:\u001b[0m\u001b[1;33m\u001b[0m\u001b[1;33m\u001b[0m\u001b[0m\n\u001b[1;32m---> 17\u001b[1;33m             \u001b[0mget\u001b[0m\u001b[1;33m(\u001b[0m\u001b[0mWC\u001b[0m\u001b[1;33m.\u001b[0m\u001b[0mkeys\u001b[0m\u001b[1;33m(\u001b[0m\u001b[1;33m)\u001b[0m\u001b[1;33m,\u001b[0m\u001b[0mj\u001b[0m\u001b[1;33m)\u001b[0m\u001b[1;33m\u001b[0m\u001b[1;33m\u001b[0m\u001b[0m\n\u001b[0m\u001b[0;32m     18\u001b[0m \u001b[1;33m\u001b[0m\u001b[0m\n\u001b[0;32m     19\u001b[0m \u001b[1;33m\u001b[0m\u001b[0m\n",
      "\u001b[1;31mNameError\u001b[0m: name 'get' is not defined"
     ]
    }
   ],
   "source": [
    "from collections import Counter \n",
    "  \n",
    "def find_dup_char(input): \n",
    "  \n",
    "    # now create dictionary using counter method \n",
    "    # which will have strings as key and their  \n",
    "    # frequencies as value \n",
    "    WC = Counter(input)\n",
    "    j = -1\n",
    "    print(WC.values())\n",
    "      \n",
    "    # Finding no. of  occurrence of a character \n",
    "    # and get the index of it. \n",
    "    for i in WC.values(): \n",
    "        j = j + 1\n",
    "        if( i > 1 ):\n",
    "            get(WC.keys(),j)\n",
    "                \n",
    "  \n",
    "# Driver program \n",
    "if __name__ == \"__main__\": \n",
    "    input = 'panathinaikos'\n",
    "    find_dup_char(input) "
   ]
  },
  {
   "cell_type": "code",
   "execution_count": 271,
   "metadata": {},
   "outputs": [
    {
     "name": "stdout",
     "output_type": "stream",
     "text": [
      "3\n",
      "the first is:  for\n",
      "forgeeks\n"
     ]
    }
   ],
   "source": [
    "x='forgeeksforgeeks'\n",
    "y='geeks'\n",
    "inde=x.find(y)\n",
    "print(inde)\n",
    "x1 = x[0:inde]\n",
    "x2=x[inde + len(y):]\n",
    "\n",
    "print(\"the first is: \",x1)\n",
    "print(x2)"
   ]
  },
  {
   "cell_type": "code",
   "execution_count": 280,
   "metadata": {},
   "outputs": [
    {
     "name": "stdout",
     "output_type": "stream",
     "text": [
      "Task 1 -:\n",
      "\n",
      "The sorted keys are:\n",
      "0 1 2 3 4 5 "
     ]
    }
   ],
   "source": [
    "# sort keys and values # three cases\n",
    "#first case\n",
    "\n",
    "def dictionairy():\n",
    "    key_value={}\n",
    "    \n",
    "    key_value[0]=12\n",
    "    key_value[1]=13\n",
    "    key_value[5]=3\n",
    "    key_value[2]=1\n",
    "    key_value[4]=8\n",
    "    key_value[3]=2\n",
    "    \n",
    "    print(\"Task 1 -:\\n\")\n",
    "    print(\"The sorted keys are:\")\n",
    "    \n",
    "    for i in sorted(key_value.keys()):# the same with just sorted(key_values)\n",
    "        print(i,end=\" \")\n",
    "        \n",
    "def main():\n",
    "    dictionairy()\n",
    "    \n",
    "if __name__==\"__main__\":\n",
    "    main()\n",
    "    "
   ]
  },
  {
   "cell_type": "code",
   "execution_count": 283,
   "metadata": {},
   "outputs": [
    {
     "name": "stdout",
     "output_type": "stream",
     "text": [
      "Task 1 -:\n",
      "\n",
      "The sorted keys are:\n",
      "(0, 12) (1, 13) (2, 1) (3, 2) (4, 8) (5, 3) "
     ]
    }
   ],
   "source": [
    "#second case\n",
    "\n",
    "def dictionairy():\n",
    "    key_value={}\n",
    "    \n",
    "    key_value[0]=12\n",
    "    key_value[1]=13\n",
    "    key_value[5]=3\n",
    "    key_value[2]=1\n",
    "    key_value[4]=8\n",
    "    key_value[3]=2\n",
    "    \n",
    "    print(\"Task 1 -:\\n\")\n",
    "    print(\"The sorted keys are:\")\n",
    "    \n",
    "    for i in sorted(key_value.keys()):\n",
    "        print((i,key_value[i]),end=\" \")\n",
    "        \n",
    "def main():\n",
    "    dictionairy()\n",
    "    \n",
    "if __name__==\"__main__\":\n",
    "    main()"
   ]
  },
  {
   "cell_type": "code",
   "execution_count": 291,
   "metadata": {},
   "outputs": [
    {
     "name": "stdout",
     "output_type": "stream",
     "text": [
      "Task 1 -:\n",
      "\n",
      "The sorted values are:\n",
      "[(2, 1), (3, 2), (5, 3), (4, 8), (0, 12), (1, 13)]\n"
     ]
    }
   ],
   "source": [
    "#third case\n",
    "\n",
    "def dictionairy():\n",
    "    key_value={}\n",
    "    \n",
    "    key_value[0]=12\n",
    "    key_value[1]=13\n",
    "    key_value[5]=3\n",
    "    key_value[2]=1\n",
    "    key_value[4]=8\n",
    "    key_value[3]=2\n",
    "    \n",
    "    print(\"Task 1 -:\\n\")\n",
    "    print(\"The sorted values are:\")\n",
    "    \n",
    "    print(sorted(key_value.items(),key=\n",
    "                lambda kv:(kv[1],kv[0]))) #or just kv[1]\n",
    "        \n",
    "def main():\n",
    "    dictionairy()\n",
    "    \n",
    "if __name__==\"__main__\":\n",
    "    main()"
   ]
  },
  {
   "cell_type": "code",
   "execution_count": 297,
   "metadata": {},
   "outputs": [
    {
     "name": "stdout",
     "output_type": "stream",
     "text": [
      "OrderedDict([('rajnish', '9'), ('ravi', '10'), ('sanjeev', '15'), ('suraj', '32'), ('yash', '2')])\n"
     ]
    }
   ],
   "source": [
    "# Creates a sorted dictionary (sorted by key) \n",
    "from collections import OrderedDict \n",
    "  \n",
    "dict = {'ravi':'10','rajnish':'9','sanjeev':'15','yash':'2','suraj':'32'} \n",
    "dict1 = OrderedDict(sorted(dict.items()))\n",
    "print(dict1) "
   ]
  },
  {
   "cell_type": "code",
   "execution_count": 304,
   "metadata": {},
   "outputs": [
    {
     "name": "stdout",
     "output_type": "stream",
     "text": [
      "The associated value of key 'a' is:  1\n",
      "The associated value of key 'b' is:  2\n"
     ]
    },
    {
     "ename": "KeyError",
     "evalue": "'c'",
     "output_type": "error",
     "traceback": [
      "\u001b[1;31m---------------------------------------------------------------------------\u001b[0m",
      "\u001b[1;31mKeyError\u001b[0m                                  Traceback (most recent call last)",
      "\u001b[1;32m<ipython-input-304-b21b0bc6213e>\u001b[0m in \u001b[0;36m<module>\u001b[1;34m\u001b[0m\n\u001b[0;32m      6\u001b[0m \u001b[0mprint\u001b[0m\u001b[1;33m(\u001b[0m\u001b[1;34m\"The associated value of key 'a' is: \"\u001b[0m\u001b[1;33m,\u001b[0m\u001b[0md\u001b[0m\u001b[1;33m[\u001b[0m\u001b[1;34m'a'\u001b[0m\u001b[1;33m]\u001b[0m\u001b[1;33m)\u001b[0m\u001b[1;33m\u001b[0m\u001b[1;33m\u001b[0m\u001b[0m\n\u001b[0;32m      7\u001b[0m \u001b[0mprint\u001b[0m\u001b[1;33m(\u001b[0m\u001b[1;34m\"The associated value of key 'b' is: \"\u001b[0m\u001b[1;33m,\u001b[0m\u001b[0md\u001b[0m\u001b[1;33m[\u001b[0m\u001b[1;34m'b'\u001b[0m\u001b[1;33m]\u001b[0m\u001b[1;33m)\u001b[0m\u001b[1;33m\u001b[0m\u001b[1;33m\u001b[0m\u001b[0m\n\u001b[1;32m----> 8\u001b[1;33m \u001b[0mprint\u001b[0m\u001b[1;33m(\u001b[0m\u001b[1;34m\"The associated value of key 'c' is: \"\u001b[0m\u001b[1;33m,\u001b[0m\u001b[0md\u001b[0m\u001b[1;33m[\u001b[0m\u001b[1;34m'c'\u001b[0m\u001b[1;33m]\u001b[0m\u001b[1;33m)\u001b[0m\u001b[1;33m\u001b[0m\u001b[1;33m\u001b[0m\u001b[0m\n\u001b[0m",
      "\u001b[1;31mKeyError\u001b[0m: 'c'"
     ]
    }
   ],
   "source": [
    "#Python code to demonstrate Dictionary and \n",
    "# missing value error \n",
    "\n",
    "d={'a':1,'b':2}\n",
    "\n",
    "print(\"The associated value of key 'a' is: \",d['a'])\n",
    "print(\"The associated value of key 'b' is: \",d['b'])   \n",
    "print(\"The associated value of key 'c' is: \",d['c'])"
   ]
  },
  {
   "cell_type": "code",
   "execution_count": 306,
   "metadata": {},
   "outputs": [
    {
     "name": "stdout",
     "output_type": "stream",
     "text": [
      "The associated value of key 'a' is:  1\n",
      "The associated value of key 'b' is:  2\n",
      "The associated value of key 'c' is:  Key not found!!!\n"
     ]
    }
   ],
   "source": [
    "#missing value error dictionary\n",
    "\n",
    "import collections\n",
    "defd=collections.defaultdict(lambda: 'Key not found!!!')\n",
    "\n",
    "defd['a']=1\n",
    "defd['b']=2\n",
    "\n",
    "print(\"The associated value of key 'a' is: \",defd['a'])\n",
    "print(\"The associated value of key 'b' is: \",defd['b'])   \n",
    "print(\"The associated value of key 'c' is: \",defd['c'])"
   ]
  },
  {
   "cell_type": "code",
   "execution_count": 322,
   "metadata": {},
   "outputs": [
    {
     "ename": "TypeError",
     "evalue": "'str' object is not callable",
     "output_type": "error",
     "traceback": [
      "\u001b[1;31m---------------------------------------------------------------------------\u001b[0m",
      "\u001b[1;31mTypeError\u001b[0m                                 Traceback (most recent call last)",
      "\u001b[1;32m<ipython-input-322-9191137c7bb5>\u001b[0m in \u001b[0;36m<module>\u001b[1;34m\u001b[0m\n\u001b[0;32m      4\u001b[0m \u001b[0mdict1\u001b[0m\u001b[1;33m=\u001b[0m\u001b[1;33m{\u001b[0m\u001b[1;33m}\u001b[0m\u001b[1;33m\u001b[0m\u001b[1;33m\u001b[0m\u001b[0m\n\u001b[0;32m      5\u001b[0m \u001b[1;33m\u001b[0m\u001b[0m\n\u001b[1;32m----> 6\u001b[1;33m \u001b[1;32mfor\u001b[0m \u001b[0m_\u001b[0m \u001b[1;32min\u001b[0m \u001b[0mrange\u001b[0m\u001b[1;33m(\u001b[0m\u001b[0mint\u001b[0m\u001b[1;33m(\u001b[0m\u001b[0minput\u001b[0m\u001b[1;33m(\u001b[0m\u001b[1;33m)\u001b[0m\u001b[1;33m)\u001b[0m\u001b[1;33m)\u001b[0m\u001b[1;33m:\u001b[0m\u001b[1;33m\u001b[0m\u001b[1;33m\u001b[0m\u001b[0m\n\u001b[0m\u001b[0;32m      7\u001b[0m \u001b[1;33m\u001b[0m\u001b[0m\n\u001b[0;32m      8\u001b[0m     \u001b[0mx\u001b[0m\u001b[1;33m=\u001b[0m\u001b[0mint\u001b[0m\u001b[1;33m(\u001b[0m\u001b[0minput\u001b[0m\u001b[1;33m(\u001b[0m\u001b[1;33m)\u001b[0m\u001b[1;33m)\u001b[0m\u001b[1;33m\u001b[0m\u001b[1;33m\u001b[0m\u001b[0m\n",
      "\u001b[1;31mTypeError\u001b[0m: 'str' object is not callable"
     ]
    }
   ],
   "source": [
    "# Python code to demonstrate a dictionary \n",
    "# with multiple inputs in a key.\n",
    "\n",
    "dict1={}\n",
    "\n",
    "for _ in range(int(input())):    \n",
    "    \n",
    "    x=int(input())\n",
    "    y=int(input())\n",
    "    z=int(input())\n",
    "    dict1[x,y,z]=x+y-z\n",
    "    \n",
    "print(dict1)"
   ]
  },
  {
   "cell_type": "code",
   "execution_count": 336,
   "metadata": {},
   "outputs": [
    {
     "name": "stdout",
     "output_type": "stream",
     "text": [
      "{(178, 98): 'George', (174, 65): 'Katanast'}\n",
      "\n",
      "\n",
      "[178, 174]\n",
      "[[98], [65]]\n",
      "['George', 'Katanast']\n"
     ]
    }
   ],
   "source": [
    "# multiple inputs dict\n",
    "\n",
    "names={(178,98):'George',\n",
    "      (174,65):'Katanast'}\n",
    "\n",
    "print(names)\n",
    "print('\\n')\n",
    "\n",
    "height=[]\n",
    "weight=[]\n",
    "nam=[]\n",
    "\n",
    "for i in names:\n",
    "    height.append(i[0])\n",
    "    weight.append([i[1]])\n",
    "    nam.append(names[i]) #or nam.append(names[i[0], i[1]]) \n",
    "    \n",
    "print(height)\n",
    "print(weight)\n",
    "print(nam)"
   ]
  },
  {
   "cell_type": "code",
   "execution_count": 337,
   "metadata": {},
   "outputs": [
    {
     "data": {
      "text/plain": [
       "50"
      ]
     },
     "execution_count": 337,
     "metadata": {},
     "output_type": "execute_result"
    }
   ],
   "source": [
    "#Given a dictionary in Python, write a Python program to find the sum of all Items in the dictionary.\n",
    "\n",
    "def find_sum(dict):\n",
    "    sum=0\n",
    "    for i in dict:\n",
    "        sum+=dict[i]\n",
    "    return sum\n",
    "\n",
    "dict={'a':10,\"b\":5,\"c\":20,\"d\":15}\n",
    "find_sum(dict)"
   ]
  },
  {
   "cell_type": "code",
   "execution_count": 338,
   "metadata": {},
   "outputs": [
    {
     "data": {
      "text/plain": [
       "50"
      ]
     },
     "execution_count": 338,
     "metadata": {},
     "output_type": "execute_result"
    }
   ],
   "source": [
    "#second sol\n",
    "def find_sum(dict2):\n",
    "    sum=0\n",
    "    for i in dict2.values():\n",
    "        sum+=i\n",
    "    return sum\n",
    "dicto={'a':10,\"b\":5,\"c\":20,\"d\":15}\n",
    "find_sum(dicto)"
   ]
  },
  {
   "cell_type": "code",
   "execution_count": 342,
   "metadata": {},
   "outputs": [
    {
     "name": "stdout",
     "output_type": "stream",
     "text": [
      "{'aman': 1, 'barbie': 4, 'bill': 3, 'melinda': 9, 'flower': 7}\n",
      "{'aman': 1, 'barbie': 4, 'melinda': 9, 'flower': 7}\n",
      "3\n",
      "\r\n",
      "{'aman': 1, 'barbie': 4, 'melinda': 9, 'flower': 7}\n",
      "No key found\n"
     ]
    }
   ],
   "source": [
    "#remove value from a dict\n",
    "\n",
    "test_dict={'aman':1,'barbie':4,'bill':3,'melinda':9,'flower':7}\n",
    "print(test_dict)\n",
    "test=test_dict.pop('bill','No key found')\n",
    "print(test_dict)\n",
    "print(test)\n",
    "print('\\r')\n",
    "test=test_dict.pop('bil','No key found')\n",
    "print(test_dict)\n",
    "print(test)\n"
   ]
  },
  {
   "cell_type": "code",
   "execution_count": 343,
   "metadata": {},
   "outputs": [
    {
     "name": "stdout",
     "output_type": "stream",
     "text": [
      "{'Arushi': 22, 'Anuradha': 21, 'Haritha': 21}\n"
     ]
    }
   ],
   "source": [
    "# Python code to demonstrate \n",
    "# removal of dict. pair  \n",
    "# using items() + dict comprehension \n",
    "  \n",
    "# Initializing dictionary \n",
    "test_dict = {\"Arushi\" : 22, \"Anuradha\" : 21, \"Mani\" : 21, \"Haritha\" : 21}\n",
    "\n",
    "new_dict={key:val for key,val in test_dict.items() if key!=\"Mani\"}\n",
    "\n",
    "print(new_dict)"
   ]
  },
  {
   "cell_type": "code",
   "execution_count": 349,
   "metadata": {},
   "outputs": [
    {
     "name": "stdout",
     "output_type": "stream",
     "text": [
      "[{'name': 'Nandini', 'age': 20}, {'name': 'Manjeet', 'age': 20}, {'name': 'Nikhil', 'age': 19}]\n",
      "The sorted list by age is: \n",
      "[{'name': 'Nikhil', 'age': 19}, {'name': 'Nandini', 'age': 20}, {'name': 'Manjeet', 'age': 20}]\n",
      "\r\n",
      "The sorted list by age and name is: \n",
      "[{'name': 'Nikhil', 'age': 19}, {'name': 'Manjeet', 'age': 20}, {'name': 'Nandini', 'age': 20}]\n",
      "\r\n",
      "The sorted list by age in descending order is: \n",
      "[{'name': 'Nandini', 'age': 20}, {'name': 'Manjeet', 'age': 20}, {'name': 'Nikhil', 'age': 19}]\n"
     ]
    }
   ],
   "source": [
    "# Python code demonstrate the working of sorted() \n",
    "# and itemgetter \n",
    "  \n",
    "# importing \"operator\" for implementing itemgetter \n",
    "from operator import itemgetter \n",
    "  \n",
    "# Initializing list of dictionaries \n",
    "lis = [{ \"name\" : \"Nandini\", \"age\" : 20},  \n",
    "{ \"name\" : \"Manjeet\", \"age\" : 20 }, \n",
    "{ \"name\" : \"Nikhil\" , \"age\" : 19 }] \n",
    "print(lis)\n",
    "\n",
    "print(\"The sorted list by age is: \")\n",
    "print(sorted(lis,key=itemgetter('age')))\n",
    "print('\\r')\n",
    "print(\"The sorted list by age and name is: \")\n",
    "print(sorted(lis,key=itemgetter('age','name')))\n",
    "print('\\r')\n",
    "print(\"The sorted list by age in descending order is: \")\n",
    "print(sorted(lis,key=itemgetter('age'),reverse=True))"
   ]
  },
  {
   "cell_type": "code",
   "execution_count": 350,
   "metadata": {},
   "outputs": [
    {
     "name": "stdout",
     "output_type": "stream",
     "text": [
      "The list printed sorting by age: \n",
      "[{'name': 'Nikhil', 'age': 19}, {'name': 'Nandini', 'age': 20}, {'name': 'Manjeet', 'age': 20}]\n",
      "\r\n",
      "The list printed sorting by age and name: \n",
      "[{'name': 'Nikhil', 'age': 19}, {'name': 'Manjeet', 'age': 20}, {'name': 'Nandini', 'age': 20}]\n",
      "\r\n",
      "The list printed sorting by age in descending order: \n",
      "[{'name': 'Nandini', 'age': 20}, {'name': 'Manjeet', 'age': 20}, {'name': 'Nikhil', 'age': 19}]\n"
     ]
    }
   ],
   "source": [
    "# Python code demonstrate the working of \n",
    "# sorted() with lambda \n",
    "  \n",
    "# Initializing list of dictionaries \n",
    "lis = [{ \"name\" : \"Nandini\", \"age\" : 20},  \n",
    "{ \"name\" : \"Manjeet\", \"age\" : 20 }, \n",
    "{ \"name\" : \"Nikhil\" , \"age\" : 19 }] \n",
    "  \n",
    "# using sorted and lambda to print list sorted \n",
    "# by age  \n",
    "print (\"The list printed sorting by age: \")\n",
    "print (sorted(lis, key = lambda i: i['age'])) \n",
    "  \n",
    "print (\"\\r\") \n",
    "  \n",
    "# using sorted and lambda to print list sorted  \n",
    "# by both age and name. Notice that \"Manjeet\" \n",
    "# now comes before \"Nandini\" \n",
    "print (\"The list printed sorting by age and name: \")\n",
    "print (sorted(lis, key = lambda i: (i['age'], i['name']))) \n",
    "  \n",
    "print (\"\\r\") \n",
    "  \n",
    "# using sorted and lambda to print list sorted \n",
    "# by age in descending order \n",
    "print (\"The list printed sorting by age in descending order: \")\n",
    "print (sorted(lis, key = lambda i: i['age'],reverse=True)) "
   ]
  },
  {
   "cell_type": "code",
   "execution_count": 352,
   "metadata": {},
   "outputs": [
    {
     "name": "stdout",
     "output_type": "stream",
     "text": [
      "None\n",
      "{'c': 6, 'd': 10, 'a': 5, 'b': 9}\n"
     ]
    }
   ],
   "source": [
    "#merge dictionaries\n",
    "\n",
    "def merge_dict(dict1,dict2):\n",
    "    return dict2.update(dict1)\n",
    "\n",
    "dict1={'a':5,'b':9}\n",
    "dict2={'c':6,\"d\":10}\n",
    "\n",
    "print(merge_dict(dict1,dict2))\n",
    "print(dict2)\n"
   ]
  },
  {
   "cell_type": "code",
   "execution_count": 353,
   "metadata": {},
   "outputs": [
    {
     "name": "stdout",
     "output_type": "stream",
     "text": [
      "{'a': 5, 'b': 9, 'c': 6, 'd': 10}\n"
     ]
    }
   ],
   "source": [
    "# Python code to merge dict using a single  \n",
    "# expression \n",
    "def Merge(dict1, dict2): \n",
    "    res = {**dict1, **dict2} \n",
    "    return res \n",
    "      \n",
    "# Driver code \n",
    "dict1={'a':5,'b':9}\n",
    "dict2={'c':6,\"d\":10}\n",
    "dict3 = Merge(dict1, dict2) \n",
    "print(dict3) "
   ]
  },
  {
   "cell_type": "code",
   "execution_count": 375,
   "metadata": {},
   "outputs": [],
   "source": [
    "del dict"
   ]
  },
  {
   "cell_type": "code",
   "execution_count": 385,
   "metadata": {},
   "outputs": [
    {
     "name": "stdout",
     "output_type": "stream",
     "text": [
      "{80: 1, 20: 2}\n",
      "[80, 20, 20]\n"
     ]
    }
   ],
   "source": [
    "# Function to find common elements in three \n",
    "# sorted arrays \n",
    "from collections import Counter \n",
    "  \n",
    "def commonElement(ar1,ar2,ar3):\n",
    "    ar1 = Counter(ar1)\n",
    "    ar2 = Counter(ar2)\n",
    "    ar3 = Counter(ar3) \n",
    "     \n",
    "     # perform intersection operation \n",
    "    resultDict = dict(ar1.items()& ar2.items() & ar3.items())\n",
    "    common = [] \n",
    "    print(resultDict) \n",
    "     # iterate through resultant dictionary \n",
    "     # and collect common elements \n",
    "    for (key,val) in resultDict.items(): \n",
    "        for i in range(0,val):\n",
    "            common.append(key) \n",
    "           \n",
    "    print(common) \n",
    "  \n",
    "# Driver program \n",
    "if __name__ == \"__main__\": \n",
    "    ar1 = [1, 5, 20, 20, 40, 80] \n",
    "    ar2 = [6, 20, 20, 80, 100] \n",
    "    ar3 = [3, 4, 15, 20, 20, 70, 80, 120] \n",
    "    commonElement(ar1,ar2,ar3) "
   ]
  },
  {
   "cell_type": "code",
   "execution_count": 405,
   "metadata": {},
   "outputs": [
    {
     "name": "stdout",
     "output_type": "stream",
     "text": [
      "{3: ['john', 'jackie', 'jamie'], 2: ['johnny']}\n",
      "['john', 'jackie', 'jamie']\n",
      "jackie\n"
     ]
    }
   ],
   "source": [
    "# Function to find winner of an election where votes \n",
    "# are represented as candidate names \n",
    "from collections import Counter \n",
    "  \n",
    "def winner(input): \n",
    "  \n",
    "     # convert list of candidates into dictionary \n",
    "     # output will be likes candidates = {'A':2, 'B':4} \n",
    "     votes = Counter(input) \n",
    "       \n",
    "     # create another dictionary and it's key will \n",
    "     # be count of votes values will be name of  \n",
    "     # candidates \n",
    "     dict = {} \n",
    "  \n",
    "     for value in votes.values(): \n",
    "  \n",
    "          # initialize empty list to each key to  \n",
    "          # insert candidate names having same  \n",
    "          # number of votes  \n",
    "          dict[value] = [] \n",
    "  \n",
    "     for (key,value) in votes.items(): \n",
    "          dict[value].append(key) \n",
    "     print(dict)\n",
    "     \n",
    "  \n",
    "     # sort keys in descending order to get maximum  \n",
    "     # value of votes \n",
    "     maxVote = sorted(dict.keys(),reverse=True)[0] \n",
    "     print(dict[maxVote])\n",
    "     # check if more than 1 candidates have same  \n",
    "     # number of votes. If yes, then sort the list \n",
    "     # first and print first element \n",
    "     if len(dict[maxVote])>1: \n",
    "         print (sorted(dict[maxVote])[0]) \n",
    "     else: \n",
    "         print (dict[maxVote][0] )\n",
    "  \n",
    "# Driver program \n",
    "if __name__ == \"__main__\": \n",
    "    input =['john','johnny','jackie','johnny','jackie','john','jackie','jamie', \n",
    "'john','jamie','jamie'] \n",
    "    winner(input) "
   ]
  },
  {
   "cell_type": "code",
   "execution_count": 433,
   "metadata": {},
   "outputs": [
    {
     "name": "stdout",
     "output_type": "stream",
     "text": [
      "Counter({'john': 4, 'johnny': 4, 'jamie': 3, 'jackie': 2})\n",
      "4\n",
      "['john', 'johnny']\n",
      "john\n"
     ]
    }
   ],
   "source": [
    "#second solution\n",
    "\n",
    "from collections import Counter\n",
    "\n",
    "votes=['john','johnny','jackie','johnny','john','jackie', \n",
    "    'jamie','jamie','john','johnny','jamie','johnny','john'] \n",
    "\n",
    "vote_count=Counter(votes)\n",
    "print(vote_count)\n",
    "\n",
    "max_votes=max(vote_count.values())\n",
    "print(max_votes)\n",
    "\n",
    "lst=[i for i in vote_count.keys() if vote_count[i]==max_votes] \n",
    "print(lst)\n",
    "print(sorted(lst)[0])"
   ]
  },
  {
   "cell_type": "code",
   "execution_count": 418,
   "metadata": {},
   "outputs": [
    {
     "name": "stdout",
     "output_type": "stream",
     "text": [
      "Jack Frost\n",
      "=+=+=+=+=+=+=+=+=+=+=+=+=+=+=+=+=+=+=+=\n",
      "Average marks of Jack Frost is : 72.79 \n",
      "Letter Grade of Jack Frost is : C\n",
      "\n",
      "James Potter\n",
      "=+=+=+=+=+=+=+=+=+=+=+=+=+=+=+=+=+=+=+=\n",
      "Average marks of James Potter is : 75.962 \n",
      "Letter Grade of James Potter is : C\n",
      "\n",
      "Dylan Rhodes\n",
      "=+=+=+=+=+=+=+=+=+=+=+=+=+=+=+=+=+=+=+=\n",
      "Average marks of Dylan Rhodes is : 75.775 \n",
      "Letter Grade of Dylan Rhodes is : C\n",
      "\n",
      "Jessica Stone\n",
      "=+=+=+=+=+=+=+=+=+=+=+=+=+=+=+=+=+=+=+=\n",
      "Average marks of Jessica Stone is : 48.356 \n",
      "Letter Grade of Jessica Stone is : E\n",
      "\n",
      "Tom Hanks\n",
      "=+=+=+=+=+=+=+=+=+=+=+=+=+=+=+=+=+=+=+=\n",
      "Average marks of Tom Hanks is : 57.26 \n",
      "Letter Grade of Tom Hanks is : E\n",
      "\n",
      "Class Average is 72.79\n",
      "Letter Grade of the class is C \n"
     ]
    }
   ],
   "source": [
    "#grade calculator\n",
    "\n",
    "# 1. Jack's dictionary \n",
    "jack={'name':'Jack Frost',\n",
    "     'assignment':[80,50,40,20],\n",
    "     'test':[75,75],\n",
    "     'lab':[78.20,77.20]}\n",
    "\n",
    "# 2. Jame's dictionary \n",
    "james = { \"name\":\"James Potter\", \n",
    "          \"assignment\" : [82, 56, 44, 30], \n",
    "          \"test\" : [80, 80], \n",
    "          \"lab\" : [67.90, 78.72] \n",
    "        } \n",
    "  \n",
    "# 3. Dylan's dictionary \n",
    "dylan = { \"name\" : \"Dylan Rhodes\", \n",
    "          \"assignment\" : [77, 82, 23, 39], \n",
    "          \"test\" : [78, 77], \n",
    "          \"lab\" : [80, 80] \n",
    "        } \n",
    "          \n",
    "# 4. Jessica's dictionary \n",
    "jess = { \"name\" : \"Jessica Stone\", \n",
    "         \"assignment\" : [67, 55, 77, 21], \n",
    "         \"test\" : [40, 50], \n",
    "         \"lab\" : [69, 44.56] \n",
    "       } \n",
    "         \n",
    "# 5. Tom's dictionary \n",
    "tom = { \"name\" : \"Tom Hanks\", \n",
    "        \"assignment\" : [29, 89, 60, 56], \n",
    "        \"test\" : [65, 56], \n",
    "        \"lab\" : [50, 40.6]} \n",
    "\n",
    "\n",
    "# Function calculates average\n",
    "def get_average(marks):\n",
    "    \n",
    "    total_sum=sum(marks)\n",
    "    total_sum=float(total_sum)\n",
    "    return total_sum/len(marks)\n",
    "    \n",
    "# Function calculates total average \n",
    "\n",
    "def calculate_total_average(students): \n",
    "    assignment = get_average(students[\"assignment\"]) \n",
    "    test = get_average(students[\"test\"]) \n",
    "    lab = get_average(students[\"lab\"]) \n",
    "    # Return the result based \n",
    "    # on weightage supplied \n",
    "    # 10 % from assignments \n",
    "    # 70 % from test \n",
    "    # 20 % from lab-works \n",
    "    return (0.1 * assignment +\n",
    "            0.7 * test + 0.2 * lab) \n",
    "\n",
    "# Calculate letter grade of each student \n",
    "def assign_letter_grade(score): \n",
    "    if score >= 90: return \"A\"\n",
    "    elif score >= 80: return \"B\"\n",
    "    elif score >= 70: return \"C\"\n",
    "    elif score >= 60: return \"D\"\n",
    "    else : return \"E\"\n",
    "    \n",
    "# Function to calculate the total \n",
    "# average marks of the whole class \n",
    "def class_average_is(student_list): \n",
    "    result_list = [] \n",
    "  \n",
    "    for student in student_list: \n",
    "        stud_avg = calculate_total_average(student) \n",
    "        result_list.append(stud_avg) \n",
    "        return get_average(result_list)\n",
    "    \n",
    "# Student list consisting the \n",
    "# dictionary of all students \n",
    "students = [jack, james, dylan, jess, tom]\n",
    "\n",
    "# Iterate through the students list \n",
    "# and calculate their respective \n",
    "# average marks and letter grade \n",
    "for i in students : \n",
    "    print(i[\"name\"]) \n",
    "    print(\"=+=+=+=+=+=+=+=+=+=+=+=+=+=+=+=+=+=+=+=\") \n",
    "    print(\"Average marks of %s is : %s \" %(i[\"name\"], \n",
    "                         calculate_total_average(i))) \n",
    "                           \n",
    "    print(\"Letter Grade of %s is : %s\" %(i[\"name\"], \n",
    "    assign_letter_grade(calculate_total_average(i)))) \n",
    "      \n",
    "    print() \n",
    "\n",
    "# Calculate the average of whole class \n",
    "class_av = class_average_is(students) \n",
    "  \n",
    "print( \"Class Average is %s\" %(class_av)) \n",
    "print(\"Letter Grade of the class is %s \" \n",
    "        %(assign_letter_grade(class_av))) \n",
    "       "
   ]
  },
  {
   "cell_type": "code",
   "execution_count": 487,
   "metadata": {
    "scrolled": true
   },
   "outputs": [
    {
     "name": "stdout",
     "output_type": "stream",
     "text": [
      "{'act': ['cat']}\n",
      "{'act': ['cat'], 'dgo': ['dog']}\n",
      "{'act': ['cat', 'tac'], 'dgo': ['dog']}\n",
      "{'act': ['cat', 'tac'], 'dgo': ['dog', 'god']}\n",
      "{'act': ['cat', 'tac', 'act'], 'dgo': ['dog', 'god']}\n",
      "cat tac act dog god \n"
     ]
    }
   ],
   "source": [
    "# Function to return all anagrams together \n",
    "def allAnagram(input): \n",
    "      \n",
    "    # empty dictionary which holds subsets  \n",
    "    # of all anagrams together \n",
    "    dict = {} \n",
    "  \n",
    "    # traverse list of strings \n",
    "    for strVal in input: \n",
    "          \n",
    "        # sorted(iterable) method accepts any  \n",
    "        # iterable and rerturns list of items \n",
    "        # in ascending order \n",
    "        key = ''.join(sorted(strVal)) \n",
    "        \n",
    "        # now check if key exist in dictionary \n",
    "        # or not. If yes then simply append the   \n",
    "        # strVal into the list of it's corresponding  \n",
    "        # key. If not then map empty list onto \n",
    "        # key and then start appending values \n",
    "        if key in dict.keys(): \n",
    "            dict[key].append(strVal) \n",
    "        else: \n",
    "            dict[key] = [] \n",
    "            dict[key].append(strVal) \n",
    "        print(dict)\n",
    "     # traverse dictionary and concatenate values  \n",
    "     # of keys together \n",
    "        output = \"\" \n",
    "        for key,value in dict.items(): \n",
    "            output = output + ' '.join(value) + ' '\n",
    "  \n",
    "    return output \n",
    "  \n",
    "# Driver function \n",
    "if __name__ == \"__main__\": \n",
    "    input=['cat', 'dog', 'tac', 'god', 'act'] \n",
    "    print( allAnagram(input) )\n",
    "\n"
   ]
  },
  {
   "cell_type": "code",
   "execution_count": 497,
   "metadata": {},
   "outputs": [
    {
     "name": "stdout",
     "output_type": "stream",
     "text": [
      "OrderedDict([('g', 0), ('e', 0), ('k', 0), ('s', 0), ('f', 0), ('o', 0), ('r', 0)])\n",
      "OrderedDict([('g', 2), ('e', 4), ('k', 2), ('s', 2), ('f', 1), ('o', 1), ('r', 1)])\n",
      "o\n"
     ]
    }
   ],
   "source": [
    "# Function to find k'th non repeating character  \n",
    "# in string \n",
    "from collections import OrderedDict \n",
    "  \n",
    "def kthRepeating(input,k): \n",
    "  \n",
    "    # OrderedDict returns a dictionary data  \n",
    "        # structure having characters of input \n",
    "    # string as keys in the same order they  \n",
    "        # were inserted and 0 as their default value \n",
    "    dict=OrderedDict.fromkeys(input,0) \n",
    "    print(dict)\n",
    "    # now traverse input string to calculate \n",
    "        # frequency of each character \n",
    "    for ch in input: \n",
    "        dict[ch]+=1\n",
    "    print(dict)\n",
    "    # now extract list of all keys whose value \n",
    "        # is 1 from dict Ordered Dictionary  \n",
    "    nonRepeatDict = [key for (key,value) in \n",
    "                    dict.items() if value==1] \n",
    "      \n",
    "    # now return (k-1)th character from above list \n",
    "    if len(nonRepeatDict) < k: \n",
    "        return 'Less than k non-repeating characters in input.' \n",
    "    else: \n",
    "        return nonRepeatDict[k-1] \n",
    "  \n",
    "# Driver function \n",
    "if __name__ == \"__main__\": \n",
    "    input = \"geeksforgeeks\"\n",
    "    k = 2\n",
    "    print (kthRepeating(input, k) )"
   ]
  },
  {
   "cell_type": "code",
   "execution_count": 501,
   "metadata": {},
   "outputs": [
    {
     "name": "stdout",
     "output_type": "stream",
     "text": [
      "r\n"
     ]
    }
   ],
   "source": [
    "from collections import OrderedDict\n",
    "\n",
    "def kth_nonrepeated(input,k):\n",
    "    dict1=OrderedDict.fromkeys(input,0)\n",
    "    \n",
    "    for ch in input:\n",
    "        dict1[ch]+=1\n",
    "        \n",
    "    nonrepeatdict=[key for key,value in dict1.items() if dict1[key]==1] # if dict1[key]==1 is equal to if value==1 before\n",
    "    \n",
    "    if len(nonrepeatdict) < k: \n",
    "        return 'Less than k non-repeating characters in input.' \n",
    "    else: \n",
    "        return nonrepeatdict[k-1] \n",
    "  \n",
    "# Driver function \n",
    "if __name__ == \"__main__\": \n",
    "    input = \"geeksforgeeks\"\n",
    "    k = 3\n",
    "    print (kth_nonrepeated(input, k) )"
   ]
  },
  {
   "cell_type": "code",
   "execution_count": 508,
   "metadata": {},
   "outputs": [
    {
     "name": "stdout",
     "output_type": "stream",
     "text": [
      "0b1000\n",
      "0b100\n",
      "1000\n",
      "100\n",
      "1000\n",
      "0100\n",
      "The converted binary to dicitonary representations are: \n",
      "Counter({'0': 3, '1': 1})\n",
      "Counter({'0': 3, '1': 1})\n",
      "Yes, dict2 is an anagram of dict1\n"
     ]
    }
   ],
   "source": [
    "# function to Check if binary representations \n",
    "# of two numbers are anagram \n",
    "\n",
    "from collections import Counter\n",
    "def checkAnagram(num1,num2):\n",
    "    \n",
    "    bin1=bin(num1)\n",
    "    bin2=bin(num2)\n",
    "\n",
    "    print(bin1)\n",
    "    print(bin2)\n",
    "\n",
    "    bin1=bin1[2:]\n",
    "    bin2=bin2[2:]\n",
    "\n",
    "    print(bin1)\n",
    "    print(bin2)\n",
    "\n",
    "    zeros=abs(len(bin1)-len(bin2))\n",
    "    if len(bin1)>len(bin2):\n",
    "        bin2=zeros * '0' + bin2\n",
    "    else:\n",
    "        bin1=zeros* '0' +bin1\n",
    "    print(bin1)\n",
    "    print(bin2)\n",
    "    # convert binary representations  \n",
    "        # into dictionary \n",
    "    dict1 = Counter(bin1) \n",
    "    dict2 = Counter(bin2)\n",
    "    print(\"The converted binary to dicitonary representations are: \")\n",
    "    print(dict1)\n",
    "    print(dict2)\n",
    "\n",
    "    if dict1==dict2:\n",
    "        print(\"Yes, dict2 is an anagram of dict1\")\n",
    "    else:\n",
    "        print(\"No\")\n",
    "def main():\n",
    "    num1=8\n",
    "    num2=4\n",
    "    checkAnagram(num1,num2)\n",
    "if __name__ == \"__main__\":\n",
    "     main()"
   ]
  },
  {
   "cell_type": "code",
   "execution_count": 548,
   "metadata": {},
   "outputs": [
    {
     "name": "stdout",
     "output_type": "stream",
     "text": [
      "['ant', 'magenta', 'magnate', 'tan', 'gnamate']\n",
      "\r\n",
      "['ant', 'magenta', 'magnate', 'tan', 'gnamate']\n",
      "['ant', 'aaegmnt', 'magnate', 'tan', 'gnamate']\n",
      "['ant', 'aaegmnt', 'aaegmnt', 'tan', 'gnamate']\n",
      "['ant', 'aaegmnt', 'aaegmnt', 'ant', 'gnamate']\n",
      "['ant', 'aaegmnt', 'aaegmnt', 'ant', 'aaegmnt']\n",
      "\r\n",
      "Counter({'aaegmnt': 3, 'ant': 2})\n",
      "\r\n",
      " The max anagram freq.value is: 3\n",
      "and comes from the sorted string: aaegmnt\n"
     ]
    }
   ],
   "source": [
    "# maximum anagram size\n",
    "\n",
    "def maxAnagramSize(input):\n",
    "    input=input.split(' ')\n",
    "    print(input)\n",
    "    print('\\r')\n",
    "    for i in range(len(input)):\n",
    "\n",
    "        input[i]=''.join(sorted(input[i])) #kanei sort th kathe leksi kai emfanizei to proto anagrammatismo gia kathe mia\n",
    "        print(input)\n",
    "    # now create dictionary using counter method \n",
    "    # which will have strings as key and their  \n",
    "    # frequencies as value \n",
    "    freqDict = Counter(input)  \n",
    "    print(\"\\r\")\n",
    "    print(freqDict)   \n",
    "    print(\"\\r\")\n",
    "    print(\" The max anagram freq.value is: \",end='')\n",
    "    print(max(freqDict.values()))\n",
    "    answer=[key for key,value in freqDict.items() if freqDict[key]==max(freqDict.values())]\n",
    "    print(\"and comes from the sorted string:\",*answer)\n",
    "# Driver program \n",
    "if __name__ == \"__main__\": \n",
    "    input = 'ant magenta magnate tan gnamate'\n",
    "    maxAnagramSize(input)         \n"
   ]
  },
  {
   "cell_type": "code",
   "execution_count": 559,
   "metadata": {},
   "outputs": [
    {
     "name": "stdout",
     "output_type": "stream",
     "text": [
      "['Python', 'is', 'great', 'and', 'Java', 'is', 'also', 'great']\n",
      "['Python', 'is', 'great', 'and', 'Java', 'is', 'also', 'great']\n",
      "Counter({'is': 2, 'great': 2, 'Python': 1, 'and': 1, 'Java': 1, 'also': 1})\n",
      "\r\n",
      "dict_keys(['Python', 'is', 'great', 'and', 'Java', 'also'])\n",
      "Python is great and Java also\n"
     ]
    }
   ],
   "source": [
    "from collections import Counter \n",
    "  \n",
    "def remov_duplicates(input): \n",
    "    # split input string separated by space \n",
    "    input = input.split(\" \") \n",
    "    print(input)\n",
    "    \n",
    "    # joins two adjacent elements in iterable way \n",
    "    for i in range(0, len(input)): \n",
    "        input[i] = \"\".join(input[i]) \n",
    "    print(input)\n",
    "    # now create dictionary using counter method \n",
    "    # which will have strings as key and their  \n",
    "    # frequencies as value \n",
    "    UniqW = Counter(input) \n",
    "    print(UniqW)\n",
    "    print(\"\\r\")\n",
    "    print(UniqW.keys())\n",
    "    # joins two adjacent elements in iterable way \n",
    "    s = \" \".join(UniqW.keys()) \n",
    "    print (s) \n",
    "  \n",
    "# Driver program \n",
    "if __name__ == \"__main__\": \n",
    "    input = 'Python is great and Java is also great'\n",
    "    remov_duplicates(input) "
   ]
  },
  {
   "cell_type": "code",
   "execution_count": 562,
   "metadata": {},
   "outputs": [
    {
     "name": "stdout",
     "output_type": "stream",
     "text": [
      "['Python', 'is', 'great', 'and', 'Java', 'is', 'also', 'great']\n",
      "Python is great and Java also\n"
     ]
    }
   ],
   "source": [
    "# Program without using any external library \n",
    "s = \"Python is great and Java is also great\"\n",
    "l = s.split() \n",
    "print(l)\n",
    "k = [] \n",
    "for i in l: \n",
    "  \n",
    "    # If condition is used to store unique string  \n",
    "    # in another list 'k'  \n",
    "    if (l.count(i)>1 and (i not in k)or l.count(i)==1): \n",
    "        k.append(i) \n",
    "print(' '.join(k)) "
   ]
  },
  {
   "cell_type": "code",
   "execution_count": 575,
   "metadata": {},
   "outputs": [
    {
     "ename": "NameError",
     "evalue": "name 'dict' is not defined",
     "output_type": "error",
     "traceback": [
      "\u001b[1;31m---------------------------------------------------------------------------\u001b[0m",
      "\u001b[1;31mNameError\u001b[0m                                 Traceback (most recent call last)",
      "\u001b[1;32m<ipython-input-575-7f1c028050d8>\u001b[0m in \u001b[0;36m<module>\u001b[1;34m\u001b[0m\n\u001b[1;32m----> 1\u001b[1;33m \u001b[1;32mdel\u001b[0m \u001b[0mdict\u001b[0m\u001b[1;33m\u001b[0m\u001b[1;33m\u001b[0m\u001b[0m\n\u001b[0m",
      "\u001b[1;31mNameError\u001b[0m: name 'dict' is not defined"
     ]
    }
   ],
   "source": [
    "del dict"
   ]
  },
  {
   "cell_type": "code",
   "execution_count": 581,
   "metadata": {},
   "outputs": [
    {
     "name": "stdout",
     "output_type": "stream",
     "text": [
      "{'a': 'z', 'b': 'y', 'c': 'x', 'd': 'w', 'e': 'v', 'f': 'u', 'g': 't', 'h': 's', 'i': 'r', 'j': 'q', 'k': 'p', 'l': 'o', 'm': 'n', 'n': 'm', 'o': 'l', 'p': 'k', 'q': 'j', 'r': 'i', 's': 'h', 't': 'g', 'u': 'f', 'v': 'e', 'w': 'd', 'x': 'c', 'y': 'b', 'z': 'a'}\n",
      "parawlc\n",
      "w\n"
     ]
    }
   ],
   "source": [
    "def mirrorchars(input,k):\n",
    "    original = 'abcdefghijklmnopqrstuvwxyz'\n",
    "    reverse = 'zyxwvutsrqponmlkjihgfedcba'\n",
    "    dictchars=dict(zip(original,reverse))\n",
    "    print(dictchars)\n",
    "    prefix=input[0:k-1]\n",
    "    suffix=input[k-1:]\n",
    "    mirror=''\n",
    "    for i in range(len(suffix)):\n",
    "        mirror=mirror+dictchars[suffix[i]]\n",
    "    print(prefix+mirror)\n",
    "       \n",
    "    \n",
    "if __name__ == \"__main__\": \n",
    "    k=5\n",
    "    input='paradox'\n",
    "    mirrorchars(input,k)"
   ]
  },
  {
   "cell_type": "code",
   "execution_count": 589,
   "metadata": {},
   "outputs": [
    {
     "name": "stdout",
     "output_type": "stream",
     "text": [
      "1:5\n",
      "5:2\n",
      "3:3\n",
      "4:3\n",
      "2:4\n"
     ]
    }
   ],
   "source": [
    "def countfreq(mylist):\n",
    "    \n",
    "    freq={}\n",
    "    \n",
    "    for item in mylist:\n",
    "        if item in freq:\n",
    "            freq[item]+=1\n",
    "        else:\n",
    "            freq[item]=1\n",
    "        \n",
    "    for key,value in freq.items():\n",
    "        print(\"%d:%d\"%(key,value))\n",
    "        \n",
    "if __name__ == \"__main__\":\n",
    "    mylist =[1, 1, 1, 5, 5, 3, 1, 3, 3, 1, 4, 4, 4, 2, 2, 2, 2] \n",
    "    countfreq(mylist)\n",
    "        \n",
    "    "
   ]
  },
  {
   "cell_type": "code",
   "execution_count": 591,
   "metadata": {},
   "outputs": [
    {
     "name": "stdout",
     "output_type": "stream",
     "text": [
      "{1: 5, 5: 2, 3: 3, 4: 3, 2: 4}\n"
     ]
    }
   ],
   "source": [
    "#second sol\n",
    "\n",
    "# Python program to count the frequency of \n",
    "# elements in a list using a dictionary \n",
    "  \n",
    "def CountFrequency(my_list): \n",
    "      \n",
    "   # Creating an empty dictionary  \n",
    "   count = {} \n",
    "   for i in my_list: \n",
    "    count[i] = count.get(i, 0) + 1\n",
    "   return count \n",
    "  \n",
    "# Driver function \n",
    "if __name__ == \"__main__\":  \n",
    "    my_list =[1, 1, 1, 5, 5, 3, 1, 3, 3, 1, 4, 4, 4, 2, 2, 2, 2] \n",
    "    print(CountFrequency(my_list)) "
   ]
  },
  {
   "cell_type": "code",
   "execution_count": 592,
   "metadata": {},
   "outputs": [
    {
     "name": "stdout",
     "output_type": "stream",
     "text": [
      " 1 :  5\n",
      " 5 :  2\n",
      " 3 :  3\n",
      " 4 :  3\n",
      " 2 :  4\n"
     ]
    }
   ],
   "source": [
    "#third sol\n",
    "\n",
    "# Python program to count the frequency of \n",
    "# elements in a list using a dictionary \n",
    "  \n",
    "def CountFrequency(my_list): \n",
    "      \n",
    "    # Creating an empty dictionary  \n",
    "    freq = {} \n",
    "    for items in my_list: \n",
    "        freq[items] = my_list.count(items) \n",
    "      \n",
    "    for key, value in freq.items(): \n",
    "        print (\"% d : % d\"%(key, value)) \n",
    "  \n",
    "# Driver function \n",
    "if __name__ == \"__main__\":  \n",
    "    my_list =[1, 1, 1, 5, 5, 3, 1, 3, 3, 1, 4, 4, 4, 2, 2, 2, 2] \n",
    "    CountFrequency(my_list) "
   ]
  },
  {
   "cell_type": "code",
   "execution_count": 593,
   "metadata": {},
   "outputs": [
    {
     "name": "stdout",
     "output_type": "stream",
     "text": [
      "{'akash': [10], 'gaurav': [12], 'anand': [14], 'suraj': [20], 'akhil': [25], 'ashish': [30]}\n"
     ]
    }
   ],
   "source": [
    "# Python code to convert into dictionary \n",
    "  \n",
    "def Convert(tup, di): \n",
    "    for a, b in tup: \n",
    "        di.setdefault(a, []).append(b) \n",
    "    return di \n",
    "      \n",
    "# Driver Code     \n",
    "tups = [(\"akash\", 10), (\"gaurav\", 12), (\"anand\", 14),  \n",
    "     (\"suraj\", 20), (\"akhil\", 25), (\"ashish\", 30)] \n",
    "dictionary = {} \n",
    "print (Convert(tups, dictionary)) "
   ]
  },
  {
   "cell_type": "code",
   "execution_count": 596,
   "metadata": {},
   "outputs": [
    {
     "name": "stdout",
     "output_type": "stream",
     "text": [
      "{'Nakul': [93], 'Shivansh': [45], 'Samved': [65], 'Yash': [88], 'Vidit': [70], 'Pradeep': [52]}\n"
     ]
    }
   ],
   "source": [
    "# Python code to convert into dictionary \n",
    "list_1=[(\"Nakul\",93), (\"Shivansh\",45), (\"Samved\",65), \n",
    "           (\"Yash\",88), (\"Vidit\",70), (\"Pradeep\",52)] \n",
    "\n",
    "dict1=dict()\n",
    "for student,score in list_1:\n",
    "    dict1.setdefault(student,[]).append(score)\n",
    "print(dict1)"
   ]
  },
  {
   "cell_type": "code",
   "execution_count": 597,
   "metadata": {},
   "outputs": [
    {
     "name": "stdout",
     "output_type": "stream",
     "text": [
      "{'akash': 10, 'gaurav': 12, 'anand': 14, 'suraj': 20, 'akhil': 25, 'ashish': 30}\n"
     ]
    }
   ],
   "source": [
    "# Python code to convert into dictionary \n",
    "def Convert(tup, di): \n",
    "    di = dict(tup) \n",
    "    return di \n",
    "      \n",
    "# Driver Code  \n",
    "tups = [(\"akash\", 10), (\"gaurav\", 12), (\"anand\", 14),  \n",
    "    (\"suraj\", 20), (\"akhil\", 25), (\"ashish\", 30)] \n",
    "dictionary = {} \n",
    "print (Convert(tups, dictionary)) "
   ]
  },
  {
   "cell_type": "code",
   "execution_count": 598,
   "metadata": {},
   "outputs": [
    {
     "name": "stdout",
     "output_type": "stream",
     "text": [
      "{'Sachin': 10, 'MSD': 7, 'Kohli': 18, 'Rohit': 45}\n"
     ]
    }
   ],
   "source": [
    "# Python code to convert into dictionary \n",
    "  \n",
    "print (dict([('Sachin', 10), ('MSD', 7), ('Kohli', 18), ('Rohit', 45)])) "
   ]
  },
  {
   "cell_type": "code",
   "execution_count": 602,
   "metadata": {},
   "outputs": [
    {
     "name": "stdout",
     "output_type": "stream",
     "text": [
      "it is possible\n"
     ]
    }
   ],
   "source": [
    "# Python code to find if we can make first string \n",
    "# from second by deleting some characters from  \n",
    "# second and rearranging remaining characters. \n",
    "from collections import Counter \n",
    "def makestring(str1,str2):\n",
    "        dict1=Counter(str1)\n",
    "        dict2=Counter(str2)\n",
    "        \n",
    "        result=dict1&dict2\n",
    "        return result==dict1\n",
    "        \n",
    "        \n",
    "\n",
    "if __name__ == \"__main__\": \n",
    "    str1 = 'ABHISHEKsinGH'\n",
    "    str2 = 'gfhfBHkooIHnfndSHEKsiAnG'\n",
    "    if makestring(str1,str2)==True:\n",
    "        print('it is possible')\n",
    "    else:\n",
    "        print('not possible')\n",
    "        "
   ]
  },
  {
   "cell_type": "code",
   "execution_count": 604,
   "metadata": {},
   "outputs": [
    {
     "name": "stdout",
     "output_type": "stream",
     "text": [
      "Counter({'x': 3, 'y': 2, 'z': 2})\n",
      "[2, 3]\n",
      "Yes\n"
     ]
    }
   ],
   "source": [
    "from collections import Counter\n",
    "\n",
    "def samefreq(string):\n",
    "    dictio=Counter(string)\n",
    "    print(dictio)\n",
    "    \n",
    "    same=list(set(dictio.values()))\n",
    "    print(same)\n",
    "    \n",
    "    if len(same)>2:\n",
    "        print(\"No\")\n",
    "    elif len(same)==2 and same[1]-same[0]>1:\n",
    "        print(\"No\")\n",
    "    else:\n",
    "        print(\"Yes\")\n",
    "      \n",
    "if __name__ == \"__main__\":\n",
    "    input = 'xxxyyzz'\n",
    "    samefreq(input) \n",
    "    \n",
    "    "
   ]
  },
  {
   "cell_type": "code",
   "execution_count": 1,
   "metadata": {},
   "outputs": [
    {
     "name": "stdout",
     "output_type": "stream",
     "text": [
      "b'a\\naa\\naaa\\naaron\\nab\\nabandoned\\nabc\\naberdeen\\nabilities\\nability\\nable\\naboriginal\\nabortion\\nabout\\nabove\\nabraham\\nabroad\\nabs\\nabsence\\nabsent\\nabsolute\\nabsolutely\\nabsorption\\nabstract\\nabstracts\\nabu\\nabuse\\nac\\nacademic\\nacademics\\nacademy\\nacc\\naccent\\naccept\\nacceptable\\nacceptance\\naccepted\\naccepting\\naccepts\\naccess\\naccessed\\naccessibility\\naccessible\\naccessing\\naccessories\\naccessory\\naccident\\naccidents\\naccommodate\\naccommodation\\naccommodations\\naccompanied\\naccompanying\\naccomplish\\naccomplished\\naccordance\\naccording\\naccordingly\\naccount\\naccountability\\naccounting\\naccounts\\naccreditation\\naccredited\\naccuracy\\naccurate\\naccurately\\naccused\\nacdbentity\\nace\\nacer\\nachieve\\nachieved\\nachievement\\nachievements\\nachieving\\nacid\\nacids\\nacknowledge\\nacknowledged\\nacm\\nacne\\nacoustic\\nacquire\\nacquired\\nacquisition\\nacquisitions\\nacre\\nacres\\nacrobat\\nacross\\nacrylic\\nact\\nacting\\naction\\nactions\\nactivated\\nactivation\\nactive\\nactively\\nactivists\\nactivities\\nactivity\\nactor\\nactors\\nactress\\nacts\\nactual\\nactually\\nacute\\nad\\nada\\nadam\\nadams\\nadaptation\\nadapted\\nadapter\\nadapters\\nadaptive\\nadaptor\\nadd\\nadded\\naddiction\\nadding\\naddition\\nadditional\\nadditionally\\nadditions\\naddress\\naddressed\\naddresses\\naddressing\\nadds\\nadelaide\\nadequate\\nadidas\\nadipex\\nadjacent\\nadjust\\nadjustable\\nadjusted\\nadjustment\\nadjustments\\nadmin\\nadministered\\nadministration\\nadministrative\\nadministrator\\nadministrators\\nadmission\\nadmissions\\nadmit\\nadmitted\\nadobe\\nadolescent\\nadopt\\nadopted\\nadoption\\nadrian\\nads\\nadsl\\nadult\\nadults\\nadvance\\nadvanced\\nadvancement\\nadvances\\nadvantage\\nadvantages\\nadventure\\nadventures\\nadverse\\nadvert\\nadvertise\\nadvertisement\\nadvertisements\\nadvertiser\\nadvertisers\\nadvertising\\nadvice\\nadvise\\nadvised\\nadvisor\\nadvisors\\nadvisory\\nadvocacy\\nadvocate\\nadware\\nae\\naerial\\naerospace\\naf\\naffair\\naffairs\\naffect\\naffected\\naffecting\\naffects\\naffiliate\\naffiliated\\naffiliates\\naffiliation\\nafford\\naffordable\\nafghanistan\\nafraid\\nafrica\\nafrican\\nafter\\nafternoon\\nafterwards\\nag\\nagain\\nagainst\\nage\\naged\\nagencies\\nagency\\nagenda\\nagent\\nagents\\nages\\naggregate\\naggressive\\naging\\nago\\nagree\\nagreed\\nagreement\\nagreements\\nagrees\\nagricultural\\nagriculture\\nah\\nahead\\nai\\naid\\naids\\naim\\naimed\\naims\\nair\\naircraft\\nairfare\\nairline\\nairlines\\nairplane\\nairport\\nairports\\naj\\nak\\naka\\nal\\nala\\nalabama\\nalan\\nalarm\\nalaska\\nalbania\\nalbany\\nalbert\\nalberta\\nalbum\\nalbums\\nalbuquerque\\nalcohol\\nalert\\nalerts\\nalex\\nalexander\\nalexandria\\nalfred\\nalgebra\\nalgeria\\nalgorithm\\nalgorithms\\nali\\nalias\\nalice\\nalien\\nalign\\nalignment\\nalike\\nalive\\nall\\nallah\\nallan\\nalleged\\nallen\\nallergy\\nalliance\\nallied\\nallocated\\nallocation\\nallow\\nallowance\\nallowed\\nallowing\\nallows\\nalloy\\nalmost\\nalone\\nalong\\nalot\\nalpha\\nalphabetical\\nalpine\\nalready\\nalso\\nalt\\nalter\\naltered\\nalternate\\nalternative\\nalternatively\\nalternatives\\nalthough\\nalto\\naluminium\\naluminum\\nalumni\\nalways\\nam\\namanda\\namateur\\namazing\\namazon\\namazoncom\\namazoncouk\\nambassador\\namber\\nambien\\nambient\\namd\\namend\\namended\\namendment\\namendments\\namenities\\namerica\\namerican\\namericans\\namericas\\namino\\namong\\namongst\\namount\\namounts\\namp\\nampland\\namplifier\\namsterdam\\namy\\nan\\nana\\nanaheim\\nanal\\nanalog\\nanalyses\\nanalysis\\nanalyst\\nanalysts\\nanalytical\\nanalyze\\nanalyzed\\nanatomy\\nanchor\\nancient\\nand\\nandale\\nanderson\\nandorra\\nandrea\\nandreas\\nandrew\\nandrews\\nandy\\nangel\\nangela\\nangeles\\nangels\\nanger\\nangle\\nangola\\nangry\\nanimal\\nanimals\\nanimated\\nanimation\\nanime\\nann\\nanna\\nanne\\nannex\\nannie\\nanniversary\\nannotated\\nannotation\\nannounce\\nannounced\\nannouncement\\nannouncements\\nannounces\\nannoying\\nannual\\nannually\\nanonymous\\nanother\\nanswer\\nanswered\\nanswering\\nanswers\\nant\\nantarctica\\nantenna\\nanthony\\nanthropology\\nanti\\nantibodies\\nantibody\\nanticipated\\nantigua\\nantique\\nantiques\\nantivirus\\nantonio\\nanxiety\\nany\\nanybody\\nanymore\\nanyone\\nanything\\nanytime\\nanyway\\nanywhere\\naol\\nap\\napache\\napart\\napartment\\napartments\\napi\\napnic\\napollo\\napp\\napparatus\\napparel\\napparent\\napparently\\nappeal\\nappeals\\nappear\\nappearance\\nappeared\\nappearing\\nappears\\nappendix\\napple\\nappliance\\nappliances\\napplicable\\napplicant\\napplicants\\napplication\\napplications\\napplied\\napplies\\napply\\napplying\\nappointed\\nappointment\\nappointments\\nappraisal\\nappreciate\\nappreciated\\nappreciation\\napproach\\napproaches\\nappropriate\\nappropriations\\napproval\\napprove\\napproved\\napprox\\napproximate\\napproximately\\napps\\napr\\napril\\napt\\naqua\\naquarium\\naquatic\\nar\\narab\\narabia\\narabic\\narbitrary\\narbitration\\narc\\narcade\\narch\\narchitect\\narchitects\\narchitectural\\narchitecture\\narchive\\narchived\\narchives\\narctic\\nare\\narea\\nareas\\narena\\narg\\nargentina\\nargue\\nargued\\nargument\\narguments\\narise\\narising\\narizona\\narkansas\\narlington\\narm\\narmed\\narmenia\\narmor\\narms\\narmstrong\\narmy\\narnold\\naround\\narrange\\narranged\\narrangement\\narrangements\\narray\\narrest\\narrested\\narrival\\narrivals\\narrive\\narrived\\narrives\\narrow\\nart\\narthritis\\narthur\\narticle\\narticles\\nartificial\\nartist\\nartistic\\nartists\\narts\\nartwork\\naruba\\nas\\nasbestos\\nascii\\nash\\nashley\\nasia\\nasian\\naside\\nasin\\nask\\nasked\\nasking\\nasks\\nasn\\nasp\\naspect\\naspects\\naspnet\\nass\\nassault\\nassembled\\nassembly\\nassess\\nassessed\\nassessing\\nassessment\\nassessments\\nasset\\nassets\\nassign\\nassigned\\nassignment\\nassignments\\nassist\\nassistance\\nassistant\\nassisted\\nassists\\nassociate\\nassociated\\nassociates\\nassociation\\nassociations\\nassume\\nassumed\\nassumes\\nassuming\\nassumption\\nassumptions\\nassurance\\nassure\\nassured\\nasthma\\nastrology\\nastronomy\\nasus\\nat\\nata\\nate\\nathens\\nathletes\\nathletic\\nathletics\\nati\\natlanta\\natlantic\\natlas\\natm\\natmosphere\\natmospheric\\natom\\natomic\\nattach\\nattached\\nattachment\\nattachments\\nattack\\nattacked\\nattacks\\nattempt\\nattempted\\nattempting\\nattempts\\nattend\\nattendance\\nattended\\nattending\\nattention\\nattitude\\nattitudes\\nattorney\\nattorneys\\nattract\\nattraction\\nattractions\\nattractive\\nattribute\\nattributes\\nau\\nauburn\\nauckland\\nauction\\nauctions\\naud\\naudi\\naudience\\naudio\\naudit\\nauditor\\naug\\naugust\\naurora\\naus\\naustin\\naustralia\\naustralian\\naustria\\nauthentic\\nauthentication\\nauthor\\nauthorities\\nauthority\\nauthorization\\nauthorized\\nauthors\\nauto\\nautomated\\nautomatic\\nautomatically\\nautomation\\nautomobile\\nautomobiles\\nautomotive\\nautos\\nautumn\\nav\\navailability\\navailable\\navatar\\nave\\navenue\\naverage\\navg\\navi\\naviation\\navoid\\navoiding\\navon\\naw\\naward\\nawarded\\nawards\\naware\\nawareness\\naway\\nawesome\\nawful\\naxis\\naye\\naz\\nazerbaijan\\nb\\nba\\nbabe\\nbabes\\nbabies\\nbaby\\nbachelor\\nback\\nbacked\\nbackground\\nbackgrounds\\nbacking\\nbackup\\nbacon\\nbacteria\\nbacterial\\nbad\\nbadge\\nbadly\\nbag\\nbaghdad\\nbags\\nbahamas\\nbahrain\\nbailey\\nbaker\\nbaking\\nbalance\\nbalanced\\nbald\\nbali\\nball\\nballet\\nballoon\\nballot\\nballs\\nbaltimore\\nban\\nbanana\\nband\\nbands\\nbandwidth\\nbang\\nbangbus\\nbangkok\\nbangladesh\\nbank\\nbanking\\nbankruptcy\\nbanks\\nbanned\\nbanner\\nbanners\\nbaptist\\nbar\\nbarbados\\nbarbara\\nbarbie\\nbarcelona\\nbare\\nbarely\\nbargain\\nbargains\\nbarn\\nbarnes\\nbarrel\\nbarrier\\nbarriers\\nbarry\\nbars\\nbase\\nbaseball\\nbased\\nbaseline\\nbasement\\nbasename\\nbases\\nbasic\\nbasically\\nbasics\\nbasin\\nbasis\\nbasket\\nbasketball\\nbaskets\\nbass\\nbat\\nbatch\\nbath\\nbathroom\\nbathrooms\\nbaths\\nbatman\\nbatteries\\nbattery\\nbattle\\nbattlefield\\nbay\\nbb\\nbbc\\nbbs\\nbbw\\nbc\\nbd\\nbdsm\\nbe\\nbeach\\nbeaches\\nbeads\\nbeam\\nbean\\nbeans\\nbear\\nbearing\\nbears\\nbeast\\nbeastality\\nbeastiality\\nbeat\\nbeatles\\nbeats\\nbeautiful\\nbeautifully\\nbeauty\\nbeaver\\nbecame\\nbecause\\nbecome\\nbecomes\\nbecoming\\nbed\\nbedding\\nbedford\\nbedroom\\nbedrooms\\nbeds\\nbee\\nbeef\\nbeen\\nbeer\\nbefore\\nbegan\\nbegin\\nbeginner\\nbeginners\\nbeginning\\nbegins\\nbegun\\nbehalf\\nbehavior\\nbehavioral\\nbehaviour\\nbehind\\nbeijing\\nbeing\\nbeings\\nbelarus\\nbelfast\\nbelgium\\nbelief\\nbeliefs\\nbelieve\\nbelieved\\nbelieves\\nbelize\\nbelkin\\nbell\\nbelle\\nbelly\\nbelong\\nbelongs\\nbelow\\nbelt\\nbelts\\nben\\nbench\\nbenchmark\\nbend\\nbeneath\\nbeneficial\\nbenefit\\nbenefits\\nbenjamin\\nbennett\\nbenz\\nberkeley\\nberlin\\nbermuda\\nbernard\\nberry\\nbeside\\nbesides\\nbest\\nbestiality\\nbestsellers\\nbet\\nbeta\\nbeth\\nbetter\\nbetting\\nbetty\\nbetween\\nbeverage\\nbeverages\\nbeverly\\nbeyond\\nbg\\nbhutan\\nbi\\nbias\\nbible\\nbiblical\\nbibliographic\\nbibliography\\nbicycle\\nbid\\nbidder\\nbidding\\nbids\\nbig\\nbigger\\nbiggest\\nbike\\nbikes\\nbikini\\nbill\\nbilling\\nbillion\\nbills\\nbilly\\nbin\\nbinary\\nbind\\nbinding\\nbingo\\nbio\\nbiodiversity\\nbiographies\\nbiography\\nbiol\\nbiological\\nbiology\\nbios\\nbiotechnology\\nbird\\nbirds\\nbirmingham\\nbirth\\nbirthday\\nbishop\\nbit\\nbitch\\nbite\\nbits\\nbiz\\nbizarre\\nbizrate\\nbk\\nbl\\nblack\\nblackberry\\nblackjack\\nblacks\\nblade\\nblades\\nblah\\nblair\\nblake\\nblame\\nblank\\nblanket\\nblast\\nbleeding\\nblend\\nbless\\nblessed\\nblind\\nblink\\nblock\\nblocked\\nblocking\\nblocks\\nblog\\nblogger\\nbloggers\\nblogging\\nblogs\\nblond\\nblonde\\nblood\\nbloody\\nbloom\\nbloomberg\\nblow\\nblowing\\nblowjob\\nblowjobs\\nblue\\nblues\\nbluetooth\\nblvd\\nbm\\nbmw\\nbo\\nboard\\nboards\\nboat\\nboating\\nboats\\nbob\\nbobby\\nboc\\nbodies\\nbody\\nbold\\nbolivia\\nbolt\\nbomb\\nbon\\nbond\\nbondage\\nbonds\\nbone\\nbones\\nbonus\\nboob\\nboobs\\nbook\\nbooking\\nbookings\\nbookmark\\nbookmarks\\nbooks\\nbookstore\\nbool\\nboolean\\nboom\\nboost\\nboot\\nbooth\\nboots\\nbooty\\nborder\\nborders\\nbored\\nboring\\nborn\\nborough\\nbosnia\\nboss\\nboston\\nboth\\nbother\\nbotswana\\nbottle\\nbottles\\nbottom\\nbought\\nboulder\\nboulevard\\nbound\\nboundaries\\nboundary\\nbouquet\\nboutique\\nbow\\nbowl\\nbowling\\nbox\\nboxed\\nboxes\\nboxing\\nboy\\nboys\\nbp\\nbr\\nbra\\nbracelet\\nbracelets\\nbracket\\nbrad\\nbradford\\nbradley\\nbrain\\nbrake\\nbrakes\\nbranch\\nbranches\\nbrand\\nbrandon\\nbrands\\nbras\\nbrass\\nbrave\\nbrazil\\nbrazilian\\nbreach\\nbread\\nbreak\\nbreakdown\\nbreakfast\\nbreaking\\nbreaks\\nbreast\\nbreasts\\nbreath\\nbreathing\\nbreed\\nbreeding\\nbreeds\\nbrian\\nbrick\\nbridal\\nbride\\nbridge\\nbridges\\nbrief\\nbriefing\\nbriefly\\nbriefs\\nbright\\nbrighton\\nbrilliant\\nbring\\nbringing\\nbrings\\nbrisbane\\nbristol\\nbritain\\nbritannica\\nbritish\\nbritney\\nbroad\\nbroadband\\nbroadcast\\nbroadcasting\\nbroader\\nbroadway\\nbrochure\\nbrochures\\nbroke\\nbroken\\nbroker\\nbrokers\\nbronze\\nbrook\\nbrooklyn\\nbrooks\\nbros\\nbrother\\nbrothers\\nbrought\\nbrown\\nbrowse\\nbrowser\\nbrowsers\\nbrowsing\\nbruce\\nbrunei\\nbrunette\\nbrunswick\\nbrush\\nbrussels\\nbrutal\\nbryan\\nbryant\\nbs\\nbt\\nbubble\\nbuck\\nbucks\\nbudapest\\nbuddy\\nbudget\\nbudgets\\nbuf\\nbuffalo\\nbuffer\\nbufing\\nbug\\nbugs\\nbuild\\nbuilder\\nbuilders\\nbuilding\\nbuildings\\nbuilds\\nbuilt\\nbukkake\\nbulgaria\\nbulgarian\\nbulk\\nbull\\nbullet\\nbulletin\\nbumper\\nbunch\\nbundle\\nbunny\\nburden\\nbureau\\nburied\\nburke\\nburlington\\nburn\\nburner\\nburning\\nburns\\nburst\\nburton\\nbus\\nbuses\\nbush\\nbusiness\\nbusinesses\\nbusty\\nbusy\\nbut\\nbutler\\nbutt\\nbutter\\nbutterfly\\nbutton\\nbuttons\\nbutts\\nbuy\\nbuyer\\nbuyers\\nbuying\\nbuys\\nbuzz\\nbw\\nby\\nbye\\nbyte\\nbytes\\nc\\nca\\ncab\\ncabin\\ncabinet\\ncabinets\\ncable\\ncables\\ncache\\ncached\\ncad\\ncadillac\\ncafe\\ncage\\ncake\\ncakes\\ncal\\ncalcium\\ncalculate\\ncalculated\\ncalculation\\ncalculations\\ncalculator\\ncalculators\\ncalendar\\ncalendars\\ncalgary\\ncalibration\\ncalif\\ncalifornia\\ncall\\ncalled\\ncalling\\ncalls\\ncalm\\ncalvin\\ncam\\ncambodia\\ncambridge\\ncamcorder\\ncamcorders\\ncame\\ncamel\\ncamera\\ncameras\\ncameron\\ncameroon\\ncamp\\ncampaign\\ncampaigns\\ncampbell\\ncamping\\ncamps\\ncampus\\ncams\\ncan\\ncanada\\ncanadian\\ncanal\\ncanberra\\ncancel\\ncancellation\\ncancelled\\ncancer\\ncandidate\\ncandidates\\ncandle\\ncandles\\ncandy\\ncannon\\ncanon\\ncant\\ncanvas\\ncanyon\\ncap\\ncapabilities\\ncapability\\ncapable\\ncapacity\\ncape\\ncapital\\ncapitol\\ncaps\\ncaptain\\ncapture\\ncaptured\\ncar\\ncarb\\ncarbon\\ncard\\ncardiac\\ncardiff\\ncardiovascular\\ncards\\ncare\\ncareer\\ncareers\\ncareful\\ncarefully\\ncarey\\ncargo\\ncaribbean\\ncaring\\ncarl\\ncarlo\\ncarlos\\ncarmen\\ncarnival\\ncarol\\ncarolina\\ncaroline\\ncarpet\\ncarried\\ncarrier\\ncarriers\\ncarries\\ncarroll\\ncarry\\ncarrying\\ncars\\ncart\\ncarter\\ncartoon\\ncartoons\\ncartridge\\ncartridges\\ncas\\ncasa\\ncase\\ncases\\ncasey\\ncash\\ncashiers\\ncasino\\ncasinos\\ncasio\\ncassette\\ncast\\ncasting\\ncastle\\ncasual\\ncat\\ncatalog\\ncatalogs\\ncatalogue\\ncatalyst\\ncatch\\ncategories\\ncategory\\ncatering\\ncathedral\\ncatherine\\ncatholic\\ncats\\ncattle\\ncaught\\ncause\\ncaused\\ncauses\\ncausing\\ncaution\\ncave\\ncayman\\ncb\\ncbs\\ncc\\nccd\\ncd\\ncdna\\ncds\\ncdt\\nce\\ncedar\\nceiling\\ncelebrate\\ncelebration\\ncelebrities\\ncelebrity\\ncelebs\\ncell\\ncells\\ncellular\\nceltic\\ncement\\ncemetery\\ncensus\\ncent\\ncenter\\ncentered\\ncenters\\ncentral\\ncentre\\ncentres\\ncents\\ncenturies\\ncentury\\nceo\\nceramic\\nceremony\\ncertain\\ncertainly\\ncertificate\\ncertificates\\ncertification\\ncertified\\ncest\\ncet\\ncf\\ncfr\\ncg\\ncgi\\nch\\nchad\\nchain\\nchains\\nchair\\nchairman\\nchairs\\nchallenge\\nchallenged\\nchallenges\\nchallenging\\nchamber\\nchambers\\nchampagne\\nchampion\\nchampions\\nchampionship\\nchampionships\\nchan\\nchance\\nchancellor\\nchances\\nchange\\nchanged\\nchangelog\\nchanges\\nchanging\\nchannel\\nchannels\\nchaos\\nchapel\\nchapter\\nchapters\\nchar\\ncharacter\\ncharacteristic\\ncharacteristics\\ncharacterization\\ncharacterized\\ncharacters\\ncharge\\ncharged\\ncharger\\nchargers\\ncharges\\ncharging\\ncharitable\\ncharity\\ncharles\\ncharleston\\ncharlie\\ncharlotte\\ncharm\\ncharming\\ncharms\\nchart\\ncharter\\ncharts\\nchase\\nchassis\\nchat\\ncheap\\ncheaper\\ncheapest\\ncheat\\ncheats\\ncheck\\nchecked\\nchecking\\nchecklist\\ncheckout\\nchecks\\ncheers\\ncheese\\nchef\\nchelsea\\nchem\\nchemical\\nchemicals\\nchemistry\\nchen\\ncheque\\ncherry\\nchess\\nchest\\nchester\\nchevrolet\\nchevy\\nchi\\nchicago\\nchick\\nchicken\\nchicks\\nchief\\nchild\\nchildhood\\nchildren\\nchildrens\\nchile\\nchina\\nchinese\\nchip\\nchips\\ncho\\nchocolate\\nchoice\\nchoices\\nchoir\\ncholesterol\\nchoose\\nchoosing\\nchorus\\nchose\\nchosen\\nchris\\nchrist\\nchristian\\nchristianity\\nchristians\\nchristina\\nchristine\\nchristmas\\nchristopher\\nchrome\\nchronic\\nchronicle\\nchronicles\\nchrysler\\nchubby\\nchuck\\nchurch\\nchurches\\nci\\ncia\\ncialis\\nciao\\ncigarette\\ncigarettes\\ncincinnati\\ncindy\\ncinema\\ncingular\\ncio\\ncir\\ncircle\\ncircles\\ncircuit\\ncircuits\\ncircular\\ncirculation\\ncircumstances\\ncircus\\ncisco\\ncitation\\ncitations\\ncite\\ncited\\ncities\\ncitizen\\ncitizens\\ncitizenship\\ncity\\ncitysearch\\ncivic\\ncivil\\ncivilian\\ncivilization\\ncj\\ncl\\nclaim\\nclaimed\\nclaims\\nclaire\\nclan\\nclara\\nclarity\\nclark\\nclarke\\nclass\\nclasses\\nclassic\\nclassical\\nclassics\\nclassification\\nclassified\\nclassifieds\\nclassroom\\nclause\\nclay\\nclean\\ncleaner\\ncleaners\\ncleaning\\ncleanup\\nclear\\nclearance\\ncleared\\nclearing\\nclearly\\nclerk\\ncleveland\\nclick\\nclicking\\nclicks\\nclient\\nclients\\ncliff\\nclimate\\nclimb\\nclimbing\\nclinic\\nclinical\\nclinics\\nclinton\\nclip\\nclips\\nclock\\nclocks\\nclone\\nclose\\nclosed\\nclosely\\ncloser\\ncloses\\nclosest\\nclosing\\nclosure\\ncloth\\nclothes\\nclothing\\ncloud\\nclouds\\ncloudy\\nclub\\nclubs\\ncluster\\nclusters\\ncm\\ncms\\ncn\\ncnet\\ncnetcom\\ncnn\\nco\\ncoach\\ncoaches\\ncoaching\\ncoal\\ncoalition\\ncoast\\ncoastal\\ncoat\\ncoated\\ncoating\\ncock\\ncocks\\ncod\\ncode\\ncodes\\ncoding\\ncoffee\\ncognitive\\ncohen\\ncoin\\ncoins\\ncol\\ncold\\ncole\\ncoleman\\ncolin\\ncollaboration\\ncollaborative\\ncollapse\\ncollar\\ncolleague\\ncolleagues\\ncollect\\ncollectables\\ncollected\\ncollectible\\ncollectibles\\ncollecting\\ncollection\\ncollections\\ncollective\\ncollector\\ncollectors\\ncollege\\ncolleges\\ncollins\\ncologne\\ncolombia\\ncolon\\ncolonial\\ncolony\\ncolor\\ncolorado\\ncolored\\ncolors\\ncolour\\ncolours\\ncolumbia\\ncolumbus\\ncolumn\\ncolumnists\\ncolumns\\ncom\\ncombat\\ncombination\\ncombinations\\ncombine\\ncombined\\ncombines\\ncombining\\ncombo\\ncome\\ncomedy\\ncomes\\ncomfort\\ncomfortable\\ncomic\\ncomics\\ncoming\\ncomm\\ncommand\\ncommander\\ncommands\\ncomment\\ncommentary\\ncommented\\ncomments\\ncommerce\\ncommercial\\ncommission\\ncommissioner\\ncommissioners\\ncommissions\\ncommit\\ncommitment\\ncommitments\\ncommitted\\ncommittee\\ncommittees\\ncommodities\\ncommodity\\ncommon\\ncommonly\\ncommons\\ncommonwealth\\ncommunicate\\ncommunication\\ncommunications\\ncommunist\\ncommunities\\ncommunity\\ncomp\\ncompact\\ncompanies\\ncompanion\\ncompany\\ncompaq\\ncomparable\\ncomparative\\ncompare\\ncompared\\ncomparing\\ncomparison\\ncomparisons\\ncompatibility\\ncompatible\\ncompensation\\ncompete\\ncompetent\\ncompeting\\ncompetition\\ncompetitions\\ncompetitive\\ncompetitors\\ncompilation\\ncompile\\ncompiled\\ncompiler\\ncomplaint\\ncomplaints\\ncomplement\\ncomplete\\ncompleted\\ncompletely\\ncompleting\\ncompletion\\ncomplex\\ncomplexity\\ncompliance\\ncompliant\\ncomplicated\\ncomplications\\ncomplimentary\\ncomply\\ncomponent\\ncomponents\\ncomposed\\ncomposer\\ncomposite\\ncomposition\\ncompound\\ncompounds\\ncomprehensive\\ncompressed\\ncompression\\ncompromise\\ncomputation\\ncomputational\\ncompute\\ncomputed\\ncomputer\\ncomputers\\ncomputing\\ncon\\nconcentrate\\nconcentration\\nconcentrations\\nconcept\\nconcepts\\nconceptual\\nconcern\\nconcerned\\nconcerning\\nconcerns\\nconcert\\nconcerts\\nconclude\\nconcluded\\nconclusion\\nconclusions\\nconcord\\nconcrete\\ncondition\\nconditional\\nconditioning\\nconditions\\ncondo\\ncondos\\nconduct\\nconducted\\nconducting\\nconf\\nconference\\nconferences\\nconferencing\\nconfidence\\nconfident\\nconfidential\\nconfidentiality\\nconfig\\nconfiguration\\nconfigure\\nconfigured\\nconfiguring\\nconfirm\\nconfirmation\\nconfirmed\\nconflict\\nconflicts\\nconfused\\nconfusion\\ncongo\\ncongratulations\\ncongress\\ncongressional\\nconjunction\\nconnect\\nconnected\\nconnecticut\\nconnecting\\nconnection\\nconnections\\nconnectivity\\nconnector\\nconnectors\\ncons\\nconscious\\nconsciousness\\nconsecutive\\nconsensus\\nconsent\\nconsequence\\nconsequences\\nconsequently\\nconservation\\nconservative\\nconsider\\nconsiderable\\nconsideration\\nconsiderations\\nconsidered\\nconsidering\\nconsiders\\nconsist\\nconsistency\\nconsistent\\nconsistently\\nconsisting\\nconsists\\nconsole\\nconsoles\\nconsolidated\\nconsolidation\\nconsortium\\nconspiracy\\nconst\\nconstant\\nconstantly\\nconstitute\\nconstitutes\\nconstitution\\nconstitutional\\nconstraint\\nconstraints\\nconstruct\\nconstructed\\nconstruction\\nconsult\\nconsultancy\\nconsultant\\nconsultants\\nconsultation\\nconsulting\\nconsumer\\nconsumers\\nconsumption\\ncontact\\ncontacted\\ncontacting\\ncontacts\\ncontain\\ncontained\\ncontainer\\ncontainers\\ncontaining\\ncontains\\ncontamination\\ncontemporary\\ncontent\\ncontents\\ncontest\\ncontests\\ncontext\\ncontinent\\ncontinental\\ncontinually\\ncontinue\\ncontinued\\ncontinues\\ncontinuing\\ncontinuity\\ncontinuous\\ncontinuously\\ncontract\\ncontracting\\ncontractor\\ncontractors\\ncontracts\\ncontrary\\ncontrast\\ncontribute\\ncontributed\\ncontributing\\ncontribution\\ncontributions\\ncontributor\\ncontributors\\ncontrol\\ncontrolled\\ncontroller\\ncontrollers\\ncontrolling\\ncontrols\\ncontroversial\\ncontroversy\\nconvenience\\nconvenient\\nconvention\\nconventional\\nconventions\\nconvergence\\nconversation\\nconversations\\nconversion\\nconvert\\nconverted\\nconverter\\nconvertible\\nconvicted\\nconviction\\nconvinced\\ncook\\ncookbook\\ncooked\\ncookie\\ncookies\\ncooking\\ncool\\ncooler\\ncooling\\ncooper\\ncooperation\\ncooperative\\ncoordinate\\ncoordinated\\ncoordinates\\ncoordination\\ncoordinator\\ncop\\ncope\\ncopied\\ncopies\\ncopper\\ncopy\\ncopying\\ncopyright\\ncopyrighted\\ncopyrights\\ncoral\\ncord\\ncordless\\ncore\\ncork\\ncorn\\ncornell\\ncorner\\ncorners\\ncornwall\\ncorp\\ncorporate\\ncorporation\\ncorporations\\ncorps\\ncorpus\\ncorrect\\ncorrected\\ncorrection\\ncorrections\\ncorrectly\\ncorrelation\\ncorrespondence\\ncorresponding\\ncorruption\\ncos\\ncosmetic\\ncosmetics\\ncost\\ncosta\\ncosts\\ncostume\\ncostumes\\ncottage\\ncottages\\ncotton\\ncould\\ncouncil\\ncouncils\\ncounsel\\ncounseling\\ncount\\ncounted\\ncounter\\ncounters\\ncounties\\ncounting\\ncountries\\ncountry\\ncounts\\ncounty\\ncouple\\ncoupled\\ncouples\\ncoupon\\ncoupons\\ncourage\\ncourier\\ncourse\\ncourses\\ncourt\\ncourtesy\\ncourts\\ncove\\ncover\\ncoverage\\ncovered\\ncovering\\ncovers\\ncow\\ncowboy\\ncox\\ncp\\ncpu\\ncr\\ncrack\\ncradle\\ncraft\\ncrafts\\ncraig\\ncrap\\ncraps\\ncrash\\ncrawford\\ncrazy\\ncream\\ncreate\\ncreated\\ncreates\\ncreating\\ncreation\\ncreations\\ncreative\\ncreativity\\ncreator\\ncreature\\ncreatures\\ncredit\\ncredits\\ncreek\\ncrest\\ncrew\\ncricket\\ncrime\\ncrimes\\ncriminal\\ncrisis\\ncriteria\\ncriterion\\ncritical\\ncriticism\\ncritics\\ncrm\\ncroatia\\ncrop\\ncrops\\ncross\\ncrossing\\ncrossword\\ncrowd\\ncrown\\ncrucial\\ncrude\\ncruise\\ncruises\\ncruz\\ncry\\ncrystal\\ncs\\ncss\\ncst\\nct\\ncu\\ncuba\\ncube\\ncubic\\ncuisine\\ncult\\ncultural\\nculture\\ncultures\\ncum\\ncumshot\\ncumshots\\ncumulative\\ncunt\\ncup\\ncups\\ncure\\ncurious\\ncurrencies\\ncurrency\\ncurrent\\ncurrently\\ncurriculum\\ncursor\\ncurtis\\ncurve\\ncurves\\ncustody\\ncustom\\ncustomer\\ncustomers\\ncustomise\\ncustomize\\ncustomized\\ncustoms\\ncut\\ncute\\ncuts\\ncutting\\ncv\\ncvs\\ncw\\ncyber\\ncycle\\ncycles\\ncycling\\ncylinder\\ncyprus\\ncz\\nczech\\nd\\nda\\ndad\\ndaddy\\ndaily\\ndairy\\ndaisy\\ndakota\\ndale\\ndallas\\ndam\\ndamage\\ndamaged\\ndamages\\ndame\\ndamn\\ndan\\ndana\\ndance\\ndancing\\ndanger\\ndangerous\\ndaniel\\ndanish\\ndanny\\ndans\\ndare\\ndark\\ndarkness\\ndarwin\\ndas\\ndash\\ndat\\ndata\\ndatabase\\ndatabases\\ndate\\ndated\\ndates\\ndating\\ndaughter\\ndaughters\\ndave\\ndavid\\ndavidson\\ndavis\\ndawn\\nday\\ndays\\ndayton\\ndb\\ndc\\ndd\\nddr\\nde\\ndead\\ndeadline\\ndeadly\\ndeaf\\ndeal\\ndealer\\ndealers\\ndealing\\ndeals\\ndealt\\ndealtime\\ndean\\ndear\\ndeath\\ndeaths\\ndebate\\ndebian\\ndeborah\\ndebt\\ndebug\\ndebut\\ndec\\ndecade\\ndecades\\ndecember\\ndecent\\ndecide\\ndecided\\ndecimal\\ndecision\\ndecisions\\ndeck\\ndeclaration\\ndeclare\\ndeclared\\ndecline\\ndeclined\\ndecor\\ndecorating\\ndecorative\\ndecrease\\ndecreased\\ndedicated\\ndee\\ndeemed\\ndeep\\ndeeper\\ndeeply\\ndeer\\ndef\\ndefault\\ndefeat\\ndefects\\ndefence\\ndefend\\ndefendant\\ndefense\\ndefensive\\ndeferred\\ndeficit\\ndefine\\ndefined\\ndefines\\ndefining\\ndefinitely\\ndefinition\\ndefinitions\\ndegree\\ndegrees\\ndel\\ndelaware\\ndelay\\ndelayed\\ndelays\\ndelegation\\ndelete\\ndeleted\\ndelhi\\ndelicious\\ndelight\\ndeliver\\ndelivered\\ndelivering\\ndelivers\\ndelivery\\ndell\\ndelta\\ndeluxe\\ndem\\ndemand\\ndemanding\\ndemands\\ndemo\\ndemocracy\\ndemocrat\\ndemocratic\\ndemocrats\\ndemographic\\ndemonstrate\\ndemonstrated\\ndemonstrates\\ndemonstration\\nden\\ndenial\\ndenied\\ndenmark\\ndennis\\ndense\\ndensity\\ndental\\ndentists\\ndenver\\ndeny\\ndepartment\\ndepartmental\\ndepartments\\ndeparture\\ndepend\\ndependence\\ndependent\\ndepending\\ndepends\\ndeployment\\ndeposit\\ndeposits\\ndepot\\ndepression\\ndept\\ndepth\\ndeputy\\nder\\nderby\\nderek\\nderived\\ndes\\ndescending\\ndescribe\\ndescribed\\ndescribes\\ndescribing\\ndescription\\ndescriptions\\ndesert\\ndeserve\\ndesign\\ndesignated\\ndesignation\\ndesigned\\ndesigner\\ndesigners\\ndesigning\\ndesigns\\ndesirable\\ndesire\\ndesired\\ndesk\\ndesktop\\ndesktops\\ndesperate\\ndespite\\ndestination\\ndestinations\\ndestiny\\ndestroy\\ndestroyed\\ndestruction\\ndetail\\ndetailed\\ndetails\\ndetect\\ndetected\\ndetection\\ndetective\\ndetector\\ndetermination\\ndetermine\\ndetermined\\ndetermines\\ndetermining\\ndetroit\\ndeutsch\\ndeutsche\\ndeutschland\\ndev\\ndevel\\ndevelop\\ndeveloped\\ndeveloper\\ndevelopers\\ndeveloping\\ndevelopment\\ndevelopmental\\ndevelopments\\ndevelops\\ndeviant\\ndeviation\\ndevice\\ndevices\\ndevil\\ndevon\\ndevoted\\ndf\\ndg\\ndh\\ndi\\ndiabetes\\ndiagnosis\\ndiagnostic\\ndiagram\\ndial\\ndialog\\ndialogue\\ndiameter\\ndiamond\\ndiamonds\\ndiana\\ndiane\\ndiary\\ndice\\ndick\\ndicke\\ndicks\\ndictionaries\\ndictionary\\ndid\\ndie\\ndied\\ndiego\\ndies\\ndiesel\\ndiet\\ndietary\\ndiff\\ndiffer\\ndifference\\ndifferences\\ndifferent\\ndifferential\\ndifferently\\ndifficult\\ndifficulties\\ndifficulty\\ndiffs\\ndig\\ndigest\\ndigit\\ndigital\\ndildo\\ndildos\\ndim\\ndimension\\ndimensional\\ndimensions\\ndining\\ndinner\\ndip\\ndiploma\\ndir\\ndirect\\ndirected\\ndirection\\ndirections\\ndirective\\ndirectly\\ndirector\\ndirectories\\ndirectors\\ndirectory\\ndirt\\ndirty\\ndis\\ndisabilities\\ndisability\\ndisable\\ndisabled\\ndisagree\\ndisappointed\\ndisaster\\ndisc\\ndischarge\\ndisciplinary\\ndiscipline\\ndisciplines\\ndisclaimer\\ndisclaimers\\ndisclose\\ndisclosure\\ndisco\\ndiscount\\ndiscounted\\ndiscounts\\ndiscover\\ndiscovered\\ndiscovery\\ndiscrete\\ndiscretion\\ndiscrimination\\ndiscs\\ndiscuss\\ndiscussed\\ndiscusses\\ndiscussing\\ndiscussion\\ndiscussions\\ndisease\\ndiseases\\ndish\\ndishes\\ndisk\\ndisks\\ndisney\\ndisorder\\ndisorders\\ndispatch\\ndispatched\\ndisplay\\ndisplayed\\ndisplaying\\ndisplays\\ndisposal\\ndisposition\\ndispute\\ndisputes\\ndist\\ndistance\\ndistances\\ndistant\\ndistinct\\ndistinction\\ndistinguished\\ndistribute\\ndistributed\\ndistribution\\ndistributions\\ndistributor\\ndistributors\\ndistrict\\ndistricts\\ndisturbed\\ndiv\\ndive\\ndiverse\\ndiversity\\ndivide\\ndivided\\ndividend\\ndivine\\ndiving\\ndivision\\ndivisions\\ndivorce\\ndivx\\ndiy\\ndj\\ndk\\ndl\\ndm\\ndna\\ndns\\ndo\\ndoc\\ndock\\ndocs\\ndoctor\\ndoctors\\ndoctrine\\ndocument\\ndocumentary\\ndocumentation\\ndocumentcreatetextnode\\ndocumented\\ndocuments\\ndod\\ndodge\\ndoe\\ndoes\\ndog\\ndogs\\ndoing\\ndoll\\ndollar\\ndollars\\ndolls\\ndom\\ndomain\\ndomains\\ndome\\ndomestic\\ndominant\\ndominican\\ndon\\ndonald\\ndonate\\ndonated\\ndonation\\ndonations\\ndone\\ndonna\\ndonor\\ndonors\\ndont\\ndoom\\ndoor\\ndoors\\ndos\\ndosage\\ndose\\ndot\\ndouble\\ndoubt\\ndoug\\ndouglas\\ndover\\ndow\\ndown\\ndownload\\ndownloadable\\ndownloadcom\\ndownloaded\\ndownloading\\ndownloads\\ndowntown\\ndozen\\ndozens\\ndp\\ndpi\\ndr\\ndraft\\ndrag\\ndragon\\ndrain\\ndrainage\\ndrama\\ndramatic\\ndramatically\\ndraw\\ndrawing\\ndrawings\\ndrawn\\ndraws\\ndream\\ndreams\\ndress\\ndressed\\ndresses\\ndressing\\ndrew\\ndried\\ndrill\\ndrilling\\ndrink\\ndrinking\\ndrinks\\ndrive\\ndriven\\ndriver\\ndrivers\\ndrives\\ndriving\\ndrop\\ndropped\\ndrops\\ndrove\\ndrug\\ndrugs\\ndrum\\ndrums\\ndrunk\\ndry\\ndryer\\nds\\ndsc\\ndsl\\ndt\\ndts\\ndu\\ndual\\ndubai\\ndublin\\nduck\\ndude\\ndue\\ndui\\nduke\\ndumb\\ndump\\nduncan\\nduo\\nduplicate\\ndurable\\nduration\\ndurham\\nduring\\ndust\\ndutch\\nduties\\nduty\\ndv\\ndvd\\ndvds\\ndx\\ndying\\ndylan\\ndynamic\\ndynamics\\ne\\nea\\neach\\neagle\\neagles\\near\\nearl\\nearlier\\nearliest\\nearly\\nearn\\nearned\\nearning\\nearnings\\nearrings\\nears\\nearth\\nearthquake\\nease\\neasier\\neasily\\neast\\neaster\\neastern\\neasy\\neat\\neating\\neau\\nebay\\nebony\\nebook\\nebooks\\nec\\necho\\neclipse\\neco\\necological\\necology\\necommerce\\neconomic\\neconomics\\neconomies\\neconomy\\necuador\\ned\\neddie\\neden\\nedgar\\nedge\\nedges\\nedinburgh\\nedit\\nedited\\nediting\\nedition\\neditions\\neditor\\neditorial\\neditorials\\neditors\\nedmonton\\neds\\nedt\\neducated\\neducation\\neducational\\neducators\\nedward\\nedwards\\nee\\nef\\neffect\\neffective\\neffectively\\neffectiveness\\neffects\\nefficiency\\nefficient\\nefficiently\\neffort\\nefforts\\neg\\negg\\neggs\\negypt\\negyptian\\neh\\neight\\neither\\nejaculation\\nel\\nelder\\nelderly\\nelect\\nelected\\nelection\\nelections\\nelectoral\\nelectric\\nelectrical\\nelectricity\\nelectro\\nelectron\\nelectronic\\nelectronics\\nelegant\\nelement\\nelementary\\nelements\\nelephant\\nelevation\\neleven\\neligibility\\neligible\\neliminate\\nelimination\\nelite\\nelizabeth\\nellen\\nelliott\\nellis\\nelse\\nelsewhere\\nelvis\\nem\\nemacs\\nemail\\nemails\\nembassy\\nembedded\\nemerald\\nemergency\\nemerging\\nemily\\neminem\\nemirates\\nemission\\nemissions\\nemma\\nemotional\\nemotions\\nemperor\\nemphasis\\nempire\\nempirical\\nemploy\\nemployed\\nemployee\\nemployees\\nemployer\\nemployers\\nemployment\\nempty\\nen\\nenable\\nenabled\\nenables\\nenabling\\nenb\\nenclosed\\nenclosure\\nencoding\\nencounter\\nencountered\\nencourage\\nencouraged\\nencourages\\nencouraging\\nencryption\\nencyclopedia\\nend\\nendangered\\nended\\nendif\\nending\\nendless\\nendorsed\\nendorsement\\nends\\nenemies\\nenemy\\nenergy\\nenforcement\\neng\\nengage\\nengaged\\nengagement\\nengaging\\nengine\\nengineer\\nengineering\\nengineers\\nengines\\nengland\\nenglish\\nenhance\\nenhanced\\nenhancement\\nenhancements\\nenhancing\\nenjoy\\nenjoyed\\nenjoying\\nenlarge\\nenlargement\\nenormous\\nenough\\nenquiries\\nenquiry\\nenrolled\\nenrollment\\nensemble\\nensure\\nensures\\nensuring\\nent\\nenter\\nentered\\nentering\\nenterprise\\nenterprises\\nenters\\nentertaining\\nentertainment\\nentire\\nentirely\\nentities\\nentitled\\nentity\\nentrance\\nentrepreneur\\nentrepreneurs\\nentries\\nentry\\nenvelope\\nenvironment\\nenvironmental\\nenvironments\\nenzyme\\neos\\nep\\nepa\\nepic\\nepinions\\nepinionscom\\nepisode\\nepisodes\\nepson\\neq\\nequal\\nequality\\nequally\\nequation\\nequations\\nequilibrium\\nequipment\\nequipped\\nequity\\nequivalent\\ner\\nera\\neric\\nericsson\\nerik\\nerotic\\nerotica\\nerp\\nerror\\nerrors\\nes\\nescape\\nescort\\nescorts\\nespecially\\nespn\\nessay\\nessays\\nessence\\nessential\\nessentially\\nessentials\\nessex\\nest\\nestablish\\nestablished\\nestablishing\\nestablishment\\nestate\\nestates\\nestimate\\nestimated\\nestimates\\nestimation\\nestonia\\net\\netc\\neternal\\nethernet\\nethical\\nethics\\nethiopia\\nethnic\\neu\\neugene\\neur\\neuro\\neurope\\neuropean\\neuros\\nev\\neva\\neval\\nevaluate\\nevaluated\\nevaluating\\nevaluation\\nevaluations\\nevanescence\\nevans\\neve\\neven\\nevening\\nevent\\nevents\\neventually\\never\\nevery\\neverybody\\neveryday\\neveryone\\neverything\\neverywhere\\nevidence\\nevident\\nevil\\nevolution\\nex\\nexact\\nexactly\\nexam\\nexamination\\nexaminations\\nexamine\\nexamined\\nexamines\\nexamining\\nexample\\nexamples\\nexams\\nexceed\\nexcel\\nexcellence\\nexcellent\\nexcept\\nexception\\nexceptional\\nexceptions\\nexcerpt\\nexcess\\nexcessive\\nexchange\\nexchanges\\nexcited\\nexcitement\\nexciting\\nexclude\\nexcluded\\nexcluding\\nexclusion\\nexclusive\\nexclusively\\nexcuse\\nexec\\nexecute\\nexecuted\\nexecution\\nexecutive\\nexecutives\\nexempt\\nexemption\\nexercise\\nexercises\\nexhaust\\nexhibit\\nexhibition\\nexhibitions\\nexhibits\\nexist\\nexisted\\nexistence\\nexisting\\nexists\\nexit\\nexotic\\nexp\\nexpand\\nexpanded\\nexpanding\\nexpansion\\nexpansys\\nexpect\\nexpectations\\nexpected\\nexpects\\nexpedia\\nexpenditure\\nexpenditures\\nexpense\\nexpenses\\nexpensive\\nexperience\\nexperienced\\nexperiences\\nexperiencing\\nexperiment\\nexperimental\\nexperiments\\nexpert\\nexpertise\\nexperts\\nexpiration\\nexpired\\nexpires\\nexplain\\nexplained\\nexplaining\\nexplains\\nexplanation\\nexplicit\\nexplicitly\\nexploration\\nexplore\\nexplorer\\nexploring\\nexplosion\\nexpo\\nexport\\nexports\\nexposed\\nexposure\\nexpress\\nexpressed\\nexpression\\nexpressions\\next\\nextend\\nextended\\nextending\\nextends\\nextension\\nextensions\\nextensive\\nextent\\nexterior\\nexternal\\nextra\\nextract\\nextraction\\nextraordinary\\nextras\\nextreme\\nextremely\\neye\\neyed\\neyes\\nez\\nf\\nfa\\nfabric\\nfabrics\\nfabulous\\nface\\nfaced\\nfaces\\nfacial\\nfacilitate\\nfacilities\\nfacility\\nfacing\\nfact\\nfactor\\nfactors\\nfactory\\nfacts\\nfaculty\\nfail\\nfailed\\nfailing\\nfails\\nfailure\\nfailures\\nfair\\nfairfield\\nfairly\\nfairy\\nfaith\\nfake\\nfall\\nfallen\\nfalling\\nfalls\\nfalse\\nfame\\nfamiliar\\nfamilies\\nfamily\\nfamous\\nfan\\nfancy\\nfans\\nfantastic\\nfantasy\\nfaq\\nfaqs\\nfar\\nfare\\nfares\\nfarm\\nfarmer\\nfarmers\\nfarming\\nfarms\\nfascinating\\nfashion\\nfast\\nfaster\\nfastest\\nfat\\nfatal\\nfate\\nfather\\nfathers\\nfatty\\nfault\\nfavor\\nfavorite\\nfavorites\\nfavors\\nfavour\\nfavourite\\nfavourites\\nfax\\nfbi\\nfc\\nfcc\\nfd\\nfda\\nfe\\nfear\\nfears\\nfeat\\nfeature\\nfeatured\\nfeatures\\nfeaturing\\nfeb\\nfebruary\\nfed\\nfederal\\nfederation\\nfee\\nfeed\\nfeedback\\nfeeding\\nfeeds\\nfeel\\nfeeling\\nfeelings\\nfeels\\nfees\\nfeet\\nfell\\nfellow\\nfellowship\\nfelt\\nfemale\\nfemales\\nfence\\nfeof\\nferrari\\nferry\\nfestival\\nfestivals\\nfetish\\nfever\\nfew\\nfewer\\nff\\nfg\\nfi\\nfiber\\nfibre\\nfiction\\nfield\\nfields\\nfifteen\\nfifth\\nfifty\\nfig\\nfight\\nfighter\\nfighters\\nfighting\\nfigure\\nfigured\\nfigures\\nfiji\\nfile\\nfiled\\nfilename\\nfiles\\nfiling\\nfill\\nfilled\\nfilling\\nfilm\\nfilme\\nfilms\\nfilter\\nfiltering\\nfilters\\nfin\\nfinal\\nfinally\\nfinals\\nfinance\\nfinances\\nfinancial\\nfinancing\\nfind\\nfindarticles\\nfinder\\nfinding\\nfindings\\nfindlaw\\nfinds\\nfine\\nfinest\\nfinger\\nfingering\\nfingers\\nfinish\\nfinished\\nfinishing\\nfinite\\nfinland\\nfinnish\\nfioricet\\nfire\\nfired\\nfirefox\\nfireplace\\nfires\\nfirewall\\nfirewire\\nfirm\\nfirms\\nfirmware\\nfirst\\nfiscal\\nfish\\nfisher\\nfisheries\\nfishing\\nfist\\nfisting\\nfit\\nfitness\\nfits\\nfitted\\nfitting\\nfive\\nfix\\nfixed\\nfixes\\nfixtures\\nfl\\nfla\\nflag\\nflags\\nflame\\nflash\\nflashers\\nflashing\\nflat\\nflavor\\nfleece\\nfleet\\nflesh\\nflex\\nflexibility\\nflexible\\nflickr\\nflight\\nflights\\nflip\\nfloat\\nfloating\\nflood\\nfloor\\nflooring\\nfloors\\nfloppy\\nfloral\\nflorence\\nflorida\\nflorist\\nflorists\\nflour\\nflow\\nflower\\nflowers\\nflows\\nfloyd\\nflu\\nfluid\\nflush\\nflux\\nfly\\nflyer\\nflying\\nfm\\nfo\\nfoam\\nfocal\\nfocus\\nfocused\\nfocuses\\nfocusing\\nfog\\nfold\\nfolder\\nfolders\\nfolding\\nfolk\\nfolks\\nfollow\\nfollowed\\nfollowing\\nfollows\\nfont\\nfonts\\nfoo\\nfood\\nfoods\\nfool\\nfoot\\nfootage\\nfootball\\nfootwear\\nfor\\nforbes\\nforbidden\\nforce\\nforced\\nforces\\nford\\nforecast\\nforecasts\\nforeign\\nforest\\nforestry\\nforests\\nforever\\nforge\\nforget\\nforgot\\nforgotten\\nfork\\nform\\nformal\\nformat\\nformation\\nformats\\nformatting\\nformed\\nformer\\nformerly\\nforming\\nforms\\nformula\\nfort\\nforth\\nfortune\\nforty\\nforum\\nforums\\nforward\\nforwarding\\nfossil\\nfoster\\nfoto\\nfotos\\nfought\\nfoul\\nfound\\nfoundation\\nfoundations\\nfounded\\nfounder\\nfountain\\nfour\\nfourth\\nfox\\nfp\\nfr\\nfraction\\nfragrance\\nfragrances\\nframe\\nframed\\nframes\\nframework\\nframing\\nfrance\\nfranchise\\nfrancis\\nfrancisco\\nfrank\\nfrankfurt\\nfranklin\\nfraser\\nfraud\\nfred\\nfrederick\\nfree\\nfreebsd\\nfreedom\\nfreelance\\nfreely\\nfreeware\\nfreeze\\nfreight\\nfrench\\nfrequencies\\nfrequency\\nfrequent\\nfrequently\\nfresh\\nfri\\nfriday\\nfridge\\nfriend\\nfriendly\\nfriends\\nfriendship\\nfrog\\nfrom\\nfront\\nfrontier\\nfrontpage\\nfrost\\nfrozen\\nfruit\\nfruits\\nfs\\nft\\nftp\\nfu\\nfuck\\nfucked\\nfucking\\nfuel\\nfuji\\nfujitsu\\nfull\\nfully\\nfun\\nfunction\\nfunctional\\nfunctionality\\nfunctioning\\nfunctions\\nfund\\nfundamental\\nfundamentals\\nfunded\\nfunding\\nfundraising\\nfunds\\nfuneral\\nfunk\\nfunky\\nfunny\\nfur\\nfurnished\\nfurnishings\\nfurniture\\nfurther\\nfurthermore\\nfusion\\nfuture\\nfutures\\nfuzzy\\nfw\\nfwd\\nfx\\nfy\\ng\\nga\\ngabriel\\ngadgets\\ngage\\ngain\\ngained\\ngains\\ngalaxy\\ngale\\ngalleries\\ngallery\\ngambling\\ngame\\ngamecube\\ngames\\ngamespot\\ngaming\\ngamma\\ngang\\ngangbang\\ngap\\ngaps\\ngarage\\ngarbage\\ngarcia\\ngarden\\ngardening\\ngardens\\ngarlic\\ngarmin\\ngary\\ngas\\ngasoline\\ngate\\ngates\\ngateway\\ngather\\ngathered\\ngathering\\ngauge\\ngave\\ngay\\ngays\\ngazette\\ngb\\ngba\\ngbp\\ngc\\ngcc\\ngd\\ngdp\\nge\\ngear\\ngeek\\ngel\\ngem\\ngen\\ngender\\ngene\\ngenealogy\\ngeneral\\ngenerally\\ngenerate\\ngenerated\\ngenerates\\ngenerating\\ngeneration\\ngenerations\\ngenerator\\ngenerators\\ngeneric\\ngenerous\\ngenes\\ngenesis\\ngenetic\\ngenetics\\ngeneva\\ngenius\\ngenome\\ngenre\\ngenres\\ngentle\\ngentleman\\ngently\\ngenuine\\ngeo\\ngeographic\\ngeographical\\ngeography\\ngeological\\ngeology\\ngeometry\\ngeorge\\ngeorgia\\ngerald\\ngerman\\ngermany\\nget\\ngets\\ngetting\\ngg\\nghana\\nghost\\nghz\\ngi\\ngiant\\ngiants\\ngibraltar\\ngibson\\ngif\\ngift\\ngifts\\ngig\\ngilbert\\ngirl\\ngirlfriend\\ngirls\\ngis\\ngive\\ngiven\\ngives\\ngiving\\ngl\\nglad\\nglance\\nglasgow\\nglass\\nglasses\\nglen\\nglenn\\nglobal\\nglobe\\nglory\\nglossary\\ngloves\\nglow\\nglucose\\ngm\\ngmbh\\ngmc\\ngmt\\ngnome\\ngnu\\ngo\\ngoal\\ngoals\\ngoat\\ngod\\ngods\\ngoes\\ngoing\\ngold\\ngolden\\ngolf\\ngone\\ngonna\\ngood\\ngoods\\ngoogle\\ngordon\\ngore\\ngorgeous\\ngospel\\ngossip\\ngot\\ngothic\\ngoto\\ngotta\\ngotten\\ngourmet\\ngov\\ngovernance\\ngoverning\\ngovernment\\ngovernmental\\ngovernments\\ngovernor\\ngovt\\ngp\\ngpl\\ngps\\ngr\\ngrab\\ngrace\\ngrad\\ngrade\\ngrades\\ngradually\\ngraduate\\ngraduated\\ngraduates\\ngraduation\\ngraham\\ngrain\\ngrammar\\ngrams\\ngrand\\ngrande\\ngranny\\ngrant\\ngranted\\ngrants\\ngraph\\ngraphic\\ngraphical\\ngraphics\\ngraphs\\ngras\\ngrass\\ngrateful\\ngratis\\ngratuit\\ngrave\\ngravity\\ngray\\ngreat\\ngreater\\ngreatest\\ngreatly\\ngreece\\ngreek\\ngreen\\ngreene\\ngreenhouse\\ngreensboro\\ngreeting\\ngreetings\\ngreg\\ngregory\\ngrenada\\ngrew\\ngrey\\ngrid\\ngriffin\\ngrill\\ngrip\\ngrocery\\ngroove\\ngross\\nground\\ngrounds\\ngroundwater\\ngroup\\ngroups\\ngrove\\ngrow\\ngrowing\\ngrown\\ngrows\\ngrowth\\ngs\\ngsm\\ngst\\ngt\\ngtk\\nguam\\nguarantee\\nguaranteed\\nguarantees\\nguard\\nguardian\\nguards\\nguatemala\\nguess\\nguest\\nguestbook\\nguests\\ngui\\nguidance\\nguide\\nguided\\nguidelines\\nguides\\nguild\\nguilty\\nguinea\\nguitar\\nguitars\\ngulf\\ngun\\nguns\\nguru\\nguy\\nguyana\\nguys\\ngym\\ngzip\\nh\\nha\\nhabitat\\nhabits\\nhack\\nhacker\\nhad\\nhair\\nhairy\\nhaiti\\nhalf\\nhalfcom\\nhalifax\\nhall\\nhalloween\\nhalo\\nham\\nhamburg\\nhamilton\\nhammer\\nhampshire\\nhampton\\nhand\\nhandbags\\nhandbook\\nhanded\\nhandheld\\nhandhelds\\nhandjob\\nhandjobs\\nhandle\\nhandled\\nhandles\\nhandling\\nhandmade\\nhands\\nhandy\\nhang\\nhanging\\nhans\\nhansen\\nhappen\\nhappened\\nhappening\\nhappens\\nhappiness\\nhappy\\nharassment\\nharbor\\nharbour\\nhard\\nhardcore\\nhardcover\\nharder\\nhardly\\nhardware\\nhardwood\\nharley\\nharm\\nharmful\\nharmony\\nharold\\nharper\\nharris\\nharrison\\nharry\\nhart\\nhartford\\nharvard\\nharvest\\nharvey\\nhas\\nhash\\nhat\\nhate\\nhats\\nhave\\nhaven\\nhaving\\nhawaii\\nhawaiian\\nhawk\\nhay\\nhayes\\nhazard\\nhazardous\\nhazards\\nhb\\nhc\\nhd\\nhdtv\\nhe\\nhead\\nheaded\\nheader\\nheaders\\nheading\\nheadline\\nheadlines\\nheadphones\\nheadquarters\\nheads\\nheadset\\nhealing\\nhealth\\nhealthcare\\nhealthy\\nhear\\nheard\\nhearing\\nhearings\\nheart\\nhearts\\nheat\\nheated\\nheater\\nheath\\nheather\\nheating\\nheaven\\nheavily\\nheavy\\nhebrew\\nheel\\nheight\\nheights\\nheld\\nhelen\\nhelena\\nhelicopter\\nhell\\nhello\\nhelmet\\nhelp\\nhelped\\nhelpful\\nhelping\\nhelps\\nhence\\nhenderson\\nhenry\\nhentai\\nhepatitis\\nher\\nherald\\nherb\\nherbal\\nherbs\\nhere\\nhereby\\nherein\\nheritage\\nhero\\nheroes\\nherself\\nhewlett\\nhey\\nhh\\nhi\\nhidden\\nhide\\nhierarchy\\nhigh\\nhigher\\nhighest\\nhighland\\nhighlight\\nhighlighted\\nhighlights\\nhighly\\nhighs\\nhighway\\nhighways\\nhiking\\nhill\\nhills\\nhilton\\nhim\\nhimself\\nhindu\\nhint\\nhints\\nhip\\nhire\\nhired\\nhiring\\nhis\\nhispanic\\nhist\\nhistoric\\nhistorical\\nhistory\\nhit\\nhitachi\\nhits\\nhitting\\nhiv\\nhk\\nhl\\nho\\nhobbies\\nhobby\\nhockey\\nhold\\nholdem\\nholder\\nholders\\nholding\\nholdings\\nholds\\nhole\\nholes\\nholiday\\nholidays\\nholland\\nhollow\\nholly\\nhollywood\\nholmes\\nholocaust\\nholy\\nhome\\nhomeland\\nhomeless\\nhomepage\\nhomes\\nhometown\\nhomework\\nhon\\nhonda\\nhonduras\\nhonest\\nhoney\\nhong\\nhonolulu\\nhonor\\nhonors\\nhood\\nhook\\nhop\\nhope\\nhoped\\nhopefully\\nhopes\\nhoping\\nhopkins\\nhorizon\\nhorizontal\\nhormone\\nhorn\\nhorny\\nhorrible\\nhorror\\nhorse\\nhorses\\nhose\\nhospital\\nhospitality\\nhospitals\\nhost\\nhosted\\nhostel\\nhostels\\nhosting\\nhosts\\nhot\\nhotel\\nhotels\\nhotelscom\\nhotmail\\nhottest\\nhour\\nhourly\\nhours\\nhouse\\nhousehold\\nhouseholds\\nhouses\\nhousewares\\nhousewives\\nhousing\\nhouston\\nhow\\nhoward\\nhowever\\nhowto\\nhp\\nhq\\nhr\\nhref\\nhrs\\nhs\\nht\\nhtml\\nhttp\\nhu\\nhub\\nhudson\\nhuge\\nhugh\\nhughes\\nhugo\\nhull\\nhuman\\nhumanitarian\\nhumanities\\nhumanity\\nhumans\\nhumidity\\nhumor\\nhundred\\nhundreds\\nhung\\nhungarian\\nhungary\\nhunger\\nhungry\\nhunt\\nhunter\\nhunting\\nhuntington\\nhurricane\\nhurt\\nhusband\\nhwy\\nhybrid\\nhydraulic\\nhydrocodone\\nhydrogen\\nhygiene\\nhypothesis\\nhypothetical\\nhyundai\\nhz\\ni\\nia\\nian\\nibm\\nic\\nice\\niceland\\nicon\\nicons\\nicq\\nict\\nid\\nidaho\\nide\\nidea\\nideal\\nideas\\nidentical\\nidentification\\nidentified\\nidentifier\\nidentifies\\nidentify\\nidentifying\\nidentity\\nidle\\nidol\\nids\\nie\\nieee\\nif\\nignore\\nignored\\nii\\niii\\nil\\nill\\nillegal\\nillinois\\nillness\\nillustrated\\nillustration\\nillustrations\\nim\\nima\\nimage\\nimages\\nimagination\\nimagine\\nimaging\\nimg\\nimmediate\\nimmediately\\nimmigrants\\nimmigration\\nimmune\\nimmunology\\nimpact\\nimpacts\\nimpaired\\nimperial\\nimplement\\nimplementation\\nimplemented\\nimplementing\\nimplications\\nimplied\\nimplies\\nimport\\nimportance\\nimportant\\nimportantly\\nimported\\nimports\\nimpose\\nimposed\\nimpossible\\nimpressed\\nimpression\\nimpressive\\nimprove\\nimproved\\nimprovement\\nimprovements\\nimproving\\nin\\ninappropriate\\ninbox\\ninc\\nincentive\\nincentives\\nincest\\ninch\\ninches\\nincidence\\nincident\\nincidents\\nincl\\ninclude\\nincluded\\nincludes\\nincluding\\ninclusion\\ninclusive\\nincome\\nincoming\\nincomplete\\nincorporate\\nincorporated\\nincorrect\\nincrease\\nincreased\\nincreases\\nincreasing\\nincreasingly\\nincredible\\nincurred\\nind\\nindeed\\nindependence\\nindependent\\nindependently\\nindex\\nindexed\\nindexes\\nindia\\nindian\\nindiana\\nindianapolis\\nindians\\nindicate\\nindicated\\nindicates\\nindicating\\nindication\\nindicator\\nindicators\\nindices\\nindie\\nindigenous\\nindirect\\nindividual\\nindividually\\nindividuals\\nindonesia\\nindonesian\\nindoor\\ninduced\\ninduction\\nindustrial\\nindustries\\nindustry\\ninexpensive\\ninf\\ninfant\\ninfants\\ninfected\\ninfection\\ninfections\\ninfectious\\ninfinite\\ninflation\\ninfluence\\ninfluenced\\ninfluences\\ninfo\\ninform\\ninformal\\ninformation\\ninformational\\ninformative\\ninformed\\ninfrared\\ninfrastructure\\ning\\ningredients\\ninherited\\ninitial\\ninitially\\ninitiated\\ninitiative\\ninitiatives\\ninjection\\ninjured\\ninjuries\\ninjury\\nink\\ninkjet\\ninline\\ninn\\ninner\\ninnocent\\ninnovation\\ninnovations\\ninnovative\\ninns\\ninput\\ninputs\\ninquire\\ninquiries\\ninquiry\\nins\\ninsects\\ninsert\\ninserted\\ninsertion\\ninside\\ninsider\\ninsight\\ninsights\\ninspection\\ninspections\\ninspector\\ninspiration\\ninspired\\ninstall\\ninstallation\\ninstallations\\ninstalled\\ninstalling\\ninstance\\ninstances\\ninstant\\ninstantly\\ninstead\\ninstitute\\ninstitutes\\ninstitution\\ninstitutional\\ninstitutions\\ninstruction\\ninstructional\\ninstructions\\ninstructor\\ninstructors\\ninstrument\\ninstrumental\\ninstrumentation\\ninstruments\\ninsulin\\ninsurance\\ninsured\\nint\\nintake\\ninteger\\nintegral\\nintegrate\\nintegrated\\nintegrating\\nintegration\\nintegrity\\nintel\\nintellectual\\nintelligence\\nintelligent\\nintend\\nintended\\nintense\\nintensity\\nintensive\\nintent\\nintention\\ninter\\ninteract\\ninteraction\\ninteractions\\ninteractive\\ninterest\\ninterested\\ninteresting\\ninterests\\ninterface\\ninterfaces\\ninterference\\ninterim\\ninterior\\nintermediate\\ninternal\\ninternational\\ninternationally\\ninternet\\ninternship\\ninterpretation\\ninterpreted\\ninterracial\\nintersection\\ninterstate\\ninterval\\nintervals\\nintervention\\ninterventions\\ninterview\\ninterviews\\nintimate\\nintl\\ninto\\nintranet\\nintro\\nintroduce\\nintroduced\\nintroduces\\nintroducing\\nintroduction\\nintroductory\\ninvalid\\ninvasion\\ninvention\\ninventory\\ninvest\\ninvestigate\\ninvestigated\\ninvestigation\\ninvestigations\\ninvestigator\\ninvestigators\\ninvesting\\ninvestment\\ninvestments\\ninvestor\\ninvestors\\ninvisible\\ninvision\\ninvitation\\ninvitations\\ninvite\\ninvited\\ninvoice\\ninvolve\\ninvolved\\ninvolvement\\ninvolves\\ninvolving\\nio\\nion\\niowa\\nip\\nipaq\\nipod\\nips\\nir\\nira\\niran\\niraq\\niraqi\\nirc\\nireland\\nirish\\niron\\nirrigation\\nirs\\nis\\nisa\\nisaac\\nisbn\\nislam\\nislamic\\nisland\\nislands\\nisle\\niso\\nisolated\\nisolation\\nisp\\nisrael\\nisraeli\\nissn\\nissue\\nissued\\nissues\\nist\\nistanbul\\nit\\nitalia\\nitalian\\nitaliano\\nitalic\\nitaly\\nitem\\nitems\\nits\\nitsa\\nitself\\nitunes\\niv\\nivory\\nix\\nj\\nja\\njack\\njacket\\njackets\\njackie\\njackson\\njacksonville\\njacob\\njade\\njaguar\\njail\\njake\\njam\\njamaica\\njames\\njamie\\njan\\njane\\njanet\\njanuary\\njapan\\njapanese\\njar\\njason\\njava\\njavascript\\njay\\njazz\\njc\\njd\\nje\\njean\\njeans\\njeep\\njeff\\njefferson\\njeffrey\\njelsoft\\njennifer\\njenny\\njeremy\\njerry\\njersey\\njerusalem\\njesse\\njessica\\njesus\\njet\\njets\\njewel\\njewellery\\njewelry\\njewish\\njews\\njill\\njim\\njimmy\\njj\\njm\\njo\\njoan\\njob\\njobs\\njoe\\njoel\\njohn\\njohnny\\njohns\\njohnson\\njohnston\\njoin\\njoined\\njoining\\njoins\\njoint\\njoke\\njokes\\njon\\njonathan\\njones\\njordan\\njose\\njoseph\\njosh\\njoshua\\njournal\\njournalism\\njournalist\\njournalists\\njournals\\njourney\\njoy\\njoyce\\njp\\njpeg\\njpg\\njr\\njs\\njuan\\njudge\\njudges\\njudgment\\njudicial\\njudy\\njuice\\njul\\njulia\\njulian\\njulie\\njuly\\njump\\njumping\\njun\\njunction\\njune\\njungle\\njunior\\njunk\\njurisdiction\\njury\\njust\\njustice\\njustify\\njustin\\njuvenile\\njvc\\nk\\nka\\nkai\\nkansas\\nkaraoke\\nkaren\\nkarl\\nkarma\\nkate\\nkathy\\nkatie\\nkatrina\\nkay\\nkazakhstan\\nkb\\nkde\\nkeen\\nkeep\\nkeeping\\nkeeps\\nkeith\\nkelkoo\\nkelly\\nken\\nkennedy\\nkenneth\\nkenny\\nkeno\\nkent\\nkentucky\\nkenya\\nkept\\nkernel\\nkerry\\nkevin\\nkey\\nkeyboard\\nkeyboards\\nkeys\\nkeyword\\nkeywords\\nkg\\nkick\\nkid\\nkidney\\nkids\\nkijiji\\nkill\\nkilled\\nkiller\\nkilling\\nkills\\nkilometers\\nkim\\nkinase\\nkind\\nkinda\\nkinds\\nking\\nkingdom\\nkings\\nkingston\\nkirk\\nkiss\\nkissing\\nkit\\nkitchen\\nkits\\nkitty\\nklein\\nkm\\nknee\\nknew\\nknife\\nknight\\nknights\\nknit\\nknitting\\nknives\\nknock\\nknow\\nknowing\\nknowledge\\nknowledgestorm\\nknown\\nknows\\nko\\nkodak\\nkong\\nkorea\\nkorean\\nkruger\\nks\\nkurt\\nkuwait\\nkw\\nky\\nkyle\\nl\\nla\\nlab\\nlabel\\nlabeled\\nlabels\\nlabor\\nlaboratories\\nlaboratory\\nlabour\\nlabs\\nlace\\nlack\\nladder\\nladen\\nladies\\nlady\\nlafayette\\nlaid\\nlake\\nlakes\\nlamb\\nlambda\\nlamp\\nlamps\\nlan\\nlancaster\\nlance\\nland\\nlanding\\nlands\\nlandscape\\nlandscapes\\nlane\\nlanes\\nlang\\nlanguage\\nlanguages\\nlanka\\nlap\\nlaptop\\nlaptops\\nlarge\\nlargely\\nlarger\\nlargest\\nlarry\\nlas\\nlaser\\nlast\\nlasting\\nlat\\nlate\\nlately\\nlater\\nlatest\\nlatex\\nlatin\\nlatina\\nlatinas\\nlatino\\nlatitude\\nlatter\\nlatvia\\nlauderdale\\nlaugh\\nlaughing\\nlaunch\\nlaunched\\nlaunches\\nlaundry\\nlaura\\nlauren\\nlaw\\nlawn\\nlawrence\\nlaws\\nlawsuit\\nlawyer\\nlawyers\\nlay\\nlayer\\nlayers\\nlayout\\nlazy\\nlb\\nlbs\\nlc\\nlcd\\nld\\nle\\nlead\\nleader\\nleaders\\nleadership\\nleading\\nleads\\nleaf\\nleague\\nlean\\nlearn\\nlearned\\nlearners\\nlearning\\nlease\\nleasing\\nleast\\nleather\\nleave\\nleaves\\nleaving\\nlebanon\\nlecture\\nlectures\\nled\\nlee\\nleeds\\nleft\\nleg\\nlegacy\\nlegal\\nlegally\\nlegend\\nlegendary\\nlegends\\nlegislation\\nlegislative\\nlegislature\\nlegitimate\\nlegs\\nleisure\\nlemon\\nlen\\nlender\\nlenders\\nlending\\nlength\\nlens\\nlenses\\nleo\\nleon\\nleonard\\nleone\\nles\\nlesbian\\nlesbians\\nleslie\\nless\\nlesser\\nlesson\\nlessons\\nlet\\nlets\\nletter\\nletters\\nletting\\nleu\\nlevel\\nlevels\\nlevitra\\nlevy\\nlewis\\nlexington\\nlexmark\\nlexus\\nlf\\nlg\\nli\\nliabilities\\nliability\\nliable\\nlib\\nliberal\\nliberia\\nliberty\\nlibrarian\\nlibraries\\nlibrary\\nlibs\\nlicence\\nlicense\\nlicensed\\nlicenses\\nlicensing\\nlicking\\nlid\\nlie\\nliechtenstein\\nlies\\nlife\\nlifestyle\\nlifetime\\nlift\\nlight\\nlighter\\nlighting\\nlightning\\nlights\\nlightweight\\nlike\\nliked\\nlikelihood\\nlikely\\nlikes\\nlikewise\\nlil\\nlime\\nlimit\\nlimitation\\nlimitations\\nlimited\\nlimiting\\nlimits\\nlimousines\\nlincoln\\nlinda\\nlindsay\\nline\\nlinear\\nlined\\nlines\\nlingerie\\nlink\\nlinked\\nlinking\\nlinks\\nlinux\\nlion\\nlions\\nlip\\nlips\\nliquid\\nlisa\\nlist\\nlisted\\nlisten\\nlistening\\nlisting\\nlistings\\nlistprice\\nlists\\nlit\\nlite\\nliteracy\\nliterally\\nliterary\\nliterature\\nlithuania\\nlitigation\\nlittle\\nlive\\nlivecam\\nlived\\nliver\\nliverpool\\nlives\\nlivesex\\nlivestock\\nliving\\nliz\\nll\\nllc\\nlloyd\\nllp\\nlm\\nln\\nlo\\nload\\nloaded\\nloading\\nloads\\nloan\\nloans\\nlobby\\nloc\\nlocal\\nlocale\\nlocally\\nlocate\\nlocated\\nlocation\\nlocations\\nlocator\\nlock\\nlocked\\nlocking\\nlocks\\nlodge\\nlodging\\nlog\\nlogan\\nlogged\\nlogging\\nlogic\\nlogical\\nlogin\\nlogistics\\nlogitech\\nlogo\\nlogos\\nlogs\\nlol\\nlolita\\nlondon\\nlone\\nlonely\\nlong\\nlonger\\nlongest\\nlongitude\\nlook\\nlooked\\nlooking\\nlooks\\nlooksmart\\nlookup\\nloop\\nloops\\nloose\\nlopez\\nlord\\nlos\\nlose\\nlosing\\nloss\\nlosses\\nlost\\nlot\\nlots\\nlottery\\nlotus\\nlou\\nloud\\nlouis\\nlouise\\nlouisiana\\nlouisville\\nlounge\\nlove\\nloved\\nlovely\\nlover\\nlovers\\nloves\\nloving\\nlow\\nlower\\nlowest\\nlows\\nlp\\nls\\nlt\\nltd\\nlu\\nlucas\\nlucia\\nluck\\nlucky\\nlucy\\nluggage\\nluis\\nluke\\nlunch\\nlung\\nluther\\nluxembourg\\nluxury\\nlycos\\nlying\\nlynn\\nlyric\\nlyrics\\nm\\nma\\nmac\\nmacedonia\\nmachine\\nmachinery\\nmachines\\nmacintosh\\nmacro\\nmacromedia\\nmad\\nmadagascar\\nmade\\nmadison\\nmadness\\nmadonna\\nmadrid\\nmae\\nmag\\nmagazine\\nmagazines\\nmagic\\nmagical\\nmagnet\\nmagnetic\\nmagnificent\\nmagnitude\\nmai\\nmaiden\\nmail\\nmailed\\nmailing\\nmailman\\nmails\\nmailto\\nmain\\nmaine\\nmainland\\nmainly\\nmainstream\\nmaintain\\nmaintained\\nmaintaining\\nmaintains\\nmaintenance\\nmajor\\nmajority\\nmake\\nmaker\\nmakers\\nmakes\\nmakeup\\nmaking\\nmalawi\\nmalaysia\\nmaldives\\nmale\\nmales\\nmali\\nmall\\nmalpractice\\nmalta\\nmambo\\nman\\nmanage\\nmanaged\\nmanagement\\nmanager\\nmanagers\\nmanaging\\nmanchester\\nmandate\\nmandatory\\nmanga\\nmanhattan\\nmanitoba\\nmanner\\nmanor\\nmanual\\nmanually\\nmanuals\\nmanufacture\\nmanufactured\\nmanufacturer\\nmanufacturers\\nmanufacturing\\nmany\\nmap\\nmaple\\nmapping\\nmaps\\nmar\\nmarathon\\nmarble\\nmarc\\nmarch\\nmarco\\nmarcus\\nmardi\\nmargaret\\nmargin\\nmaria\\nmariah\\nmarie\\nmarijuana\\nmarilyn\\nmarina\\nmarine\\nmario\\nmarion\\nmaritime\\nmark\\nmarked\\nmarker\\nmarkers\\nmarket\\nmarketing\\nmarketplace\\nmarkets\\nmarking\\nmarks\\nmarriage\\nmarried\\nmarriott\\nmars\\nmarshall\\nmart\\nmartha\\nmartial\\nmartin\\nmarvel\\nmary\\nmaryland\\nmas\\nmask\\nmason\\nmass\\nmassachusetts\\nmassage\\nmassive\\nmaster\\nmastercard\\nmasters\\nmasturbating\\nmasturbation\\nmat\\nmatch\\nmatched\\nmatches\\nmatching\\nmate\\nmaterial\\nmaterials\\nmaternity\\nmath\\nmathematical\\nmathematics\\nmating\\nmatrix\\nmats\\nmatt\\nmatter\\nmatters\\nmatthew\\nmattress\\nmature\\nmaui\\nmauritius\\nmax\\nmaximize\\nmaximum\\nmay\\nmaybe\\nmayor\\nmazda\\nmb\\nmba\\nmc\\nmcdonald\\nmd\\nme\\nmeal\\nmeals\\nmean\\nmeaning\\nmeaningful\\nmeans\\nmeant\\nmeanwhile\\nmeasure\\nmeasured\\nmeasurement\\nmeasurements\\nmeasures\\nmeasuring\\nmeat\\nmechanical\\nmechanics\\nmechanism\\nmechanisms\\nmed\\nmedal\\nmedia\\nmedian\\nmedicaid\\nmedical\\nmedicare\\nmedication\\nmedications\\nmedicine\\nmedicines\\nmedieval\\nmeditation\\nmediterranean\\nmedium\\nmedline\\nmeet\\nmeeting\\nmeetings\\nmeets\\nmeetup\\nmega\\nmel\\nmelbourne\\nmelissa\\nmem\\nmember\\nmembers\\nmembership\\nmembrane\\nmemo\\nmemorabilia\\nmemorial\\nmemories\\nmemory\\nmemphis\\nmen\\nmens\\nment\\nmental\\nmention\\nmentioned\\nmentor\\nmenu\\nmenus\\nmercedes\\nmerchandise\\nmerchant\\nmerchants\\nmercury\\nmercy\\nmere\\nmerely\\nmerge\\nmerger\\nmerit\\nmerry\\nmesa\\nmesh\\nmess\\nmessage\\nmessages\\nmessaging\\nmessenger\\nmet\\nmeta\\nmetabolism\\nmetadata\\nmetal\\nmetallic\\nmetallica\\nmetals\\nmeter\\nmeters\\nmethod\\nmethodology\\nmethods\\nmetres\\nmetric\\nmetro\\nmetropolitan\\nmexican\\nmexico\\nmeyer\\nmf\\nmfg\\nmg\\nmh\\nmhz\\nmi\\nmia\\nmiami\\nmic\\nmice\\nmichael\\nmichel\\nmichelle\\nmichigan\\nmicro\\nmicrophone\\nmicrosoft\\nmicrowave\\nmid\\nmiddle\\nmidi\\nmidlands\\nmidnight\\nmidwest\\nmight\\nmighty\\nmigration\\nmike\\nmil\\nmilan\\nmild\\nmile\\nmileage\\nmiles\\nmilf\\nmilfhunter\\nmilfs\\nmilitary\\nmilk\\nmill\\nmillennium\\nmiller\\nmillion\\nmillions\\nmills\\nmilton\\nmilwaukee\\nmime\\nmin\\nmind\\nminds\\nmine\\nmineral\\nminerals\\nmines\\nmini\\nminiature\\nminimal\\nminimize\\nminimum\\nmining\\nminister\\nministers\\nministries\\nministry\\nminneapolis\\nminnesota\\nminolta\\nminor\\nminority\\nmins\\nmint\\nminus\\nminute\\nminutes\\nmiracle\\nmirror\\nmirrors\\nmisc\\nmiscellaneous\\nmiss\\nmissed\\nmissile\\nmissing\\nmission\\nmissions\\nmississippi\\nmissouri\\nmistake\\nmistakes\\nmistress\\nmit\\nmitchell\\nmitsubishi\\nmix\\nmixed\\nmixer\\nmixing\\nmixture\\nmj\\nml\\nmlb\\nmls\\nmm\\nmn\\nmo\\nmobile\\nmobiles\\nmobility\\nmod\\nmode\\nmodel\\nmodeling\\nmodelling\\nmodels\\nmodem\\nmodems\\nmoderate\\nmoderator\\nmoderators\\nmodern\\nmodes\\nmodification\\nmodifications\\nmodified\\nmodify\\nmods\\nmodular\\nmodule\\nmodules\\nmoisture\\nmold\\nmoldova\\nmolecular\\nmolecules\\nmom\\nmoment\\nmoments\\nmomentum\\nmoms\\nmon\\nmonaco\\nmonday\\nmonetary\\nmoney\\nmongolia\\nmonica\\nmonitor\\nmonitored\\nmonitoring\\nmonitors\\nmonkey\\nmono\\nmonroe\\nmonster\\nmontana\\nmonte\\nmontgomery\\nmonth\\nmonthly\\nmonths\\nmontreal\\nmood\\nmoon\\nmoore\\nmoral\\nmore\\nmoreover\\nmorgan\\nmorning\\nmorocco\\nmorris\\nmorrison\\nmortality\\nmortgage\\nmortgages\\nmoscow\\nmoses\\nmoss\\nmost\\nmostly\\nmotel\\nmotels\\nmother\\nmotherboard\\nmothers\\nmotion\\nmotivated\\nmotivation\\nmotor\\nmotorcycle\\nmotorcycles\\nmotorola\\nmotors\\nmount\\nmountain\\nmountains\\nmounted\\nmounting\\nmounts\\nmouse\\nmouth\\nmove\\nmoved\\nmovement\\nmovements\\nmovers\\nmoves\\nmovie\\nmovies\\nmoving\\nmozambique\\nmozilla\\nmp\\nmpeg\\nmpegs\\nmpg\\nmph\\nmr\\nmrna\\nmrs\\nms\\nmsg\\nmsgid\\nmsgstr\\nmsie\\nmsn\\nmt\\nmtv\\nmu\\nmuch\\nmud\\nmug\\nmulti\\nmultimedia\\nmultiple\\nmumbai\\nmunich\\nmunicipal\\nmunicipality\\nmurder\\nmurphy\\nmurray\\nmuscle\\nmuscles\\nmuseum\\nmuseums\\nmusic\\nmusical\\nmusician\\nmusicians\\nmuslim\\nmuslims\\nmust\\nmustang\\nmutual\\nmuze\\nmv\\nmw\\nmx\\nmy\\nmyanmar\\nmyers\\nmyrtle\\nmyself\\nmysimon\\nmyspace\\nmysql\\nmysterious\\nmystery\\nmyth\\nn\\nna\\nnail\\nnails\\nnaked\\nnam\\nname\\nnamed\\nnamely\\nnames\\nnamespace\\nnamibia\\nnancy\\nnano\\nnaples\\nnarrative\\nnarrow\\nnasa\\nnascar\\nnasdaq\\nnashville\\nnasty\\nnat\\nnathan\\nnation\\nnational\\nnationally\\nnations\\nnationwide\\nnative\\nnato\\nnatural\\nnaturally\\nnaturals\\nnature\\nnaughty\\nnav\\nnaval\\nnavigate\\nnavigation\\nnavigator\\nnavy\\nnb\\nnba\\nnbc\\nnc\\nncaa\\nnd\\nne\\nnear\\nnearby\\nnearest\\nnearly\\nnebraska\\nnec\\nnecessarily\\nnecessary\\nnecessity\\nneck\\nnecklace\\nneed\\nneeded\\nneedle\\nneeds\\nnegative\\nnegotiation\\nnegotiations\\nneighbor\\nneighborhood\\nneighbors\\nneil\\nneither\\nnelson\\nneo\\nneon\\nnepal\\nnerve\\nnervous\\nnest\\nnested\\nnet\\nnetherlands\\nnetscape\\nnetwork\\nnetworking\\nnetworks\\nneural\\nneutral\\nnevada\\nnever\\nnevertheless\\nnew\\nnewark\\nnewbie\\nnewcastle\\nnewer\\nnewest\\nnewfoundland\\nnewly\\nnewport\\nnews\\nnewscom\\nnewsletter\\nnewsletters\\nnewspaper\\nnewspapers\\nnewton\\nnext\\nnextel\\nnfl\\nng\\nnh\\nnhl\\nnhs\\nni\\nniagara\\nnicaragua\\nnice\\nnicholas\\nnick\\nnickel\\nnickname\\nnicole\\nniger\\nnigeria\\nnight\\nnightlife\\nnightmare\\nnights\\nnike\\nnikon\\nnil\\nnine\\nnintendo\\nnipple\\nnipples\\nnirvana\\nnissan\\nnitrogen\\nnj\\nnl\\nnm\\nnn\\nno\\nnoble\\nnobody\\nnode\\nnodes\\nnoise\\nnokia\\nnominated\\nnomination\\nnominations\\nnon\\nnone\\nnonprofit\\nnoon\\nnor\\nnorfolk\\nnorm\\nnormal\\nnormally\\nnorman\\nnorth\\nnortheast\\nnorthern\\nnorthwest\\nnorton\\nnorway\\nnorwegian\\nnos\\nnose\\nnot\\nnote\\nnotebook\\nnotebooks\\nnoted\\nnotes\\nnothing\\nnotice\\nnoticed\\nnotices\\nnotification\\nnotifications\\nnotified\\nnotify\\nnotion\\nnotre\\nnottingham\\nnov\\nnova\\nnovel\\nnovels\\nnovelty\\nnovember\\nnow\\nnowhere\\nnp\\nnr\\nns\\nnsw\\nnt\\nntsc\\nnu\\nnuclear\\nnude\\nnudist\\nnudity\\nnuke\\nnull\\nnumber\\nnumbers\\nnumeric\\nnumerical\\nnumerous\\nnurse\\nnursery\\nnurses\\nnursing\\nnut\\nnutrition\\nnutritional\\nnuts\\nnutten\\nnv\\nnvidia\\nnw\\nny\\nnyc\\nnylon\\nnz\\no\\noak\\noakland\\noaks\\noasis\\nob\\nobesity\\nobituaries\\nobj\\nobject\\nobjective\\nobjectives\\nobjects\\nobligation\\nobligations\\nobservation\\nobservations\\nobserve\\nobserved\\nobserver\\nobtain\\nobtained\\nobtaining\\nobvious\\nobviously\\noc\\noccasion\\noccasional\\noccasionally\\noccasions\\noccupation\\noccupational\\noccupations\\noccupied\\noccur\\noccurred\\noccurrence\\noccurring\\noccurs\\nocean\\noclc\\noct\\noctober\\nodd\\nodds\\noe\\noecd\\noem\\nof\\noff\\noffense\\noffensive\\noffer\\noffered\\noffering\\nofferings\\noffers\\noffice\\nofficer\\nofficers\\noffices\\nofficial\\nofficially\\nofficials\\noffline\\noffset\\noffshore\\noften\\nog\\noh\\nohio\\noil\\noils\\nok\\nokay\\noklahoma\\nol\\nold\\nolder\\noldest\\nolive\\noliver\\nolympic\\nolympics\\nolympus\\nom\\nomaha\\noman\\nomega\\nomissions\\non\\nonce\\none\\nones\\nongoing\\nonion\\nonline\\nonly\\nons\\nontario\\nonto\\noo\\nooo\\noops\\nop\\nopen\\nopened\\nopening\\nopenings\\nopens\\nopera\\noperate\\noperated\\noperates\\noperating\\noperation\\noperational\\noperations\\noperator\\noperators\\nopinion\\nopinions\\nopponent\\nopponents\\nopportunities\\nopportunity\\nopposed\\nopposite\\nopposition\\nopt\\noptical\\noptics\\noptimal\\noptimization\\noptimize\\noptimum\\noption\\noptional\\noptions\\nor\\noracle\\noral\\norange\\norbit\\norchestra\\norder\\nordered\\nordering\\norders\\nordinance\\nordinary\\noregon\\norg\\norgan\\norganic\\norganisation\\norganisations\\norganised\\norganisms\\norganization\\norganizational\\norganizations\\norganize\\norganized\\norganizer\\norganizing\\norgasm\\norgy\\noriental\\norientation\\noriented\\norigin\\noriginal\\noriginally\\norigins\\norlando\\norleans\\nos\\noscar\\not\\nother\\nothers\\notherwise\\nottawa\\nou\\nought\\nour\\nours\\nourselves\\nout\\noutcome\\noutcomes\\noutdoor\\noutdoors\\nouter\\noutlet\\noutline\\noutlined\\noutlook\\noutput\\noutputs\\noutreach\\noutside\\noutsourcing\\noutstanding\\noval\\noven\\nover\\noverall\\novercome\\noverhead\\novernight\\noverseas\\noverview\\nowen\\nown\\nowned\\nowner\\nowners\\nownership\\nowns\\noxford\\noxide\\noxygen\\noz\\nozone\\np\\npa\\npac\\npace\\npacific\\npack\\npackage\\npackages\\npackaging\\npackard\\npacked\\npacket\\npackets\\npacking\\npacks\\npad\\npads\\npage\\npages\\npaid\\npain\\npainful\\npaint\\npaintball\\npainted\\npainting\\npaintings\\npair\\npairs\\npakistan\\npal\\npalace\\npale\\npalestine\\npalestinian\\npalm\\npalmer\\npam\\npamela\\npan\\npanama\\npanasonic\\npanel\\npanels\\npanic\\npanties\\npants\\npantyhose\\npaper\\npaperback\\npaperbacks\\npapers\\npapua\\npar\\npara\\nparade\\nparadise\\nparagraph\\nparagraphs\\nparaguay\\nparallel\\nparameter\\nparameters\\nparcel\\nparent\\nparental\\nparenting\\nparents\\nparis\\nparish\\npark\\nparker\\nparking\\nparks\\nparliament\\nparliamentary\\npart\\npartial\\npartially\\nparticipant\\nparticipants\\nparticipate\\nparticipated\\nparticipating\\nparticipation\\nparticle\\nparticles\\nparticular\\nparticularly\\nparties\\npartition\\npartly\\npartner\\npartners\\npartnership\\npartnerships\\nparts\\nparty\\npas\\npaso\\npass\\npassage\\npassed\\npassenger\\npassengers\\npasses\\npassing\\npassion\\npassive\\npassport\\npassword\\npasswords\\npast\\npasta\\npaste\\npastor\\npat\\npatch\\npatches\\npatent\\npatents\\npath\\npathology\\npaths\\npatient\\npatients\\npatio\\npatricia\\npatrick\\npatrol\\npattern\\npatterns\\npaul\\npavilion\\npaxil\\npay\\npayable\\npayday\\npaying\\npayment\\npayments\\npaypal\\npayroll\\npays\\npb\\npc\\npci\\npcs\\npct\\npd\\npda\\npdas\\npdf\\npdt\\npe\\npeace\\npeaceful\\npeak\\npearl\\npeas\\npediatric\\npee\\npeeing\\npeer\\npeers\\npen\\npenalties\\npenalty\\npencil\\npendant\\npending\\npenetration\\npenguin\\npeninsula\\npenis\\npenn\\npennsylvania\\npenny\\npens\\npension\\npensions\\npentium\\npeople\\npeoples\\npepper\\nper\\nperceived\\npercent\\npercentage\\nperception\\nperfect\\nperfectly\\nperform\\nperformance\\nperformances\\nperformed\\nperformer\\nperforming\\nperforms\\nperfume\\nperhaps\\nperiod\\nperiodic\\nperiodically\\nperiods\\nperipheral\\nperipherals\\nperl\\npermalink\\npermanent\\npermission\\npermissions\\npermit\\npermits\\npermitted\\nperry\\npersian\\npersistent\\nperson\\npersonal\\npersonality\\npersonalized\\npersonally\\npersonals\\npersonnel\\npersons\\nperspective\\nperspectives\\nperth\\nperu\\npest\\npet\\npete\\npeter\\npetersburg\\npeterson\\npetite\\npetition\\npetroleum\\npets\\npf\\npg\\npgp\\nph\\nphantom\\npharmaceutical\\npharmaceuticals\\npharmacies\\npharmacology\\npharmacy\\nphase\\nphases\\nphd\\nphenomenon\\nphentermine\\nphi\\nphil\\nphiladelphia\\nphilip\\nphilippines\\nphilips\\nphillips\\nphilosophy\\nphoenix\\nphone\\nphones\\nphoto\\nphotograph\\nphotographer\\nphotographers\\nphotographic\\nphotographs\\nphotography\\nphotos\\nphotoshop\\nphp\\nphpbb\\nphrase\\nphrases\\nphys\\nphysical\\nphysically\\nphysician\\nphysicians\\nphysics\\nphysiology\\npi\\npiano\\npic\\npichunter\\npick\\npicked\\npicking\\npicks\\npickup\\npicnic\\npics\\npicture\\npictures\\npie\\npiece\\npieces\\npierce\\npierre\\npig\\npike\\npill\\npillow\\npills\\npilot\\npin\\npine\\nping\\npink\\npins\\npioneer\\npipe\\npipeline\\npipes\\npirates\\npiss\\npissing\\npit\\npitch\\npittsburgh\\npix\\npixel\\npixels\\npizza\\npj\\npk\\npl\\nplace\\nplaced\\nplacement\\nplaces\\nplacing\\nplain\\nplains\\nplaintiff\\nplan\\nplane\\nplanes\\nplanet\\nplanets\\nplanned\\nplanner\\nplanners\\nplanning\\nplans\\nplant\\nplants\\nplasma\\nplastic\\nplastics\\nplate\\nplates\\nplatform\\nplatforms\\nplatinum\\nplay\\nplayback\\nplayboy\\nplayed\\nplayer\\nplayers\\nplaying\\nplaylist\\nplays\\nplaystation\\nplaza\\nplc\\npleasant\\nplease\\npleased\\npleasure\\npledge\\nplenty\\nplot\\nplots\\nplug\\nplugin\\nplugins\\nplumbing\\nplus\\nplymouth\\npm\\npmc\\npmid\\npn\\npo\\npocket\\npockets\\npod\\npodcast\\npodcasts\\npoem\\npoems\\npoet\\npoetry\\npoint\\npointed\\npointer\\npointing\\npoints\\npokemon\\npoker\\npoland\\npolar\\npole\\npolice\\npolicies\\npolicy\\npolish\\npolished\\npolitical\\npoliticians\\npolitics\\npoll\\npolls\\npollution\\npolo\\npoly\\npolyester\\npolymer\\npolyphonic\\npond\\npontiac\\npool\\npools\\npoor\\npop\\npope\\npopular\\npopularity\\npopulation\\npopulations\\npor\\nporcelain\\npork\\nporn\\nporno\\nporsche\\nport\\nportable\\nportal\\nporter\\nportfolio\\nportion\\nportions\\nportland\\nportrait\\nportraits\\nports\\nportsmouth\\nportugal\\nportuguese\\npos\\npose\\nposing\\nposition\\npositioning\\npositions\\npositive\\npossess\\npossession\\npossibilities\\npossibility\\npossible\\npossibly\\npost\\npostage\\npostal\\npostcard\\npostcards\\nposted\\nposter\\nposters\\nposting\\npostings\\npostposted\\nposts\\npot\\npotato\\npotatoes\\npotential\\npotentially\\npotter\\npottery\\npoultry\\npound\\npounds\\npour\\npoverty\\npowder\\npowell\\npower\\npowered\\npowerful\\npowerpoint\\npowers\\npowerseller\\npp\\nppc\\nppm\\npr\\npractical\\npractice\\npractices\\npractitioner\\npractitioners\\nprague\\nprairie\\npraise\\npray\\nprayer\\nprayers\\npre\\npreceding\\nprecious\\nprecipitation\\nprecise\\nprecisely\\nprecision\\npredict\\npredicted\\nprediction\\npredictions\\nprefer\\npreference\\npreferences\\npreferred\\nprefers\\nprefix\\npregnancy\\npregnant\\npreliminary\\npremier\\npremiere\\npremises\\npremium\\nprep\\nprepaid\\npreparation\\nprepare\\nprepared\\npreparing\\nprerequisite\\nprescribed\\nprescription\\npresence\\npresent\\npresentation\\npresentations\\npresented\\npresenting\\npresently\\npresents\\npreservation\\npreserve\\npresident\\npresidential\\npress\\npressed\\npressing\\npressure\\npreston\\npretty\\nprev\\nprevent\\npreventing\\nprevention\\npreview\\npreviews\\nprevious\\npreviously\\nprice\\npriced\\nprices\\npricing\\npride\\npriest\\nprimarily\\nprimary\\nprime\\nprince\\nprincess\\nprinceton\\nprincipal\\nprinciple\\nprinciples\\nprint\\nprintable\\nprinted\\nprinter\\nprinters\\nprinting\\nprints\\nprior\\npriorities\\npriority\\nprison\\nprisoner\\nprisoners\\nprivacy\\nprivate\\nprivilege\\nprivileges\\nprix\\nprize\\nprizes\\npro\\nprobability\\nprobably\\nprobe\\nproblem\\nproblems\\nproc\\nprocedure\\nprocedures\\nproceed\\nproceeding\\nproceedings\\nproceeds\\nprocess\\nprocessed\\nprocesses\\nprocessing\\nprocessor\\nprocessors\\nprocurement\\nproduce\\nproduced\\nproducer\\nproducers\\nproduces\\nproducing\\nproduct\\nproduction\\nproductions\\nproductive\\nproductivity\\nproducts\\nprof\\nprofession\\nprofessional\\nprofessionals\\nprofessor\\nprofile\\nprofiles\\nprofit\\nprofits\\nprogram\\nprogramme\\nprogrammer\\nprogrammers\\nprogrammes\\nprogramming\\nprograms\\nprogress\\nprogressive\\nprohibited\\nproject\\nprojected\\nprojection\\nprojector\\nprojectors\\nprojects\\nprominent\\npromise\\npromised\\npromises\\npromising\\npromo\\npromote\\npromoted\\npromotes\\npromoting\\npromotion\\npromotional\\npromotions\\nprompt\\npromptly\\nproof\\npropecia\\nproper\\nproperly\\nproperties\\nproperty\\nprophet\\nproportion\\nproposal\\nproposals\\npropose\\nproposed\\nproposition\\nproprietary\\npros\\nprospect\\nprospective\\nprospects\\nprostate\\nprostores\\nprot\\nprotect\\nprotected\\nprotecting\\nprotection\\nprotective\\nprotein\\nproteins\\nprotest\\nprotocol\\nprotocols\\nprototype\\nproud\\nproudly\\nprove\\nproved\\nproven\\nprovide\\nprovided\\nprovidence\\nprovider\\nproviders\\nprovides\\nproviding\\nprovince\\nprovinces\\nprovincial\\nprovision\\nprovisions\\nproxy\\nprozac\\nps\\npsi\\npsp\\npst\\npsychiatry\\npsychological\\npsychology\\npt\\npts\\npty\\npub\\npublic\\npublication\\npublications\\npublicity\\npublicly\\npublish\\npublished\\npublisher\\npublishers\\npublishing\\npubmed\\npubs\\npuerto\\npull\\npulled\\npulling\\npulse\\npump\\npumps\\npunch\\npunishment\\npunk\\npupils\\npuppy\\npurchase\\npurchased\\npurchases\\npurchasing\\npure\\npurple\\npurpose\\npurposes\\npurse\\npursuant\\npursue\\npursuit\\npush\\npushed\\npushing\\npussy\\nput\\nputs\\nputting\\npuzzle\\npuzzles\\npvc\\npython\\nq\\nqatar\\nqc\\nqld\\nqt\\nqty\\nquad\\nqualification\\nqualifications\\nqualified\\nqualify\\nqualifying\\nqualities\\nquality\\nquantitative\\nquantities\\nquantity\\nquantum\\nquarter\\nquarterly\\nquarters\\nque\\nquebec\\nqueen\\nqueens\\nqueensland\\nqueries\\nquery\\nquest\\nquestion\\nquestionnaire\\nquestions\\nqueue\\nqui\\nquick\\nquickly\\nquiet\\nquilt\\nquit\\nquite\\nquiz\\nquizzes\\nquotations\\nquote\\nquoted\\nquotes\\nr\\nra\\nrabbit\\nrace\\nraces\\nrachel\\nracial\\nracing\\nrack\\nracks\\nradar\\nradiation\\nradical\\nradio\\nradios\\nradius\\nrage\\nraid\\nrail\\nrailroad\\nrailway\\nrain\\nrainbow\\nraise\\nraised\\nraises\\nraising\\nraleigh\\nrally\\nralph\\nram\\nran\\nranch\\nrand\\nrandom\\nrandy\\nrange\\nrangers\\nranges\\nranging\\nrank\\nranked\\nranking\\nrankings\\nranks\\nrap\\nrape\\nrapid\\nrapidly\\nrapids\\nrare\\nrarely\\nrat\\nrate\\nrated\\nrates\\nrather\\nrating\\nratings\\nratio\\nrational\\nratios\\nrats\\nraw\\nray\\nraymond\\nrays\\nrb\\nrc\\nrca\\nrd\\nre\\nreach\\nreached\\nreaches\\nreaching\\nreaction\\nreactions\\nread\\nreader\\nreaders\\nreadily\\nreading\\nreadings\\nreads\\nready\\nreal\\nrealistic\\nreality\\nrealize\\nrealized\\nreally\\nrealm\\nrealtor\\nrealtors\\nrealty\\nrear\\nreason\\nreasonable\\nreasonably\\nreasoning\\nreasons\\nrebate\\nrebates\\nrebecca\\nrebel\\nrebound\\nrec\\nrecall\\nreceipt\\nreceive\\nreceived\\nreceiver\\nreceivers\\nreceives\\nreceiving\\nrecent\\nrecently\\nreception\\nreceptor\\nreceptors\\nrecipe\\nrecipes\\nrecipient\\nrecipients\\nrecognised\\nrecognition\\nrecognize\\nrecognized\\nrecommend\\nrecommendation\\nrecommendations\\nrecommended\\nrecommends\\nreconstruction\\nrecord\\nrecorded\\nrecorder\\nrecorders\\nrecording\\nrecordings\\nrecords\\nrecover\\nrecovered\\nrecovery\\nrecreation\\nrecreational\\nrecruiting\\nrecruitment\\nrecycling\\nred\\nredeem\\nredhead\\nreduce\\nreduced\\nreduces\\nreducing\\nreduction\\nreductions\\nreed\\nreef\\nreel\\nref\\nrefer\\nreference\\nreferenced\\nreferences\\nreferral\\nreferrals\\nreferred\\nreferring\\nrefers\\nrefinance\\nrefine\\nrefined\\nreflect\\nreflected\\nreflection\\nreflections\\nreflects\\nreform\\nreforms\\nrefresh\\nrefrigerator\\nrefugees\\nrefund\\nrefurbished\\nrefuse\\nrefused\\nreg\\nregard\\nregarded\\nregarding\\nregardless\\nregards\\nreggae\\nregime\\nregion\\nregional\\nregions\\nregister\\nregistered\\nregistrar\\nregistration\\nregistry\\nregression\\nregular\\nregularly\\nregulated\\nregulation\\nregulations\\nregulatory\\nrehab\\nrehabilitation\\nreid\\nreject\\nrejected\\nrel\\nrelate\\nrelated\\nrelates\\nrelating\\nrelation\\nrelations\\nrelationship\\nrelationships\\nrelative\\nrelatively\\nrelatives\\nrelax\\nrelaxation\\nrelay\\nrelease\\nreleased\\nreleases\\nrelevance\\nrelevant\\nreliability\\nreliable\\nreliance\\nrelief\\nreligion\\nreligions\\nreligious\\nreload\\nrelocation\\nrely\\nrelying\\nremain\\nremainder\\nremained\\nremaining\\nremains\\nremark\\nremarkable\\nremarks\\nremedies\\nremedy\\nremember\\nremembered\\nremind\\nreminder\\nremix\\nremote\\nremovable\\nremoval\\nremove\\nremoved\\nremoving\\nrenaissance\\nrender\\nrendered\\nrendering\\nrenew\\nrenewable\\nrenewal\\nreno\\nrent\\nrental\\nrentals\\nrentcom\\nrep\\nrepair\\nrepairs\\nrepeat\\nrepeated\\nreplace\\nreplaced\\nreplacement\\nreplacing\\nreplica\\nreplication\\nreplied\\nreplies\\nreply\\nreport\\nreported\\nreporter\\nreporters\\nreporting\\nreports\\nrepository\\nrepresent\\nrepresentation\\nrepresentations\\nrepresentative\\nrepresentatives\\nrepresented\\nrepresenting\\nrepresents\\nreprint\\nreprints\\nreproduce\\nreproduced\\nreproduction\\nreproductive\\nrepublic\\nrepublican\\nrepublicans\\nreputation\\nrequest\\nrequested\\nrequesting\\nrequests\\nrequire\\nrequired\\nrequirement\\nrequirements\\nrequires\\nrequiring\\nres\\nrescue\\nresearch\\nresearcher\\nresearchers\\nreseller\\nreservation\\nreservations\\nreserve\\nreserved\\nreserves\\nreservoir\\nreset\\nresidence\\nresident\\nresidential\\nresidents\\nresist\\nresistance\\nresistant\\nresolution\\nresolutions\\nresolve\\nresolved\\nresort\\nresorts\\nresource\\nresources\\nrespect\\nrespected\\nrespective\\nrespectively\\nrespiratory\\nrespond\\nresponded\\nrespondent\\nrespondents\\nresponding\\nresponse\\nresponses\\nresponsibilities\\nresponsibility\\nresponsible\\nrest\\nrestaurant\\nrestaurants\\nrestoration\\nrestore\\nrestored\\nrestrict\\nrestricted\\nrestriction\\nrestrictions\\nrestructuring\\nresult\\nresulted\\nresulting\\nresults\\nresume\\nresumes\\nretail\\nretailer\\nretailers\\nretain\\nretained\\nretention\\nretired\\nretirement\\nretreat\\nretrieval\\nretrieve\\nretrieved\\nretro\\nreturn\\nreturned\\nreturning\\nreturns\\nreunion\\nreuters\\nrev\\nreveal\\nrevealed\\nreveals\\nrevelation\\nrevenge\\nrevenue\\nrevenues\\nreverse\\nreview\\nreviewed\\nreviewer\\nreviewing\\nreviews\\nrevised\\nrevision\\nrevisions\\nrevolution\\nrevolutionary\\nreward\\nrewards\\nreynolds\\nrf\\nrfc\\nrg\\nrh\\nrhode\\nrhythm\\nri\\nribbon\\nrica\\nrice\\nrich\\nrichard\\nrichards\\nrichardson\\nrichmond\\nrick\\nrico\\nrid\\nride\\nrider\\nriders\\nrides\\nridge\\nriding\\nright\\nrights\\nrim\\nring\\nrings\\nringtone\\nringtones\\nrio\\nrip\\nripe\\nrise\\nrising\\nrisk\\nrisks\\nriver\\nrivers\\nriverside\\nrj\\nrl\\nrm\\nrn\\nrna\\nro\\nroad\\nroads\\nrob\\nrobert\\nroberts\\nrobertson\\nrobin\\nrobinson\\nrobot\\nrobots\\nrobust\\nrochester\\nrock\\nrocket\\nrocks\\nrocky\\nrod\\nroger\\nrogers\\nroland\\nrole\\nroles\\nroll\\nrolled\\nroller\\nrolling\\nrolls\\nrom\\nroman\\nromance\\nromania\\nromantic\\nrome\\nron\\nronald\\nroof\\nroom\\nroommate\\nroommates\\nrooms\\nroot\\nroots\\nrope\\nrosa\\nrose\\nroses\\nross\\nroster\\nrotary\\nrotation\\nrouge\\nrough\\nroughly\\nroulette\\nround\\nrounds\\nroute\\nrouter\\nrouters\\nroutes\\nroutine\\nroutines\\nrouting\\nrover\\nrow\\nrows\\nroy\\nroyal\\nroyalty\\nrp\\nrpg\\nrpm\\nrr\\nrrp\\nrs\\nrss\\nrt\\nru\\nrubber\\nruby\\nrug\\nrugby\\nrugs\\nrule\\nruled\\nrules\\nruling\\nrun\\nrunner\\nrunning\\nruns\\nruntime\\nrural\\nrush\\nrussell\\nrussia\\nrussian\\nruth\\nrv\\nrw\\nrwanda\\nrx\\nryan\\ns\\nsa\\nsacramento\\nsacred\\nsacrifice\\nsad\\nsaddam\\nsafari\\nsafe\\nsafely\\nsafer\\nsafety\\nsage\\nsagem\\nsaid\\nsail\\nsailing\\nsaint\\nsaints\\nsake\\nsalad\\nsalaries\\nsalary\\nsale\\nsalem\\nsales\\nsally\\nsalmon\\nsalon\\nsalt\\nsalvador\\nsalvation\\nsam\\nsamba\\nsame\\nsamoa\\nsample\\nsamples\\nsampling\\nsamsung\\nsamuel\\nsan\\nsand\\nsandra\\nsandwich\\nsandy\\nsans\\nsanta\\nsanyo\\nsao\\nsap\\nsapphire\\nsara\\nsarah\\nsas\\nsaskatchewan\\nsat\\nsatellite\\nsatin\\nsatisfaction\\nsatisfactory\\nsatisfied\\nsatisfy\\nsaturday\\nsaturn\\nsauce\\nsaudi\\nsavage\\nsavannah\\nsave\\nsaved\\nsaver\\nsaves\\nsaving\\nsavings\\nsaw\\nsay\\nsaying\\nsays\\nsb\\nsbjct\\nsc\\nscale\\nscales\\nscan\\nscanned\\nscanner\\nscanners\\nscanning\\nscary\\nscenario\\nscenarios\\nscene\\nscenes\\nscenic\\nschedule\\nscheduled\\nschedules\\nscheduling\\nschema\\nscheme\\nschemes\\nscholar\\nscholars\\nscholarship\\nscholarships\\nschool\\nschools\\nsci\\nscience\\nsciences\\nscientific\\nscientist\\nscientists\\nscoop\\nscope\\nscore\\nscored\\nscores\\nscoring\\nscotia\\nscotland\\nscott\\nscottish\\nscout\\nscratch\\nscreen\\nscreening\\nscreens\\nscreensaver\\nscreensavers\\nscreenshot\\nscreenshots\\nscrew\\nscript\\nscripting\\nscripts\\nscroll\\nscsi\\nscuba\\nsculpture\\nsd\\nse\\nsea\\nseafood\\nseal\\nsealed\\nsean\\nsearch\\nsearchcom\\nsearched\\nsearches\\nsearching\\nseas\\nseason\\nseasonal\\nseasons\\nseat\\nseating\\nseats\\nseattle\\nsec\\nsecond\\nsecondary\\nseconds\\nsecret\\nsecretariat\\nsecretary\\nsecrets\\nsection\\nsections\\nsector\\nsectors\\nsecure\\nsecured\\nsecurely\\nsecurities\\nsecurity\\nsee\\nseed\\nseeds\\nseeing\\nseek\\nseeker\\nseekers\\nseeking\\nseeks\\nseem\\nseemed\\nseems\\nseen\\nsees\\nsega\\nsegment\\nsegments\\nselect\\nselected\\nselecting\\nselection\\nselections\\nselective\\nself\\nsell\\nseller\\nsellers\\nselling\\nsells\\nsemester\\nsemi\\nsemiconductor\\nseminar\\nseminars\\nsen\\nsenate\\nsenator\\nsenators\\nsend\\nsender\\nsending\\nsends\\nsenegal\\nsenior\\nseniors\\nsense\\nsensitive\\nsensitivity\\nsensor\\nsensors\\nsent\\nsentence\\nsentences\\nseo\\nsep\\nseparate\\nseparated\\nseparately\\nseparation\\nsept\\nseptember\\nseq\\nsequence\\nsequences\\nser\\nserbia\\nserial\\nseries\\nserious\\nseriously\\nserum\\nserve\\nserved\\nserver\\nservers\\nserves\\nservice\\nservices\\nserving\\nsession\\nsessions\\nset\\nsets\\nsetting\\nsettings\\nsettle\\nsettled\\nsettlement\\nsetup\\nseven\\nseventh\\nseveral\\nsevere\\nsewing\\nsex\\nsexcam\\nsexo\\nsexual\\nsexuality\\nsexually\\nsexy\\nsf\\nsg\\nsh\\nshade\\nshades\\nshadow\\nshadows\\nshaft\\nshake\\nshakespeare\\nshakira\\nshall\\nshame\\nshanghai\\nshannon\\nshape\\nshaped\\nshapes\\nshare\\nshared\\nshareholders\\nshares\\nshareware\\nsharing\\nshark\\nsharon\\nsharp\\nshaved\\nshaw\\nshe\\nshed\\nsheep\\nsheer\\nsheet\\nsheets\\nsheffield\\nshelf\\nshell\\nshelter\\nshemale\\nshemales\\nshepherd\\nsheriff\\nsherman\\nshield\\nshift\\nshine\\nship\\nshipment\\nshipments\\nshipped\\nshipping\\nships\\nshirt\\nshirts\\nshit\\nshock\\nshoe\\nshoes\\nshoot\\nshooting\\nshop\\nshopper\\nshoppercom\\nshoppers\\nshopping\\nshoppingcom\\nshops\\nshopzilla\\nshore\\nshort\\nshortcuts\\nshorter\\nshortly\\nshorts\\nshot\\nshots\\nshould\\nshoulder\\nshow\\nshowcase\\nshowed\\nshower\\nshowers\\nshowing\\nshown\\nshows\\nshowtimes\\nshut\\nshuttle\\nsi\\nsic\\nsick\\nside\\nsides\\nsie\\nsiemens\\nsierra\\nsig\\nsight\\nsigma\\nsign\\nsignal\\nsignals\\nsignature\\nsignatures\\nsigned\\nsignificance\\nsignificant\\nsignificantly\\nsigning\\nsigns\\nsignup\\nsilence\\nsilent\\nsilicon\\nsilk\\nsilly\\nsilver\\nsim\\nsimilar\\nsimilarly\\nsimon\\nsimple\\nsimplified\\nsimply\\nsimpson\\nsimpsons\\nsims\\nsimulation\\nsimulations\\nsimultaneously\\nsin\\nsince\\nsing\\nsingapore\\nsinger\\nsingh\\nsinging\\nsingle\\nsingles\\nsink\\nsip\\nsir\\nsister\\nsisters\\nsit\\nsite\\nsitemap\\nsites\\nsitting\\nsituated\\nsituation\\nsituations\\nsix\\nsixth\\nsize\\nsized\\nsizes\\nsk\\nskating\\nski\\nskiing\\nskill\\nskilled\\nskills\\nskin\\nskins\\nskip\\nskirt\\nskirts\\nsku\\nsky\\nskype\\nsl\\nslave\\nsleep\\nsleeping\\nsleeps\\nsleeve\\nslide\\nslides\\nslideshow\\nslight\\nslightly\\nslim\\nslip\\nslope\\nslot\\nslots\\nslovak\\nslovakia\\nslovenia\\nslow\\nslowly\\nslut\\nsluts\\nsm\\nsmall\\nsmaller\\nsmart\\nsmell\\nsmile\\nsmilies\\nsmith\\nsmithsonian\\nsmoke\\nsmoking\\nsmooth\\nsms\\nsmtp\\nsn\\nsnake\\nsnap\\nsnapshot\\nsnow\\nsnowboard\\nso\\nsoa\\nsoap\\nsoc\\nsoccer\\nsocial\\nsocieties\\nsociety\\nsociology\\nsocket\\nsocks\\nsodium\\nsofa\\nsoft\\nsoftball\\nsoftware\\nsoil\\nsol\\nsolar\\nsolaris\\nsold\\nsoldier\\nsoldiers\\nsole\\nsolely\\nsolid\\nsolo\\nsolomon\\nsolution\\nsolutions\\nsolve\\nsolved\\nsolving\\nsoma\\nsomalia\\nsome\\nsomebody\\nsomehow\\nsomeone\\nsomerset\\nsomething\\nsometimes\\nsomewhat\\nsomewhere\\nson\\nsong\\nsongs\\nsonic\\nsons\\nsony\\nsoon\\nsoonest\\nsophisticated\\nsorry\\nsort\\nsorted\\nsorts\\nsought\\nsoul\\nsouls\\nsound\\nsounds\\nsoundtrack\\nsoup\\nsource\\nsources\\nsouth\\nsouthampton\\nsoutheast\\nsouthern\\nsouthwest\\nsoviet\\nsox\\nsp\\nspa\\nspace\\nspaces\\nspain\\nspam\\nspan\\nspanish\\nspank\\nspanking\\nsparc\\nspare\\nspas\\nspatial\\nspeak\\nspeaker\\nspeakers\\nspeaking\\nspeaks\\nspears\\nspec\\nspecial\\nspecialist\\nspecialists\\nspecialized\\nspecializing\\nspecially\\nspecials\\nspecialties\\nspecialty\\nspecies\\nspecific\\nspecifically\\nspecification\\nspecifications\\nspecifics\\nspecified\\nspecifies\\nspecify\\nspecs\\nspectacular\\nspectrum\\nspeech\\nspeeches\\nspeed\\nspeeds\\nspell\\nspelling\\nspencer\\nspend\\nspending\\nspent\\nsperm\\nsphere\\nspice\\nspider\\nspies\\nspin\\nspine\\nspirit\\nspirits\\nspiritual\\nspirituality\\nsplit\\nspoke\\nspoken\\nspokesman\\nsponsor\\nsponsored\\nsponsors\\nsponsorship\\nsport\\nsporting\\nsports\\nspot\\nspotlight\\nspots\\nspouse\\nspray\\nspread\\nspreading\\nspring\\nspringer\\nspringfield\\nsprings\\nsprint\\nspy\\nspyware\\nsq\\nsql\\nsquad\\nsquare\\nsquirt\\nsquirting\\nsr\\nsrc\\nsri\\nss\\nssl\\nst\\nstability\\nstable\\nstack\\nstadium\\nstaff\\nstaffing\\nstage\\nstages\\nstainless\\nstakeholders\\nstamp\\nstamps\\nstan\\nstand\\nstandard\\nstandards\\nstanding\\nstandings\\nstands\\nstanford\\nstanley\\nstar\\nstarring\\nstars\\nstarsmerchant\\nstart\\nstarted\\nstarter\\nstarting\\nstarts\\nstartup\\nstat\\nstate\\nstated\\nstatement\\nstatements\\nstates\\nstatewide\\nstatic\\nstating\\nstation\\nstationery\\nstations\\nstatistical\\nstatistics\\nstats\\nstatus\\nstatute\\nstatutes\\nstatutory\\nstay\\nstayed\\nstaying\\nstays\\nstd\\nste\\nsteady\\nsteal\\nsteam\\nsteel\\nsteering\\nstem\\nstep\\nstephanie\\nstephen\\nsteps\\nstereo\\nsterling\\nsteve\\nsteven\\nstevens\\nstewart\\nstick\\nsticker\\nstickers\\nsticks\\nsticky\\nstill\\nstock\\nstockholm\\nstockings\\nstocks\\nstolen\\nstomach\\nstone\\nstones\\nstood\\nstop\\nstopped\\nstopping\\nstops\\nstorage\\nstore\\nstored\\nstores\\nstories\\nstorm\\nstory\\nstr\\nstraight\\nstrain\\nstrand\\nstrange\\nstranger\\nstrap\\nstrategic\\nstrategies\\nstrategy\\nstream\\nstreaming\\nstreams\\nstreet\\nstreets\\nstrength\\nstrengthen\\nstrengthening\\nstrengths\\nstress\\nstretch\\nstrict\\nstrictly\\nstrike\\nstrikes\\nstriking\\nstring\\nstrings\\nstrip\\nstripes\\nstrips\\nstroke\\nstrong\\nstronger\\nstrongly\\nstruck\\nstruct\\nstructural\\nstructure\\nstructured\\nstructures\\nstruggle\\nstuart\\nstuck\\nstud\\nstudent\\nstudents\\nstudied\\nstudies\\nstudio\\nstudios\\nstudy\\nstudying\\nstuff\\nstuffed\\nstunning\\nstupid\\nstyle\\nstyles\\nstylish\\nstylus\\nsu\\nsub\\nsubaru\\nsubcommittee\\nsubdivision\\nsubject\\nsubjects\\nsublime\\nsublimedirectory\\nsubmission\\nsubmissions\\nsubmit\\nsubmitted\\nsubmitting\\nsubscribe\\nsubscriber\\nsubscribers\\nsubscription\\nsubscriptions\\nsubsection\\nsubsequent\\nsubsequently\\nsubsidiaries\\nsubsidiary\\nsubstance\\nsubstances\\nsubstantial\\nsubstantially\\nsubstitute\\nsubtle\\nsuburban\\nsucceed\\nsuccess\\nsuccessful\\nsuccessfully\\nsuch\\nsuck\\nsucking\\nsucks\\nsudan\\nsudden\\nsuddenly\\nsue\\nsuffer\\nsuffered\\nsuffering\\nsufficient\\nsufficiently\\nsugar\\nsuggest\\nsuggested\\nsuggesting\\nsuggestion\\nsuggestions\\nsuggests\\nsuicide\\nsuit\\nsuitable\\nsuite\\nsuited\\nsuites\\nsuits\\nsullivan\\nsum\\nsummaries\\nsummary\\nsummer\\nsummit\\nsun\\nsunday\\nsunglasses\\nsunny\\nsunrise\\nsunset\\nsunshine\\nsuper\\nsuperb\\nsuperintendent\\nsuperior\\nsupervision\\nsupervisor\\nsupervisors\\nsupplement\\nsupplemental\\nsupplements\\nsupplied\\nsupplier\\nsuppliers\\nsupplies\\nsupply\\nsupport\\nsupported\\nsupporters\\nsupporting\\nsupports\\nsuppose\\nsupposed\\nsupreme\\nsur\\nsure\\nsurely\\nsurf\\nsurface\\nsurfaces\\nsurfing\\nsurge\\nsurgeon\\nsurgeons\\nsurgery\\nsurgical\\nsurname\\nsurplus\\nsurprise\\nsurprised\\nsurprising\\nsurrey\\nsurround\\nsurrounded\\nsurrounding\\nsurveillance\\nsurvey\\nsurveys\\nsurvival\\nsurvive\\nsurvivor\\nsurvivors\\nsusan\\nsuse\\nsuspect\\nsuspected\\nsuspended\\nsuspension\\nsussex\\nsustainability\\nsustainable\\nsustained\\nsuzuki\\nsv\\nsw\\nswap\\nsweden\\nswedish\\nsweet\\nswift\\nswim\\nswimming\\nswing\\nswingers\\nswiss\\nswitch\\nswitched\\nswitches\\nswitching\\nswitzerland\\nsword\\nsydney\\nsymantec\\nsymbol\\nsymbols\\nsympathy\\nsymphony\\nsymposium\\nsymptoms\\nsync\\nsyndicate\\nsyndication\\nsyndrome\\nsynopsis\\nsyntax\\nsynthesis\\nsynthetic\\nsyracuse\\nsyria\\nsys\\nsystem\\nsystematic\\nsystems\\nt\\nta\\ntab\\ntable\\ntables\\ntablet\\ntablets\\ntabs\\ntackle\\ntactics\\ntag\\ntagged\\ntags\\ntahoe\\ntail\\ntaiwan\\ntake\\ntaken\\ntakes\\ntaking\\ntale\\ntalent\\ntalented\\ntales\\ntalk\\ntalked\\ntalking\\ntalks\\ntall\\ntamil\\ntampa\\ntan\\ntank\\ntanks\\ntanzania\\ntap\\ntape\\ntapes\\ntar\\ntarget\\ntargeted\\ntargets\\ntariff\\ntask\\ntasks\\ntaste\\ntattoo\\ntaught\\ntax\\ntaxation\\ntaxes\\ntaxi\\ntaylor\\ntb\\ntba\\ntc\\ntcp\\ntd\\nte\\ntea\\nteach\\nteacher\\nteachers\\nteaches\\nteaching\\nteam\\nteams\\ntear\\ntears\\ntech\\ntechnical\\ntechnician\\ntechnique\\ntechniques\\ntechno\\ntechnological\\ntechnologies\\ntechnology\\ntechrepublic\\nted\\nteddy\\ntee\\nteen\\nteenage\\nteens\\nteeth\\ntel\\ntelecharger\\ntelecom\\ntelecommunications\\ntelephone\\ntelephony\\ntelescope\\ntelevision\\ntelevisions\\ntell\\ntelling\\ntells\\ntemp\\ntemperature\\ntemperatures\\ntemplate\\ntemplates\\ntemple\\ntemporal\\ntemporarily\\ntemporary\\nten\\ntenant\\ntend\\ntender\\ntennessee\\ntennis\\ntension\\ntent\\nterm\\nterminal\\nterminals\\ntermination\\nterminology\\nterms\\nterrace\\nterrain\\nterrible\\nterritories\\nterritory\\nterror\\nterrorism\\nterrorist\\nterrorists\\nterry\\ntest\\ntestament\\ntested\\ntestimonials\\ntestimony\\ntesting\\ntests\\ntex\\ntexas\\ntext\\ntextbook\\ntextbooks\\ntextile\\ntextiles\\ntexts\\ntexture\\ntf\\ntft\\ntgp\\nth\\nthai\\nthailand\\nthan\\nthank\\nthanks\\nthanksgiving\\nthat\\nthats\\nthe\\ntheater\\ntheaters\\ntheatre\\nthee\\ntheft\\nthehun\\ntheir\\nthem\\ntheme\\nthemes\\nthemselves\\nthen\\ntheology\\ntheorem\\ntheoretical\\ntheories\\ntheory\\ntherapeutic\\ntherapist\\ntherapy\\nthere\\nthereafter\\nthereby\\ntherefore\\nthereof\\nthermal\\nthesaurus\\nthese\\nthesis\\nthey\\nthick\\nthickness\\nthin\\nthing\\nthings\\nthink\\nthinking\\nthinkpad\\nthinks\\nthird\\nthirty\\nthis\\nthomas\\nthompson\\nthomson\\nthong\\nthongs\\nthorough\\nthoroughly\\nthose\\nthou\\nthough\\nthought\\nthoughts\\nthousand\\nthousands\\nthread\\nthreaded\\nthreads\\nthreat\\nthreatened\\nthreatening\\nthreats\\nthree\\nthreesome\\nthreshold\\nthriller\\nthroat\\nthrough\\nthroughout\\nthrow\\nthrowing\\nthrown\\nthrows\\nthru\\nthu\\nthumb\\nthumbnail\\nthumbnails\\nthumbs\\nthumbzilla\\nthunder\\nthursday\\nthus\\nthy\\nti\\nticket\\ntickets\\ntide\\ntie\\ntied\\ntier\\nties\\ntiffany\\ntiger\\ntigers\\ntight\\ntil\\ntile\\ntiles\\ntill\\ntim\\ntimber\\ntime\\ntimeline\\ntimely\\ntimer\\ntimes\\ntiming\\ntimothy\\ntin\\ntiny\\ntion\\ntions\\ntip\\ntips\\ntire\\ntired\\ntires\\ntissue\\ntit\\ntitanium\\ntitans\\ntitle\\ntitled\\ntitles\\ntits\\ntitten\\ntm\\ntmp\\ntn\\nto\\ntobacco\\ntobago\\ntoday\\ntodd\\ntoddler\\ntoe\\ntogether\\ntoilet\\ntoken\\ntokyo\\ntold\\ntolerance\\ntoll\\ntom\\ntomato\\ntomatoes\\ntommy\\ntomorrow\\nton\\ntone\\ntoner\\ntones\\ntongue\\ntonight\\ntons\\ntony\\ntoo\\ntook\\ntool\\ntoolbar\\ntoolbox\\ntoolkit\\ntools\\ntooth\\ntop\\ntopic\\ntopics\\ntopless\\ntops\\ntoronto\\ntorture\\ntoshiba\\ntotal\\ntotally\\ntotals\\ntouch\\ntouched\\ntough\\ntour\\ntouring\\ntourism\\ntourist\\ntournament\\ntournaments\\ntours\\ntoward\\ntowards\\ntower\\ntowers\\ntown\\ntowns\\ntownship\\ntoxic\\ntoy\\ntoyota\\ntoys\\ntp\\ntr\\ntrace\\ntrack\\ntrackback\\ntrackbacks\\ntracked\\ntracker\\ntracking\\ntracks\\ntract\\ntractor\\ntracy\\ntrade\\ntrademark\\ntrademarks\\ntrader\\ntrades\\ntrading\\ntradition\\ntraditional\\ntraditions\\ntraffic\\ntragedy\\ntrail\\ntrailer\\ntrailers\\ntrails\\ntrain\\ntrained\\ntrainer\\ntrainers\\ntraining\\ntrains\\ntramadol\\ntrance\\ntranny\\ntrans\\ntransaction\\ntransactions\\ntranscript\\ntranscription\\ntranscripts\\ntransexual\\ntransexuales\\ntransfer\\ntransferred\\ntransfers\\ntransform\\ntransformation\\ntransit\\ntransition\\ntranslate\\ntranslated\\ntranslation\\ntranslations\\ntranslator\\ntransmission\\ntransmit\\ntransmitted\\ntransparency\\ntransparent\\ntransport\\ntransportation\\ntranssexual\\ntrap\\ntrash\\ntrauma\\ntravel\\ntraveler\\ntravelers\\ntraveling\\ntraveller\\ntravelling\\ntravels\\ntravesti\\ntravis\\ntray\\ntreasure\\ntreasurer\\ntreasures\\ntreasury\\ntreat\\ntreated\\ntreating\\ntreatment\\ntreatments\\ntreaty\\ntree\\ntrees\\ntrek\\ntrembl\\ntremendous\\ntrend\\ntrends\\ntreo\\ntri\\ntrial\\ntrials\\ntriangle\\ntribal\\ntribe\\ntribes\\ntribunal\\ntribune\\ntribute\\ntrick\\ntricks\\ntried\\ntries\\ntrigger\\ntrim\\ntrinidad\\ntrinity\\ntrio\\ntrip\\ntripadvisor\\ntriple\\ntrips\\ntriumph\\ntrivia\\ntroops\\ntropical\\ntrouble\\ntroubleshooting\\ntrout\\ntroy\\ntruck\\ntrucks\\ntrue\\ntruly\\ntrunk\\ntrust\\ntrusted\\ntrustee\\ntrustees\\ntrusts\\ntruth\\ntry\\ntrying\\nts\\ntsunami\\ntt\\ntu\\ntub\\ntube\\ntubes\\ntucson\\ntue\\ntuesday\\ntuition\\ntulsa\\ntumor\\ntune\\ntuner\\ntunes\\ntuning\\ntunisia\\ntunnel\\nturbo\\nturkey\\nturkish\\nturn\\nturned\\nturner\\nturning\\nturns\\nturtle\\ntutorial\\ntutorials\\ntv\\ntvcom\\ntvs\\ntwelve\\ntwenty\\ntwice\\ntwiki\\ntwin\\ntwinks\\ntwins\\ntwist\\ntwisted\\ntwo\\ntx\\nty\\ntyler\\ntype\\ntypes\\ntypical\\ntypically\\ntyping\\nu\\nuc\\nuganda\\nugly\\nuh\\nui\\nuk\\nukraine\\nul\\nultimate\\nultimately\\nultra\\nultram\\num\\nun\\nuna\\nunable\\nunauthorized\\nunavailable\\nuncertainty\\nuncle\\nund\\nundefined\\nunder\\nundergraduate\\nunderground\\nunderlying\\nunderstand\\nunderstanding\\nunderstood\\nundertake\\nundertaken\\nunderwear\\nundo\\nune\\nunemployment\\nunexpected\\nunfortunately\\nuni\\nunified\\nuniform\\nunion\\nunions\\nuniprotkb\\nunique\\nunit\\nunited\\nunits\\nunity\\nuniv\\nuniversal\\nuniverse\\nuniversities\\nuniversity\\nunix\\nunknown\\nunless\\nunlike\\nunlikely\\nunlimited\\nunlock\\nunnecessary\\nunsigned\\nunsubscribe\\nuntil\\nuntitled\\nunto\\nunusual\\nunwrap\\nup\\nupc\\nupcoming\\nupdate\\nupdated\\nupdates\\nupdating\\nupgrade\\nupgrades\\nupgrading\\nupload\\nuploaded\\nupon\\nupper\\nups\\nupset\\nupskirt\\nupskirts\\nur\\nurban\\nurge\\nurgent\\nuri\\nurl\\nurls\\nuruguay\\nurw\\nus\\nusa\\nusage\\nusb\\nusc\\nusd\\nusda\\nuse\\nused\\nuseful\\nuser\\nusername\\nusers\\nuses\\nusgs\\nusing\\nusps\\nusr\\nusual\\nusually\\nut\\nutah\\nutc\\nutilities\\nutility\\nutilization\\nutilize\\nutils\\nuv\\nuw\\nuzbekistan\\nv\\nva\\nvacancies\\nvacation\\nvacations\\nvaccine\\nvacuum\\nvagina\\nval\\nvalentine\\nvalid\\nvalidation\\nvalidity\\nvalium\\nvalley\\nvaluable\\nvaluation\\nvalue\\nvalued\\nvalues\\nvalve\\nvalves\\nvampire\\nvan\\nvancouver\\nvanilla\\nvar\\nvariable\\nvariables\\nvariance\\nvariation\\nvariations\\nvaried\\nvaries\\nvariety\\nvarious\\nvary\\nvarying\\nvast\\nvat\\nvatican\\nvault\\nvb\\nvbulletin\\nvc\\nvcr\\nve\\nvector\\nvegas\\nvegetable\\nvegetables\\nvegetarian\\nvegetation\\nvehicle\\nvehicles\\nvelocity\\nvelvet\\nvendor\\nvendors\\nvenezuela\\nvenice\\nventure\\nventures\\nvenue\\nvenues\\nver\\nverbal\\nverde\\nverification\\nverified\\nverify\\nverizon\\nvermont\\nvernon\\nverse\\nversion\\nversions\\nversus\\nvertex\\nvertical\\nvery\\nverzeichnis\\nvessel\\nvessels\\nveteran\\nveterans\\nveterinary\\nvg\\nvhs\\nvi\\nvia\\nviagra\\nvibrator\\nvibrators\\nvic\\nvice\\nvictim\\nvictims\\nvictor\\nvictoria\\nvictorian\\nvictory\\nvid\\nvideo\\nvideos\\nvids\\nvienna\\nvietnam\\nvietnamese\\nview\\nviewed\\nviewer\\nviewers\\nviewing\\nviewpicture\\nviews\\nvii\\nviii\\nviking\\nvilla\\nvillage\\nvillages\\nvillas\\nvincent\\nvintage\\nvinyl\\nviolation\\nviolations\\nviolence\\nviolent\\nviolin\\nvip\\nviral\\nvirgin\\nvirginia\\nvirtual\\nvirtually\\nvirtue\\nvirus\\nviruses\\nvisa\\nvisibility\\nvisible\\nvision\\nvisit\\nvisited\\nvisiting\\nvisitor\\nvisitors\\nvisits\\nvista\\nvisual\\nvital\\nvitamin\\nvitamins\\nvocabulary\\nvocal\\nvocals\\nvocational\\nvoice\\nvoices\\nvoid\\nvoip\\nvol\\nvolkswagen\\nvolleyball\\nvolt\\nvoltage\\nvolume\\nvolumes\\nvoluntary\\nvolunteer\\nvolunteers\\nvolvo\\nvon\\nvote\\nvoted\\nvoters\\nvotes\\nvoting\\nvoyeur\\nvoyeurweb\\nvoyuer\\nvp\\nvpn\\nvs\\nvsnet\\nvt\\nvulnerability\\nvulnerable\\nw\\nwa\\nwage\\nwages\\nwagner\\nwagon\\nwait\\nwaiting\\nwaiver\\nwake\\nwal\\nwales\\nwalk\\nwalked\\nwalker\\nwalking\\nwalks\\nwall\\nwallace\\nwallet\\nwallpaper\\nwallpapers\\nwalls\\nwalnut\\nwalt\\nwalter\\nwan\\nwang\\nwanna\\nwant\\nwanted\\nwanting\\nwants\\nwar\\nwarcraft\\nward\\nware\\nwarehouse\\nwarm\\nwarming\\nwarned\\nwarner\\nwarning\\nwarnings\\nwarrant\\nwarranties\\nwarranty\\nwarren\\nwarrior\\nwarriors\\nwars\\nwas\\nwash\\nwasher\\nwashing\\nwashington\\nwaste\\nwatch\\nwatched\\nwatches\\nwatching\\nwater\\nwaterproof\\nwaters\\nwatershed\\nwatson\\nwatt\\nwatts\\nwav\\nwave\\nwaves\\nwax\\nway\\nwayne\\nways\\nwb\\nwc\\nwe\\nweak\\nwealth\\nweapon\\nweapons\\nwear\\nwearing\\nweather\\nweb\\nwebcam\\nwebcams\\nwebcast\\nweblog\\nweblogs\\nwebmaster\\nwebmasters\\nwebpage\\nwebshots\\nwebsite\\nwebsites\\nwebster\\nwed\\nwedding\\nweddings\\nwednesday\\nweed\\nweek\\nweekend\\nweekends\\nweekly\\nweeks\\nweight\\nweighted\\nweights\\nweird\\nwelcome\\nwelding\\nwelfare\\nwell\\nwellington\\nwellness\\nwells\\nwelsh\\nwendy\\nwent\\nwere\\nwesley\\nwest\\nwestern\\nwestminster\\nwet\\nwhale\\nwhat\\nwhatever\\nwhats\\nwheat\\nwheel\\nwheels\\nwhen\\nwhenever\\nwhere\\nwhereas\\nwherever\\nwhether\\nwhich\\nwhile\\nwhilst\\nwhite\\nwho\\nwhole\\nwholesale\\nwhom\\nwhore\\nwhose\\nwhy\\nwi\\nwichita\\nwicked\\nwide\\nwidely\\nwider\\nwidescreen\\nwidespread\\nwidth\\nwife\\nwifi\\nwiki\\nwikipedia\\nwild\\nwilderness\\nwildlife\\nwiley\\nwill\\nwilliam\\nwilliams\\nwilling\\nwillow\\nwilson\\nwin\\nwind\\nwindow\\nwindows\\nwinds\\nwindsor\\nwine\\nwines\\nwing\\nwings\\nwinner\\nwinners\\nwinning\\nwins\\nwinston\\nwinter\\nwire\\nwired\\nwireless\\nwires\\nwiring\\nwisconsin\\nwisdom\\nwise\\nwish\\nwishes\\nwishlist\\nwit\\nwitch\\nwith\\nwithdrawal\\nwithin\\nwithout\\nwitness\\nwitnesses\\nwives\\nwizard\\nwm\\nwma\\nwn\\nwolf\\nwoman\\nwomen\\nwomens\\nwon\\nwonder\\nwonderful\\nwondering\\nwood\\nwooden\\nwoods\\nwool\\nworcester\\nword\\nwordpress\\nwords\\nwork\\nworked\\nworker\\nworkers\\nworkflow\\nworkforce\\nworking\\nworkout\\nworkplace\\nworks\\nworkshop\\nworkshops\\nworkstation\\nworld\\nworldcat\\nworlds\\nworldsex\\nworldwide\\nworm\\nworn\\nworried\\nworry\\nworse\\nworship\\nworst\\nworth\\nworthy\\nwould\\nwound\\nwow\\nwp\\nwr\\nwrap\\nwrapped\\nwrapping\\nwrestling\\nwright\\nwrist\\nwrite\\nwriter\\nwriters\\nwrites\\nwriting\\nwritings\\nwritten\\nwrong\\nwrote\\nws\\nwt\\nwto\\nwu\\nwv\\nww\\nwww\\nwx\\nwy\\nwyoming\\nx\\nxanax\\nxbox\\nxerox\\nxhtml\\nxi\\nxl\\nxml\\nxnxx\\nxp\\nxx\\nxxx\\ny\\nya\\nyacht\\nyahoo\\nyale\\nyamaha\\nyang\\nyard\\nyards\\nyarn\\nye\\nyea\\nyeah\\nyear\\nyearly\\nyears\\nyeast\\nyellow\\nyemen\\nyen\\nyes\\nyesterday\\nyet\\nyield\\nyields\\nyn\\nyo\\nyoga\\nyork\\nyorkshire\\nyou\\nyoung\\nyounger\\nyour\\nyours\\nyourself\\nyouth\\nyr\\nyrs\\nyu\\nyugoslavia\\nyukon\\nz\\nza\\nzambia\\nzdnet\\nzealand\\nzen\\nzero\\nzimbabwe\\nzinc\\nzip\\nzoloft\\nzone\\nzones\\nzoning\\nzoo\\nzoom\\nzoophilia\\nzope\\nzshops\\nzu\\nzum\\nzus\\n'\n",
      "['a', 'aa', 'aaa', 'aaron', 'ab', 'abandoned', 'abc', 'aberdeen', 'abilities', 'ability', 'able', 'aboriginal', 'abortion', 'about', 'above', 'abraham', 'abroad', 'abs', 'absence', 'absent', 'absolute', 'absolutely', 'absorption', 'abstract', 'abstracts', 'abu', 'abuse', 'ac', 'academic', 'academics', 'academy', 'acc', 'accent', 'accept', 'acceptable', 'acceptance', 'accepted', 'accepting', 'accepts', 'access', 'accessed', 'accessibility', 'accessible', 'accessing', 'accessories', 'accessory', 'accident', 'accidents', 'accommodate', 'accommodation', 'accommodations', 'accompanied', 'accompanying', 'accomplish', 'accomplished', 'accordance', 'according', 'accordingly', 'account', 'accountability', 'accounting', 'accounts', 'accreditation', 'accredited', 'accuracy', 'accurate', 'accurately', 'accused', 'acdbentity', 'ace', 'acer', 'achieve', 'achieved', 'achievement', 'achievements', 'achieving', 'acid', 'acids', 'acknowledge', 'acknowledged', 'acm', 'acne', 'acoustic', 'acquire', 'acquired', 'acquisition', 'acquisitions', 'acre', 'acres', 'acrobat', 'across', 'acrylic', 'act', 'acting', 'action', 'actions', 'activated', 'activation', 'active', 'actively', 'activists', 'activities', 'activity', 'actor', 'actors', 'actress', 'acts', 'actual', 'actually', 'acute', 'ad', 'ada', 'adam', 'adams', 'adaptation', 'adapted', 'adapter', 'adapters', 'adaptive', 'adaptor', 'add', 'added', 'addiction', 'adding', 'addition', 'additional', 'additionally', 'additions', 'address', 'addressed', 'addresses', 'addressing', 'adds', 'adelaide', 'adequate', 'adidas', 'adipex', 'adjacent', 'adjust', 'adjustable', 'adjusted', 'adjustment', 'adjustments', 'admin', 'administered', 'administration', 'administrative', 'administrator', 'administrators', 'admission', 'admissions', 'admit', 'admitted', 'adobe', 'adolescent', 'adopt', 'adopted', 'adoption', 'adrian', 'ads', 'adsl', 'adult', 'adults', 'advance', 'advanced', 'advancement', 'advances', 'advantage', 'advantages', 'adventure', 'adventures', 'adverse', 'advert', 'advertise', 'advertisement', 'advertisements', 'advertiser', 'advertisers', 'advertising', 'advice', 'advise', 'advised', 'advisor', 'advisors', 'advisory', 'advocacy', 'advocate', 'adware', 'ae', 'aerial', 'aerospace', 'af', 'affair', 'affairs', 'affect', 'affected', 'affecting', 'affects', 'affiliate', 'affiliated', 'affiliates', 'affiliation', 'afford', 'affordable', 'afghanistan', 'afraid', 'africa', 'african', 'after', 'afternoon', 'afterwards', 'ag', 'again', 'against', 'age', 'aged', 'agencies', 'agency', 'agenda', 'agent', 'agents', 'ages', 'aggregate', 'aggressive', 'aging', 'ago', 'agree', 'agreed', 'agreement', 'agreements', 'agrees', 'agricultural', 'agriculture', 'ah', 'ahead', 'ai', 'aid', 'aids', 'aim', 'aimed', 'aims', 'air', 'aircraft', 'airfare', 'airline', 'airlines', 'airplane', 'airport', 'airports', 'aj', 'ak', 'aka', 'al', 'ala', 'alabama', 'alan', 'alarm', 'alaska', 'albania', 'albany', 'albert', 'alberta', 'album', 'albums', 'albuquerque', 'alcohol', 'alert', 'alerts', 'alex', 'alexander', 'alexandria', 'alfred', 'algebra', 'algeria', 'algorithm', 'algorithms', 'ali', 'alias', 'alice', 'alien', 'align', 'alignment', 'alike', 'alive', 'all', 'allah', 'allan', 'alleged', 'allen', 'allergy', 'alliance', 'allied', 'allocated', 'allocation', 'allow', 'allowance', 'allowed', 'allowing', 'allows', 'alloy', 'almost', 'alone', 'along', 'alot', 'alpha', 'alphabetical', 'alpine', 'already', 'also', 'alt', 'alter', 'altered', 'alternate', 'alternative', 'alternatively', 'alternatives', 'although', 'alto', 'aluminium', 'aluminum', 'alumni', 'always', 'am', 'amanda', 'amateur', 'amazing', 'amazon', 'amazoncom', 'amazoncouk', 'ambassador', 'amber', 'ambien', 'ambient', 'amd', 'amend', 'amended', 'amendment', 'amendments', 'amenities', 'america', 'american', 'americans', 'americas', 'amino', 'among', 'amongst', 'amount', 'amounts', 'amp', 'ampland', 'amplifier', 'amsterdam', 'amy', 'an', 'ana', 'anaheim', 'anal', 'analog', 'analyses', 'analysis', 'analyst', 'analysts', 'analytical', 'analyze', 'analyzed', 'anatomy', 'anchor', 'ancient', 'and', 'andale', 'anderson', 'andorra', 'andrea', 'andreas', 'andrew', 'andrews', 'andy', 'angel', 'angela', 'angeles', 'angels', 'anger', 'angle', 'angola', 'angry', 'animal', 'animals', 'animated', 'animation', 'anime', 'ann', 'anna', 'anne', 'annex', 'annie', 'anniversary', 'annotated', 'annotation', 'announce', 'announced', 'announcement', 'announcements', 'announces', 'annoying', 'annual', 'annually', 'anonymous', 'another', 'answer', 'answered', 'answering', 'answers', 'ant', 'antarctica', 'antenna', 'anthony', 'anthropology', 'anti', 'antibodies', 'antibody', 'anticipated', 'antigua', 'antique', 'antiques', 'antivirus', 'antonio', 'anxiety', 'any', 'anybody', 'anymore', 'anyone', 'anything', 'anytime', 'anyway', 'anywhere', 'aol', 'ap', 'apache', 'apart', 'apartment', 'apartments', 'api', 'apnic', 'apollo', 'app', 'apparatus', 'apparel', 'apparent', 'apparently', 'appeal', 'appeals', 'appear', 'appearance', 'appeared', 'appearing', 'appears', 'appendix', 'apple', 'appliance', 'appliances', 'applicable', 'applicant', 'applicants', 'application', 'applications', 'applied', 'applies', 'apply', 'applying', 'appointed', 'appointment', 'appointments', 'appraisal', 'appreciate', 'appreciated', 'appreciation', 'approach', 'approaches', 'appropriate', 'appropriations', 'approval', 'approve', 'approved', 'approx', 'approximate', 'approximately', 'apps', 'apr', 'april', 'apt', 'aqua', 'aquarium', 'aquatic', 'ar', 'arab', 'arabia', 'arabic', 'arbitrary', 'arbitration', 'arc', 'arcade', 'arch', 'architect', 'architects', 'architectural', 'architecture', 'archive', 'archived', 'archives', 'arctic', 'are', 'area', 'areas', 'arena', 'arg', 'argentina', 'argue', 'argued', 'argument', 'arguments', 'arise', 'arising', 'arizona', 'arkansas', 'arlington', 'arm', 'armed', 'armenia', 'armor', 'arms', 'armstrong', 'army', 'arnold', 'around', 'arrange', 'arranged', 'arrangement', 'arrangements', 'array', 'arrest', 'arrested', 'arrival', 'arrivals', 'arrive', 'arrived', 'arrives', 'arrow', 'art', 'arthritis', 'arthur', 'article', 'articles', 'artificial', 'artist', 'artistic', 'artists', 'arts', 'artwork', 'aruba', 'as', 'asbestos', 'ascii', 'ash', 'ashley', 'asia', 'asian', 'aside', 'asin', 'ask', 'asked', 'asking', 'asks', 'asn', 'asp', 'aspect', 'aspects', 'aspnet', 'ass', 'assault', 'assembled', 'assembly', 'assess', 'assessed', 'assessing', 'assessment', 'assessments', 'asset', 'assets', 'assign', 'assigned', 'assignment', 'assignments', 'assist', 'assistance', 'assistant', 'assisted', 'assists', 'associate', 'associated', 'associates', 'association', 'associations', 'assume', 'assumed', 'assumes', 'assuming', 'assumption', 'assumptions', 'assurance', 'assure', 'assured', 'asthma', 'astrology', 'astronomy', 'asus', 'at', 'ata', 'ate', 'athens', 'athletes', 'athletic', 'athletics', 'ati', 'atlanta', 'atlantic', 'atlas', 'atm', 'atmosphere', 'atmospheric', 'atom', 'atomic', 'attach', 'attached', 'attachment', 'attachments', 'attack', 'attacked', 'attacks', 'attempt', 'attempted', 'attempting', 'attempts', 'attend', 'attendance', 'attended', 'attending', 'attention', 'attitude', 'attitudes', 'attorney', 'attorneys', 'attract', 'attraction', 'attractions', 'attractive', 'attribute', 'attributes', 'au', 'auburn', 'auckland', 'auction', 'auctions', 'aud', 'audi', 'audience', 'audio', 'audit', 'auditor', 'aug', 'august', 'aurora', 'aus', 'austin', 'australia', 'australian', 'austria', 'authentic', 'authentication', 'author', 'authorities', 'authority', 'authorization', 'authorized', 'authors', 'auto', 'automated', 'automatic', 'automatically', 'automation', 'automobile', 'automobiles', 'automotive', 'autos', 'autumn', 'av', 'availability', 'available', 'avatar', 'ave', 'avenue', 'average', 'avg', 'avi', 'aviation', 'avoid', 'avoiding', 'avon', 'aw', 'award', 'awarded', 'awards', 'aware', 'awareness', 'away', 'awesome', 'awful', 'axis', 'aye', 'az', 'azerbaijan', 'b', 'ba', 'babe', 'babes', 'babies', 'baby', 'bachelor', 'back', 'backed', 'background', 'backgrounds', 'backing', 'backup', 'bacon', 'bacteria', 'bacterial', 'bad', 'badge', 'badly', 'bag', 'baghdad', 'bags', 'bahamas', 'bahrain', 'bailey', 'baker', 'baking', 'balance', 'balanced', 'bald', 'bali', 'ball', 'ballet', 'balloon', 'ballot', 'balls', 'baltimore', 'ban', 'banana', 'band', 'bands', 'bandwidth', 'bang', 'bangbus', 'bangkok', 'bangladesh', 'bank', 'banking', 'bankruptcy', 'banks', 'banned', 'banner', 'banners', 'baptist', 'bar', 'barbados', 'barbara', 'barbie', 'barcelona', 'bare', 'barely', 'bargain', 'bargains', 'barn', 'barnes', 'barrel', 'barrier', 'barriers', 'barry', 'bars', 'base', 'baseball', 'based', 'baseline', 'basement', 'basename', 'bases', 'basic', 'basically', 'basics', 'basin', 'basis', 'basket', 'basketball', 'baskets', 'bass', 'bat', 'batch', 'bath', 'bathroom', 'bathrooms', 'baths', 'batman', 'batteries', 'battery', 'battle', 'battlefield', 'bay', 'bb', 'bbc', 'bbs', 'bbw', 'bc', 'bd', 'bdsm', 'be', 'beach', 'beaches', 'beads', 'beam', 'bean', 'beans', 'bear', 'bearing', 'bears', 'beast', 'beastality', 'beastiality', 'beat', 'beatles', 'beats', 'beautiful', 'beautifully', 'beauty', 'beaver', 'became', 'because', 'become', 'becomes', 'becoming', 'bed', 'bedding', 'bedford', 'bedroom', 'bedrooms', 'beds', 'bee', 'beef', 'been', 'beer', 'before', 'began', 'begin', 'beginner', 'beginners', 'beginning', 'begins', 'begun', 'behalf', 'behavior', 'behavioral', 'behaviour', 'behind', 'beijing', 'being', 'beings', 'belarus', 'belfast', 'belgium', 'belief', 'beliefs', 'believe', 'believed', 'believes', 'belize', 'belkin', 'bell', 'belle', 'belly', 'belong', 'belongs', 'below', 'belt', 'belts', 'ben', 'bench', 'benchmark', 'bend', 'beneath', 'beneficial', 'benefit', 'benefits', 'benjamin', 'bennett', 'benz', 'berkeley', 'berlin', 'bermuda', 'bernard', 'berry', 'beside', 'besides', 'best', 'bestiality', 'bestsellers', 'bet', 'beta', 'beth', 'better', 'betting', 'betty', 'between', 'beverage', 'beverages', 'beverly', 'beyond', 'bg', 'bhutan', 'bi', 'bias', 'bible', 'biblical', 'bibliographic', 'bibliography', 'bicycle', 'bid', 'bidder', 'bidding', 'bids', 'big', 'bigger', 'biggest', 'bike', 'bikes', 'bikini', 'bill', 'billing', 'billion', 'bills', 'billy', 'bin', 'binary', 'bind', 'binding', 'bingo', 'bio', 'biodiversity', 'biographies', 'biography', 'biol', 'biological', 'biology', 'bios', 'biotechnology', 'bird', 'birds', 'birmingham', 'birth', 'birthday', 'bishop', 'bit', 'bitch', 'bite', 'bits', 'biz', 'bizarre', 'bizrate', 'bk', 'bl', 'black', 'blackberry', 'blackjack', 'blacks', 'blade', 'blades', 'blah', 'blair', 'blake', 'blame', 'blank', 'blanket', 'blast', 'bleeding', 'blend', 'bless', 'blessed', 'blind', 'blink', 'block', 'blocked', 'blocking', 'blocks', 'blog', 'blogger', 'bloggers', 'blogging', 'blogs', 'blond', 'blonde', 'blood', 'bloody', 'bloom', 'bloomberg', 'blow', 'blowing', 'blowjob', 'blowjobs', 'blue', 'blues', 'bluetooth', 'blvd', 'bm', 'bmw', 'bo', 'board', 'boards', 'boat', 'boating', 'boats', 'bob', 'bobby', 'boc', 'bodies', 'body', 'bold', 'bolivia', 'bolt', 'bomb', 'bon', 'bond', 'bondage', 'bonds', 'bone', 'bones', 'bonus', 'boob', 'boobs', 'book', 'booking', 'bookings', 'bookmark', 'bookmarks', 'books', 'bookstore', 'bool', 'boolean', 'boom', 'boost', 'boot', 'booth', 'boots', 'booty', 'border', 'borders', 'bored', 'boring', 'born', 'borough', 'bosnia', 'boss', 'boston', 'both', 'bother', 'botswana', 'bottle', 'bottles', 'bottom', 'bought', 'boulder', 'boulevard', 'bound', 'boundaries', 'boundary', 'bouquet', 'boutique', 'bow', 'bowl', 'bowling', 'box', 'boxed', 'boxes', 'boxing', 'boy', 'boys', 'bp', 'br', 'bra', 'bracelet', 'bracelets', 'bracket', 'brad', 'bradford', 'bradley', 'brain', 'brake', 'brakes', 'branch', 'branches', 'brand', 'brandon', 'brands', 'bras', 'brass', 'brave', 'brazil', 'brazilian', 'breach', 'bread', 'break', 'breakdown', 'breakfast', 'breaking', 'breaks', 'breast', 'breasts', 'breath', 'breathing', 'breed', 'breeding', 'breeds', 'brian', 'brick', 'bridal', 'bride', 'bridge', 'bridges', 'brief', 'briefing', 'briefly', 'briefs', 'bright', 'brighton', 'brilliant', 'bring', 'bringing', 'brings', 'brisbane', 'bristol', 'britain', 'britannica', 'british', 'britney', 'broad', 'broadband', 'broadcast', 'broadcasting', 'broader', 'broadway', 'brochure', 'brochures', 'broke', 'broken', 'broker', 'brokers', 'bronze', 'brook', 'brooklyn', 'brooks', 'bros', 'brother', 'brothers', 'brought', 'brown', 'browse', 'browser', 'browsers', 'browsing', 'bruce', 'brunei', 'brunette', 'brunswick', 'brush', 'brussels', 'brutal', 'bryan', 'bryant', 'bs', 'bt', 'bubble', 'buck', 'bucks', 'budapest', 'buddy', 'budget', 'budgets', 'buf', 'buffalo', 'buffer', 'bufing', 'bug', 'bugs', 'build', 'builder', 'builders', 'building', 'buildings', 'builds', 'built', 'bukkake', 'bulgaria', 'bulgarian', 'bulk', 'bull', 'bullet', 'bulletin', 'bumper', 'bunch', 'bundle', 'bunny', 'burden', 'bureau', 'buried', 'burke', 'burlington', 'burn', 'burner', 'burning', 'burns', 'burst', 'burton', 'bus', 'buses', 'bush', 'business', 'businesses', 'busty', 'busy', 'but', 'butler', 'butt', 'butter', 'butterfly', 'button', 'buttons', 'butts', 'buy', 'buyer', 'buyers', 'buying', 'buys', 'buzz', 'bw', 'by', 'bye', 'byte', 'bytes', 'c', 'ca', 'cab', 'cabin', 'cabinet', 'cabinets', 'cable', 'cables', 'cache', 'cached', 'cad', 'cadillac', 'cafe', 'cage', 'cake', 'cakes', 'cal', 'calcium', 'calculate', 'calculated', 'calculation', 'calculations', 'calculator', 'calculators', 'calendar', 'calendars', 'calgary', 'calibration', 'calif', 'california', 'call', 'called', 'calling', 'calls', 'calm', 'calvin', 'cam', 'cambodia', 'cambridge', 'camcorder', 'camcorders', 'came', 'camel', 'camera', 'cameras', 'cameron', 'cameroon', 'camp', 'campaign', 'campaigns', 'campbell', 'camping', 'camps', 'campus', 'cams', 'can', 'canada', 'canadian', 'canal', 'canberra', 'cancel', 'cancellation', 'cancelled', 'cancer', 'candidate', 'candidates', 'candle', 'candles', 'candy', 'cannon', 'canon', 'cant', 'canvas', 'canyon', 'cap', 'capabilities', 'capability', 'capable', 'capacity', 'cape', 'capital', 'capitol', 'caps', 'captain', 'capture', 'captured', 'car', 'carb', 'carbon', 'card', 'cardiac', 'cardiff', 'cardiovascular', 'cards', 'care', 'career', 'careers', 'careful', 'carefully', 'carey', 'cargo', 'caribbean', 'caring', 'carl', 'carlo', 'carlos', 'carmen', 'carnival', 'carol', 'carolina', 'caroline', 'carpet', 'carried', 'carrier', 'carriers', 'carries', 'carroll', 'carry', 'carrying', 'cars', 'cart', 'carter', 'cartoon', 'cartoons', 'cartridge', 'cartridges', 'cas', 'casa', 'case', 'cases', 'casey', 'cash', 'cashiers', 'casino', 'casinos', 'casio', 'cassette', 'cast', 'casting', 'castle', 'casual', 'cat', 'catalog', 'catalogs', 'catalogue', 'catalyst', 'catch', 'categories', 'category', 'catering', 'cathedral', 'catherine', 'catholic', 'cats', 'cattle', 'caught', 'cause', 'caused', 'causes', 'causing', 'caution', 'cave', 'cayman', 'cb', 'cbs', 'cc', 'ccd', 'cd', 'cdna', 'cds', 'cdt', 'ce', 'cedar', 'ceiling', 'celebrate', 'celebration', 'celebrities', 'celebrity', 'celebs', 'cell', 'cells', 'cellular', 'celtic', 'cement', 'cemetery', 'census', 'cent', 'center', 'centered', 'centers', 'central', 'centre', 'centres', 'cents', 'centuries', 'century', 'ceo', 'ceramic', 'ceremony', 'certain', 'certainly', 'certificate', 'certificates', 'certification', 'certified', 'cest', 'cet', 'cf', 'cfr', 'cg', 'cgi', 'ch', 'chad', 'chain', 'chains', 'chair', 'chairman', 'chairs', 'challenge', 'challenged', 'challenges', 'challenging', 'chamber', 'chambers', 'champagne', 'champion', 'champions', 'championship', 'championships', 'chan', 'chance', 'chancellor', 'chances', 'change', 'changed', 'changelog', 'changes', 'changing', 'channel', 'channels', 'chaos', 'chapel', 'chapter', 'chapters', 'char', 'character', 'characteristic', 'characteristics', 'characterization', 'characterized', 'characters', 'charge', 'charged', 'charger', 'chargers', 'charges', 'charging', 'charitable', 'charity', 'charles', 'charleston', 'charlie', 'charlotte', 'charm', 'charming', 'charms', 'chart', 'charter', 'charts', 'chase', 'chassis', 'chat', 'cheap', 'cheaper', 'cheapest', 'cheat', 'cheats', 'check', 'checked', 'checking', 'checklist', 'checkout', 'checks', 'cheers', 'cheese', 'chef', 'chelsea', 'chem', 'chemical', 'chemicals', 'chemistry', 'chen', 'cheque', 'cherry', 'chess', 'chest', 'chester', 'chevrolet', 'chevy', 'chi', 'chicago', 'chick', 'chicken', 'chicks', 'chief', 'child', 'childhood', 'children', 'childrens', 'chile', 'china', 'chinese', 'chip', 'chips', 'cho', 'chocolate', 'choice', 'choices', 'choir', 'cholesterol', 'choose', 'choosing', 'chorus', 'chose', 'chosen', 'chris', 'christ', 'christian', 'christianity', 'christians', 'christina', 'christine', 'christmas', 'christopher', 'chrome', 'chronic', 'chronicle', 'chronicles', 'chrysler', 'chubby', 'chuck', 'church', 'churches', 'ci', 'cia', 'cialis', 'ciao', 'cigarette', 'cigarettes', 'cincinnati', 'cindy', 'cinema', 'cingular', 'cio', 'cir', 'circle', 'circles', 'circuit', 'circuits', 'circular', 'circulation', 'circumstances', 'circus', 'cisco', 'citation', 'citations', 'cite', 'cited', 'cities', 'citizen', 'citizens', 'citizenship', 'city', 'citysearch', 'civic', 'civil', 'civilian', 'civilization', 'cj', 'cl', 'claim', 'claimed', 'claims', 'claire', 'clan', 'clara', 'clarity', 'clark', 'clarke', 'class', 'classes', 'classic', 'classical', 'classics', 'classification', 'classified', 'classifieds', 'classroom', 'clause', 'clay', 'clean', 'cleaner', 'cleaners', 'cleaning', 'cleanup', 'clear', 'clearance', 'cleared', 'clearing', 'clearly', 'clerk', 'cleveland', 'click', 'clicking', 'clicks', 'client', 'clients', 'cliff', 'climate', 'climb', 'climbing', 'clinic', 'clinical', 'clinics', 'clinton', 'clip', 'clips', 'clock', 'clocks', 'clone', 'close', 'closed', 'closely', 'closer', 'closes', 'closest', 'closing', 'closure', 'cloth', 'clothes', 'clothing', 'cloud', 'clouds', 'cloudy', 'club', 'clubs', 'cluster', 'clusters', 'cm', 'cms', 'cn', 'cnet', 'cnetcom', 'cnn', 'co', 'coach', 'coaches', 'coaching', 'coal', 'coalition', 'coast', 'coastal', 'coat', 'coated', 'coating', 'cock', 'cocks', 'cod', 'code', 'codes', 'coding', 'coffee', 'cognitive', 'cohen', 'coin', 'coins', 'col', 'cold', 'cole', 'coleman', 'colin', 'collaboration', 'collaborative', 'collapse', 'collar', 'colleague', 'colleagues', 'collect', 'collectables', 'collected', 'collectible', 'collectibles', 'collecting', 'collection', 'collections', 'collective', 'collector', 'collectors', 'college', 'colleges', 'collins', 'cologne', 'colombia', 'colon', 'colonial', 'colony', 'color', 'colorado', 'colored', 'colors', 'colour', 'colours', 'columbia', 'columbus', 'column', 'columnists', 'columns', 'com', 'combat', 'combination', 'combinations', 'combine', 'combined', 'combines', 'combining', 'combo', 'come', 'comedy', 'comes', 'comfort', 'comfortable', 'comic', 'comics', 'coming', 'comm', 'command', 'commander', 'commands', 'comment', 'commentary', 'commented', 'comments', 'commerce', 'commercial', 'commission', 'commissioner', 'commissioners', 'commissions', 'commit', 'commitment', 'commitments', 'committed', 'committee', 'committees', 'commodities', 'commodity', 'common', 'commonly', 'commons', 'commonwealth', 'communicate', 'communication', 'communications', 'communist', 'communities', 'community', 'comp', 'compact', 'companies', 'companion', 'company', 'compaq', 'comparable', 'comparative', 'compare', 'compared', 'comparing', 'comparison', 'comparisons', 'compatibility', 'compatible', 'compensation', 'compete', 'competent', 'competing', 'competition', 'competitions', 'competitive', 'competitors', 'compilation', 'compile', 'compiled', 'compiler', 'complaint', 'complaints', 'complement', 'complete', 'completed', 'completely', 'completing', 'completion', 'complex', 'complexity', 'compliance', 'compliant', 'complicated', 'complications', 'complimentary', 'comply', 'component', 'components', 'composed', 'composer', 'composite', 'composition', 'compound', 'compounds', 'comprehensive', 'compressed', 'compression', 'compromise', 'computation', 'computational', 'compute', 'computed', 'computer', 'computers', 'computing', 'con', 'concentrate', 'concentration', 'concentrations', 'concept', 'concepts', 'conceptual', 'concern', 'concerned', 'concerning', 'concerns', 'concert', 'concerts', 'conclude', 'concluded', 'conclusion', 'conclusions', 'concord', 'concrete', 'condition', 'conditional', 'conditioning', 'conditions', 'condo', 'condos', 'conduct', 'conducted', 'conducting', 'conf', 'conference', 'conferences', 'conferencing', 'confidence', 'confident', 'confidential', 'confidentiality', 'config', 'configuration', 'configure', 'configured', 'configuring', 'confirm', 'confirmation', 'confirmed', 'conflict', 'conflicts', 'confused', 'confusion', 'congo', 'congratulations', 'congress', 'congressional', 'conjunction', 'connect', 'connected', 'connecticut', 'connecting', 'connection', 'connections', 'connectivity', 'connector', 'connectors', 'cons', 'conscious', 'consciousness', 'consecutive', 'consensus', 'consent', 'consequence', 'consequences', 'consequently', 'conservation', 'conservative', 'consider', 'considerable', 'consideration', 'considerations', 'considered', 'considering', 'considers', 'consist', 'consistency', 'consistent', 'consistently', 'consisting', 'consists', 'console', 'consoles', 'consolidated', 'consolidation', 'consortium', 'conspiracy', 'const', 'constant', 'constantly', 'constitute', 'constitutes', 'constitution', 'constitutional', 'constraint', 'constraints', 'construct', 'constructed', 'construction', 'consult', 'consultancy', 'consultant', 'consultants', 'consultation', 'consulting', 'consumer', 'consumers', 'consumption', 'contact', 'contacted', 'contacting', 'contacts', 'contain', 'contained', 'container', 'containers', 'containing', 'contains', 'contamination', 'contemporary', 'content', 'contents', 'contest', 'contests', 'context', 'continent', 'continental', 'continually', 'continue', 'continued', 'continues', 'continuing', 'continuity', 'continuous', 'continuously', 'contract', 'contracting', 'contractor', 'contractors', 'contracts', 'contrary', 'contrast', 'contribute', 'contributed', 'contributing', 'contribution', 'contributions', 'contributor', 'contributors', 'control', 'controlled', 'controller', 'controllers', 'controlling', 'controls', 'controversial', 'controversy', 'convenience', 'convenient', 'convention', 'conventional', 'conventions', 'convergence', 'conversation', 'conversations', 'conversion', 'convert', 'converted', 'converter', 'convertible', 'convicted', 'conviction', 'convinced', 'cook', 'cookbook', 'cooked', 'cookie', 'cookies', 'cooking', 'cool', 'cooler', 'cooling', 'cooper', 'cooperation', 'cooperative', 'coordinate', 'coordinated', 'coordinates', 'coordination', 'coordinator', 'cop', 'cope', 'copied', 'copies', 'copper', 'copy', 'copying', 'copyright', 'copyrighted', 'copyrights', 'coral', 'cord', 'cordless', 'core', 'cork', 'corn', 'cornell', 'corner', 'corners', 'cornwall', 'corp', 'corporate', 'corporation', 'corporations', 'corps', 'corpus', 'correct', 'corrected', 'correction', 'corrections', 'correctly', 'correlation', 'correspondence', 'corresponding', 'corruption', 'cos', 'cosmetic', 'cosmetics', 'cost', 'costa', 'costs', 'costume', 'costumes', 'cottage', 'cottages', 'cotton', 'could', 'council', 'councils', 'counsel', 'counseling', 'count', 'counted', 'counter', 'counters', 'counties', 'counting', 'countries', 'country', 'counts', 'county', 'couple', 'coupled', 'couples', 'coupon', 'coupons', 'courage', 'courier', 'course', 'courses', 'court', 'courtesy', 'courts', 'cove', 'cover', 'coverage', 'covered', 'covering', 'covers', 'cow', 'cowboy', 'cox', 'cp', 'cpu', 'cr', 'crack', 'cradle', 'craft', 'crafts', 'craig', 'crap', 'craps', 'crash', 'crawford', 'crazy', 'cream', 'create', 'created', 'creates', 'creating', 'creation', 'creations', 'creative', 'creativity', 'creator', 'creature', 'creatures', 'credit', 'credits', 'creek', 'crest', 'crew', 'cricket', 'crime', 'crimes', 'criminal', 'crisis', 'criteria', 'criterion', 'critical', 'criticism', 'critics', 'crm', 'croatia', 'crop', 'crops', 'cross', 'crossing', 'crossword', 'crowd', 'crown', 'crucial', 'crude', 'cruise', 'cruises', 'cruz', 'cry', 'crystal', 'cs', 'css', 'cst', 'ct', 'cu', 'cuba', 'cube', 'cubic', 'cuisine', 'cult', 'cultural', 'culture', 'cultures', 'cum', 'cumshot', 'cumshots', 'cumulative', 'cunt', 'cup', 'cups', 'cure', 'curious', 'currencies', 'currency', 'current', 'currently', 'curriculum', 'cursor', 'curtis', 'curve', 'curves', 'custody', 'custom', 'customer', 'customers', 'customise', 'customize', 'customized', 'customs', 'cut', 'cute', 'cuts', 'cutting', 'cv', 'cvs', 'cw', 'cyber', 'cycle', 'cycles', 'cycling', 'cylinder', 'cyprus', 'cz', 'czech', 'd', 'da', 'dad', 'daddy', 'daily', 'dairy', 'daisy', 'dakota', 'dale', 'dallas', 'dam', 'damage', 'damaged', 'damages', 'dame', 'damn', 'dan', 'dana', 'dance', 'dancing', 'danger', 'dangerous', 'daniel', 'danish', 'danny', 'dans', 'dare', 'dark', 'darkness', 'darwin', 'das', 'dash', 'dat', 'data', 'database', 'databases', 'date', 'dated', 'dates', 'dating', 'daughter', 'daughters', 'dave', 'david', 'davidson', 'davis', 'dawn', 'day', 'days', 'dayton', 'db', 'dc', 'dd', 'ddr', 'de', 'dead', 'deadline', 'deadly', 'deaf', 'deal', 'dealer', 'dealers', 'dealing', 'deals', 'dealt', 'dealtime', 'dean', 'dear', 'death', 'deaths', 'debate', 'debian', 'deborah', 'debt', 'debug', 'debut', 'dec', 'decade', 'decades', 'december', 'decent', 'decide', 'decided', 'decimal', 'decision', 'decisions', 'deck', 'declaration', 'declare', 'declared', 'decline', 'declined', 'decor', 'decorating', 'decorative', 'decrease', 'decreased', 'dedicated', 'dee', 'deemed', 'deep', 'deeper', 'deeply', 'deer', 'def', 'default', 'defeat', 'defects', 'defence', 'defend', 'defendant', 'defense', 'defensive', 'deferred', 'deficit', 'define', 'defined', 'defines', 'defining', 'definitely', 'definition', 'definitions', 'degree', 'degrees', 'del', 'delaware', 'delay', 'delayed', 'delays', 'delegation', 'delete', 'deleted', 'delhi', 'delicious', 'delight', 'deliver', 'delivered', 'delivering', 'delivers', 'delivery', 'dell', 'delta', 'deluxe', 'dem', 'demand', 'demanding', 'demands', 'demo', 'democracy', 'democrat', 'democratic', 'democrats', 'demographic', 'demonstrate', 'demonstrated', 'demonstrates', 'demonstration', 'den', 'denial', 'denied', 'denmark', 'dennis', 'dense', 'density', 'dental', 'dentists', 'denver', 'deny', 'department', 'departmental', 'departments', 'departure', 'depend', 'dependence', 'dependent', 'depending', 'depends', 'deployment', 'deposit', 'deposits', 'depot', 'depression', 'dept', 'depth', 'deputy', 'der', 'derby', 'derek', 'derived', 'des', 'descending', 'describe', 'described', 'describes', 'describing', 'description', 'descriptions', 'desert', 'deserve', 'design', 'designated', 'designation', 'designed', 'designer', 'designers', 'designing', 'designs', 'desirable', 'desire', 'desired', 'desk', 'desktop', 'desktops', 'desperate', 'despite', 'destination', 'destinations', 'destiny', 'destroy', 'destroyed', 'destruction', 'detail', 'detailed', 'details', 'detect', 'detected', 'detection', 'detective', 'detector', 'determination', 'determine', 'determined', 'determines', 'determining', 'detroit', 'deutsch', 'deutsche', 'deutschland', 'dev', 'devel', 'develop', 'developed', 'developer', 'developers', 'developing', 'development', 'developmental', 'developments', 'develops', 'deviant', 'deviation', 'device', 'devices', 'devil', 'devon', 'devoted', 'df', 'dg', 'dh', 'di', 'diabetes', 'diagnosis', 'diagnostic', 'diagram', 'dial', 'dialog', 'dialogue', 'diameter', 'diamond', 'diamonds', 'diana', 'diane', 'diary', 'dice', 'dick', 'dicke', 'dicks', 'dictionaries', 'dictionary', 'did', 'die', 'died', 'diego', 'dies', 'diesel', 'diet', 'dietary', 'diff', 'differ', 'difference', 'differences', 'different', 'differential', 'differently', 'difficult', 'difficulties', 'difficulty', 'diffs', 'dig', 'digest', 'digit', 'digital', 'dildo', 'dildos', 'dim', 'dimension', 'dimensional', 'dimensions', 'dining', 'dinner', 'dip', 'diploma', 'dir', 'direct', 'directed', 'direction', 'directions', 'directive', 'directly', 'director', 'directories', 'directors', 'directory', 'dirt', 'dirty', 'dis', 'disabilities', 'disability', 'disable', 'disabled', 'disagree', 'disappointed', 'disaster', 'disc', 'discharge', 'disciplinary', 'discipline', 'disciplines', 'disclaimer', 'disclaimers', 'disclose', 'disclosure', 'disco', 'discount', 'discounted', 'discounts', 'discover', 'discovered', 'discovery', 'discrete', 'discretion', 'discrimination', 'discs', 'discuss', 'discussed', 'discusses', 'discussing', 'discussion', 'discussions', 'disease', 'diseases', 'dish', 'dishes', 'disk', 'disks', 'disney', 'disorder', 'disorders', 'dispatch', 'dispatched', 'display', 'displayed', 'displaying', 'displays', 'disposal', 'disposition', 'dispute', 'disputes', 'dist', 'distance', 'distances', 'distant', 'distinct', 'distinction', 'distinguished', 'distribute', 'distributed', 'distribution', 'distributions', 'distributor', 'distributors', 'district', 'districts', 'disturbed', 'div', 'dive', 'diverse', 'diversity', 'divide', 'divided', 'dividend', 'divine', 'diving', 'division', 'divisions', 'divorce', 'divx', 'diy', 'dj', 'dk', 'dl', 'dm', 'dna', 'dns', 'do', 'doc', 'dock', 'docs', 'doctor', 'doctors', 'doctrine', 'document', 'documentary', 'documentation', 'documentcreatetextnode', 'documented', 'documents', 'dod', 'dodge', 'doe', 'does', 'dog', 'dogs', 'doing', 'doll', 'dollar', 'dollars', 'dolls', 'dom', 'domain', 'domains', 'dome', 'domestic', 'dominant', 'dominican', 'don', 'donald', 'donate', 'donated', 'donation', 'donations', 'done', 'donna', 'donor', 'donors', 'dont', 'doom', 'door', 'doors', 'dos', 'dosage', 'dose', 'dot', 'double', 'doubt', 'doug', 'douglas', 'dover', 'dow', 'down', 'download', 'downloadable', 'downloadcom', 'downloaded', 'downloading', 'downloads', 'downtown', 'dozen', 'dozens', 'dp', 'dpi', 'dr', 'draft', 'drag', 'dragon', 'drain', 'drainage', 'drama', 'dramatic', 'dramatically', 'draw', 'drawing', 'drawings', 'drawn', 'draws', 'dream', 'dreams', 'dress', 'dressed', 'dresses', 'dressing', 'drew', 'dried', 'drill', 'drilling', 'drink', 'drinking', 'drinks', 'drive', 'driven', 'driver', 'drivers', 'drives', 'driving', 'drop', 'dropped', 'drops', 'drove', 'drug', 'drugs', 'drum', 'drums', 'drunk', 'dry', 'dryer', 'ds', 'dsc', 'dsl', 'dt', 'dts', 'du', 'dual', 'dubai', 'dublin', 'duck', 'dude', 'due', 'dui', 'duke', 'dumb', 'dump', 'duncan', 'duo', 'duplicate', 'durable', 'duration', 'durham', 'during', 'dust', 'dutch', 'duties', 'duty', 'dv', 'dvd', 'dvds', 'dx', 'dying', 'dylan', 'dynamic', 'dynamics', 'e', 'ea', 'each', 'eagle', 'eagles', 'ear', 'earl', 'earlier', 'earliest', 'early', 'earn', 'earned', 'earning', 'earnings', 'earrings', 'ears', 'earth', 'earthquake', 'ease', 'easier', 'easily', 'east', 'easter', 'eastern', 'easy', 'eat', 'eating', 'eau', 'ebay', 'ebony', 'ebook', 'ebooks', 'ec', 'echo', 'eclipse', 'eco', 'ecological', 'ecology', 'ecommerce', 'economic', 'economics', 'economies', 'economy', 'ecuador', 'ed', 'eddie', 'eden', 'edgar', 'edge', 'edges', 'edinburgh', 'edit', 'edited', 'editing', 'edition', 'editions', 'editor', 'editorial', 'editorials', 'editors', 'edmonton', 'eds', 'edt', 'educated', 'education', 'educational', 'educators', 'edward', 'edwards', 'ee', 'ef', 'effect', 'effective', 'effectively', 'effectiveness', 'effects', 'efficiency', 'efficient', 'efficiently', 'effort', 'efforts', 'eg', 'egg', 'eggs', 'egypt', 'egyptian', 'eh', 'eight', 'either', 'ejaculation', 'el', 'elder', 'elderly', 'elect', 'elected', 'election', 'elections', 'electoral', 'electric', 'electrical', 'electricity', 'electro', 'electron', 'electronic', 'electronics', 'elegant', 'element', 'elementary', 'elements', 'elephant', 'elevation', 'eleven', 'eligibility', 'eligible', 'eliminate', 'elimination', 'elite', 'elizabeth', 'ellen', 'elliott', 'ellis', 'else', 'elsewhere', 'elvis', 'em', 'emacs', 'email', 'emails', 'embassy', 'embedded', 'emerald', 'emergency', 'emerging', 'emily', 'eminem', 'emirates', 'emission', 'emissions', 'emma', 'emotional', 'emotions', 'emperor', 'emphasis', 'empire', 'empirical', 'employ', 'employed', 'employee', 'employees', 'employer', 'employers', 'employment', 'empty', 'en', 'enable', 'enabled', 'enables', 'enabling', 'enb', 'enclosed', 'enclosure', 'encoding', 'encounter', 'encountered', 'encourage', 'encouraged', 'encourages', 'encouraging', 'encryption', 'encyclopedia', 'end', 'endangered', 'ended', 'endif', 'ending', 'endless', 'endorsed', 'endorsement', 'ends', 'enemies', 'enemy', 'energy', 'enforcement', 'eng', 'engage', 'engaged', 'engagement', 'engaging', 'engine', 'engineer', 'engineering', 'engineers', 'engines', 'england', 'english', 'enhance', 'enhanced', 'enhancement', 'enhancements', 'enhancing', 'enjoy', 'enjoyed', 'enjoying', 'enlarge', 'enlargement', 'enormous', 'enough', 'enquiries', 'enquiry', 'enrolled', 'enrollment', 'ensemble', 'ensure', 'ensures', 'ensuring', 'ent', 'enter', 'entered', 'entering', 'enterprise', 'enterprises', 'enters', 'entertaining', 'entertainment', 'entire', 'entirely', 'entities', 'entitled', 'entity', 'entrance', 'entrepreneur', 'entrepreneurs', 'entries', 'entry', 'envelope', 'environment', 'environmental', 'environments', 'enzyme', 'eos', 'ep', 'epa', 'epic', 'epinions', 'epinionscom', 'episode', 'episodes', 'epson', 'eq', 'equal', 'equality', 'equally', 'equation', 'equations', 'equilibrium', 'equipment', 'equipped', 'equity', 'equivalent', 'er', 'era', 'eric', 'ericsson', 'erik', 'erotic', 'erotica', 'erp', 'error', 'errors', 'es', 'escape', 'escort', 'escorts', 'especially', 'espn', 'essay', 'essays', 'essence', 'essential', 'essentially', 'essentials', 'essex', 'est', 'establish', 'established', 'establishing', 'establishment', 'estate', 'estates', 'estimate', 'estimated', 'estimates', 'estimation', 'estonia', 'et', 'etc', 'eternal', 'ethernet', 'ethical', 'ethics', 'ethiopia', 'ethnic', 'eu', 'eugene', 'eur', 'euro', 'europe', 'european', 'euros', 'ev', 'eva', 'eval', 'evaluate', 'evaluated', 'evaluating', 'evaluation', 'evaluations', 'evanescence', 'evans', 'eve', 'even', 'evening', 'event', 'events', 'eventually', 'ever', 'every', 'everybody', 'everyday', 'everyone', 'everything', 'everywhere', 'evidence', 'evident', 'evil', 'evolution', 'ex', 'exact', 'exactly', 'exam', 'examination', 'examinations', 'examine', 'examined', 'examines', 'examining', 'example', 'examples', 'exams', 'exceed', 'excel', 'excellence', 'excellent', 'except', 'exception', 'exceptional', 'exceptions', 'excerpt', 'excess', 'excessive', 'exchange', 'exchanges', 'excited', 'excitement', 'exciting', 'exclude', 'excluded', 'excluding', 'exclusion', 'exclusive', 'exclusively', 'excuse', 'exec', 'execute', 'executed', 'execution', 'executive', 'executives', 'exempt', 'exemption', 'exercise', 'exercises', 'exhaust', 'exhibit', 'exhibition', 'exhibitions', 'exhibits', 'exist', 'existed', 'existence', 'existing', 'exists', 'exit', 'exotic', 'exp', 'expand', 'expanded', 'expanding', 'expansion', 'expansys', 'expect', 'expectations', 'expected', 'expects', 'expedia', 'expenditure', 'expenditures', 'expense', 'expenses', 'expensive', 'experience', 'experienced', 'experiences', 'experiencing', 'experiment', 'experimental', 'experiments', 'expert', 'expertise', 'experts', 'expiration', 'expired', 'expires', 'explain', 'explained', 'explaining', 'explains', 'explanation', 'explicit', 'explicitly', 'exploration', 'explore', 'explorer', 'exploring', 'explosion', 'expo', 'export', 'exports', 'exposed', 'exposure', 'express', 'expressed', 'expression', 'expressions', 'ext', 'extend', 'extended', 'extending', 'extends', 'extension', 'extensions', 'extensive', 'extent', 'exterior', 'external', 'extra', 'extract', 'extraction', 'extraordinary', 'extras', 'extreme', 'extremely', 'eye', 'eyed', 'eyes', 'ez', 'f', 'fa', 'fabric', 'fabrics', 'fabulous', 'face', 'faced', 'faces', 'facial', 'facilitate', 'facilities', 'facility', 'facing', 'fact', 'factor', 'factors', 'factory', 'facts', 'faculty', 'fail', 'failed', 'failing', 'fails', 'failure', 'failures', 'fair', 'fairfield', 'fairly', 'fairy', 'faith', 'fake', 'fall', 'fallen', 'falling', 'falls', 'false', 'fame', 'familiar', 'families', 'family', 'famous', 'fan', 'fancy', 'fans', 'fantastic', 'fantasy', 'faq', 'faqs', 'far', 'fare', 'fares', 'farm', 'farmer', 'farmers', 'farming', 'farms', 'fascinating', 'fashion', 'fast', 'faster', 'fastest', 'fat', 'fatal', 'fate', 'father', 'fathers', 'fatty', 'fault', 'favor', 'favorite', 'favorites', 'favors', 'favour', 'favourite', 'favourites', 'fax', 'fbi', 'fc', 'fcc', 'fd', 'fda', 'fe', 'fear', 'fears', 'feat', 'feature', 'featured', 'features', 'featuring', 'feb', 'february', 'fed', 'federal', 'federation', 'fee', 'feed', 'feedback', 'feeding', 'feeds', 'feel', 'feeling', 'feelings', 'feels', 'fees', 'feet', 'fell', 'fellow', 'fellowship', 'felt', 'female', 'females', 'fence', 'feof', 'ferrari', 'ferry', 'festival', 'festivals', 'fetish', 'fever', 'few', 'fewer', 'ff', 'fg', 'fi', 'fiber', 'fibre', 'fiction', 'field', 'fields', 'fifteen', 'fifth', 'fifty', 'fig', 'fight', 'fighter', 'fighters', 'fighting', 'figure', 'figured', 'figures', 'fiji', 'file', 'filed', 'filename', 'files', 'filing', 'fill', 'filled', 'filling', 'film', 'filme', 'films', 'filter', 'filtering', 'filters', 'fin', 'final', 'finally', 'finals', 'finance', 'finances', 'financial', 'financing', 'find', 'findarticles', 'finder', 'finding', 'findings', 'findlaw', 'finds', 'fine', 'finest', 'finger', 'fingering', 'fingers', 'finish', 'finished', 'finishing', 'finite', 'finland', 'finnish', 'fioricet', 'fire', 'fired', 'firefox', 'fireplace', 'fires', 'firewall', 'firewire', 'firm', 'firms', 'firmware', 'first', 'fiscal', 'fish', 'fisher', 'fisheries', 'fishing', 'fist', 'fisting', 'fit', 'fitness', 'fits', 'fitted', 'fitting', 'five', 'fix', 'fixed', 'fixes', 'fixtures', 'fl', 'fla', 'flag', 'flags', 'flame', 'flash', 'flashers', 'flashing', 'flat', 'flavor', 'fleece', 'fleet', 'flesh', 'flex', 'flexibility', 'flexible', 'flickr', 'flight', 'flights', 'flip', 'float', 'floating', 'flood', 'floor', 'flooring', 'floors', 'floppy', 'floral', 'florence', 'florida', 'florist', 'florists', 'flour', 'flow', 'flower', 'flowers', 'flows', 'floyd', 'flu', 'fluid', 'flush', 'flux', 'fly', 'flyer', 'flying', 'fm', 'fo', 'foam', 'focal', 'focus', 'focused', 'focuses', 'focusing', 'fog', 'fold', 'folder', 'folders', 'folding', 'folk', 'folks', 'follow', 'followed', 'following', 'follows', 'font', 'fonts', 'foo', 'food', 'foods', 'fool', 'foot', 'footage', 'football', 'footwear', 'for', 'forbes', 'forbidden', 'force', 'forced', 'forces', 'ford', 'forecast', 'forecasts', 'foreign', 'forest', 'forestry', 'forests', 'forever', 'forge', 'forget', 'forgot', 'forgotten', 'fork', 'form', 'formal', 'format', 'formation', 'formats', 'formatting', 'formed', 'former', 'formerly', 'forming', 'forms', 'formula', 'fort', 'forth', 'fortune', 'forty', 'forum', 'forums', 'forward', 'forwarding', 'fossil', 'foster', 'foto', 'fotos', 'fought', 'foul', 'found', 'foundation', 'foundations', 'founded', 'founder', 'fountain', 'four', 'fourth', 'fox', 'fp', 'fr', 'fraction', 'fragrance', 'fragrances', 'frame', 'framed', 'frames', 'framework', 'framing', 'france', 'franchise', 'francis', 'francisco', 'frank', 'frankfurt', 'franklin', 'fraser', 'fraud', 'fred', 'frederick', 'free', 'freebsd', 'freedom', 'freelance', 'freely', 'freeware', 'freeze', 'freight', 'french', 'frequencies', 'frequency', 'frequent', 'frequently', 'fresh', 'fri', 'friday', 'fridge', 'friend', 'friendly', 'friends', 'friendship', 'frog', 'from', 'front', 'frontier', 'frontpage', 'frost', 'frozen', 'fruit', 'fruits', 'fs', 'ft', 'ftp', 'fu', 'fuck', 'fucked', 'fucking', 'fuel', 'fuji', 'fujitsu', 'full', 'fully', 'fun', 'function', 'functional', 'functionality', 'functioning', 'functions', 'fund', 'fundamental', 'fundamentals', 'funded', 'funding', 'fundraising', 'funds', 'funeral', 'funk', 'funky', 'funny', 'fur', 'furnished', 'furnishings', 'furniture', 'further', 'furthermore', 'fusion', 'future', 'futures', 'fuzzy', 'fw', 'fwd', 'fx', 'fy', 'g', 'ga', 'gabriel', 'gadgets', 'gage', 'gain', 'gained', 'gains', 'galaxy', 'gale', 'galleries', 'gallery', 'gambling', 'game', 'gamecube', 'games', 'gamespot', 'gaming', 'gamma', 'gang', 'gangbang', 'gap', 'gaps', 'garage', 'garbage', 'garcia', 'garden', 'gardening', 'gardens', 'garlic', 'garmin', 'gary', 'gas', 'gasoline', 'gate', 'gates', 'gateway', 'gather', 'gathered', 'gathering', 'gauge', 'gave', 'gay', 'gays', 'gazette', 'gb', 'gba', 'gbp', 'gc', 'gcc', 'gd', 'gdp', 'ge', 'gear', 'geek', 'gel', 'gem', 'gen', 'gender', 'gene', 'genealogy', 'general', 'generally', 'generate', 'generated', 'generates', 'generating', 'generation', 'generations', 'generator', 'generators', 'generic', 'generous', 'genes', 'genesis', 'genetic', 'genetics', 'geneva', 'genius', 'genome', 'genre', 'genres', 'gentle', 'gentleman', 'gently', 'genuine', 'geo', 'geographic', 'geographical', 'geography', 'geological', 'geology', 'geometry', 'george', 'georgia', 'gerald', 'german', 'germany', 'get', 'gets', 'getting', 'gg', 'ghana', 'ghost', 'ghz', 'gi', 'giant', 'giants', 'gibraltar', 'gibson', 'gif', 'gift', 'gifts', 'gig', 'gilbert', 'girl', 'girlfriend', 'girls', 'gis', 'give', 'given', 'gives', 'giving', 'gl', 'glad', 'glance', 'glasgow', 'glass', 'glasses', 'glen', 'glenn', 'global', 'globe', 'glory', 'glossary', 'gloves', 'glow', 'glucose', 'gm', 'gmbh', 'gmc', 'gmt', 'gnome', 'gnu', 'go', 'goal', 'goals', 'goat', 'god', 'gods', 'goes', 'going', 'gold', 'golden', 'golf', 'gone', 'gonna', 'good', 'goods', 'google', 'gordon', 'gore', 'gorgeous', 'gospel', 'gossip', 'got', 'gothic', 'goto', 'gotta', 'gotten', 'gourmet', 'gov', 'governance', 'governing', 'government', 'governmental', 'governments', 'governor', 'govt', 'gp', 'gpl', 'gps', 'gr', 'grab', 'grace', 'grad', 'grade', 'grades', 'gradually', 'graduate', 'graduated', 'graduates', 'graduation', 'graham', 'grain', 'grammar', 'grams', 'grand', 'grande', 'granny', 'grant', 'granted', 'grants', 'graph', 'graphic', 'graphical', 'graphics', 'graphs', 'gras', 'grass', 'grateful', 'gratis', 'gratuit', 'grave', 'gravity', 'gray', 'great', 'greater', 'greatest', 'greatly', 'greece', 'greek', 'green', 'greene', 'greenhouse', 'greensboro', 'greeting', 'greetings', 'greg', 'gregory', 'grenada', 'grew', 'grey', 'grid', 'griffin', 'grill', 'grip', 'grocery', 'groove', 'gross', 'ground', 'grounds', 'groundwater', 'group', 'groups', 'grove', 'grow', 'growing', 'grown', 'grows', 'growth', 'gs', 'gsm', 'gst', 'gt', 'gtk', 'guam', 'guarantee', 'guaranteed', 'guarantees', 'guard', 'guardian', 'guards', 'guatemala', 'guess', 'guest', 'guestbook', 'guests', 'gui', 'guidance', 'guide', 'guided', 'guidelines', 'guides', 'guild', 'guilty', 'guinea', 'guitar', 'guitars', 'gulf', 'gun', 'guns', 'guru', 'guy', 'guyana', 'guys', 'gym', 'gzip', 'h', 'ha', 'habitat', 'habits', 'hack', 'hacker', 'had', 'hair', 'hairy', 'haiti', 'half', 'halfcom', 'halifax', 'hall', 'halloween', 'halo', 'ham', 'hamburg', 'hamilton', 'hammer', 'hampshire', 'hampton', 'hand', 'handbags', 'handbook', 'handed', 'handheld', 'handhelds', 'handjob', 'handjobs', 'handle', 'handled', 'handles', 'handling', 'handmade', 'hands', 'handy', 'hang', 'hanging', 'hans', 'hansen', 'happen', 'happened', 'happening', 'happens', 'happiness', 'happy', 'harassment', 'harbor', 'harbour', 'hard', 'hardcore', 'hardcover', 'harder', 'hardly', 'hardware', 'hardwood', 'harley', 'harm', 'harmful', 'harmony', 'harold', 'harper', 'harris', 'harrison', 'harry', 'hart', 'hartford', 'harvard', 'harvest', 'harvey', 'has', 'hash', 'hat', 'hate', 'hats', 'have', 'haven', 'having', 'hawaii', 'hawaiian', 'hawk', 'hay', 'hayes', 'hazard', 'hazardous', 'hazards', 'hb', 'hc', 'hd', 'hdtv', 'he', 'head', 'headed', 'header', 'headers', 'heading', 'headline', 'headlines', 'headphones', 'headquarters', 'heads', 'headset', 'healing', 'health', 'healthcare', 'healthy', 'hear', 'heard', 'hearing', 'hearings', 'heart', 'hearts', 'heat', 'heated', 'heater', 'heath', 'heather', 'heating', 'heaven', 'heavily', 'heavy', 'hebrew', 'heel', 'height', 'heights', 'held', 'helen', 'helena', 'helicopter', 'hell', 'hello', 'helmet', 'help', 'helped', 'helpful', 'helping', 'helps', 'hence', 'henderson', 'henry', 'hentai', 'hepatitis', 'her', 'herald', 'herb', 'herbal', 'herbs', 'here', 'hereby', 'herein', 'heritage', 'hero', 'heroes', 'herself', 'hewlett', 'hey', 'hh', 'hi', 'hidden', 'hide', 'hierarchy', 'high', 'higher', 'highest', 'highland', 'highlight', 'highlighted', 'highlights', 'highly', 'highs', 'highway', 'highways', 'hiking', 'hill', 'hills', 'hilton', 'him', 'himself', 'hindu', 'hint', 'hints', 'hip', 'hire', 'hired', 'hiring', 'his', 'hispanic', 'hist', 'historic', 'historical', 'history', 'hit', 'hitachi', 'hits', 'hitting', 'hiv', 'hk', 'hl', 'ho', 'hobbies', 'hobby', 'hockey', 'hold', 'holdem', 'holder', 'holders', 'holding', 'holdings', 'holds', 'hole', 'holes', 'holiday', 'holidays', 'holland', 'hollow', 'holly', 'hollywood', 'holmes', 'holocaust', 'holy', 'home', 'homeland', 'homeless', 'homepage', 'homes', 'hometown', 'homework', 'hon', 'honda', 'honduras', 'honest', 'honey', 'hong', 'honolulu', 'honor', 'honors', 'hood', 'hook', 'hop', 'hope', 'hoped', 'hopefully', 'hopes', 'hoping', 'hopkins', 'horizon', 'horizontal', 'hormone', 'horn', 'horny', 'horrible', 'horror', 'horse', 'horses', 'hose', 'hospital', 'hospitality', 'hospitals', 'host', 'hosted', 'hostel', 'hostels', 'hosting', 'hosts', 'hot', 'hotel', 'hotels', 'hotelscom', 'hotmail', 'hottest', 'hour', 'hourly', 'hours', 'house', 'household', 'households', 'houses', 'housewares', 'housewives', 'housing', 'houston', 'how', 'howard', 'however', 'howto', 'hp', 'hq', 'hr', 'href', 'hrs', 'hs', 'ht', 'html', 'http', 'hu', 'hub', 'hudson', 'huge', 'hugh', 'hughes', 'hugo', 'hull', 'human', 'humanitarian', 'humanities', 'humanity', 'humans', 'humidity', 'humor', 'hundred', 'hundreds', 'hung', 'hungarian', 'hungary', 'hunger', 'hungry', 'hunt', 'hunter', 'hunting', 'huntington', 'hurricane', 'hurt', 'husband', 'hwy', 'hybrid', 'hydraulic', 'hydrocodone', 'hydrogen', 'hygiene', 'hypothesis', 'hypothetical', 'hyundai', 'hz', 'i', 'ia', 'ian', 'ibm', 'ic', 'ice', 'iceland', 'icon', 'icons', 'icq', 'ict', 'id', 'idaho', 'ide', 'idea', 'ideal', 'ideas', 'identical', 'identification', 'identified', 'identifier', 'identifies', 'identify', 'identifying', 'identity', 'idle', 'idol', 'ids', 'ie', 'ieee', 'if', 'ignore', 'ignored', 'ii', 'iii', 'il', 'ill', 'illegal', 'illinois', 'illness', 'illustrated', 'illustration', 'illustrations', 'im', 'ima', 'image', 'images', 'imagination', 'imagine', 'imaging', 'img', 'immediate', 'immediately', 'immigrants', 'immigration', 'immune', 'immunology', 'impact', 'impacts', 'impaired', 'imperial', 'implement', 'implementation', 'implemented', 'implementing', 'implications', 'implied', 'implies', 'import', 'importance', 'important', 'importantly', 'imported', 'imports', 'impose', 'imposed', 'impossible', 'impressed', 'impression', 'impressive', 'improve', 'improved', 'improvement', 'improvements', 'improving', 'in', 'inappropriate', 'inbox', 'inc', 'incentive', 'incentives', 'incest', 'inch', 'inches', 'incidence', 'incident', 'incidents', 'incl', 'include', 'included', 'includes', 'including', 'inclusion', 'inclusive', 'income', 'incoming', 'incomplete', 'incorporate', 'incorporated', 'incorrect', 'increase', 'increased', 'increases', 'increasing', 'increasingly', 'incredible', 'incurred', 'ind', 'indeed', 'independence', 'independent', 'independently', 'index', 'indexed', 'indexes', 'india', 'indian', 'indiana', 'indianapolis', 'indians', 'indicate', 'indicated', 'indicates', 'indicating', 'indication', 'indicator', 'indicators', 'indices', 'indie', 'indigenous', 'indirect', 'individual', 'individually', 'individuals', 'indonesia', 'indonesian', 'indoor', 'induced', 'induction', 'industrial', 'industries', 'industry', 'inexpensive', 'inf', 'infant', 'infants', 'infected', 'infection', 'infections', 'infectious', 'infinite', 'inflation', 'influence', 'influenced', 'influences', 'info', 'inform', 'informal', 'information', 'informational', 'informative', 'informed', 'infrared', 'infrastructure', 'ing', 'ingredients', 'inherited', 'initial', 'initially', 'initiated', 'initiative', 'initiatives', 'injection', 'injured', 'injuries', 'injury', 'ink', 'inkjet', 'inline', 'inn', 'inner', 'innocent', 'innovation', 'innovations', 'innovative', 'inns', 'input', 'inputs', 'inquire', 'inquiries', 'inquiry', 'ins', 'insects', 'insert', 'inserted', 'insertion', 'inside', 'insider', 'insight', 'insights', 'inspection', 'inspections', 'inspector', 'inspiration', 'inspired', 'install', 'installation', 'installations', 'installed', 'installing', 'instance', 'instances', 'instant', 'instantly', 'instead', 'institute', 'institutes', 'institution', 'institutional', 'institutions', 'instruction', 'instructional', 'instructions', 'instructor', 'instructors', 'instrument', 'instrumental', 'instrumentation', 'instruments', 'insulin', 'insurance', 'insured', 'int', 'intake', 'integer', 'integral', 'integrate', 'integrated', 'integrating', 'integration', 'integrity', 'intel', 'intellectual', 'intelligence', 'intelligent', 'intend', 'intended', 'intense', 'intensity', 'intensive', 'intent', 'intention', 'inter', 'interact', 'interaction', 'interactions', 'interactive', 'interest', 'interested', 'interesting', 'interests', 'interface', 'interfaces', 'interference', 'interim', 'interior', 'intermediate', 'internal', 'international', 'internationally', 'internet', 'internship', 'interpretation', 'interpreted', 'interracial', 'intersection', 'interstate', 'interval', 'intervals', 'intervention', 'interventions', 'interview', 'interviews', 'intimate', 'intl', 'into', 'intranet', 'intro', 'introduce', 'introduced', 'introduces', 'introducing', 'introduction', 'introductory', 'invalid', 'invasion', 'invention', 'inventory', 'invest', 'investigate', 'investigated', 'investigation', 'investigations', 'investigator', 'investigators', 'investing', 'investment', 'investments', 'investor', 'investors', 'invisible', 'invision', 'invitation', 'invitations', 'invite', 'invited', 'invoice', 'involve', 'involved', 'involvement', 'involves', 'involving', 'io', 'ion', 'iowa', 'ip', 'ipaq', 'ipod', 'ips', 'ir', 'ira', 'iran', 'iraq', 'iraqi', 'irc', 'ireland', 'irish', 'iron', 'irrigation', 'irs', 'is', 'isa', 'isaac', 'isbn', 'islam', 'islamic', 'island', 'islands', 'isle', 'iso', 'isolated', 'isolation', 'isp', 'israel', 'israeli', 'issn', 'issue', 'issued', 'issues', 'ist', 'istanbul', 'it', 'italia', 'italian', 'italiano', 'italic', 'italy', 'item', 'items', 'its', 'itsa', 'itself', 'itunes', 'iv', 'ivory', 'ix', 'j', 'ja', 'jack', 'jacket', 'jackets', 'jackie', 'jackson', 'jacksonville', 'jacob', 'jade', 'jaguar', 'jail', 'jake', 'jam', 'jamaica', 'james', 'jamie', 'jan', 'jane', 'janet', 'january', 'japan', 'japanese', 'jar', 'jason', 'java', 'javascript', 'jay', 'jazz', 'jc', 'jd', 'je', 'jean', 'jeans', 'jeep', 'jeff', 'jefferson', 'jeffrey', 'jelsoft', 'jennifer', 'jenny', 'jeremy', 'jerry', 'jersey', 'jerusalem', 'jesse', 'jessica', 'jesus', 'jet', 'jets', 'jewel', 'jewellery', 'jewelry', 'jewish', 'jews', 'jill', 'jim', 'jimmy', 'jj', 'jm', 'jo', 'joan', 'job', 'jobs', 'joe', 'joel', 'john', 'johnny', 'johns', 'johnson', 'johnston', 'join', 'joined', 'joining', 'joins', 'joint', 'joke', 'jokes', 'jon', 'jonathan', 'jones', 'jordan', 'jose', 'joseph', 'josh', 'joshua', 'journal', 'journalism', 'journalist', 'journalists', 'journals', 'journey', 'joy', 'joyce', 'jp', 'jpeg', 'jpg', 'jr', 'js', 'juan', 'judge', 'judges', 'judgment', 'judicial', 'judy', 'juice', 'jul', 'julia', 'julian', 'julie', 'july', 'jump', 'jumping', 'jun', 'junction', 'june', 'jungle', 'junior', 'junk', 'jurisdiction', 'jury', 'just', 'justice', 'justify', 'justin', 'juvenile', 'jvc', 'k', 'ka', 'kai', 'kansas', 'karaoke', 'karen', 'karl', 'karma', 'kate', 'kathy', 'katie', 'katrina', 'kay', 'kazakhstan', 'kb', 'kde', 'keen', 'keep', 'keeping', 'keeps', 'keith', 'kelkoo', 'kelly', 'ken', 'kennedy', 'kenneth', 'kenny', 'keno', 'kent', 'kentucky', 'kenya', 'kept', 'kernel', 'kerry', 'kevin', 'key', 'keyboard', 'keyboards', 'keys', 'keyword', 'keywords', 'kg', 'kick', 'kid', 'kidney', 'kids', 'kijiji', 'kill', 'killed', 'killer', 'killing', 'kills', 'kilometers', 'kim', 'kinase', 'kind', 'kinda', 'kinds', 'king', 'kingdom', 'kings', 'kingston', 'kirk', 'kiss', 'kissing', 'kit', 'kitchen', 'kits', 'kitty', 'klein', 'km', 'knee', 'knew', 'knife', 'knight', 'knights', 'knit', 'knitting', 'knives', 'knock', 'know', 'knowing', 'knowledge', 'knowledgestorm', 'known', 'knows', 'ko', 'kodak', 'kong', 'korea', 'korean', 'kruger', 'ks', 'kurt', 'kuwait', 'kw', 'ky', 'kyle', 'l', 'la', 'lab', 'label', 'labeled', 'labels', 'labor', 'laboratories', 'laboratory', 'labour', 'labs', 'lace', 'lack', 'ladder', 'laden', 'ladies', 'lady', 'lafayette', 'laid', 'lake', 'lakes', 'lamb', 'lambda', 'lamp', 'lamps', 'lan', 'lancaster', 'lance', 'land', 'landing', 'lands', 'landscape', 'landscapes', 'lane', 'lanes', 'lang', 'language', 'languages', 'lanka', 'lap', 'laptop', 'laptops', 'large', 'largely', 'larger', 'largest', 'larry', 'las', 'laser', 'last', 'lasting', 'lat', 'late', 'lately', 'later', 'latest', 'latex', 'latin', 'latina', 'latinas', 'latino', 'latitude', 'latter', 'latvia', 'lauderdale', 'laugh', 'laughing', 'launch', 'launched', 'launches', 'laundry', 'laura', 'lauren', 'law', 'lawn', 'lawrence', 'laws', 'lawsuit', 'lawyer', 'lawyers', 'lay', 'layer', 'layers', 'layout', 'lazy', 'lb', 'lbs', 'lc', 'lcd', 'ld', 'le', 'lead', 'leader', 'leaders', 'leadership', 'leading', 'leads', 'leaf', 'league', 'lean', 'learn', 'learned', 'learners', 'learning', 'lease', 'leasing', 'least', 'leather', 'leave', 'leaves', 'leaving', 'lebanon', 'lecture', 'lectures', 'led', 'lee', 'leeds', 'left', 'leg', 'legacy', 'legal', 'legally', 'legend', 'legendary', 'legends', 'legislation', 'legislative', 'legislature', 'legitimate', 'legs', 'leisure', 'lemon', 'len', 'lender', 'lenders', 'lending', 'length', 'lens', 'lenses', 'leo', 'leon', 'leonard', 'leone', 'les', 'lesbian', 'lesbians', 'leslie', 'less', 'lesser', 'lesson', 'lessons', 'let', 'lets', 'letter', 'letters', 'letting', 'leu', 'level', 'levels', 'levitra', 'levy', 'lewis', 'lexington', 'lexmark', 'lexus', 'lf', 'lg', 'li', 'liabilities', 'liability', 'liable', 'lib', 'liberal', 'liberia', 'liberty', 'librarian', 'libraries', 'library', 'libs', 'licence', 'license', 'licensed', 'licenses', 'licensing', 'licking', 'lid', 'lie', 'liechtenstein', 'lies', 'life', 'lifestyle', 'lifetime', 'lift', 'light', 'lighter', 'lighting', 'lightning', 'lights', 'lightweight', 'like', 'liked', 'likelihood', 'likely', 'likes', 'likewise', 'lil', 'lime', 'limit', 'limitation', 'limitations', 'limited', 'limiting', 'limits', 'limousines', 'lincoln', 'linda', 'lindsay', 'line', 'linear', 'lined', 'lines', 'lingerie', 'link', 'linked', 'linking', 'links', 'linux', 'lion', 'lions', 'lip', 'lips', 'liquid', 'lisa', 'list', 'listed', 'listen', 'listening', 'listing', 'listings', 'listprice', 'lists', 'lit', 'lite', 'literacy', 'literally', 'literary', 'literature', 'lithuania', 'litigation', 'little', 'live', 'livecam', 'lived', 'liver', 'liverpool', 'lives', 'livesex', 'livestock', 'living', 'liz', 'll', 'llc', 'lloyd', 'llp', 'lm', 'ln', 'lo', 'load', 'loaded', 'loading', 'loads', 'loan', 'loans', 'lobby', 'loc', 'local', 'locale', 'locally', 'locate', 'located', 'location', 'locations', 'locator', 'lock', 'locked', 'locking', 'locks', 'lodge', 'lodging', 'log', 'logan', 'logged', 'logging', 'logic', 'logical', 'login', 'logistics', 'logitech', 'logo', 'logos', 'logs', 'lol', 'lolita', 'london', 'lone', 'lonely', 'long', 'longer', 'longest', 'longitude', 'look', 'looked', 'looking', 'looks', 'looksmart', 'lookup', 'loop', 'loops', 'loose', 'lopez', 'lord', 'los', 'lose', 'losing', 'loss', 'losses', 'lost', 'lot', 'lots', 'lottery', 'lotus', 'lou', 'loud', 'louis', 'louise', 'louisiana', 'louisville', 'lounge', 'love', 'loved', 'lovely', 'lover', 'lovers', 'loves', 'loving', 'low', 'lower', 'lowest', 'lows', 'lp', 'ls', 'lt', 'ltd', 'lu', 'lucas', 'lucia', 'luck', 'lucky', 'lucy', 'luggage', 'luis', 'luke', 'lunch', 'lung', 'luther', 'luxembourg', 'luxury', 'lycos', 'lying', 'lynn', 'lyric', 'lyrics', 'm', 'ma', 'mac', 'macedonia', 'machine', 'machinery', 'machines', 'macintosh', 'macro', 'macromedia', 'mad', 'madagascar', 'made', 'madison', 'madness', 'madonna', 'madrid', 'mae', 'mag', 'magazine', 'magazines', 'magic', 'magical', 'magnet', 'magnetic', 'magnificent', 'magnitude', 'mai', 'maiden', 'mail', 'mailed', 'mailing', 'mailman', 'mails', 'mailto', 'main', 'maine', 'mainland', 'mainly', 'mainstream', 'maintain', 'maintained', 'maintaining', 'maintains', 'maintenance', 'major', 'majority', 'make', 'maker', 'makers', 'makes', 'makeup', 'making', 'malawi', 'malaysia', 'maldives', 'male', 'males', 'mali', 'mall', 'malpractice', 'malta', 'mambo', 'man', 'manage', 'managed', 'management', 'manager', 'managers', 'managing', 'manchester', 'mandate', 'mandatory', 'manga', 'manhattan', 'manitoba', 'manner', 'manor', 'manual', 'manually', 'manuals', 'manufacture', 'manufactured', 'manufacturer', 'manufacturers', 'manufacturing', 'many', 'map', 'maple', 'mapping', 'maps', 'mar', 'marathon', 'marble', 'marc', 'march', 'marco', 'marcus', 'mardi', 'margaret', 'margin', 'maria', 'mariah', 'marie', 'marijuana', 'marilyn', 'marina', 'marine', 'mario', 'marion', 'maritime', 'mark', 'marked', 'marker', 'markers', 'market', 'marketing', 'marketplace', 'markets', 'marking', 'marks', 'marriage', 'married', 'marriott', 'mars', 'marshall', 'mart', 'martha', 'martial', 'martin', 'marvel', 'mary', 'maryland', 'mas', 'mask', 'mason', 'mass', 'massachusetts', 'massage', 'massive', 'master', 'mastercard', 'masters', 'masturbating', 'masturbation', 'mat', 'match', 'matched', 'matches', 'matching', 'mate', 'material', 'materials', 'maternity', 'math', 'mathematical', 'mathematics', 'mating', 'matrix', 'mats', 'matt', 'matter', 'matters', 'matthew', 'mattress', 'mature', 'maui', 'mauritius', 'max', 'maximize', 'maximum', 'may', 'maybe', 'mayor', 'mazda', 'mb', 'mba', 'mc', 'mcdonald', 'md', 'me', 'meal', 'meals', 'mean', 'meaning', 'meaningful', 'means', 'meant', 'meanwhile', 'measure', 'measured', 'measurement', 'measurements', 'measures', 'measuring', 'meat', 'mechanical', 'mechanics', 'mechanism', 'mechanisms', 'med', 'medal', 'media', 'median', 'medicaid', 'medical', 'medicare', 'medication', 'medications', 'medicine', 'medicines', 'medieval', 'meditation', 'mediterranean', 'medium', 'medline', 'meet', 'meeting', 'meetings', 'meets', 'meetup', 'mega', 'mel', 'melbourne', 'melissa', 'mem', 'member', 'members', 'membership', 'membrane', 'memo', 'memorabilia', 'memorial', 'memories', 'memory', 'memphis', 'men', 'mens', 'ment', 'mental', 'mention', 'mentioned', 'mentor', 'menu', 'menus', 'mercedes', 'merchandise', 'merchant', 'merchants', 'mercury', 'mercy', 'mere', 'merely', 'merge', 'merger', 'merit', 'merry', 'mesa', 'mesh', 'mess', 'message', 'messages', 'messaging', 'messenger', 'met', 'meta', 'metabolism', 'metadata', 'metal', 'metallic', 'metallica', 'metals', 'meter', 'meters', 'method', 'methodology', 'methods', 'metres', 'metric', 'metro', 'metropolitan', 'mexican', 'mexico', 'meyer', 'mf', 'mfg', 'mg', 'mh', 'mhz', 'mi', 'mia', 'miami', 'mic', 'mice', 'michael', 'michel', 'michelle', 'michigan', 'micro', 'microphone', 'microsoft', 'microwave', 'mid', 'middle', 'midi', 'midlands', 'midnight', 'midwest', 'might', 'mighty', 'migration', 'mike', 'mil', 'milan', 'mild', 'mile', 'mileage', 'miles', 'milf', 'milfhunter', 'milfs', 'military', 'milk', 'mill', 'millennium', 'miller', 'million', 'millions', 'mills', 'milton', 'milwaukee', 'mime', 'min', 'mind', 'minds', 'mine', 'mineral', 'minerals', 'mines', 'mini', 'miniature', 'minimal', 'minimize', 'minimum', 'mining', 'minister', 'ministers', 'ministries', 'ministry', 'minneapolis', 'minnesota', 'minolta', 'minor', 'minority', 'mins', 'mint', 'minus', 'minute', 'minutes', 'miracle', 'mirror', 'mirrors', 'misc', 'miscellaneous', 'miss', 'missed', 'missile', 'missing', 'mission', 'missions', 'mississippi', 'missouri', 'mistake', 'mistakes', 'mistress', 'mit', 'mitchell', 'mitsubishi', 'mix', 'mixed', 'mixer', 'mixing', 'mixture', 'mj', 'ml', 'mlb', 'mls', 'mm', 'mn', 'mo', 'mobile', 'mobiles', 'mobility', 'mod', 'mode', 'model', 'modeling', 'modelling', 'models', 'modem', 'modems', 'moderate', 'moderator', 'moderators', 'modern', 'modes', 'modification', 'modifications', 'modified', 'modify', 'mods', 'modular', 'module', 'modules', 'moisture', 'mold', 'moldova', 'molecular', 'molecules', 'mom', 'moment', 'moments', 'momentum', 'moms', 'mon', 'monaco', 'monday', 'monetary', 'money', 'mongolia', 'monica', 'monitor', 'monitored', 'monitoring', 'monitors', 'monkey', 'mono', 'monroe', 'monster', 'montana', 'monte', 'montgomery', 'month', 'monthly', 'months', 'montreal', 'mood', 'moon', 'moore', 'moral', 'more', 'moreover', 'morgan', 'morning', 'morocco', 'morris', 'morrison', 'mortality', 'mortgage', 'mortgages', 'moscow', 'moses', 'moss', 'most', 'mostly', 'motel', 'motels', 'mother', 'motherboard', 'mothers', 'motion', 'motivated', 'motivation', 'motor', 'motorcycle', 'motorcycles', 'motorola', 'motors', 'mount', 'mountain', 'mountains', 'mounted', 'mounting', 'mounts', 'mouse', 'mouth', 'move', 'moved', 'movement', 'movements', 'movers', 'moves', 'movie', 'movies', 'moving', 'mozambique', 'mozilla', 'mp', 'mpeg', 'mpegs', 'mpg', 'mph', 'mr', 'mrna', 'mrs', 'ms', 'msg', 'msgid', 'msgstr', 'msie', 'msn', 'mt', 'mtv', 'mu', 'much', 'mud', 'mug', 'multi', 'multimedia', 'multiple', 'mumbai', 'munich', 'municipal', 'municipality', 'murder', 'murphy', 'murray', 'muscle', 'muscles', 'museum', 'museums', 'music', 'musical', 'musician', 'musicians', 'muslim', 'muslims', 'must', 'mustang', 'mutual', 'muze', 'mv', 'mw', 'mx', 'my', 'myanmar', 'myers', 'myrtle', 'myself', 'mysimon', 'myspace', 'mysql', 'mysterious', 'mystery', 'myth', 'n', 'na', 'nail', 'nails', 'naked', 'nam', 'name', 'named', 'namely', 'names', 'namespace', 'namibia', 'nancy', 'nano', 'naples', 'narrative', 'narrow', 'nasa', 'nascar', 'nasdaq', 'nashville', 'nasty', 'nat', 'nathan', 'nation', 'national', 'nationally', 'nations', 'nationwide', 'native', 'nato', 'natural', 'naturally', 'naturals', 'nature', 'naughty', 'nav', 'naval', 'navigate', 'navigation', 'navigator', 'navy', 'nb', 'nba', 'nbc', 'nc', 'ncaa', 'nd', 'ne', 'near', 'nearby', 'nearest', 'nearly', 'nebraska', 'nec', 'necessarily', 'necessary', 'necessity', 'neck', 'necklace', 'need', 'needed', 'needle', 'needs', 'negative', 'negotiation', 'negotiations', 'neighbor', 'neighborhood', 'neighbors', 'neil', 'neither', 'nelson', 'neo', 'neon', 'nepal', 'nerve', 'nervous', 'nest', 'nested', 'net', 'netherlands', 'netscape', 'network', 'networking', 'networks', 'neural', 'neutral', 'nevada', 'never', 'nevertheless', 'new', 'newark', 'newbie', 'newcastle', 'newer', 'newest', 'newfoundland', 'newly', 'newport', 'news', 'newscom', 'newsletter', 'newsletters', 'newspaper', 'newspapers', 'newton', 'next', 'nextel', 'nfl', 'ng', 'nh', 'nhl', 'nhs', 'ni', 'niagara', 'nicaragua', 'nice', 'nicholas', 'nick', 'nickel', 'nickname', 'nicole', 'niger', 'nigeria', 'night', 'nightlife', 'nightmare', 'nights', 'nike', 'nikon', 'nil', 'nine', 'nintendo', 'nipple', 'nipples', 'nirvana', 'nissan', 'nitrogen', 'nj', 'nl', 'nm', 'nn', 'no', 'noble', 'nobody', 'node', 'nodes', 'noise', 'nokia', 'nominated', 'nomination', 'nominations', 'non', 'none', 'nonprofit', 'noon', 'nor', 'norfolk', 'norm', 'normal', 'normally', 'norman', 'north', 'northeast', 'northern', 'northwest', 'norton', 'norway', 'norwegian', 'nos', 'nose', 'not', 'note', 'notebook', 'notebooks', 'noted', 'notes', 'nothing', 'notice', 'noticed', 'notices', 'notification', 'notifications', 'notified', 'notify', 'notion', 'notre', 'nottingham', 'nov', 'nova', 'novel', 'novels', 'novelty', 'november', 'now', 'nowhere', 'np', 'nr', 'ns', 'nsw', 'nt', 'ntsc', 'nu', 'nuclear', 'nude', 'nudist', 'nudity', 'nuke', 'null', 'number', 'numbers', 'numeric', 'numerical', 'numerous', 'nurse', 'nursery', 'nurses', 'nursing', 'nut', 'nutrition', 'nutritional', 'nuts', 'nutten', 'nv', 'nvidia', 'nw', 'ny', 'nyc', 'nylon', 'nz', 'o', 'oak', 'oakland', 'oaks', 'oasis', 'ob', 'obesity', 'obituaries', 'obj', 'object', 'objective', 'objectives', 'objects', 'obligation', 'obligations', 'observation', 'observations', 'observe', 'observed', 'observer', 'obtain', 'obtained', 'obtaining', 'obvious', 'obviously', 'oc', 'occasion', 'occasional', 'occasionally', 'occasions', 'occupation', 'occupational', 'occupations', 'occupied', 'occur', 'occurred', 'occurrence', 'occurring', 'occurs', 'ocean', 'oclc', 'oct', 'october', 'odd', 'odds', 'oe', 'oecd', 'oem', 'of', 'off', 'offense', 'offensive', 'offer', 'offered', 'offering', 'offerings', 'offers', 'office', 'officer', 'officers', 'offices', 'official', 'officially', 'officials', 'offline', 'offset', 'offshore', 'often', 'og', 'oh', 'ohio', 'oil', 'oils', 'ok', 'okay', 'oklahoma', 'ol', 'old', 'older', 'oldest', 'olive', 'oliver', 'olympic', 'olympics', 'olympus', 'om', 'omaha', 'oman', 'omega', 'omissions', 'on', 'once', 'one', 'ones', 'ongoing', 'onion', 'online', 'only', 'ons', 'ontario', 'onto', 'oo', 'ooo', 'oops', 'op', 'open', 'opened', 'opening', 'openings', 'opens', 'opera', 'operate', 'operated', 'operates', 'operating', 'operation', 'operational', 'operations', 'operator', 'operators', 'opinion', 'opinions', 'opponent', 'opponents', 'opportunities', 'opportunity', 'opposed', 'opposite', 'opposition', 'opt', 'optical', 'optics', 'optimal', 'optimization', 'optimize', 'optimum', 'option', 'optional', 'options', 'or', 'oracle', 'oral', 'orange', 'orbit', 'orchestra', 'order', 'ordered', 'ordering', 'orders', 'ordinance', 'ordinary', 'oregon', 'org', 'organ', 'organic', 'organisation', 'organisations', 'organised', 'organisms', 'organization', 'organizational', 'organizations', 'organize', 'organized', 'organizer', 'organizing', 'orgasm', 'orgy', 'oriental', 'orientation', 'oriented', 'origin', 'original', 'originally', 'origins', 'orlando', 'orleans', 'os', 'oscar', 'ot', 'other', 'others', 'otherwise', 'ottawa', 'ou', 'ought', 'our', 'ours', 'ourselves', 'out', 'outcome', 'outcomes', 'outdoor', 'outdoors', 'outer', 'outlet', 'outline', 'outlined', 'outlook', 'output', 'outputs', 'outreach', 'outside', 'outsourcing', 'outstanding', 'oval', 'oven', 'over', 'overall', 'overcome', 'overhead', 'overnight', 'overseas', 'overview', 'owen', 'own', 'owned', 'owner', 'owners', 'ownership', 'owns', 'oxford', 'oxide', 'oxygen', 'oz', 'ozone', 'p', 'pa', 'pac', 'pace', 'pacific', 'pack', 'package', 'packages', 'packaging', 'packard', 'packed', 'packet', 'packets', 'packing', 'packs', 'pad', 'pads', 'page', 'pages', 'paid', 'pain', 'painful', 'paint', 'paintball', 'painted', 'painting', 'paintings', 'pair', 'pairs', 'pakistan', 'pal', 'palace', 'pale', 'palestine', 'palestinian', 'palm', 'palmer', 'pam', 'pamela', 'pan', 'panama', 'panasonic', 'panel', 'panels', 'panic', 'panties', 'pants', 'pantyhose', 'paper', 'paperback', 'paperbacks', 'papers', 'papua', 'par', 'para', 'parade', 'paradise', 'paragraph', 'paragraphs', 'paraguay', 'parallel', 'parameter', 'parameters', 'parcel', 'parent', 'parental', 'parenting', 'parents', 'paris', 'parish', 'park', 'parker', 'parking', 'parks', 'parliament', 'parliamentary', 'part', 'partial', 'partially', 'participant', 'participants', 'participate', 'participated', 'participating', 'participation', 'particle', 'particles', 'particular', 'particularly', 'parties', 'partition', 'partly', 'partner', 'partners', 'partnership', 'partnerships', 'parts', 'party', 'pas', 'paso', 'pass', 'passage', 'passed', 'passenger', 'passengers', 'passes', 'passing', 'passion', 'passive', 'passport', 'password', 'passwords', 'past', 'pasta', 'paste', 'pastor', 'pat', 'patch', 'patches', 'patent', 'patents', 'path', 'pathology', 'paths', 'patient', 'patients', 'patio', 'patricia', 'patrick', 'patrol', 'pattern', 'patterns', 'paul', 'pavilion', 'paxil', 'pay', 'payable', 'payday', 'paying', 'payment', 'payments', 'paypal', 'payroll', 'pays', 'pb', 'pc', 'pci', 'pcs', 'pct', 'pd', 'pda', 'pdas', 'pdf', 'pdt', 'pe', 'peace', 'peaceful', 'peak', 'pearl', 'peas', 'pediatric', 'pee', 'peeing', 'peer', 'peers', 'pen', 'penalties', 'penalty', 'pencil', 'pendant', 'pending', 'penetration', 'penguin', 'peninsula', 'penis', 'penn', 'pennsylvania', 'penny', 'pens', 'pension', 'pensions', 'pentium', 'people', 'peoples', 'pepper', 'per', 'perceived', 'percent', 'percentage', 'perception', 'perfect', 'perfectly', 'perform', 'performance', 'performances', 'performed', 'performer', 'performing', 'performs', 'perfume', 'perhaps', 'period', 'periodic', 'periodically', 'periods', 'peripheral', 'peripherals', 'perl', 'permalink', 'permanent', 'permission', 'permissions', 'permit', 'permits', 'permitted', 'perry', 'persian', 'persistent', 'person', 'personal', 'personality', 'personalized', 'personally', 'personals', 'personnel', 'persons', 'perspective', 'perspectives', 'perth', 'peru', 'pest', 'pet', 'pete', 'peter', 'petersburg', 'peterson', 'petite', 'petition', 'petroleum', 'pets', 'pf', 'pg', 'pgp', 'ph', 'phantom', 'pharmaceutical', 'pharmaceuticals', 'pharmacies', 'pharmacology', 'pharmacy', 'phase', 'phases', 'phd', 'phenomenon', 'phentermine', 'phi', 'phil', 'philadelphia', 'philip', 'philippines', 'philips', 'phillips', 'philosophy', 'phoenix', 'phone', 'phones', 'photo', 'photograph', 'photographer', 'photographers', 'photographic', 'photographs', 'photography', 'photos', 'photoshop', 'php', 'phpbb', 'phrase', 'phrases', 'phys', 'physical', 'physically', 'physician', 'physicians', 'physics', 'physiology', 'pi', 'piano', 'pic', 'pichunter', 'pick', 'picked', 'picking', 'picks', 'pickup', 'picnic', 'pics', 'picture', 'pictures', 'pie', 'piece', 'pieces', 'pierce', 'pierre', 'pig', 'pike', 'pill', 'pillow', 'pills', 'pilot', 'pin', 'pine', 'ping', 'pink', 'pins', 'pioneer', 'pipe', 'pipeline', 'pipes', 'pirates', 'piss', 'pissing', 'pit', 'pitch', 'pittsburgh', 'pix', 'pixel', 'pixels', 'pizza', 'pj', 'pk', 'pl', 'place', 'placed', 'placement', 'places', 'placing', 'plain', 'plains', 'plaintiff', 'plan', 'plane', 'planes', 'planet', 'planets', 'planned', 'planner', 'planners', 'planning', 'plans', 'plant', 'plants', 'plasma', 'plastic', 'plastics', 'plate', 'plates', 'platform', 'platforms', 'platinum', 'play', 'playback', 'playboy', 'played', 'player', 'players', 'playing', 'playlist', 'plays', 'playstation', 'plaza', 'plc', 'pleasant', 'please', 'pleased', 'pleasure', 'pledge', 'plenty', 'plot', 'plots', 'plug', 'plugin', 'plugins', 'plumbing', 'plus', 'plymouth', 'pm', 'pmc', 'pmid', 'pn', 'po', 'pocket', 'pockets', 'pod', 'podcast', 'podcasts', 'poem', 'poems', 'poet', 'poetry', 'point', 'pointed', 'pointer', 'pointing', 'points', 'pokemon', 'poker', 'poland', 'polar', 'pole', 'police', 'policies', 'policy', 'polish', 'polished', 'political', 'politicians', 'politics', 'poll', 'polls', 'pollution', 'polo', 'poly', 'polyester', 'polymer', 'polyphonic', 'pond', 'pontiac', 'pool', 'pools', 'poor', 'pop', 'pope', 'popular', 'popularity', 'population', 'populations', 'por', 'porcelain', 'pork', 'porn', 'porno', 'porsche', 'port', 'portable', 'portal', 'porter', 'portfolio', 'portion', 'portions', 'portland', 'portrait', 'portraits', 'ports', 'portsmouth', 'portugal', 'portuguese', 'pos', 'pose', 'posing', 'position', 'positioning', 'positions', 'positive', 'possess', 'possession', 'possibilities', 'possibility', 'possible', 'possibly', 'post', 'postage', 'postal', 'postcard', 'postcards', 'posted', 'poster', 'posters', 'posting', 'postings', 'postposted', 'posts', 'pot', 'potato', 'potatoes', 'potential', 'potentially', 'potter', 'pottery', 'poultry', 'pound', 'pounds', 'pour', 'poverty', 'powder', 'powell', 'power', 'powered', 'powerful', 'powerpoint', 'powers', 'powerseller', 'pp', 'ppc', 'ppm', 'pr', 'practical', 'practice', 'practices', 'practitioner', 'practitioners', 'prague', 'prairie', 'praise', 'pray', 'prayer', 'prayers', 'pre', 'preceding', 'precious', 'precipitation', 'precise', 'precisely', 'precision', 'predict', 'predicted', 'prediction', 'predictions', 'prefer', 'preference', 'preferences', 'preferred', 'prefers', 'prefix', 'pregnancy', 'pregnant', 'preliminary', 'premier', 'premiere', 'premises', 'premium', 'prep', 'prepaid', 'preparation', 'prepare', 'prepared', 'preparing', 'prerequisite', 'prescribed', 'prescription', 'presence', 'present', 'presentation', 'presentations', 'presented', 'presenting', 'presently', 'presents', 'preservation', 'preserve', 'president', 'presidential', 'press', 'pressed', 'pressing', 'pressure', 'preston', 'pretty', 'prev', 'prevent', 'preventing', 'prevention', 'preview', 'previews', 'previous', 'previously', 'price', 'priced', 'prices', 'pricing', 'pride', 'priest', 'primarily', 'primary', 'prime', 'prince', 'princess', 'princeton', 'principal', 'principle', 'principles', 'print', 'printable', 'printed', 'printer', 'printers', 'printing', 'prints', 'prior', 'priorities', 'priority', 'prison', 'prisoner', 'prisoners', 'privacy', 'private', 'privilege', 'privileges', 'prix', 'prize', 'prizes', 'pro', 'probability', 'probably', 'probe', 'problem', 'problems', 'proc', 'procedure', 'procedures', 'proceed', 'proceeding', 'proceedings', 'proceeds', 'process', 'processed', 'processes', 'processing', 'processor', 'processors', 'procurement', 'produce', 'produced', 'producer', 'producers', 'produces', 'producing', 'product', 'production', 'productions', 'productive', 'productivity', 'products', 'prof', 'profession', 'professional', 'professionals', 'professor', 'profile', 'profiles', 'profit', 'profits', 'program', 'programme', 'programmer', 'programmers', 'programmes', 'programming', 'programs', 'progress', 'progressive', 'prohibited', 'project', 'projected', 'projection', 'projector', 'projectors', 'projects', 'prominent', 'promise', 'promised', 'promises', 'promising', 'promo', 'promote', 'promoted', 'promotes', 'promoting', 'promotion', 'promotional', 'promotions', 'prompt', 'promptly', 'proof', 'propecia', 'proper', 'properly', 'properties', 'property', 'prophet', 'proportion', 'proposal', 'proposals', 'propose', 'proposed', 'proposition', 'proprietary', 'pros', 'prospect', 'prospective', 'prospects', 'prostate', 'prostores', 'prot', 'protect', 'protected', 'protecting', 'protection', 'protective', 'protein', 'proteins', 'protest', 'protocol', 'protocols', 'prototype', 'proud', 'proudly', 'prove', 'proved', 'proven', 'provide', 'provided', 'providence', 'provider', 'providers', 'provides', 'providing', 'province', 'provinces', 'provincial', 'provision', 'provisions', 'proxy', 'prozac', 'ps', 'psi', 'psp', 'pst', 'psychiatry', 'psychological', 'psychology', 'pt', 'pts', 'pty', 'pub', 'public', 'publication', 'publications', 'publicity', 'publicly', 'publish', 'published', 'publisher', 'publishers', 'publishing', 'pubmed', 'pubs', 'puerto', 'pull', 'pulled', 'pulling', 'pulse', 'pump', 'pumps', 'punch', 'punishment', 'punk', 'pupils', 'puppy', 'purchase', 'purchased', 'purchases', 'purchasing', 'pure', 'purple', 'purpose', 'purposes', 'purse', 'pursuant', 'pursue', 'pursuit', 'push', 'pushed', 'pushing', 'pussy', 'put', 'puts', 'putting', 'puzzle', 'puzzles', 'pvc', 'python', 'q', 'qatar', 'qc', 'qld', 'qt', 'qty', 'quad', 'qualification', 'qualifications', 'qualified', 'qualify', 'qualifying', 'qualities', 'quality', 'quantitative', 'quantities', 'quantity', 'quantum', 'quarter', 'quarterly', 'quarters', 'que', 'quebec', 'queen', 'queens', 'queensland', 'queries', 'query', 'quest', 'question', 'questionnaire', 'questions', 'queue', 'qui', 'quick', 'quickly', 'quiet', 'quilt', 'quit', 'quite', 'quiz', 'quizzes', 'quotations', 'quote', 'quoted', 'quotes', 'r', 'ra', 'rabbit', 'race', 'races', 'rachel', 'racial', 'racing', 'rack', 'racks', 'radar', 'radiation', 'radical', 'radio', 'radios', 'radius', 'rage', 'raid', 'rail', 'railroad', 'railway', 'rain', 'rainbow', 'raise', 'raised', 'raises', 'raising', 'raleigh', 'rally', 'ralph', 'ram', 'ran', 'ranch', 'rand', 'random', 'randy', 'range', 'rangers', 'ranges', 'ranging', 'rank', 'ranked', 'ranking', 'rankings', 'ranks', 'rap', 'rape', 'rapid', 'rapidly', 'rapids', 'rare', 'rarely', 'rat', 'rate', 'rated', 'rates', 'rather', 'rating', 'ratings', 'ratio', 'rational', 'ratios', 'rats', 'raw', 'ray', 'raymond', 'rays', 'rb', 'rc', 'rca', 'rd', 're', 'reach', 'reached', 'reaches', 'reaching', 'reaction', 'reactions', 'read', 'reader', 'readers', 'readily', 'reading', 'readings', 'reads', 'ready', 'real', 'realistic', 'reality', 'realize', 'realized', 'really', 'realm', 'realtor', 'realtors', 'realty', 'rear', 'reason', 'reasonable', 'reasonably', 'reasoning', 'reasons', 'rebate', 'rebates', 'rebecca', 'rebel', 'rebound', 'rec', 'recall', 'receipt', 'receive', 'received', 'receiver', 'receivers', 'receives', 'receiving', 'recent', 'recently', 'reception', 'receptor', 'receptors', 'recipe', 'recipes', 'recipient', 'recipients', 'recognised', 'recognition', 'recognize', 'recognized', 'recommend', 'recommendation', 'recommendations', 'recommended', 'recommends', 'reconstruction', 'record', 'recorded', 'recorder', 'recorders', 'recording', 'recordings', 'records', 'recover', 'recovered', 'recovery', 'recreation', 'recreational', 'recruiting', 'recruitment', 'recycling', 'red', 'redeem', 'redhead', 'reduce', 'reduced', 'reduces', 'reducing', 'reduction', 'reductions', 'reed', 'reef', 'reel', 'ref', 'refer', 'reference', 'referenced', 'references', 'referral', 'referrals', 'referred', 'referring', 'refers', 'refinance', 'refine', 'refined', 'reflect', 'reflected', 'reflection', 'reflections', 'reflects', 'reform', 'reforms', 'refresh', 'refrigerator', 'refugees', 'refund', 'refurbished', 'refuse', 'refused', 'reg', 'regard', 'regarded', 'regarding', 'regardless', 'regards', 'reggae', 'regime', 'region', 'regional', 'regions', 'register', 'registered', 'registrar', 'registration', 'registry', 'regression', 'regular', 'regularly', 'regulated', 'regulation', 'regulations', 'regulatory', 'rehab', 'rehabilitation', 'reid', 'reject', 'rejected', 'rel', 'relate', 'related', 'relates', 'relating', 'relation', 'relations', 'relationship', 'relationships', 'relative', 'relatively', 'relatives', 'relax', 'relaxation', 'relay', 'release', 'released', 'releases', 'relevance', 'relevant', 'reliability', 'reliable', 'reliance', 'relief', 'religion', 'religions', 'religious', 'reload', 'relocation', 'rely', 'relying', 'remain', 'remainder', 'remained', 'remaining', 'remains', 'remark', 'remarkable', 'remarks', 'remedies', 'remedy', 'remember', 'remembered', 'remind', 'reminder', 'remix', 'remote', 'removable', 'removal', 'remove', 'removed', 'removing', 'renaissance', 'render', 'rendered', 'rendering', 'renew', 'renewable', 'renewal', 'reno', 'rent', 'rental', 'rentals', 'rentcom', 'rep', 'repair', 'repairs', 'repeat', 'repeated', 'replace', 'replaced', 'replacement', 'replacing', 'replica', 'replication', 'replied', 'replies', 'reply', 'report', 'reported', 'reporter', 'reporters', 'reporting', 'reports', 'repository', 'represent', 'representation', 'representations', 'representative', 'representatives', 'represented', 'representing', 'represents', 'reprint', 'reprints', 'reproduce', 'reproduced', 'reproduction', 'reproductive', 'republic', 'republican', 'republicans', 'reputation', 'request', 'requested', 'requesting', 'requests', 'require', 'required', 'requirement', 'requirements', 'requires', 'requiring', 'res', 'rescue', 'research', 'researcher', 'researchers', 'reseller', 'reservation', 'reservations', 'reserve', 'reserved', 'reserves', 'reservoir', 'reset', 'residence', 'resident', 'residential', 'residents', 'resist', 'resistance', 'resistant', 'resolution', 'resolutions', 'resolve', 'resolved', 'resort', 'resorts', 'resource', 'resources', 'respect', 'respected', 'respective', 'respectively', 'respiratory', 'respond', 'responded', 'respondent', 'respondents', 'responding', 'response', 'responses', 'responsibilities', 'responsibility', 'responsible', 'rest', 'restaurant', 'restaurants', 'restoration', 'restore', 'restored', 'restrict', 'restricted', 'restriction', 'restrictions', 'restructuring', 'result', 'resulted', 'resulting', 'results', 'resume', 'resumes', 'retail', 'retailer', 'retailers', 'retain', 'retained', 'retention', 'retired', 'retirement', 'retreat', 'retrieval', 'retrieve', 'retrieved', 'retro', 'return', 'returned', 'returning', 'returns', 'reunion', 'reuters', 'rev', 'reveal', 'revealed', 'reveals', 'revelation', 'revenge', 'revenue', 'revenues', 'reverse', 'review', 'reviewed', 'reviewer', 'reviewing', 'reviews', 'revised', 'revision', 'revisions', 'revolution', 'revolutionary', 'reward', 'rewards', 'reynolds', 'rf', 'rfc', 'rg', 'rh', 'rhode', 'rhythm', 'ri', 'ribbon', 'rica', 'rice', 'rich', 'richard', 'richards', 'richardson', 'richmond', 'rick', 'rico', 'rid', 'ride', 'rider', 'riders', 'rides', 'ridge', 'riding', 'right', 'rights', 'rim', 'ring', 'rings', 'ringtone', 'ringtones', 'rio', 'rip', 'ripe', 'rise', 'rising', 'risk', 'risks', 'river', 'rivers', 'riverside', 'rj', 'rl', 'rm', 'rn', 'rna', 'ro', 'road', 'roads', 'rob', 'robert', 'roberts', 'robertson', 'robin', 'robinson', 'robot', 'robots', 'robust', 'rochester', 'rock', 'rocket', 'rocks', 'rocky', 'rod', 'roger', 'rogers', 'roland', 'role', 'roles', 'roll', 'rolled', 'roller', 'rolling', 'rolls', 'rom', 'roman', 'romance', 'romania', 'romantic', 'rome', 'ron', 'ronald', 'roof', 'room', 'roommate', 'roommates', 'rooms', 'root', 'roots', 'rope', 'rosa', 'rose', 'roses', 'ross', 'roster', 'rotary', 'rotation', 'rouge', 'rough', 'roughly', 'roulette', 'round', 'rounds', 'route', 'router', 'routers', 'routes', 'routine', 'routines', 'routing', 'rover', 'row', 'rows', 'roy', 'royal', 'royalty', 'rp', 'rpg', 'rpm', 'rr', 'rrp', 'rs', 'rss', 'rt', 'ru', 'rubber', 'ruby', 'rug', 'rugby', 'rugs', 'rule', 'ruled', 'rules', 'ruling', 'run', 'runner', 'running', 'runs', 'runtime', 'rural', 'rush', 'russell', 'russia', 'russian', 'ruth', 'rv', 'rw', 'rwanda', 'rx', 'ryan', 's', 'sa', 'sacramento', 'sacred', 'sacrifice', 'sad', 'saddam', 'safari', 'safe', 'safely', 'safer', 'safety', 'sage', 'sagem', 'said', 'sail', 'sailing', 'saint', 'saints', 'sake', 'salad', 'salaries', 'salary', 'sale', 'salem', 'sales', 'sally', 'salmon', 'salon', 'salt', 'salvador', 'salvation', 'sam', 'samba', 'same', 'samoa', 'sample', 'samples', 'sampling', 'samsung', 'samuel', 'san', 'sand', 'sandra', 'sandwich', 'sandy', 'sans', 'santa', 'sanyo', 'sao', 'sap', 'sapphire', 'sara', 'sarah', 'sas', 'saskatchewan', 'sat', 'satellite', 'satin', 'satisfaction', 'satisfactory', 'satisfied', 'satisfy', 'saturday', 'saturn', 'sauce', 'saudi', 'savage', 'savannah', 'save', 'saved', 'saver', 'saves', 'saving', 'savings', 'saw', 'say', 'saying', 'says', 'sb', 'sbjct', 'sc', 'scale', 'scales', 'scan', 'scanned', 'scanner', 'scanners', 'scanning', 'scary', 'scenario', 'scenarios', 'scene', 'scenes', 'scenic', 'schedule', 'scheduled', 'schedules', 'scheduling', 'schema', 'scheme', 'schemes', 'scholar', 'scholars', 'scholarship', 'scholarships', 'school', 'schools', 'sci', 'science', 'sciences', 'scientific', 'scientist', 'scientists', 'scoop', 'scope', 'score', 'scored', 'scores', 'scoring', 'scotia', 'scotland', 'scott', 'scottish', 'scout', 'scratch', 'screen', 'screening', 'screens', 'screensaver', 'screensavers', 'screenshot', 'screenshots', 'screw', 'script', 'scripting', 'scripts', 'scroll', 'scsi', 'scuba', 'sculpture', 'sd', 'se', 'sea', 'seafood', 'seal', 'sealed', 'sean', 'search', 'searchcom', 'searched', 'searches', 'searching', 'seas', 'season', 'seasonal', 'seasons', 'seat', 'seating', 'seats', 'seattle', 'sec', 'second', 'secondary', 'seconds', 'secret', 'secretariat', 'secretary', 'secrets', 'section', 'sections', 'sector', 'sectors', 'secure', 'secured', 'securely', 'securities', 'security', 'see', 'seed', 'seeds', 'seeing', 'seek', 'seeker', 'seekers', 'seeking', 'seeks', 'seem', 'seemed', 'seems', 'seen', 'sees', 'sega', 'segment', 'segments', 'select', 'selected', 'selecting', 'selection', 'selections', 'selective', 'self', 'sell', 'seller', 'sellers', 'selling', 'sells', 'semester', 'semi', 'semiconductor', 'seminar', 'seminars', 'sen', 'senate', 'senator', 'senators', 'send', 'sender', 'sending', 'sends', 'senegal', 'senior', 'seniors', 'sense', 'sensitive', 'sensitivity', 'sensor', 'sensors', 'sent', 'sentence', 'sentences', 'seo', 'sep', 'separate', 'separated', 'separately', 'separation', 'sept', 'september', 'seq', 'sequence', 'sequences', 'ser', 'serbia', 'serial', 'series', 'serious', 'seriously', 'serum', 'serve', 'served', 'server', 'servers', 'serves', 'service', 'services', 'serving', 'session', 'sessions', 'set', 'sets', 'setting', 'settings', 'settle', 'settled', 'settlement', 'setup', 'seven', 'seventh', 'several', 'severe', 'sewing', 'sex', 'sexcam', 'sexo', 'sexual', 'sexuality', 'sexually', 'sexy', 'sf', 'sg', 'sh', 'shade', 'shades', 'shadow', 'shadows', 'shaft', 'shake', 'shakespeare', 'shakira', 'shall', 'shame', 'shanghai', 'shannon', 'shape', 'shaped', 'shapes', 'share', 'shared', 'shareholders', 'shares', 'shareware', 'sharing', 'shark', 'sharon', 'sharp', 'shaved', 'shaw', 'she', 'shed', 'sheep', 'sheer', 'sheet', 'sheets', 'sheffield', 'shelf', 'shell', 'shelter', 'shemale', 'shemales', 'shepherd', 'sheriff', 'sherman', 'shield', 'shift', 'shine', 'ship', 'shipment', 'shipments', 'shipped', 'shipping', 'ships', 'shirt', 'shirts', 'shit', 'shock', 'shoe', 'shoes', 'shoot', 'shooting', 'shop', 'shopper', 'shoppercom', 'shoppers', 'shopping', 'shoppingcom', 'shops', 'shopzilla', 'shore', 'short', 'shortcuts', 'shorter', 'shortly', 'shorts', 'shot', 'shots', 'should', 'shoulder', 'show', 'showcase', 'showed', 'shower', 'showers', 'showing', 'shown', 'shows', 'showtimes', 'shut', 'shuttle', 'si', 'sic', 'sick', 'side', 'sides', 'sie', 'siemens', 'sierra', 'sig', 'sight', 'sigma', 'sign', 'signal', 'signals', 'signature', 'signatures', 'signed', 'significance', 'significant', 'significantly', 'signing', 'signs', 'signup', 'silence', 'silent', 'silicon', 'silk', 'silly', 'silver', 'sim', 'similar', 'similarly', 'simon', 'simple', 'simplified', 'simply', 'simpson', 'simpsons', 'sims', 'simulation', 'simulations', 'simultaneously', 'sin', 'since', 'sing', 'singapore', 'singer', 'singh', 'singing', 'single', 'singles', 'sink', 'sip', 'sir', 'sister', 'sisters', 'sit', 'site', 'sitemap', 'sites', 'sitting', 'situated', 'situation', 'situations', 'six', 'sixth', 'size', 'sized', 'sizes', 'sk', 'skating', 'ski', 'skiing', 'skill', 'skilled', 'skills', 'skin', 'skins', 'skip', 'skirt', 'skirts', 'sku', 'sky', 'skype', 'sl', 'slave', 'sleep', 'sleeping', 'sleeps', 'sleeve', 'slide', 'slides', 'slideshow', 'slight', 'slightly', 'slim', 'slip', 'slope', 'slot', 'slots', 'slovak', 'slovakia', 'slovenia', 'slow', 'slowly', 'slut', 'sluts', 'sm', 'small', 'smaller', 'smart', 'smell', 'smile', 'smilies', 'smith', 'smithsonian', 'smoke', 'smoking', 'smooth', 'sms', 'smtp', 'sn', 'snake', 'snap', 'snapshot', 'snow', 'snowboard', 'so', 'soa', 'soap', 'soc', 'soccer', 'social', 'societies', 'society', 'sociology', 'socket', 'socks', 'sodium', 'sofa', 'soft', 'softball', 'software', 'soil', 'sol', 'solar', 'solaris', 'sold', 'soldier', 'soldiers', 'sole', 'solely', 'solid', 'solo', 'solomon', 'solution', 'solutions', 'solve', 'solved', 'solving', 'soma', 'somalia', 'some', 'somebody', 'somehow', 'someone', 'somerset', 'something', 'sometimes', 'somewhat', 'somewhere', 'son', 'song', 'songs', 'sonic', 'sons', 'sony', 'soon', 'soonest', 'sophisticated', 'sorry', 'sort', 'sorted', 'sorts', 'sought', 'soul', 'souls', 'sound', 'sounds', 'soundtrack', 'soup', 'source', 'sources', 'south', 'southampton', 'southeast', 'southern', 'southwest', 'soviet', 'sox', 'sp', 'spa', 'space', 'spaces', 'spain', 'spam', 'span', 'spanish', 'spank', 'spanking', 'sparc', 'spare', 'spas', 'spatial', 'speak', 'speaker', 'speakers', 'speaking', 'speaks', 'spears', 'spec', 'special', 'specialist', 'specialists', 'specialized', 'specializing', 'specially', 'specials', 'specialties', 'specialty', 'species', 'specific', 'specifically', 'specification', 'specifications', 'specifics', 'specified', 'specifies', 'specify', 'specs', 'spectacular', 'spectrum', 'speech', 'speeches', 'speed', 'speeds', 'spell', 'spelling', 'spencer', 'spend', 'spending', 'spent', 'sperm', 'sphere', 'spice', 'spider', 'spies', 'spin', 'spine', 'spirit', 'spirits', 'spiritual', 'spirituality', 'split', 'spoke', 'spoken', 'spokesman', 'sponsor', 'sponsored', 'sponsors', 'sponsorship', 'sport', 'sporting', 'sports', 'spot', 'spotlight', 'spots', 'spouse', 'spray', 'spread', 'spreading', 'spring', 'springer', 'springfield', 'springs', 'sprint', 'spy', 'spyware', 'sq', 'sql', 'squad', 'square', 'squirt', 'squirting', 'sr', 'src', 'sri', 'ss', 'ssl', 'st', 'stability', 'stable', 'stack', 'stadium', 'staff', 'staffing', 'stage', 'stages', 'stainless', 'stakeholders', 'stamp', 'stamps', 'stan', 'stand', 'standard', 'standards', 'standing', 'standings', 'stands', 'stanford', 'stanley', 'star', 'starring', 'stars', 'starsmerchant', 'start', 'started', 'starter', 'starting', 'starts', 'startup', 'stat', 'state', 'stated', 'statement', 'statements', 'states', 'statewide', 'static', 'stating', 'station', 'stationery', 'stations', 'statistical', 'statistics', 'stats', 'status', 'statute', 'statutes', 'statutory', 'stay', 'stayed', 'staying', 'stays', 'std', 'ste', 'steady', 'steal', 'steam', 'steel', 'steering', 'stem', 'step', 'stephanie', 'stephen', 'steps', 'stereo', 'sterling', 'steve', 'steven', 'stevens', 'stewart', 'stick', 'sticker', 'stickers', 'sticks', 'sticky', 'still', 'stock', 'stockholm', 'stockings', 'stocks', 'stolen', 'stomach', 'stone', 'stones', 'stood', 'stop', 'stopped', 'stopping', 'stops', 'storage', 'store', 'stored', 'stores', 'stories', 'storm', 'story', 'str', 'straight', 'strain', 'strand', 'strange', 'stranger', 'strap', 'strategic', 'strategies', 'strategy', 'stream', 'streaming', 'streams', 'street', 'streets', 'strength', 'strengthen', 'strengthening', 'strengths', 'stress', 'stretch', 'strict', 'strictly', 'strike', 'strikes', 'striking', 'string', 'strings', 'strip', 'stripes', 'strips', 'stroke', 'strong', 'stronger', 'strongly', 'struck', 'struct', 'structural', 'structure', 'structured', 'structures', 'struggle', 'stuart', 'stuck', 'stud', 'student', 'students', 'studied', 'studies', 'studio', 'studios', 'study', 'studying', 'stuff', 'stuffed', 'stunning', 'stupid', 'style', 'styles', 'stylish', 'stylus', 'su', 'sub', 'subaru', 'subcommittee', 'subdivision', 'subject', 'subjects', 'sublime', 'sublimedirectory', 'submission', 'submissions', 'submit', 'submitted', 'submitting', 'subscribe', 'subscriber', 'subscribers', 'subscription', 'subscriptions', 'subsection', 'subsequent', 'subsequently', 'subsidiaries', 'subsidiary', 'substance', 'substances', 'substantial', 'substantially', 'substitute', 'subtle', 'suburban', 'succeed', 'success', 'successful', 'successfully', 'such', 'suck', 'sucking', 'sucks', 'sudan', 'sudden', 'suddenly', 'sue', 'suffer', 'suffered', 'suffering', 'sufficient', 'sufficiently', 'sugar', 'suggest', 'suggested', 'suggesting', 'suggestion', 'suggestions', 'suggests', 'suicide', 'suit', 'suitable', 'suite', 'suited', 'suites', 'suits', 'sullivan', 'sum', 'summaries', 'summary', 'summer', 'summit', 'sun', 'sunday', 'sunglasses', 'sunny', 'sunrise', 'sunset', 'sunshine', 'super', 'superb', 'superintendent', 'superior', 'supervision', 'supervisor', 'supervisors', 'supplement', 'supplemental', 'supplements', 'supplied', 'supplier', 'suppliers', 'supplies', 'supply', 'support', 'supported', 'supporters', 'supporting', 'supports', 'suppose', 'supposed', 'supreme', 'sur', 'sure', 'surely', 'surf', 'surface', 'surfaces', 'surfing', 'surge', 'surgeon', 'surgeons', 'surgery', 'surgical', 'surname', 'surplus', 'surprise', 'surprised', 'surprising', 'surrey', 'surround', 'surrounded', 'surrounding', 'surveillance', 'survey', 'surveys', 'survival', 'survive', 'survivor', 'survivors', 'susan', 'suse', 'suspect', 'suspected', 'suspended', 'suspension', 'sussex', 'sustainability', 'sustainable', 'sustained', 'suzuki', 'sv', 'sw', 'swap', 'sweden', 'swedish', 'sweet', 'swift', 'swim', 'swimming', 'swing', 'swingers', 'swiss', 'switch', 'switched', 'switches', 'switching', 'switzerland', 'sword', 'sydney', 'symantec', 'symbol', 'symbols', 'sympathy', 'symphony', 'symposium', 'symptoms', 'sync', 'syndicate', 'syndication', 'syndrome', 'synopsis', 'syntax', 'synthesis', 'synthetic', 'syracuse', 'syria', 'sys', 'system', 'systematic', 'systems', 't', 'ta', 'tab', 'table', 'tables', 'tablet', 'tablets', 'tabs', 'tackle', 'tactics', 'tag', 'tagged', 'tags', 'tahoe', 'tail', 'taiwan', 'take', 'taken', 'takes', 'taking', 'tale', 'talent', 'talented', 'tales', 'talk', 'talked', 'talking', 'talks', 'tall', 'tamil', 'tampa', 'tan', 'tank', 'tanks', 'tanzania', 'tap', 'tape', 'tapes', 'tar', 'target', 'targeted', 'targets', 'tariff', 'task', 'tasks', 'taste', 'tattoo', 'taught', 'tax', 'taxation', 'taxes', 'taxi', 'taylor', 'tb', 'tba', 'tc', 'tcp', 'td', 'te', 'tea', 'teach', 'teacher', 'teachers', 'teaches', 'teaching', 'team', 'teams', 'tear', 'tears', 'tech', 'technical', 'technician', 'technique', 'techniques', 'techno', 'technological', 'technologies', 'technology', 'techrepublic', 'ted', 'teddy', 'tee', 'teen', 'teenage', 'teens', 'teeth', 'tel', 'telecharger', 'telecom', 'telecommunications', 'telephone', 'telephony', 'telescope', 'television', 'televisions', 'tell', 'telling', 'tells', 'temp', 'temperature', 'temperatures', 'template', 'templates', 'temple', 'temporal', 'temporarily', 'temporary', 'ten', 'tenant', 'tend', 'tender', 'tennessee', 'tennis', 'tension', 'tent', 'term', 'terminal', 'terminals', 'termination', 'terminology', 'terms', 'terrace', 'terrain', 'terrible', 'territories', 'territory', 'terror', 'terrorism', 'terrorist', 'terrorists', 'terry', 'test', 'testament', 'tested', 'testimonials', 'testimony', 'testing', 'tests', 'tex', 'texas', 'text', 'textbook', 'textbooks', 'textile', 'textiles', 'texts', 'texture', 'tf', 'tft', 'tgp', 'th', 'thai', 'thailand', 'than', 'thank', 'thanks', 'thanksgiving', 'that', 'thats', 'the', 'theater', 'theaters', 'theatre', 'thee', 'theft', 'thehun', 'their', 'them', 'theme', 'themes', 'themselves', 'then', 'theology', 'theorem', 'theoretical', 'theories', 'theory', 'therapeutic', 'therapist', 'therapy', 'there', 'thereafter', 'thereby', 'therefore', 'thereof', 'thermal', 'thesaurus', 'these', 'thesis', 'they', 'thick', 'thickness', 'thin', 'thing', 'things', 'think', 'thinking', 'thinkpad', 'thinks', 'third', 'thirty', 'this', 'thomas', 'thompson', 'thomson', 'thong', 'thongs', 'thorough', 'thoroughly', 'those', 'thou', 'though', 'thought', 'thoughts', 'thousand', 'thousands', 'thread', 'threaded', 'threads', 'threat', 'threatened', 'threatening', 'threats', 'three', 'threesome', 'threshold', 'thriller', 'throat', 'through', 'throughout', 'throw', 'throwing', 'thrown', 'throws', 'thru', 'thu', 'thumb', 'thumbnail', 'thumbnails', 'thumbs', 'thumbzilla', 'thunder', 'thursday', 'thus', 'thy', 'ti', 'ticket', 'tickets', 'tide', 'tie', 'tied', 'tier', 'ties', 'tiffany', 'tiger', 'tigers', 'tight', 'til', 'tile', 'tiles', 'till', 'tim', 'timber', 'time', 'timeline', 'timely', 'timer', 'times', 'timing', 'timothy', 'tin', 'tiny', 'tion', 'tions', 'tip', 'tips', 'tire', 'tired', 'tires', 'tissue', 'tit', 'titanium', 'titans', 'title', 'titled', 'titles', 'tits', 'titten', 'tm', 'tmp', 'tn', 'to', 'tobacco', 'tobago', 'today', 'todd', 'toddler', 'toe', 'together', 'toilet', 'token', 'tokyo', 'told', 'tolerance', 'toll', 'tom', 'tomato', 'tomatoes', 'tommy', 'tomorrow', 'ton', 'tone', 'toner', 'tones', 'tongue', 'tonight', 'tons', 'tony', 'too', 'took', 'tool', 'toolbar', 'toolbox', 'toolkit', 'tools', 'tooth', 'top', 'topic', 'topics', 'topless', 'tops', 'toronto', 'torture', 'toshiba', 'total', 'totally', 'totals', 'touch', 'touched', 'tough', 'tour', 'touring', 'tourism', 'tourist', 'tournament', 'tournaments', 'tours', 'toward', 'towards', 'tower', 'towers', 'town', 'towns', 'township', 'toxic', 'toy', 'toyota', 'toys', 'tp', 'tr', 'trace', 'track', 'trackback', 'trackbacks', 'tracked', 'tracker', 'tracking', 'tracks', 'tract', 'tractor', 'tracy', 'trade', 'trademark', 'trademarks', 'trader', 'trades', 'trading', 'tradition', 'traditional', 'traditions', 'traffic', 'tragedy', 'trail', 'trailer', 'trailers', 'trails', 'train', 'trained', 'trainer', 'trainers', 'training', 'trains', 'tramadol', 'trance', 'tranny', 'trans', 'transaction', 'transactions', 'transcript', 'transcription', 'transcripts', 'transexual', 'transexuales', 'transfer', 'transferred', 'transfers', 'transform', 'transformation', 'transit', 'transition', 'translate', 'translated', 'translation', 'translations', 'translator', 'transmission', 'transmit', 'transmitted', 'transparency', 'transparent', 'transport', 'transportation', 'transsexual', 'trap', 'trash', 'trauma', 'travel', 'traveler', 'travelers', 'traveling', 'traveller', 'travelling', 'travels', 'travesti', 'travis', 'tray', 'treasure', 'treasurer', 'treasures', 'treasury', 'treat', 'treated', 'treating', 'treatment', 'treatments', 'treaty', 'tree', 'trees', 'trek', 'trembl', 'tremendous', 'trend', 'trends', 'treo', 'tri', 'trial', 'trials', 'triangle', 'tribal', 'tribe', 'tribes', 'tribunal', 'tribune', 'tribute', 'trick', 'tricks', 'tried', 'tries', 'trigger', 'trim', 'trinidad', 'trinity', 'trio', 'trip', 'tripadvisor', 'triple', 'trips', 'triumph', 'trivia', 'troops', 'tropical', 'trouble', 'troubleshooting', 'trout', 'troy', 'truck', 'trucks', 'true', 'truly', 'trunk', 'trust', 'trusted', 'trustee', 'trustees', 'trusts', 'truth', 'try', 'trying', 'ts', 'tsunami', 'tt', 'tu', 'tub', 'tube', 'tubes', 'tucson', 'tue', 'tuesday', 'tuition', 'tulsa', 'tumor', 'tune', 'tuner', 'tunes', 'tuning', 'tunisia', 'tunnel', 'turbo', 'turkey', 'turkish', 'turn', 'turned', 'turner', 'turning', 'turns', 'turtle', 'tutorial', 'tutorials', 'tv', 'tvcom', 'tvs', 'twelve', 'twenty', 'twice', 'twiki', 'twin', 'twinks', 'twins', 'twist', 'twisted', 'two', 'tx', 'ty', 'tyler', 'type', 'types', 'typical', 'typically', 'typing', 'u', 'uc', 'uganda', 'ugly', 'uh', 'ui', 'uk', 'ukraine', 'ul', 'ultimate', 'ultimately', 'ultra', 'ultram', 'um', 'un', 'una', 'unable', 'unauthorized', 'unavailable', 'uncertainty', 'uncle', 'und', 'undefined', 'under', 'undergraduate', 'underground', 'underlying', 'understand', 'understanding', 'understood', 'undertake', 'undertaken', 'underwear', 'undo', 'une', 'unemployment', 'unexpected', 'unfortunately', 'uni', 'unified', 'uniform', 'union', 'unions', 'uniprotkb', 'unique', 'unit', 'united', 'units', 'unity', 'univ', 'universal', 'universe', 'universities', 'university', 'unix', 'unknown', 'unless', 'unlike', 'unlikely', 'unlimited', 'unlock', 'unnecessary', 'unsigned', 'unsubscribe', 'until', 'untitled', 'unto', 'unusual', 'unwrap', 'up', 'upc', 'upcoming', 'update', 'updated', 'updates', 'updating', 'upgrade', 'upgrades', 'upgrading', 'upload', 'uploaded', 'upon', 'upper', 'ups', 'upset', 'upskirt', 'upskirts', 'ur', 'urban', 'urge', 'urgent', 'uri', 'url', 'urls', 'uruguay', 'urw', 'us', 'usa', 'usage', 'usb', 'usc', 'usd', 'usda', 'use', 'used', 'useful', 'user', 'username', 'users', 'uses', 'usgs', 'using', 'usps', 'usr', 'usual', 'usually', 'ut', 'utah', 'utc', 'utilities', 'utility', 'utilization', 'utilize', 'utils', 'uv', 'uw', 'uzbekistan', 'v', 'va', 'vacancies', 'vacation', 'vacations', 'vaccine', 'vacuum', 'vagina', 'val', 'valentine', 'valid', 'validation', 'validity', 'valium', 'valley', 'valuable', 'valuation', 'value', 'valued', 'values', 'valve', 'valves', 'vampire', 'van', 'vancouver', 'vanilla', 'var', 'variable', 'variables', 'variance', 'variation', 'variations', 'varied', 'varies', 'variety', 'various', 'vary', 'varying', 'vast', 'vat', 'vatican', 'vault', 'vb', 'vbulletin', 'vc', 'vcr', 've', 'vector', 'vegas', 'vegetable', 'vegetables', 'vegetarian', 'vegetation', 'vehicle', 'vehicles', 'velocity', 'velvet', 'vendor', 'vendors', 'venezuela', 'venice', 'venture', 'ventures', 'venue', 'venues', 'ver', 'verbal', 'verde', 'verification', 'verified', 'verify', 'verizon', 'vermont', 'vernon', 'verse', 'version', 'versions', 'versus', 'vertex', 'vertical', 'very', 'verzeichnis', 'vessel', 'vessels', 'veteran', 'veterans', 'veterinary', 'vg', 'vhs', 'vi', 'via', 'viagra', 'vibrator', 'vibrators', 'vic', 'vice', 'victim', 'victims', 'victor', 'victoria', 'victorian', 'victory', 'vid', 'video', 'videos', 'vids', 'vienna', 'vietnam', 'vietnamese', 'view', 'viewed', 'viewer', 'viewers', 'viewing', 'viewpicture', 'views', 'vii', 'viii', 'viking', 'villa', 'village', 'villages', 'villas', 'vincent', 'vintage', 'vinyl', 'violation', 'violations', 'violence', 'violent', 'violin', 'vip', 'viral', 'virgin', 'virginia', 'virtual', 'virtually', 'virtue', 'virus', 'viruses', 'visa', 'visibility', 'visible', 'vision', 'visit', 'visited', 'visiting', 'visitor', 'visitors', 'visits', 'vista', 'visual', 'vital', 'vitamin', 'vitamins', 'vocabulary', 'vocal', 'vocals', 'vocational', 'voice', 'voices', 'void', 'voip', 'vol', 'volkswagen', 'volleyball', 'volt', 'voltage', 'volume', 'volumes', 'voluntary', 'volunteer', 'volunteers', 'volvo', 'von', 'vote', 'voted', 'voters', 'votes', 'voting', 'voyeur', 'voyeurweb', 'voyuer', 'vp', 'vpn', 'vs', 'vsnet', 'vt', 'vulnerability', 'vulnerable', 'w', 'wa', 'wage', 'wages', 'wagner', 'wagon', 'wait', 'waiting', 'waiver', 'wake', 'wal', 'wales', 'walk', 'walked', 'walker', 'walking', 'walks', 'wall', 'wallace', 'wallet', 'wallpaper', 'wallpapers', 'walls', 'walnut', 'walt', 'walter', 'wan', 'wang', 'wanna', 'want', 'wanted', 'wanting', 'wants', 'war', 'warcraft', 'ward', 'ware', 'warehouse', 'warm', 'warming', 'warned', 'warner', 'warning', 'warnings', 'warrant', 'warranties', 'warranty', 'warren', 'warrior', 'warriors', 'wars', 'was', 'wash', 'washer', 'washing', 'washington', 'waste', 'watch', 'watched', 'watches', 'watching', 'water', 'waterproof', 'waters', 'watershed', 'watson', 'watt', 'watts', 'wav', 'wave', 'waves', 'wax', 'way', 'wayne', 'ways', 'wb', 'wc', 'we', 'weak', 'wealth', 'weapon', 'weapons', 'wear', 'wearing', 'weather', 'web', 'webcam', 'webcams', 'webcast', 'weblog', 'weblogs', 'webmaster', 'webmasters', 'webpage', 'webshots', 'website', 'websites', 'webster', 'wed', 'wedding', 'weddings', 'wednesday', 'weed', 'week', 'weekend', 'weekends', 'weekly', 'weeks', 'weight', 'weighted', 'weights', 'weird', 'welcome', 'welding', 'welfare', 'well', 'wellington', 'wellness', 'wells', 'welsh', 'wendy', 'went', 'were', 'wesley', 'west', 'western', 'westminster', 'wet', 'whale', 'what', 'whatever', 'whats', 'wheat', 'wheel', 'wheels', 'when', 'whenever', 'where', 'whereas', 'wherever', 'whether', 'which', 'while', 'whilst', 'white', 'who', 'whole', 'wholesale', 'whom', 'whore', 'whose', 'why', 'wi', 'wichita', 'wicked', 'wide', 'widely', 'wider', 'widescreen', 'widespread', 'width', 'wife', 'wifi', 'wiki', 'wikipedia', 'wild', 'wilderness', 'wildlife', 'wiley', 'will', 'william', 'williams', 'willing', 'willow', 'wilson', 'win', 'wind', 'window', 'windows', 'winds', 'windsor', 'wine', 'wines', 'wing', 'wings', 'winner', 'winners', 'winning', 'wins', 'winston', 'winter', 'wire', 'wired', 'wireless', 'wires', 'wiring', 'wisconsin', 'wisdom', 'wise', 'wish', 'wishes', 'wishlist', 'wit', 'witch', 'with', 'withdrawal', 'within', 'without', 'witness', 'witnesses', 'wives', 'wizard', 'wm', 'wma', 'wn', 'wolf', 'woman', 'women', 'womens', 'won', 'wonder', 'wonderful', 'wondering', 'wood', 'wooden', 'woods', 'wool', 'worcester', 'word', 'wordpress', 'words', 'work', 'worked', 'worker', 'workers', 'workflow', 'workforce', 'working', 'workout', 'workplace', 'works', 'workshop', 'workshops', 'workstation', 'world', 'worldcat', 'worlds', 'worldsex', 'worldwide', 'worm', 'worn', 'worried', 'worry', 'worse', 'worship', 'worst', 'worth', 'worthy', 'would', 'wound', 'wow', 'wp', 'wr', 'wrap', 'wrapped', 'wrapping', 'wrestling', 'wright', 'wrist', 'write', 'writer', 'writers', 'writes', 'writing', 'writings', 'written', 'wrong', 'wrote', 'ws', 'wt', 'wto', 'wu', 'wv', 'ww', 'www', 'wx', 'wy', 'wyoming', 'x', 'xanax', 'xbox', 'xerox', 'xhtml', 'xi', 'xl', 'xml', 'xnxx', 'xp', 'xx', 'xxx', 'y', 'ya', 'yacht', 'yahoo', 'yale', 'yamaha', 'yang', 'yard', 'yards', 'yarn', 'ye', 'yea', 'yeah', 'year', 'yearly', 'years', 'yeast', 'yellow', 'yemen', 'yen', 'yes', 'yesterday', 'yet', 'yield', 'yields', 'yn', 'yo', 'yoga', 'york', 'yorkshire', 'you', 'young', 'younger', 'your', 'yours', 'yourself', 'youth', 'yr', 'yrs', 'yu', 'yugoslavia', 'yukon', 'z', 'za', 'zambia', 'zdnet', 'zealand', 'zen', 'zero', 'zimbabwe', 'zinc', 'zip', 'zoloft', 'zone', 'zones', 'zoning', 'zoo', 'zoom', 'zoophilia', 'zope', 'zshops', 'zu', 'zum', 'zus']\n",
      "aaa :  Word is ordered\n",
      "abc :  Word is ordered\n",
      "abs :  Word is ordered\n",
      "abu :  Word is ordered\n",
      "acc :  Word is ordered\n",
      "accent :  Word is ordered\n",
      "accept :  Word is ordered\n",
      "access :  Word is ordered\n",
      "ace :  Word is ordered\n",
      "acer :  Word is ordered\n",
      "acm :  Word is ordered\n",
      "act :  Word is ordered\n",
      "add :  Word is ordered\n",
      "adds :  Word is ordered\n",
      "adopt :  Word is ordered\n",
      "ads :  Word is ordered\n",
      "ago :  Word is ordered\n",
      "aim :  Word is ordered\n",
      "aims :  Word is ordered\n",
      "air :  Word is ordered\n",
      "all :  Word is ordered\n",
      "allow :  Word is ordered\n",
      "alloy :  Word is ordered\n",
      "almost :  Word is ordered\n",
      "alot :  Word is ordered\n",
      "alt :  Word is ordered\n",
      "amp :  Word is ordered\n",
      "amy :  Word is ordered\n",
      "ann :  Word is ordered\n",
      "ant :  Word is ordered\n",
      "any :  Word is ordered\n",
      "app :  Word is ordered\n",
      "apps :  Word is ordered\n",
      "apr :  Word is ordered\n",
      "apt :  Word is ordered\n",
      "art :  Word is ordered\n",
      "ass :  Word is ordered\n",
      "bbc :  Word is ordered\n",
      "bbs :  Word is ordered\n",
      "bbw :  Word is ordered\n",
      "bee :  Word is ordered\n",
      "beef :  Word is ordered\n",
      "been :  Word is ordered\n",
      "beer :  Word is ordered\n",
      "begin :  Word is ordered\n",
      "begins :  Word is ordered\n",
      "bell :  Word is ordered\n",
      "belly :  Word is ordered\n",
      "below :  Word is ordered\n",
      "belt :  Word is ordered\n",
      "ben :  Word is ordered\n",
      "benz :  Word is ordered\n",
      "berry :  Word is ordered\n",
      "best :  Word is ordered\n",
      "bet :  Word is ordered\n",
      "betty :  Word is ordered\n",
      "bill :  Word is ordered\n",
      "bills :  Word is ordered\n",
      "billy :  Word is ordered\n",
      "bin :  Word is ordered\n",
      "bio :  Word is ordered\n",
      "bios :  Word is ordered\n",
      "bit :  Word is ordered\n",
      "biz :  Word is ordered\n",
      "blow :  Word is ordered\n",
      "bmw :  Word is ordered\n",
      "boost :  Word is ordered\n",
      "boot :  Word is ordered\n",
      "booty :  Word is ordered\n",
      "boss :  Word is ordered\n",
      "bow :  Word is ordered\n",
      "box :  Word is ordered\n",
      "boy :  Word is ordered\n",
      "buy :  Word is ordered\n",
      "buzz :  Word is ordered\n",
      "ccd :  Word is ordered\n",
      "cds :  Word is ordered\n",
      "cdt :  Word is ordered\n",
      "cell :  Word is ordered\n",
      "cells :  Word is ordered\n",
      "cent :  Word is ordered\n",
      "ceo :  Word is ordered\n",
      "cest :  Word is ordered\n",
      "cet :  Word is ordered\n",
      "cfr :  Word is ordered\n",
      "cgi :  Word is ordered\n",
      "chi :  Word is ordered\n",
      "chip :  Word is ordered\n",
      "chips :  Word is ordered\n",
      "cho :  Word is ordered\n",
      "cio :  Word is ordered\n",
      "cir :  Word is ordered\n",
      "city :  Word is ordered\n",
      "cms :  Word is ordered\n",
      "cnn :  Word is ordered\n",
      "cop :  Word is ordered\n",
      "copy :  Word is ordered\n",
      "cos :  Word is ordered\n",
      "cost :  Word is ordered\n",
      "cow :  Word is ordered\n",
      "cox :  Word is ordered\n",
      "cpu :  Word is ordered\n",
      "cruz :  Word is ordered\n",
      "cry :  Word is ordered\n",
      "css :  Word is ordered\n",
      "cst :  Word is ordered\n",
      "ddr :  Word is ordered\n",
      "dee :  Word is ordered\n",
      "deep :  Word is ordered\n",
      "deer :  Word is ordered\n",
      "def :  Word is ordered\n",
      "del :  Word is ordered\n",
      "dell :  Word is ordered\n",
      "dem :  Word is ordered\n",
      "demo :  Word is ordered\n",
      "den :  Word is ordered\n",
      "deny :  Word is ordered\n",
      "dept :  Word is ordered\n",
      "der :  Word is ordered\n",
      "des :  Word is ordered\n",
      "dev :  Word is ordered\n",
      "dim :  Word is ordered\n",
      "dip :  Word is ordered\n",
      "dir :  Word is ordered\n",
      "dirt :  Word is ordered\n",
      "dirty :  Word is ordered\n",
      "dis :  Word is ordered\n",
      "dist :  Word is ordered\n",
      "div :  Word is ordered\n",
      "divx :  Word is ordered\n",
      "diy :  Word is ordered\n",
      "dns :  Word is ordered\n",
      "door :  Word is ordered\n",
      "doors :  Word is ordered\n",
      "dos :  Word is ordered\n",
      "dot :  Word is ordered\n",
      "dow :  Word is ordered\n",
      "dry :  Word is ordered\n",
      "effort :  Word is ordered\n",
      "egg :  Word is ordered\n",
      "eggs :  Word is ordered\n",
      "empty :  Word is ordered\n",
      "ent :  Word is ordered\n",
      "eos :  Word is ordered\n",
      "est :  Word is ordered\n",
      "fill :  Word is ordered\n",
      "film :  Word is ordered\n",
      "films :  Word is ordered\n",
      "fin :  Word is ordered\n",
      "first :  Word is ordered\n",
      "fist :  Word is ordered\n",
      "fit :  Word is ordered\n",
      "fix :  Word is ordered\n",
      "floor :  Word is ordered\n",
      "floors :  Word is ordered\n",
      "floppy :  Word is ordered\n",
      "flow :  Word is ordered\n",
      "flu :  Word is ordered\n",
      "flux :  Word is ordered\n",
      "fly :  Word is ordered\n",
      "foo :  Word is ordered\n",
      "foot :  Word is ordered\n",
      "for :  Word is ordered\n",
      "fort :  Word is ordered\n",
      "forty :  Word is ordered\n",
      "fox :  Word is ordered\n",
      "ghost :  Word is ordered\n",
      "ghz :  Word is ordered\n",
      "gis :  Word is ordered\n",
      "glory :  Word is ordered\n",
      "glow :  Word is ordered\n",
      "gmt :  Word is ordered\n",
      "gnu :  Word is ordered\n",
      "got :  Word is ordered\n",
      "gov :  Word is ordered\n",
      "gps :  Word is ordered\n",
      "gst :  Word is ordered\n",
      "guy :  Word is ordered\n",
      "hill :  Word is ordered\n",
      "hills :  Word is ordered\n",
      "him :  Word is ordered\n",
      "hint :  Word is ordered\n",
      "hip :  Word is ordered\n",
      "his :  Word is ordered\n",
      "hist :  Word is ordered\n",
      "hit :  Word is ordered\n",
      "hiv :  Word is ordered\n",
      "hop :  Word is ordered\n",
      "host :  Word is ordered\n",
      "hot :  Word is ordered\n",
      "how :  Word is ordered\n",
      "hrs :  Word is ordered\n",
      "hwy :  Word is ordered\n",
      "iii :  Word is ordered\n",
      "ill :  Word is ordered\n",
      "inn :  Word is ordered\n",
      "inns :  Word is ordered\n",
      "ins :  Word is ordered\n",
      "int :  Word is ordered\n",
      "ips :  Word is ordered\n",
      "irs :  Word is ordered\n",
      "ist :  Word is ordered\n",
      "joy :  Word is ordered\n",
      "know :  Word is ordered\n",
      "llp :  Word is ordered\n",
      "loop :  Word is ordered\n",
      "loops :  Word is ordered\n",
      "los :  Word is ordered\n",
      "loss :  Word is ordered\n",
      "lost :  Word is ordered\n",
      "lot :  Word is ordered\n",
      "lou :  Word is ordered\n",
      "low :  Word is ordered\n",
      "moss :  Word is ordered\n",
      "most :  Word is ordered\n",
      "mrs :  Word is ordered\n",
      "mtv :  Word is ordered\n",
      "nor :  Word is ordered\n",
      "nos :  Word is ordered\n",
      "not :  Word is ordered\n",
      "nov :  Word is ordered\n",
      "now :  Word is ordered\n",
      "nsw :  Word is ordered\n",
      "ooo :  Word is ordered\n",
      "oops :  Word is ordered\n",
      "opt :  Word is ordered\n",
      "pst :  Word is ordered\n",
      "pty :  Word is ordered\n",
      "qty :  Word is ordered\n",
      "rss :  Word is ordered\n",
      "www :  Word is ordered\n",
      "xxx :  Word is ordered\n"
     ]
    }
   ],
   "source": [
    "# Python program to find ordered words \n",
    "import requests \n",
    "  \n",
    "# Scrapes the words from the URL below and stores  \n",
    "# them in a list \n",
    "def getWords(): \n",
    "  \n",
    "    # contains about 2500 words \n",
    "    url = \"https://www.mit.edu/~ecprice/wordlist.10000\"\n",
    "    fetchData = requests.get(url) \n",
    "  \n",
    "    # extracts the content of the webpage \n",
    "    wordList = fetchData.content \n",
    "    print(wordList)\n",
    "    # decodes the UTF-8 encoded text and splits the  \n",
    "    # string to turn it into a list of words \n",
    "    wordList = wordList.decode(\"utf-8\").split() \n",
    "    print(wordList)\n",
    "    return wordList \n",
    "  \n",
    "  \n",
    "# function to determine whether a word is ordered or not \n",
    "def isOrdered(): \n",
    "  \n",
    "    # fetching the wordList \n",
    "    collection = getWords() \n",
    "  \n",
    "    \n",
    "    word = '' \n",
    "  \n",
    "    for word in collection: \n",
    "        result = 'Word is ordered'\n",
    "        i = 0\n",
    "        l = len(word) - 1\n",
    "  \n",
    "        if (len(word) < 3): # skips the 1 and 2 lettered strings \n",
    "            continue\n",
    "  \n",
    "        # traverses through all characters of the word in pairs \n",
    "        while i < l:          \n",
    "            if (ord(word[i]) > ord(word[i+1])): \n",
    "                result = 'Word is not ordered'\n",
    "                break\n",
    "            else: \n",
    "                i += 1\n",
    "  \n",
    "        # only printing the ordered words \n",
    "        if (result == 'Word is ordered'): \n",
    "            print(word,': ',result) \n",
    "  \n",
    "  \n",
    "# execute isOrdered() function \n",
    "if __name__ == '__main__': \n",
    "    isOrdered() "
   ]
  },
  {
   "cell_type": "code",
   "execution_count": 44,
   "metadata": {},
   "outputs": [
    {
     "name": "stdout",
     "output_type": "stream",
     "text": [
      "1 2\n",
      "1 2\n",
      "me\n",
      "goal\n"
     ]
    }
   ],
   "source": [
    "# Function to print words which can be created \n",
    "# using given set of characters \n",
    " \n",
    "  \n",
    "def charCount(word): \n",
    "    \n",
    "    dict = {} \n",
    "    for i in word: \n",
    "        dict[i] = dict.get(i, 0) + 1\n",
    "   \n",
    "    return dict\n",
    "  \n",
    "  \n",
    "def possible_words(lwords, charSet): \n",
    "    \n",
    "    for word in lwords: \n",
    "        flag = 1\n",
    "        chars = charCount(word) \n",
    "        \n",
    "        for key in chars: \n",
    "            if key not in charSet: \n",
    "                flag = 0\n",
    "            else: \n",
    "                if charSet.count(key) != chars[key]: \n",
    "                    flag = 0\n",
    "                    print(charSet.count(key) ,chars[key])\n",
    "        if flag == 1:\n",
    "            \n",
    "            print(word) \n",
    "  \n",
    "if __name__ == \"__main__\": \n",
    "    input = ['goo', 'baat', 'me', 'eat', 'goal', 'boy', 'run'] \n",
    "    charSet = ['e', 'o', 'b', 'a', 'm', 'g', 'l'] \n",
    "    possible_words(input, charSet) "
   ]
  },
  {
   "cell_type": "code",
   "execution_count": 47,
   "metadata": {},
   "outputs": [
    {
     "name": "stdout",
     "output_type": "stream",
     "text": [
      "[(1, 1), (2, 8), (5, 125), (6, 216)]\n"
     ]
    }
   ],
   "source": [
    "# Python program to create a list of tuples \n",
    "# from given list having number and \n",
    "# its cube in each tuple \n",
    "  \n",
    "# creating a list \n",
    "list1 = [1, 2, 5, 6] \n",
    "  \n",
    "# using list comprehension to iterate each \n",
    "# values in list and create a tuple as specified \n",
    "res = [ (val,pow(val, 3)) for val in list1] \n",
    "  \n",
    "# print the result \n",
    "print(res) "
   ]
  },
  {
   "cell_type": "code",
   "execution_count": 57,
   "metadata": {},
   "outputs": [
    {
     "name": "stdout",
     "output_type": "stream",
     "text": [
      "0\n",
      "[('is', 10), ('for', 24), ('geeks', 28), ('geeksforgeeks', 5), ('portal', 20), ('a', 15)]\n",
      "[('is', 10), ('for', 24), ('geeksforgeeks', 5), ('geeks', 28), ('portal', 20), ('a', 15)]\n",
      "[('is', 10), ('for', 24), ('geeksforgeeks', 5), ('portal', 20), ('geeks', 28), ('a', 15)]\n",
      "[('is', 10), ('for', 24), ('geeksforgeeks', 5), ('portal', 20), ('a', 15), ('geeks', 28)]\n",
      "1\n",
      "[('is', 10), ('geeksforgeeks', 5), ('for', 24), ('portal', 20), ('a', 15), ('geeks', 28)]\n",
      "[('is', 10), ('geeksforgeeks', 5), ('portal', 20), ('for', 24), ('a', 15), ('geeks', 28)]\n",
      "[('is', 10), ('geeksforgeeks', 5), ('portal', 20), ('a', 15), ('for', 24), ('geeks', 28)]\n",
      "2\n",
      "[('geeksforgeeks', 5), ('is', 10), ('portal', 20), ('a', 15), ('for', 24), ('geeks', 28)]\n",
      "[('geeksforgeeks', 5), ('is', 10), ('a', 15), ('portal', 20), ('for', 24), ('geeks', 28)]\n",
      "3\n",
      "4\n",
      "5\n",
      "[('geeksforgeeks', 5), ('is', 10), ('a', 15), ('portal', 20), ('for', 24), ('geeks', 28)]\n"
     ]
    }
   ],
   "source": [
    "def Sort_Tuple(tup):  \n",
    "      \n",
    "    # getting length of list of tuples \n",
    "    lst = len(tup)  \n",
    "    for i in range(0, lst):\n",
    "        print(i)\n",
    "          \n",
    "        for j in range(0, lst-i-1):  \n",
    "            if (tup[j][1] > tup[j + 1][1]):  \n",
    "                temp = tup[j]  \n",
    "                tup[j]= tup[j + 1]  \n",
    "                tup[j + 1]= temp  \n",
    "                print(tup)\n",
    "    return tup  \n",
    "  \n",
    "# Driver Code  \n",
    "tup =[('for', 24), ('is', 10), ('geeks', 28),  \n",
    "      ('geeksforgeeks', 5), ('portal', 20), ('a', 15)]  \n",
    "        \n",
    "print(Sort_Tuple(tup))"
   ]
  },
  {
   "cell_type": "code",
   "execution_count": 59,
   "metadata": {},
   "outputs": [
    {
     "name": "stdout",
     "output_type": "stream",
     "text": [
      "[('akash', 5), ('rishav', 10), ('gaurav', 15), ('ram', 20)]\n"
     ]
    }
   ],
   "source": [
    "# Python program to sort a list of \n",
    "# tuples by the second Item using sort()  \n",
    "  \n",
    "# Function to sort hte list by second item of tuple \n",
    "def Sort_Tuple(tup):  \n",
    "  \n",
    "    # reverse = None (Sorts in Ascending order)  \n",
    "    # key is set to sort using second element of  \n",
    "    # sublist lambda has been used  \n",
    "    tup.sort(key=lambda x:x[1])\n",
    "    return tup  \n",
    "  \n",
    "# Driver Code  \n",
    "tup = [('rishav', 10), ('akash', 5), ('ram', 20), ('gaurav', 15)]  \n",
    "  \n",
    "# printing the sorted list of tuples \n",
    "print(Sort_Tuple(tup))  "
   ]
  },
  {
   "cell_type": "code",
   "execution_count": 68,
   "metadata": {},
   "outputs": [
    {
     "name": "stdout",
     "output_type": "stream",
     "text": [
      "[('ram', 20), ('gaurav', 15), ('rishav', 10), ('akash', 5)]\n"
     ]
    }
   ],
   "source": [
    "# Python program to sort a list of \n",
    "# tuples by the second Item using sorted()  \n",
    "  \n",
    "# Function to sort the list by second item of tuple \n",
    "def Sort_Tuple(tup):  \n",
    "  \n",
    "    # reverse = None (Sorts in Ascending order)  \n",
    "    # key is set to sort using second element of  \n",
    "    # sublist lambda has been used  \n",
    "    tup=(sorted(tup, key = lambda x: x[1],reverse=True))   \n",
    "    return tup\n",
    "# Driver Code  \n",
    "tup = [('rishav', 10), ('akash', 5), ('ram', 20), ('gaurav', 15)]  \n",
    "  \n",
    "# printing the sorted list of tuples \n",
    "print(Sort_Tuple(tup))  "
   ]
  },
  {
   "cell_type": "code",
   "execution_count": 83,
   "metadata": {},
   "outputs": [
    {
     "name": "stdout",
     "output_type": "stream",
     "text": [
      "The index of 40 is 4\n",
      "4 3 2 1 0 "
     ]
    }
   ],
   "source": [
    "# Python 3 program for recursive binary search. \n",
    "# Modifications needed for the older Python 2 are found in comments. \n",
    "  \n",
    "# Returns index of x in arr if present, else -1 \n",
    "\n",
    "def binarysearch(arr,low,high,x):\n",
    "    \n",
    "    if high>=low:\n",
    "        \n",
    "        mid=(high+low)//2\n",
    "        if arr[mid]==x:\n",
    "            return mid\n",
    "        \n",
    "        elif arr[mid]>x:\n",
    "            return binarysearch(arr,low,mid-1,x)\n",
    "        else:\n",
    "            return binarysearch(arr,mid+1,high,x)\n",
    "    else:\n",
    "            return -1\n",
    "        \n",
    "arr = [ 2, 3, 4, 10, 40 ] \n",
    "x = 40\n",
    "\n",
    "result=binarysearch(arr,0,len(arr)-1,x)\n",
    "if result!=-1:\n",
    "    print(\"The index of {0} is {1}\".format(x,result))\n",
    "    \n",
    "else:\n",
    "    print(\"Element is not present at the array\")\n",
    "#extra diko moy\n",
    "for x in reversed(arr):\n",
    "    result=binarysearch(arr,0,len(arr)-1,x)\n",
    "    print(\"%d\" % result,end=' ')"
   ]
  },
  {
   "cell_type": "code",
   "execution_count": 101,
   "metadata": {},
   "outputs": [
    {
     "name": "stdout",
     "output_type": "stream",
     "text": [
      "Element is present at index 2\n",
      "5 4 3 2 1 0 "
     ]
    }
   ],
   "source": [
    "# Iterative Binary Search Function \n",
    "# It returns index of x in given array arr if present, \n",
    "# else returns -1 \n",
    "\n",
    "def binary_search(arr,x):\n",
    "    low=0\n",
    "    high=len(arr)-1\n",
    "    med=0\n",
    "    \n",
    "    while low<=high:\n",
    "        med=(high+low)//2\n",
    "        if x>arr[med]:\n",
    "            low=med+1\n",
    "        elif x<arr[med]:\n",
    "            high=med-1\n",
    "        else:\n",
    "            return med\n",
    "    return -1\n",
    "        \n",
    "arr=[3,6,8,9,12,22]\n",
    "x=8\n",
    "\n",
    "result=binary_search(arr,x)\n",
    "if result != -1: \n",
    "    print(\"Element is present at index\", str(result)) \n",
    "else: \n",
    "    print(\"Element is not present in array\")\n",
    "    #extra\n",
    "for i in reversed(arr):\n",
    "    result=binary_search(arr,i)\n",
    "    print(\"%d\"% result,end=' ')"
   ]
  },
  {
   "cell_type": "code",
   "execution_count": 110,
   "metadata": {},
   "outputs": [
    {
     "name": "stdout",
     "output_type": "stream",
     "text": [
      "This number is not in the array\n"
     ]
    }
   ],
   "source": [
    "# Searching an element in a list/array in python \n",
    "# can be simply done using \\'in\\' operator \n",
    "# Example: \n",
    "# if x in arr: \n",
    "#   print arr.index(x) \n",
    "  \n",
    "# If you want to implement Linear Search in python \n",
    "  \n",
    "# Linearly search x in arr[] \n",
    "# If x is present then return its location \n",
    "# else return -1 \n",
    "\n",
    "def linearsearch(arr,x):\n",
    "    for i in range(len(arr)):\n",
    "        if arr[i]==x:\n",
    "            return i\n",
    "    return -1   \n",
    "arr=[4,6,9,11,14,18]\n",
    "x=2\n",
    "result=linearsearch(arr,x)\n",
    "\n",
    "if result!=-1:\n",
    "    print(\"The index of x is\",result)\n",
    "else:\n",
    "    print(\"This number is not in the array\")"
   ]
  },
  {
   "cell_type": "code",
   "execution_count": 120,
   "metadata": {},
   "outputs": [
    {
     "name": "stdout",
     "output_type": "stream",
     "text": [
      "1 3 5 7 8 10 "
     ]
    }
   ],
   "source": [
    "# Python program for implementation of Bubble Sort \n",
    "  \n",
    "def bubblesort(arr): \n",
    "    \n",
    "    for i in range(len(arr)):\n",
    "        for j in range(len(arr)-i-1):\n",
    "            if arr[j]>arr[j+1]:\n",
    "                temp=arr[j]\n",
    "                arr[j]=arr[j+1]\n",
    "                arr[j+1]=temp\n",
    "                \n",
    "    return arr\n",
    "\n",
    "arr=[10,8,5,7,3,1]\n",
    "result=bubblesort(arr)\n",
    "for i in range(len(arr)): \n",
    "    print (\"%d\" %result[i],end=' ')\n",
    "    "
   ]
  },
  {
   "cell_type": "code",
   "execution_count": 134,
   "metadata": {},
   "outputs": [
    {
     "name": "stdout",
     "output_type": "stream",
     "text": [
      "Sorted array is:\n",
      "4\n",
      "5\n",
      "6\n",
      "7\n",
      "8\n"
     ]
    }
   ],
   "source": [
    "def insertionsort(arr):\n",
    "    \n",
    "    for i in range(1,len(arr)):\n",
    "        key=arr[i]\n",
    "        j=i-1\n",
    "        while j>=0 and key<arr[j]:\n",
    "            arr[j+1]=arr[j]\n",
    "            j-=1\n",
    "            \n",
    "        arr[j+1]=key\n",
    "        print(arr)\n",
    "\n",
    "# Driver code to test above \n",
    "arr = [8,7,6,5,4] \n",
    "insertionsort(arr) \n",
    "print (\"Sorted array is:\") \n",
    "for i in range(len(arr)): \n",
    "    print (\"%d\" %arr[i]) "
   ]
  },
  {
   "cell_type": "code",
   "execution_count": 224,
   "metadata": {
    "scrolled": true
   },
   "outputs": [
    {
     "name": "stdout",
     "output_type": "stream",
     "text": [
      "[12, 11, 13, 5, 6]\n",
      "[11, 12, 13, 5, 6]\n",
      "[11, 12, 13, 5, 6]\n",
      "[5, 11, 12, 13, 6]\n",
      "5\n",
      "6\n",
      "11\n",
      "12\n",
      "13\n"
     ]
    }
   ],
   "source": [
    "# Recursive Python program for insertion sort\n",
    "# Recursive function to sort an array using insertion sort\n",
    " \n",
    "def inin(arr,n):\n",
    "    # base case\n",
    "    if n<=1:\n",
    "        return\n",
    "     \n",
    "    # Sort first n-1 elements\n",
    "    inin(arr,n-1)\n",
    "    print(arr)\n",
    "    last = arr[n-1]\n",
    "    j = n-2\n",
    "     \n",
    "      # Move elements of arr[0..i-1], that are\n",
    "      # greater than key, to one position ahead\n",
    "      # of their current position \n",
    "    while (j>=0 and arr[j]>last):\n",
    "        arr[j+1] = arr[j]\n",
    "        j = j-1\n",
    "    \n",
    "    arr[j+1]=last\n",
    "  \n",
    "# A utility function to print an array of size n\n",
    "def printArray(arr,n):\n",
    "    for i in range(n):\n",
    "        print (arr[i])\n",
    " \n",
    "# Driver program to test insertion sort \n",
    "arr = [12,11,13,5,6]\n",
    "n = len(arr)\n",
    "inin(arr, n)\n",
    "printArray(arr, n)"
   ]
  },
  {
   "cell_type": "code",
   "execution_count": null,
   "metadata": {},
   "outputs": [],
   "source": []
  },
  {
   "cell_type": "code",
   "execution_count": 5,
   "metadata": {},
   "outputs": [
    {
     "name": "stdout",
     "output_type": "stream",
     "text": [
      "7\n",
      "6\n",
      "6\n",
      "5\n",
      "5\n",
      "5\n",
      "4\n",
      "4\n",
      "4\n",
      "4\n",
      "Sorted array is:\n",
      "4\n",
      "5\n",
      "6\n",
      "7\n",
      "8\n"
     ]
    }
   ],
   "source": [
    "def sort_Arr(arr):\n",
    "    \n",
    "    for i in range(1,len(arr)):\n",
    "        key=arr[i]\n",
    "        j=i-1\n",
    "        \n",
    "        while j>=0 and arr[j]>key:\n",
    "            arr[j+1]=arr[j]\n",
    "            j=j-1\n",
    "            arr[j+1]=key\n",
    "            print(arr[j+1])\n",
    "arr = [8,7,6,5,4] \n",
    "sort_Arr(arr) \n",
    "\n",
    "print (\"Sorted array is:\") \n",
    "for i in range(len(arr)): \n",
    "    print (\"%d\" %arr[i])         \n",
    "        "
   ]
  },
  {
   "cell_type": "code",
   "execution_count": 20,
   "metadata": {
    "scrolled": true
   },
   "outputs": [
    {
     "name": "stdout",
     "output_type": "stream",
     "text": [
      "Sorted array is:\n",
      "1\n",
      "5\n",
      "7\n",
      "8\n",
      "9\n",
      "10\n"
     ]
    }
   ],
   "source": [
    "\n",
    "# This function takes last element as pivot, places \n",
    "# the pivot element at its correct position in sorted \n",
    "# array, and places all smaller (smaller than pivot) \n",
    "# to left of pivot and all greater elements to right \n",
    "# of pivot \n",
    "def partition(arr,low,high):\n",
    "    \n",
    "    i = ( low-1 )         # index of smaller element \n",
    "    pivot = arr[high]     # pivot \n",
    "  \n",
    "    for j in range(low ,high): \n",
    "        \n",
    "  \n",
    "        # If current element is smaller than or \n",
    "        # equal to pivot \n",
    "        if arr[j] <= pivot: \n",
    "          \n",
    "            # increment index of smaller element \n",
    "            i = i+1 \n",
    "            arr[i],arr[j] = arr[j],arr[i] \n",
    "  \n",
    "    arr[i+1],arr[high] = arr[high],arr[i+1] \n",
    "    return( i+1 ) \n",
    "  \n",
    "# The main function that implements QuickSort \n",
    "# arr[] --> Array to be sorted, \n",
    "# low  --> Starting index, \n",
    "# high  --> Ending index \n",
    "  \n",
    "# Function to do Quick sort \n",
    "def quickSort(arr,low,high): \n",
    "    if low < high: \n",
    "  \n",
    "        # pi is partitioning index, arr[p] is now \n",
    "        # at right place \n",
    "        pi = partition(arr,low,high) \n",
    "  \n",
    "        # Separately sort elements before \n",
    "        # partition and after partition \n",
    "        quickSort(arr, low, pi-1) \n",
    "        quickSort(arr, pi+1, high) \n",
    "        \n",
    "arr = [10, 7, 8, 9, 1, 5] \n",
    "n = len(arr) \n",
    "quickSort(arr,0,n-1) \n",
    "print (\"Sorted array is:\") \n",
    "for i in range(n): \n",
    "    print (\"%d\" %arr[i])"
   ]
  },
  {
   "cell_type": "code",
   "execution_count": 219,
   "metadata": {},
   "outputs": [
    {
     "name": "stdout",
     "output_type": "stream",
     "text": [
      "Array after partition is:\n",
      "2\n",
      "4\n",
      "11\n",
      "9\n",
      "15\n",
      "13\n",
      "8\n",
      "Pi is:\n",
      "2\n",
      "Pi is:\n",
      "1\n",
      "Pi is:\n",
      "4\n",
      "Pi is:\n",
      "6\n",
      "Sorted array is:\n",
      "2\n",
      "4\n",
      "8\n",
      "9\n",
      "11\n",
      "13\n",
      "15\n"
     ]
    }
   ],
   "source": [
    "# This function takes last element as pivot, places \n",
    "# the pivot element at its correct position in sorted \n",
    "# array, and places all smaller (smaller than pivot) \n",
    "# to left of pivot and all greater elements to right \n",
    "# of pivot \n",
    "def partitionarr(arr,low,high): \n",
    "    i = ( low-1 )         # index of smaller element \n",
    "    pivot = arr[high]     # pivot \n",
    "  \n",
    "    for j in range(low , high): \n",
    "  \n",
    "        # If current element is smaller than or \n",
    "        # equal to pivot \n",
    "        if   arr[j] <= pivot: \n",
    "          \n",
    "            # increment index of smaller element \n",
    "            i = i+1 \n",
    "            arr[i],arr[j] = arr[j],arr[i] \n",
    "  \n",
    "    arr[i+1],arr[high] = arr[high],arr[i+1] \n",
    "    return(i+1)\n",
    "\n",
    " \n",
    "# The main function that implements QuickSort \n",
    "# arr[] --> Array to be sorted, \n",
    "# low  --> Starting index, \n",
    "# high  --> Ending index \n",
    "  \n",
    "# Function to do Quick sort \n",
    "def quicksort(arr,low,high): \n",
    "    if low < high: \n",
    "  \n",
    "        # pi is partitioning index, arr[p] is now \n",
    "        # at right place \n",
    "        pi = partitionarr(arr,low,high) \n",
    "        print(\"Pi is:\")\n",
    "        print(pi)   \n",
    "        # Separately sort elements before \n",
    "        # partition and after partition \n",
    "        quicksort(arr, low, pi-1) \n",
    "        quicksort(arr, pi+1, high) \n",
    "\n",
    "# Driver code to test above \n",
    "arr = [9,8,11,2,15,13,4] \n",
    "n = len(arr) \n",
    "partitionarr(arr,0,n-1)\n",
    "print (\"Array after partition is:\") \n",
    "for i in range(n): \n",
    "    print (\"%d\" %arr[i])\n",
    "quicksort(arr,0,n-1) \n",
    "print (\"Sorted array is:\") \n",
    "for i in range(n): \n",
    "    print (\"%d\" %arr[i])"
   ]
  },
  {
   "cell_type": "code",
   "execution_count": 55,
   "metadata": {},
   "outputs": [
    {
     "name": "stdout",
     "output_type": "stream",
     "text": [
      "Recursion Example Results\n",
      "2 2\n",
      "5 7\n"
     ]
    },
    {
     "data": {
      "text/plain": [
       "7"
      ]
     },
     "execution_count": 55,
     "metadata": {},
     "output_type": "execute_result"
    }
   ],
   "source": [
    "def xx(k):\n",
    "  if(k>0):\n",
    "    result = k+xx(k-3)\n",
    "    \n",
    "    print(k,result)\n",
    "  else:\n",
    "    result = 0\n",
    "  return result\n",
    "arr=[1,2,3,4,6]\n",
    "k=len(arr)\n",
    "print(\"Recursion Example Results\")\n",
    "xx(k)"
   ]
  },
  {
   "cell_type": "code",
   "execution_count": 125,
   "metadata": {},
   "outputs": [
    {
     "name": "stdout",
     "output_type": "stream",
     "text": [
      "5\n",
      "6\n",
      "11\n",
      "12\n",
      "13\n"
     ]
    }
   ],
   "source": [
    "def insertionsort(arr,n):\n",
    "    if n<=1:\n",
    "        return\n",
    "    \n",
    "    insertionsort(arr,n-1)\n",
    "    last=arr[n-1]\n",
    "    j=n-2\n",
    "    \n",
    "    while j>=0 and arr[j]>last:\n",
    "        arr[j+1]=arr[j]\n",
    "        j=j-1\n",
    "    arr[j+1]=last\n",
    "    \n",
    "def printarray(arr,n):\n",
    "    for i in range(n):\n",
    "        print(\"%d\"%arr[i])\n",
    "    \n",
    "\n",
    " \n",
    "# Driver program to test insertion sort \n",
    "arr = [12,11,13,5,6]\n",
    "n = len(arr)\n",
    "insertionsort(arr, n)\n",
    "printarray(arr, n)\n",
    "        \n",
    "        \n",
    "    \n",
    "    \n",
    "    \n",
    "    \n",
    "    \n",
    "    \n",
    "    \n",
    "    \n",
    "    "
   ]
  },
  {
   "cell_type": "code",
   "execution_count": 230,
   "metadata": {
    "scrolled": true
   },
   "outputs": [
    {
     "name": "stdout",
     "output_type": "stream",
     "text": [
      "[3, 6, 8, 5, 9, 2]\n",
      "[3, 6, 5, 8, 9, 2]\n",
      "[3, 6, 5, 8, 2, 9]\n",
      "[3, 5, 6, 8, 2, 9]\n",
      "[3, 5, 6, 2, 8, 9]\n",
      "[3, 5, 2, 6, 8, 9]\n",
      "[3, 2, 5, 6, 8, 9]\n",
      "[2, 3, 5, 6, 8, 9]\n",
      "2\n",
      "3\n",
      "5\n",
      "6\n",
      "8\n",
      "9\n"
     ]
    }
   ],
   "source": [
    "#BUBBLESORT\n",
    "\n",
    "def bubblesort(arr,n):\n",
    "    \n",
    "    for i in range (n-1):\n",
    "        for j in range(n-i-1):\n",
    "            if arr[j]>arr[j+1]:\n",
    "                temp=arr[j]\n",
    "                arr[j]=arr[j+1]\n",
    "                arr[j+1]=temp\n",
    "                print(arr)\n",
    "                \n",
    "arr=[6,3,8,5,9,2]\n",
    "\n",
    "n=len(arr)\n",
    "\n",
    "bubblesort(arr,n)\n",
    "\n",
    "for i in range(n):\n",
    "    print(\"%d\"% arr[i])"
   ]
  },
  {
   "cell_type": "code",
   "execution_count": 1,
   "metadata": {
    "scrolled": true
   },
   "outputs": [
    {
     "name": "stdout",
     "output_type": "stream",
     "text": [
      "2\n",
      "3\n",
      "6\n",
      "7\n",
      "8\n"
     ]
    }
   ],
   "source": [
    "def inssort(arr):\n",
    "    \n",
    "    for i in range(1,n-1):\n",
    "        key=arr[i]\n",
    "        j=i-1\n",
    "        \n",
    "        while j>=0 and arr[j]>key:\n",
    "            arr[j+1]=arr[j]\n",
    "            j-=1\n",
    "        arr[j+1]=key\n",
    "        \n",
    "arr=[7,3,6,2,8]\n",
    "n=len(arr)\n",
    "\n",
    "inssort(arr)\n",
    "\n",
    "for i in range(n):\n",
    "    print(\"%d\"% arr[i])"
   ]
  },
  {
   "cell_type": "code",
   "execution_count": null,
   "metadata": {},
   "outputs": [],
   "source": [
    "def inssort(arr):\n",
    "    \n",
    "    for i in range(1,n-1):\n",
    "        key=arr[i]\n",
    "        j=i-1\n",
    "        \n",
    "        while j>=0 and arr[j]>key:\n",
    "            arr[j+1]=arr[j]\n",
    "            j-=1\n",
    "        arr[j+1]=key\n",
    "        \n",
    "arr=[7,3,6,2,8]\n",
    "n=len(arr)\n",
    "\n",
    "inssort(arr)\n",
    "\n",
    "for i in range(n):\n",
    "    print(\"%d\"% arr[i])"
   ]
  },
  {
   "cell_type": "code",
   "execution_count": 58,
   "metadata": {
    "scrolled": true
   },
   "outputs": [
    {
     "name": "stdout",
     "output_type": "stream",
     "text": [
      "[6, 3, 8, 4, 7]\n",
      "[6, 6, 8, 4, 7]\n",
      "[3, 6, 8, 4, 7]\n",
      "[3, 6, 8, 4, 7]\n",
      "[3, 6, 8, 4, 7]\n",
      "[3, 6, 6, 8, 7]\n",
      "[3, 4, 6, 8, 7]\n",
      "[3, 4, 6, 8, 8]\n",
      "3\n",
      "4\n",
      "6\n",
      "7\n",
      "8\n"
     ]
    }
   ],
   "source": [
    "def issort2(arr1,n):\n",
    "    \n",
    "    if n<=1:\n",
    "        return\n",
    "    \n",
    "    issort2(arr1,n-1)\n",
    "    \n",
    "    last=arr1[n-1]\n",
    "    print(arr1)\n",
    "    j=n-2\n",
    "    \n",
    "    while j>=0 and arr1[j]>last:\n",
    "        arr1[j+1]=arr1[j]\n",
    "        j=j-1\n",
    "    print(arr1)   \n",
    "    arr1[j+1]=last\n",
    "\n",
    "    \n",
    "arr1=[6,3,8,4,7]\n",
    "n=len(arr1)\n",
    "\n",
    "issort2(arr1,n)\n",
    "\n",
    "for i in range(n):\n",
    "    print(\"%d\"%arr1[i])"
   ]
  },
  {
   "cell_type": "code",
   "execution_count": 66,
   "metadata": {},
   "outputs": [
    {
     "name": "stdout",
     "output_type": "stream",
     "text": [
      "1 3 4 6 7 8 9 "
     ]
    }
   ],
   "source": [
    "def bubble(arr):\n",
    "    \n",
    "    for i in range(0,n):\n",
    "        for j in range(0,n-i-1):\n",
    "            if arr[j]>arr[j+1]:\n",
    "                arr[j],arr[j+1]=arr[j+1],arr[j]\n",
    "               \n",
    "\n",
    "arr=[8,4,1,3,7,9,6]\n",
    "n=len(arr)\n",
    "bubble(arr)\n",
    "\n",
    "def printarr(arr,n):\n",
    "    for i in range(n):\n",
    "        print(\"%d\"%arr[i],end=' ')\n",
    "        \n",
    "printarr(arr,n)"
   ]
  },
  {
   "cell_type": "code",
   "execution_count": 86,
   "metadata": {},
   "outputs": [
    {
     "name": "stdout",
     "output_type": "stream",
     "text": [
      "The index of value x is: 1\n"
     ]
    }
   ],
   "source": [
    "def linearsearch(arr):\n",
    "    for i in range(n):\n",
    "        if arr[i]==x:\n",
    "            print(\"The index of value x is:\",i)\n",
    "    if x not in arr:\n",
    "        return 0\n",
    "      \n",
    "    \n",
    "        \n",
    "x=4\n",
    "arr=[8,4,1,3,7,9,6]\n",
    "linearsearch(arr)"
   ]
  },
  {
   "cell_type": "code",
   "execution_count": 94,
   "metadata": {},
   "outputs": [
    {
     "name": "stdout",
     "output_type": "stream",
     "text": [
      "The value of x is not valid\n"
     ]
    }
   ],
   "source": [
    "def getind(arr,low,high,x):\n",
    "    mid=0\n",
    "    if low<=high:\n",
    "        \n",
    "        mid=(low+high)//2\n",
    "        \n",
    "        if arr[mid]==x:\n",
    "            return mid\n",
    "        \n",
    "        elif arr[mid]>x:\n",
    "            return getind(arr,low,mid-1,x)\n",
    "        else:\n",
    "            return getind(arr,mid+1,high,x)\n",
    "\n",
    "arr=[2,4,6,8,10,13,20,34]\n",
    "n=len(arr)\n",
    "x=1\n",
    "result=getind(arr,0,n-1,x)\n",
    "\n",
    "if x not in arr:\n",
    "    print(\"The value of x is not valid\")\n",
    "            \n",
    "else:\n",
    "    print(\"The index of number x is: \",result)\n",
    "        \n",
    "        \n",
    "    \n",
    "    "
   ]
  },
  {
   "cell_type": "code",
   "execution_count": 122,
   "metadata": {},
   "outputs": [
    {
     "name": "stdout",
     "output_type": "stream",
     "text": [
      "The value of x is not valid\n",
      "0\n",
      "1\n",
      "2\n",
      "3\n",
      "4\n",
      "5\n",
      "6\n"
     ]
    }
   ],
   "source": [
    "def getbin(arr,low,high,x):\n",
    "    \n",
    "    mid=0\n",
    "    while low<=high:\n",
    "        mid=(low+high)//2\n",
    "        \n",
    "        if arr[mid]==x:\n",
    "            return mid\n",
    "        elif arr[mid]>x:\n",
    "            high=mid-1\n",
    "            \n",
    "        else:\n",
    "            low=mid+1\n",
    "    return -1\n",
    "            \n",
    "arr=[2,4,6,8,10,13,20]\n",
    "n=len(arr)\n",
    "x=1\n",
    "result1=getbin(arr,0,n-1,x)\n",
    "\n",
    "if result1==-1:\n",
    "    print(\"The value of x is not valid\")\n",
    "            \n",
    "else:\n",
    "    print(\"The index of number x is: \",result1)\n",
    "    \n",
    "\n",
    "for x in arr:\n",
    "    result2=getbin(arr,0,n-1,x)\n",
    "    print(\"%d\"%result2)"
   ]
  },
  {
   "cell_type": "code",
   "execution_count": 124,
   "metadata": {},
   "outputs": [
    {
     "name": "stdout",
     "output_type": "stream",
     "text": [
      "2\n",
      "3\n",
      "4\n",
      "7\n",
      "8\n",
      "10\n"
     ]
    }
   ],
   "source": [
    "def insert_sort(arr,n):\n",
    "    \n",
    "    for i in range(1,n):\n",
    "        key=arr[i]\n",
    "        j=i-1\n",
    "        \n",
    "        while j>=0 and arr[j]>key:\n",
    "            arr[j+1]=arr[j]\n",
    "            j=j-1\n",
    "            \n",
    "        arr[j+1]=key\n",
    "        \n",
    "arr=[10,4,8,3,7,2]\n",
    "n=len(arr)\n",
    "\n",
    "insert_sort(arr,n)\n",
    "\n",
    "for i in range(n):\n",
    "    print(\"%d\"%arr[i])"
   ]
  },
  {
   "cell_type": "code",
   "execution_count": 125,
   "metadata": {},
   "outputs": [
    {
     "name": "stdout",
     "output_type": "stream",
     "text": [
      "2\n",
      "3\n",
      "4\n",
      "7\n",
      "8\n",
      "10\n"
     ]
    }
   ],
   "source": [
    "def in_sort(arr,n):\n",
    "    if n<=1:\n",
    "        return\n",
    "    \n",
    "    in_sort(arr,n-1)\n",
    "    \n",
    "    last=arr[n-1]\n",
    "    j=n-2\n",
    "    \n",
    "    while j>=0 and arr[j]>last:\n",
    "        arr[j+1]=arr[j]\n",
    "        j=j-1\n",
    "    arr[j+1]=last\n",
    "    \n",
    "    \n",
    "arr=[10,4,8,3,7,2]\n",
    "n=len(arr)\n",
    "\n",
    "in_sort(arr,n)\n",
    "\n",
    "for i in range(n):\n",
    "    print(\"%d\"%arr[i])"
   ]
  },
  {
   "cell_type": "code",
   "execution_count": 146,
   "metadata": {},
   "outputs": [
    {
     "name": "stdout",
     "output_type": "stream",
     "text": [
      "[8, 7, 6, 5, 4]\n",
      "\r\n",
      "[7, 8, 6, 5, 4]\n",
      "[7, 8, 6, 5, 4]\n",
      "\r\n",
      "[6, 7, 8, 5, 4]\n",
      "[6, 7, 8, 5, 4]\n",
      "\r\n",
      "[5, 6, 7, 8, 4]\n",
      "[5, 6, 7, 8, 4]\n",
      "\r\n",
      "[4, 5, 6, 7, 8]\n",
      "4\n",
      "5\n",
      "6\n",
      "7\n",
      "8\n"
     ]
    }
   ],
   "source": [
    "def pame(arr,n):\n",
    "    if n<=1:\n",
    "        return\n",
    "    \n",
    "    pame(arr,n-1)\n",
    "    print(arr)\n",
    "    print(\"\\r\")\n",
    "    last=arr[n-1]\n",
    "    j=n-2\n",
    "    \n",
    "    while j>=0 and arr[j]>last:\n",
    "        arr[j+1]=arr[j]\n",
    "        j=j-1\n",
    "    arr[j+1]=last\n",
    "        \n",
    "    print(arr)\n",
    "      \n",
    "arr=[8,7,6,5,4]\n",
    "n=len(arr)\n",
    "    \n",
    "pame(arr,n)\n",
    "\n",
    "for i in range(n):\n",
    "    print(\"%d\"%arr[i])"
   ]
  },
  {
   "cell_type": "code",
   "execution_count": 187,
   "metadata": {},
   "outputs": [
    {
     "name": "stdout",
     "output_type": "stream",
     "text": [
      "[5, 3, 6, 9, 7]\n",
      "[3, 5, 6, 9, 7]\n",
      "[3, 5, 6, 7, 9]\n",
      "Sorted array is:\n",
      "3\n",
      "5\n",
      "6\n",
      "7\n",
      "9\n"
     ]
    }
   ],
   "source": [
    "def partition(arr,low,high):\n",
    "    \n",
    "    i=low-1\n",
    "    pivot=arr[high]\n",
    "    \n",
    "    for j in range(low,high):\n",
    "        if arr[j]<=pivot:\n",
    "            \n",
    "            i=i+1\n",
    "            arr[i],arr[j] = arr[j],arr[i]\n",
    "   \n",
    "    arr[i+1],arr[high] = arr[high],arr[i+1] \n",
    "    print(arr)\n",
    "    return ( i+1 )\n",
    "\n",
    "\n",
    "def quickSort(arr,low,high): \n",
    "    if low < high: \n",
    "  \n",
    "        # pi is partitioning index, arr[p] is now \n",
    "        # at right place \n",
    "        pi = partition(arr,low,high) \n",
    "       \n",
    "        # Separately sort elements before \n",
    "        # partition and after partition \n",
    "        quickSort(arr, low, pi-1)\n",
    "        \n",
    "        quickSort(arr, pi+1, high) \n",
    "  \n",
    "# Driver code to test above \n",
    "arr = [9,5,7,3,6] \n",
    "n = len(arr) \n",
    "\n",
    "quickSort(arr,0,n-1) \n",
    "print (\"Sorted array is:\") \n",
    "for i in range(n): \n",
    "    print(\"%d\" %arr[i])    "
   ]
  },
  {
   "cell_type": "code",
   "execution_count": 204,
   "metadata": {},
   "outputs": [
    {
     "name": "stdout",
     "output_type": "stream",
     "text": [
      "[5, 6, 7, 10, 9, 12, 8]\n",
      "[5, 6, 7]\n",
      "3\n",
      "Sorted array is:\n",
      "5\n",
      "6\n",
      "7\n",
      "8\n",
      "9\n",
      "12\n",
      "10\n"
     ]
    }
   ],
   "source": [
    "def partition(arr,low,high):\n",
    "    \n",
    "    i=low-1\n",
    "    pivot=arr[high]\n",
    "    a=[]\n",
    "    for j in range(low,high):\n",
    "        if arr[j]<=pivot:\n",
    "            \n",
    "            i=i+1\n",
    "            arr[i],arr[j] = arr[j],arr[i]\n",
    "            a.append(arr[i])\n",
    "    print(arr)\n",
    "    print(a)        \n",
    "    arr[i+1],arr[high] = arr[high],arr[i+1] \n",
    "    \n",
    "    return ( i+1 )\n",
    "\n",
    "\n",
    " \n",
    "  \n",
    "# Driver code to test above \n",
    "arr = [5,6,12,10,9,7,8] \n",
    "n = len(arr) \n",
    "\n",
    "print(partition(arr,0,n-1))\n",
    "print (\"Sorted array is:\") \n",
    "for i in range(n): \n",
    "    print(\"%d\" %arr[i])    "
   ]
  }
 ],
 "metadata": {
  "kernelspec": {
   "display_name": "Python 3",
   "language": "python",
   "name": "python3"
  },
  "language_info": {
   "codemirror_mode": {
    "name": "ipython",
    "version": 3
   },
   "file_extension": ".py",
   "mimetype": "text/x-python",
   "name": "python",
   "nbconvert_exporter": "python",
   "pygments_lexer": "ipython3",
   "version": "3.8.5"
  }
 },
 "nbformat": 4,
 "nbformat_minor": 2
}
